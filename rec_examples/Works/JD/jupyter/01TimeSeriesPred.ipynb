{
 "cells": [
  {
   "cell_type": "markdown",
   "id": "9ad62c14-b7e2-4ae2-88e0-ec21a5c5e9a4",
   "metadata": {
    "pycharm": {
     "name": "#%% md\n"
    }
   },
   "source": [
    "- 阿里云供应链大赛比赛链接 https://tianchi.aliyun.com/competition/entrance/531934/information  \n",
    "- 记录笔记 https://joyspace.jd.com/page/oWnUboNNUcrK43d99RG1  \n",
    "- Code https://coding.jd.com/zhunian1/supply_demand_forecast/\n",
    "\n",
    "- ref:   \n",
    "1.https://github.com/mlpotter/Transformer_Time_Series  \n",
    "2.https://zhuanlan.zhihu.com/p/391337035  "
   ]
  },
  {
   "cell_type": "code",
   "execution_count": 1,
   "id": "8e1fa5dd-b92d-4db7-a4f1-00e4877c21d1",
   "metadata": {
    "ExecuteTime": {
     "end_time": "2022-06-21T11:57:07.980288Z",
     "start_time": "2022-06-21T11:57:05.426299Z"
    },
    "execution": {
     "iopub.execute_input": "2022-06-21T12:38:29.719871Z",
     "iopub.status.busy": "2022-06-21T12:38:29.717880Z",
     "iopub.status.idle": "2022-06-21T12:38:29.953879Z",
     "shell.execute_reply": "2022-06-21T12:38:29.949894Z",
     "shell.execute_reply.started": "2022-06-21T12:38:29.719871Z"
    },
    "tags": []
   },
   "outputs": [
    {
     "name": "stdout",
     "output_type": "stream",
     "text": [
      "Python 3.8.8\n"
     ]
    }
   ],
   "source": [
    "!python --version"
   ]
  },
  {
   "cell_type": "code",
   "execution_count": 4,
   "id": "f3a7027c",
   "metadata": {
    "ExecuteTime": {
     "end_time": "2022-06-14T03:53:31.174666Z",
     "start_time": "2022-06-14T03:53:28.183110Z"
    },
    "collapsed": false,
    "jupyter": {
     "outputs_hidden": false
    },
    "pycharm": {
     "is_executing": true,
     "name": "#%%\n"
    },
    "tags": []
   },
   "outputs": [],
   "source": [
    "import warnings\n",
    "import pandas as pd\n",
    "import numpy as np\n",
    "from matplotlib import pyplot as plt\n",
    "import seaborn as sns\n",
    "import datetime\n",
    "from scipy import stats\n",
    "import os\n",
    "import platform\n",
    "from sklearn.preprocessing import OneHotEncoder,LabelEncoder\n",
    "import xgboost as xgb\n",
    "from xgboost import plot_importance\n",
    "import pickle\n",
    "\n",
    "%matplotlib inline\n",
    "warnings.filterwarnings(\"ignore\")\n",
    "pd.set_option('display.max_colwidth',100)"
   ]
  },
  {
   "cell_type": "code",
   "execution_count": 5,
   "id": "97cb6123",
   "metadata": {
    "ExecuteTime": {
     "end_time": "2022-06-14T03:35:47.467335Z",
     "start_time": "2022-06-14T03:35:46.788284Z"
    },
    "collapsed": false,
    "jupyter": {
     "outputs_hidden": false
    },
    "pycharm": {
     "name": "#%%\n"
    },
    "tags": []
   },
   "outputs": [],
   "source": [
    "demand_train_A = pd.read_csv('../dataset/demand_train_A.csv')\n",
    "demand_test_A = pd.read_csv('../dataset/demand_test_A.csv')\n",
    "geo_topo = pd.read_csv('../dataset/geo_topo.csv')\n",
    "inventory_info_A = pd.read_csv('../dataset/inventory_info_A.csv')\n",
    "product_topo = pd.read_csv('../dataset/product_topo.csv')\n",
    "weight_A = pd.read_csv('../dataset/weight_A.csv')"
   ]
  },
  {
   "cell_type": "markdown",
   "id": "97d08a92",
   "metadata": {
    "pycharm": {
     "name": "#%% md\n"
    },
    "tags": []
   },
   "source": [
    "# 1. 特征工程\n",
    "- 1.1 日期处理（天数补齐）\n",
    "- 1.2 处理geography_level、product_level多级别特征\n",
    "- 1.3 使用qty滑窗添加新特征：last14max、last14min、last14std、last14mean、last14median\n",
    "- 1.4 过去14天下，在同geography与product的qty 资源使用量。"
   ]
  },
  {
   "cell_type": "markdown",
   "id": "1d92995b",
   "metadata": {
    "pycharm": {
     "name": "#%% md\n"
    },
    "tags": []
   },
   "source": [
    "## 1.1 日期处理 （天数补齐）"
   ]
  },
  {
   "cell_type": "code",
   "execution_count": 6,
   "id": "50e302dd-e7c5-4ede-bc2d-ae9e1a5f9374",
   "metadata": {
    "ExecuteTime": {
     "end_time": "2022-06-14T03:36:28.225768Z",
     "start_time": "2022-06-14T03:35:48.478210Z"
    },
    "pycharm": {
     "name": "#%%\n"
    },
    "tags": []
   },
   "outputs": [],
   "source": [
    "first_dt = pd.to_datetime(\"20180604\")  \n",
    "last_dt = pd.to_datetime(\"20210301\")  # 用来限定使用的是历史数据而不是未来数据\n",
    "start_dt = pd.to_datetime(\"20210301\")  # 用来划定预测的针对test的起始时间\n",
    "end_dt = pd.to_datetime(\"20210607\")  # 预测需求的截止时间\n",
    "\n",
    "demand_train_A[\"ts\"] = demand_train_A[\"ts\"].apply(lambda x: pd.to_datetime(x))\n",
    "demand_train_A.drop(['Unnamed: 0'],axis=1,inplace=True)\n",
    "\n",
    "demand_test_A[\"ts\"] = demand_test_A[\"ts\"].apply(lambda x: pd.to_datetime(x))\n",
    "demand_test_A.drop(['Unnamed: 0'],axis=1,inplace=True)\n",
    "\n",
    "dataset = pd.concat([demand_train_A, demand_test_A])"
   ]
  },
  {
   "cell_type": "code",
   "execution_count": 7,
   "id": "7b3bfe4e-c132-4a33-9626-74a3f0d0eba0",
   "metadata": {
    "ExecuteTime": {
     "end_time": "2022-06-14T03:36:28.544899Z",
     "start_time": "2022-06-14T03:36:28.228749Z"
    },
    "pycharm": {
     "name": "#%%\n"
    },
    "tags": []
   },
   "outputs": [
    {
     "name": "stdout",
     "output_type": "stream",
     "text": [
      "<class 'pandas.core.frame.DataFrame'>\n",
      "Int64Index: 346768 entries, 0 to 61935\n",
      "Data columns (total 7 columns):\n",
      " #   Column           Non-Null Count   Dtype         \n",
      "---  ------           --------------   -----         \n",
      " 0   unit             346768 non-null  object        \n",
      " 1   ts               346768 non-null  datetime64[ns]\n",
      " 2   qty              346768 non-null  float64       \n",
      " 3   geography_level  346768 non-null  object        \n",
      " 4   geography        346768 non-null  object        \n",
      " 5   product_level    346768 non-null  object        \n",
      " 6   product          346768 non-null  object        \n",
      "dtypes: datetime64[ns](1), float64(1), object(5)\n",
      "memory usage: 21.2+ MB\n"
     ]
    }
   ],
   "source": [
    "dataset.info()"
   ]
  },
  {
   "cell_type": "code",
   "execution_count": null,
   "id": "78bcc0da",
   "metadata": {
    "collapsed": false,
    "jupyter": {
     "outputs_hidden": false
    },
    "pycharm": {
     "name": "#%%\n"
    }
   },
   "outputs": [],
   "source": [
    "# 删除掉出现 qty中出现负值的样本，这部分样本数值不对\n",
    "dataset = dataset[~(dataset.qty < 0)]\n",
    "print(np.isnan(dataset['qty']).any())\n",
    "print(np.isinf(dataset['qty']).any())"
   ]
  },
  {
   "cell_type": "code",
   "execution_count": null,
   "id": "2b2f454e",
   "metadata": {
    "collapsed": false,
    "jupyter": {
     "outputs_hidden": false
    },
    "pycharm": {
     "name": "#%%\n"
    }
   },
   "outputs": [],
   "source": [
    "dataset.info()"
   ]
  },
  {
   "cell_type": "code",
   "execution_count": null,
   "id": "b5cfd52a",
   "metadata": {
    "collapsed": false,
    "jupyter": {
     "outputs_hidden": false
    },
    "pycharm": {
     "name": "#%%\n"
    }
   },
   "outputs": [],
   "source": [
    "# unit count\n",
    "dataset.unit.value_counts()"
   ]
  },
  {
   "cell_type": "code",
   "execution_count": null,
   "id": "cad6553f",
   "metadata": {
    "collapsed": false,
    "jupyter": {
     "outputs_hidden": false
    },
    "pycharm": {
     "name": "#%%\n"
    }
   },
   "outputs": [],
   "source": [
    "np.sort(dataset.qty.values)"
   ]
  },
  {
   "cell_type": "code",
   "execution_count": null,
   "id": "71222b84",
   "metadata": {
    "collapsed": false,
    "jupyter": {
     "outputs_hidden": false
    },
    "pycharm": {
     "name": "#%%\n"
    }
   },
   "outputs": [],
   "source": [
    "all_date = (dataset.ts.max()-dataset.ts.min()).days + 1\n",
    "print(\"样本统计的天数：\", all_date)  # Unit 的 天数\n",
    "\n",
    "# 所有Unit都补全 all_date天的数据\n",
    "cols = dataset.columns\n",
    "trainalldate = pd.DataFrame()\n",
    "\n",
    "for unit in dataset.unit.drop_duplicates():\n",
    "    tmppd = pd.DataFrame(index=pd.date_range(first_dt, periods=all_date))\n",
    "    tmppd['unit'] = unit\n",
    "    tmppd = tmppd.reset_index()\n",
    "    tmppd.columns = ['ts','unit']\n",
    "    tmppd = pd.merge(left = tmppd,right = dataset[dataset.unit == unit],how = 'left',on = ['ts','unit']\n",
    "        )\n",
    "    #tmppd.fillna(value={'qty':-1},inplace=True)\n",
    "    #tmppd.fillna(value={'qty':-1},method='bfill',inplace=True)\n",
    "    trainalldate = pd.concat([trainalldate, tmppd])\n"
   ]
  },
  {
   "cell_type": "code",
   "execution_count": null,
   "id": "48b97949",
   "metadata": {
    "collapsed": false,
    "jupyter": {
     "outputs_hidden": false
    },
    "pycharm": {
     "name": "#%%\n"
    }
   },
   "outputs": [],
   "source": [
    "# unit count\n",
    "trainalldate.unit.value_counts()"
   ]
  },
  {
   "cell_type": "code",
   "execution_count": null,
   "id": "b0627ecd",
   "metadata": {
    "collapsed": false,
    "jupyter": {
     "outputs_hidden": false
    },
    "pycharm": {
     "name": "#%%\n"
    }
   },
   "outputs": [],
   "source": [
    "# 不完整的数据\n",
    "sns.set(rc={'figure.figsize':(25,8)})\n",
    "sns.lineplot(y =trainalldate[trainalldate.unit == '9b8f48bacb1a63612f3a210ccc6286cc'].qty,\n",
    "             x =trainalldate[trainalldate.unit == '9b8f48bacb1a63612f3a210ccc6286cc'].ts)"
   ]
  },
  {
   "cell_type": "code",
   "execution_count": null,
   "id": "52e9b3de",
   "metadata": {
    "collapsed": false,
    "jupyter": {
     "outputs_hidden": false
    },
    "pycharm": {
     "name": "#%%\n"
    }
   },
   "outputs": [],
   "source": [
    "# 不完整的数据\n",
    "sns.set(rc={'figure.figsize':(25,8)})\n",
    "sns.lineplot(y =trainalldate[trainalldate.unit == '7d9cbb373fddba4ce2cddcec96bccbeb'].qty,\n",
    "             x =trainalldate[trainalldate.unit == '7d9cbb373fddba4ce2cddcec96bccbeb'].ts)"
   ]
  },
  {
   "cell_type": "code",
   "execution_count": null,
   "id": "b4d029c9",
   "metadata": {
    "collapsed": false,
    "jupyter": {
     "outputs_hidden": false
    },
    "pycharm": {
     "name": "#%%\n"
    }
   },
   "outputs": [],
   "source": [
    "trainalldate[trainalldate.unit == '7d9cbb373fddba4ce2cddcec96bccbeb']"
   ]
  },
  {
   "cell_type": "markdown",
   "id": "4c3cb99c",
   "metadata": {
    "pycharm": {
     "name": "#%% md\n"
    }
   },
   "source": [
    "针对这个 unit:7d9cbb373fddba4ce2cddcec96bccbeb 单元，补齐所有的时间NaN，绘图中空值没有体现出来。"
   ]
  },
  {
   "cell_type": "code",
   "execution_count": null,
   "id": "3662cd4c",
   "metadata": {
    "collapsed": false,
    "jupyter": {
     "outputs_hidden": false
    },
    "pycharm": {
     "name": "#%%\n"
    }
   },
   "outputs": [],
   "source": [
    "# 添加 year, month, day 日期特征\n",
    "trainalldate['year'] = trainalldate['ts'].dt.year\n",
    "trainalldate['month'] = trainalldate['ts'].dt.month\n",
    "trainalldate['day'] = trainalldate['ts'].dt.day\n",
    "trainalldate['week'] = trainalldate['ts'].dt.weekday\n",
    "trainalldate.info()"
   ]
  },
  {
   "cell_type": "code",
   "execution_count": null,
   "id": "ced66733",
   "metadata": {
    "collapsed": false,
    "jupyter": {
     "outputs_hidden": false
    },
    "pycharm": {
     "name": "#%%\n"
    }
   },
   "outputs": [],
   "source": []
  },
  {
   "cell_type": "markdown",
   "id": "239fa3a5",
   "metadata": {
    "pycharm": {
     "name": "#%% md\n"
    }
   },
   "source": [
    "## 1.2 处理geography_level、product_level多级别特征"
   ]
  },
  {
   "cell_type": "code",
   "execution_count": null,
   "id": "0e492d82",
   "metadata": {
    "collapsed": false,
    "jupyter": {
     "outputs_hidden": false
    },
    "pycharm": {
     "name": "#%%\n"
    }
   },
   "outputs": [],
   "source": [
    "trainalldate = trainalldate.drop(['geography_level','product_level'],axis = 1)\n",
    "trainalldate = pd.merge(trainalldate, geo_topo, how='left', left_on = 'geography', right_on = 'geography_level_3')\n",
    "trainalldate = pd.merge(trainalldate, product_topo, how='left', left_on = 'product', right_on = 'product_level_2')\n",
    "trainalldate = trainalldate.drop(['geography','product'],axis = 1)\n",
    "trainalldate.head()"
   ]
  },
  {
   "cell_type": "code",
   "execution_count": null,
   "id": "499c4d9a",
   "metadata": {
    "collapsed": false,
    "jupyter": {
     "outputs_hidden": false
    },
    "pycharm": {
     "name": "#%%\n"
    }
   },
   "outputs": [],
   "source": [
    "# labelEncoder\n",
    "encoder = ['geography_level_1','geography_level_2','geography_level_3','product_level_1','product_level_2']\n",
    "# add feature\n",
    "# unit_all = ['unit_geo', 'unit_pro', 'geo_pro']\n",
    "unit_all = [ 'unit_pro', 'geo_pro']\n",
    "\n",
    "# trainalldate[\"unit_geo\"] = trainalldate.apply(lambda x: f\"{x['unit']}_{x['geography_level_3']}\", axis=1)\n",
    "trainalldate[\"unit_pro\"] = trainalldate.apply(lambda x: f\"{x['unit']}_{x['product_level_2']}\", axis=1)\n",
    "trainalldate[\"geo_pro\"] = trainalldate.apply(lambda x: f\"{x['geography_level_3']}_{x['product_level_2']}\", axis=1)\n",
    "\n",
    "lbl = LabelEncoder()\n",
    "for feat in encoder+unit_all:\n",
    "    lbl.fit(trainalldate[feat])\n",
    "    trainalldate[feat] = lbl.transform(trainalldate[feat])\n"
   ]
  },
  {
   "cell_type": "code",
   "execution_count": null,
   "id": "7dd9e00d",
   "metadata": {
    "collapsed": false,
    "jupyter": {
     "outputs_hidden": false
    },
    "pycharm": {
     "name": "#%%\n"
    }
   },
   "outputs": [],
   "source": [
    "# add the weight of each units\n",
    "trainalldate = pd.merge(trainalldate, weight_A, left_on = 'unit', right_on = 'unit')\n",
    "trainalldate = trainalldate.drop(['Unnamed: 0'],axis = 1)"
   ]
  },
  {
   "cell_type": "code",
   "execution_count": null,
   "id": "3b714c15",
   "metadata": {
    "collapsed": false,
    "jupyter": {
     "outputs_hidden": false
    },
    "pycharm": {
     "name": "#%%\n"
    }
   },
   "outputs": [],
   "source": [
    "# unit to unit_id\n",
    "enc_unit = lbl.fit(trainalldate['unit'])\n",
    "trainalldate['unit'] = enc_unit.transform(trainalldate['unit'])\n",
    "trainalldate.head()\n",
    "\n",
    "# unit id -> 反编码\n",
    "# enc_unit.inverse_transform(trainalldate['unit'])"
   ]
  },
  {
   "cell_type": "code",
   "execution_count": null,
   "id": "648c569d",
   "metadata": {
    "collapsed": false,
    "jupyter": {
     "outputs_hidden": false
    },
    "pycharm": {
     "name": "#%%\n"
    }
   },
   "outputs": [],
   "source": [
    "# save to pkl\n",
    "# trainalldate.to_csv('../output/trainalldate.csv', index=False)\n",
    "import pickle\n",
    "\n",
    "with open(\"../output/trainalldate.pkl\", 'wb') as fo: \n",
    "    pickle.dump(trainalldate, fo)"
   ]
  },
  {
   "cell_type": "code",
   "execution_count": null,
   "id": "20c8d26f",
   "metadata": {
    "collapsed": false,
    "jupyter": {
     "outputs_hidden": false
    },
    "pycharm": {
     "name": "#%%\n"
    }
   },
   "outputs": [],
   "source": []
  },
  {
   "cell_type": "markdown",
   "id": "64df5405",
   "metadata": {
    "pycharm": {
     "name": "#%% md\n"
    }
   },
   "source": [
    "## 1.3 使用qty滑窗添加新特征：last14max、last14min、last14std、last14mean、last14median、last14sum\n",
    "Ref: https://zhuanlan.zhihu.com/p/101284491"
   ]
  },
  {
   "cell_type": "code",
   "execution_count": null,
   "id": "1066ec8c",
   "metadata": {
    "collapsed": false,
    "jupyter": {
     "outputs_hidden": false
    },
    "pycharm": {
     "name": "#%%\n"
    }
   },
   "outputs": [],
   "source": [
    "with open(\"../output/trainalldate.pkl\", 'rb') as fo:     # 读取pkl文件数据\n",
    "    trainalldate = pickle.load(fo, encoding='bytes')\n",
    "\n",
    "trainalldate[\"ts\"] = trainalldate[\"ts\"].apply(lambda x: pd.to_datetime(x))\n",
    "print(trainalldate.shape)\n",
    "trainalldate.head()"
   ]
  },
  {
   "cell_type": "code",
   "execution_count": null,
   "id": "a7abd688",
   "metadata": {
    "collapsed": false,
    "jupyter": {
     "outputs_hidden": false
    },
    "pycharm": {
     "name": "#%%\n"
    }
   },
   "outputs": [],
   "source": [
    "trainalldate.info()"
   ]
  },
  {
   "cell_type": "code",
   "execution_count": null,
   "id": "fae05772",
   "metadata": {
    "collapsed": false,
    "jupyter": {
     "outputs_hidden": false
    },
    "pycharm": {
     "name": "#%%\n"
    }
   },
   "outputs": [],
   "source": [
    "def qtyGetKvalue(data, k):\n",
    "    '''\n",
    "    k: the last k-ist value of data\n",
    "    '''\n",
    "    data = data.sort_values(\n",
    "        by=['ts'], ascending=True).reset_index(drop=True)\n",
    "    data = data.iloc[len(data) - k, -1] if len(data) >= k else np.NaN\n",
    "    return data\n",
    "\n",
    "def qtyNewFeature(df, ts = np.nan):\n",
    "    newdataset = pd.DataFrame()\n",
    "    \n",
    "    timeline = pd.date_range(df.ts.min(), df.ts.max())\n",
    "    for t in timeline:\n",
    "        \n",
    "        # today\n",
    "        ts = df[df.ts == t]\n",
    "        \n",
    "        # last 14 day information ... \n",
    "        rdd = df[(df.ts >= t - datetime.timedelta(14)) & (df.ts < t)]\n",
    "        \n",
    "        last14max_dict = rdd.groupby('unit')['qty'].max().to_dict()\n",
    "        last14min_dict = rdd.groupby('unit')['qty'].min().to_dict()\n",
    "        last14std_dict = rdd.groupby('unit')['qty'].std().to_dict()\n",
    "        last14mean_dict = rdd.groupby('unit')['qty'].mean().to_dict()\n",
    "        last14median_dict = rdd.groupby('unit')['qty'].median().to_dict()\n",
    "        last14sum_dict = rdd.groupby('unit')['qty'].sum().to_dict()\n",
    "        \n",
    "        ts['last14max'] = ts['unit'].map(last14max_dict)\n",
    "        ts['last14min'] = ts['unit'].map(last14min_dict)\n",
    "        ts['last14std'] = ts['unit'].map(last14std_dict)\n",
    "        ts['last14mean'] = ts['unit'].map(last14mean_dict)\n",
    "        ts['last14median'] = ts['unit'].map(last14median_dict)\n",
    "        ts['last14sum'] = ts['unit'].map(last14sum_dict)\n",
    "        \n",
    "        \n",
    "        # last 7 day information ..\n",
    "        rdd = df[(df.ts >= t - datetime.timedelta(7)) & (df.ts < t)]\n",
    "        \n",
    "        last7max_dict = rdd.groupby('unit')['qty'].max().to_dict()\n",
    "        last7min_dict = rdd.groupby('unit')['qty'].min().to_dict()\n",
    "        last7std_dict = rdd.groupby('unit')['qty'].std().to_dict()\n",
    "        last7mean_dict = rdd.groupby('unit')['qty'].mean().to_dict()\n",
    "        last7median_dict = rdd.groupby('unit')['qty'].median().to_dict()\n",
    "        last7sum_dict = rdd.groupby('unit')['qty'].sum().to_dict()\n",
    "        \n",
    "        ts['last7max'] = ts['unit'].map(last7max_dict)\n",
    "        ts['last7min'] = ts['unit'].map(last7min_dict)\n",
    "        ts['last7std'] = ts['unit'].map(last7std_dict)\n",
    "        ts['last7mean'] = ts['unit'].map(last7mean_dict)\n",
    "        ts['last7median'] = ts['unit'].map(last7median_dict)\n",
    "        ts['last7sum'] = ts['unit'].map(last7sum_dict)\n",
    "        \n",
    "        \n",
    "        # last 3 day information ...\n",
    "        rdd = df[(df.ts >= t - datetime.timedelta(3)) & (df.ts < t)]\n",
    "        \n",
    "        last3max_dict = rdd.groupby('unit')['qty'].max().to_dict()\n",
    "        last3min_dict = rdd.groupby('unit')['qty'].min().to_dict()\n",
    "        last3std_dict = rdd.groupby('unit')['qty'].std().to_dict()\n",
    "        last3mean_dict = rdd.groupby('unit')['qty'].mean().to_dict()\n",
    "        last3median_dict = rdd.groupby('unit')['qty'].median().to_dict()\n",
    "        last3sum_dict = rdd.groupby('unit')['qty'].sum().to_dict()\n",
    "        last3value_dict = rdd.groupby('unit')['ts', 'qty'].apply(qtyGetKvalue, k=3).to_dict()\n",
    "        \n",
    "        ts['last3max'] = ts['unit'].map(last3max_dict)\n",
    "        ts['last3min'] = ts['unit'].map(last3min_dict)\n",
    "        ts['last3std'] = ts['unit'].map(last3std_dict)\n",
    "        ts['last3mean'] = ts['unit'].map(last3mean_dict)\n",
    "        ts['last3median'] = ts['unit'].map(last3median_dict)\n",
    "        ts['last3sum'] = ts['unit'].map(last3sum_dict)\n",
    "        ts['last3value'] = ts['unit'].map(last3value_dict)\n",
    "        \n",
    "        \n",
    "        # last 1、2 day information ..\n",
    "        rdd = df[(df.ts >= t - datetime.timedelta(1)) & (df.ts < t)]\n",
    "        last1value_dict = rdd.groupby('unit')['qty'].sum().to_dict()\n",
    "        ts['last1value'] = ts['unit'].map(last1value_dict)\n",
    "        \n",
    "        rdd = df[(df.ts >= t - datetime.timedelta(2)) & (df.ts < t)]\n",
    "        last2mean_dict = rdd.groupby('unit')['qty'].mean().to_dict()\n",
    "        last2sum_dict = rdd.groupby('unit')['qty'].sum().to_dict()\n",
    "        last2value_dict = rdd.groupby('unit')['ts', 'qty'].apply(qtyGetKvalue, k=2).to_dict()\n",
    "        \n",
    "        ts['last2mean'] = ts['unit'].map(last2mean_dict)\n",
    "        ts['last2sum'] = ts['unit'].map(last2sum_dict)\n",
    "        ts['last2value'] = ts['unit'].map(last2value_dict)\n",
    "        \n",
    "        newdataset = pd.concat([newdataset, ts])\n",
    "        if t.month == 1 and t.day == 1:\n",
    "            print(t)\n",
    "    return newdataset\n",
    "\n",
    "# # 适合样本量比较少的训练集\n",
    "# def qtyNewFeaturelow(df, ts = np.nan):\n",
    "#     df['last14max'] = np.nan\n",
    "#     df['last14min'] = np.nan\n",
    "#     df['last14std'] = np.nan\n",
    "#     df['last14mean'] = np.nan\n",
    "#     df['last14median'] = np.nan\n",
    "#     df['last14sum'] = np.nan\n",
    "    \n",
    "#     for i in range(df.shape[0]):\n",
    "#         currset = df.iloc[i:i+1,:]\n",
    "        \n",
    "#         unit = currset['unit'].values[0]\n",
    "#         ts = pd.to_datetime(currset['ts'].values[0])\n",
    "#         last14set = df[(df.unit == unit) & (df.ts >= ts - datetime.timedelta(14)) & (df.ts < ts)]\n",
    "\n",
    "#         df.loc[currset.index,'last14max'] = np.max(last14set['qty'])\n",
    "#         df.loc[currset.index,'last14min'] = np.min(last14set['qty'])\n",
    "#         df.loc[currset.index,'last14std'] = np.std(last14set['qty'])\n",
    "#         df.loc[currset.index,'last14mean'] = np.mean(last14set['qty'])\n",
    "#         df.loc[currset.index,'last14median'] = np.median(last14set['qty'])\n",
    "#         df.loc[currset.index,'last14sum'] = np.sum(last14set['qty'])\n",
    "#         # print(currset.index)\n",
    "#     return df"
   ]
  },
  {
   "cell_type": "code",
   "execution_count": null,
   "id": "26c9b319",
   "metadata": {
    "collapsed": false,
    "jupyter": {
     "outputs_hidden": false
    },
    "pycharm": {
     "name": "#%%\n"
    }
   },
   "outputs": [],
   "source": [
    "traindataset = qtyNewFeature(trainalldate)"
   ]
  },
  {
   "cell_type": "code",
   "execution_count": null,
   "id": "481ea7f3",
   "metadata": {
    "collapsed": false,
    "jupyter": {
     "outputs_hidden": false
    },
    "pycharm": {
     "name": "#%%\n"
    }
   },
   "outputs": [],
   "source": [
    "traindataset.info()"
   ]
  },
  {
   "cell_type": "code",
   "execution_count": null,
   "id": "8a2d98e8",
   "metadata": {
    "collapsed": false,
    "jupyter": {
     "outputs_hidden": false
    },
    "pycharm": {
     "name": "#%%\n"
    }
   },
   "outputs": [],
   "source": [
    "traindataset.info()"
   ]
  },
  {
   "cell_type": "code",
   "execution_count": null,
   "id": "ef698596",
   "metadata": {
    "collapsed": false,
    "jupyter": {
     "outputs_hidden": false
    },
    "pycharm": {
     "name": "#%%\n"
    }
   },
   "outputs": [],
   "source": [
    "# train1q = qtyNewFeaturelow(trainalldate[:1000])\n",
    "# train1q.head()"
   ]
  },
  {
   "cell_type": "code",
   "execution_count": null,
   "id": "c22738bc",
   "metadata": {
    "collapsed": false,
    "jupyter": {
     "outputs_hidden": false
    },
    "pycharm": {
     "name": "#%%\n"
    }
   },
   "outputs": [],
   "source": []
  },
  {
   "cell_type": "code",
   "execution_count": null,
   "id": "ff3489b4",
   "metadata": {
    "collapsed": false,
    "jupyter": {
     "outputs_hidden": false
    },
    "pycharm": {
     "name": "#%%\n"
    }
   },
   "outputs": [],
   "source": [
    "## PRINT...\n",
    "\n",
    "# today\n",
    "t = pd.to_datetime(\"20180606\")\n",
    "# ts = trainalldate[trainalldate.ts == pd.to_datetime(\"20210601\")]\n",
    "rdd = trainalldate[(trainalldate.ts >= t - datetime.timedelta(2)) & (trainalldate.ts < t)]\n",
    "\n",
    "# # last 14 day information ... \n",
    "# rdd = df[(df.ts >= t - datetime.timedelta(14)) & (df.ts < t)]\n",
    "rdd.groupby('unit')['ts', 'qty'].apply(qtyGetKvalue, k=3)"
   ]
  },
  {
   "cell_type": "code",
   "execution_count": null,
   "id": "db85e22d",
   "metadata": {
    "collapsed": false,
    "jupyter": {
     "outputs_hidden": false
    },
    "pycharm": {
     "name": "#%%\n"
    }
   },
   "outputs": [],
   "source": []
  },
  {
   "cell_type": "markdown",
   "id": "ec2bfbe5",
   "metadata": {
    "pycharm": {
     "name": "#%% md\n"
    }
   },
   "source": [
    "## 1.4 过去14天下，在同geography与product的qty 资源使用量。"
   ]
  },
  {
   "cell_type": "code",
   "execution_count": null,
   "id": "e6f2812b",
   "metadata": {
    "collapsed": false,
    "jupyter": {
     "outputs_hidden": false
    },
    "pycharm": {
     "name": "#%%\n"
    }
   },
   "outputs": [],
   "source": [
    "def geoproNewFeature(df):\n",
    "    newdataset = pd.DataFrame()\n",
    "    \n",
    "    timeline = pd.date_range(df.ts.min(), df.ts.max())\n",
    "    for t in timeline:\n",
    "        ts = df[df.ts == t]\n",
    "        rdd = df[(df.ts >= t - datetime.timedelta(14)) & (df.ts < t)]\n",
    "        \n",
    "        # grouby for calculate mean&median\n",
    "        geo1mean14_dict = rdd.groupby('geography_level_1')['qty'].mean().to_dict()\n",
    "        geo2mean14_dict = rdd.groupby('geography_level_2')['qty'].mean().to_dict()\n",
    "        geo3mean14_dict = rdd.groupby('geography_level_3')['qty'].mean().to_dict()\n",
    "        pro1mean14_dict = rdd.groupby('product_level_1')['qty'].mean().to_dict()\n",
    "        pro2mean14_dict = rdd.groupby('product_level_2')['qty'].mean().to_dict()\n",
    "        geo1median14_dict = rdd.groupby('geography_level_1')['qty'].median().to_dict()\n",
    "        geo2median14_dict = rdd.groupby('geography_level_2')['qty'].median().to_dict()\n",
    "        geo3median14_dict = rdd.groupby('geography_level_3')['qty'].median().to_dict()\n",
    "        pro1median14_dict = rdd.groupby('product_level_1')['qty'].median().to_dict()\n",
    "        pro2median14_dict = rdd.groupby('product_level_2')['qty'].median().to_dict()\n",
    "        \n",
    "        # map to df\n",
    "        ts['geo1mean14'] = ts['geography_level_1'].map(geo1mean14_dict)\n",
    "        ts['geo2mean14'] = ts['geography_level_2'].map(geo2mean14_dict)\n",
    "        ts['geo3mean14'] = ts['geography_level_3'].map(geo3mean14_dict)\n",
    "        ts['pro1mean14'] = ts['product_level_1'].map(pro1mean14_dict)\n",
    "        ts['pro2mean14'] = ts['product_level_2'].map(pro2mean14_dict)\n",
    "        \n",
    "        ts['geo1median14'] = ts['geography_level_1'].map(geo1median14_dict)\n",
    "        ts['geo2median14'] = ts['geography_level_2'].map(geo2median14_dict)\n",
    "        ts['geo3median14'] = ts['geography_level_3'].map(geo3median14_dict)\n",
    "        ts['pro1median14'] = ts['product_level_1'].map(pro1median14_dict)\n",
    "        ts['pro2median14'] = ts['product_level_2'].map(pro2median14_dict)\n",
    "        \n",
    "\n",
    "        \n",
    "        \n",
    "#         # grouby rdd for calculate mean&median and transform DataFrame\n",
    "#         ts['geo1mean14'] = rdd.groupby('geography_level_1')['qty'].transform('mean')\n",
    "#         ts['geo2mean14'] = rdd.groupby('geography_level_2')['qty'].transform('mean')\n",
    "#         ts['geo3mean14'] = rdd.groupby('geography_level_3')['qty'].transform('mean')\n",
    "#         ts['pro1mean14'] = rdd.groupby('product_level_1')['qty'].transform('mean')\n",
    "#         ts['pro2mean14'] = rdd.groupby('product_level_2')['qty'].transform('mean')\n",
    "#         ts['geo1median14'] = rdd.groupby('geography_level_1')['qty'].transform('median')\n",
    "#         ts['geo2median14'] = rdd.groupby('geography_level_2')['qty'].transform('median')\n",
    "#         ts['geo3median14'] = rdd.groupby('geography_level_3')['qty'].transform('median')\n",
    "#         ts['pro1median14'] = rdd.groupby('product_level_1')['qty'].transform('median')\n",
    "#         ts['pro2median14'] = rdd.groupby('product_level_2')['qty'].transform('median')\n",
    "        \n",
    "        newdataset = pd.concat([newdataset, ts])\n",
    "        # print(t)\n",
    "        if t.month == 1:\n",
    "            print(t)\n",
    "    return newdataset"
   ]
  },
  {
   "cell_type": "code",
   "execution_count": null,
   "id": "da1dd091",
   "metadata": {
    "collapsed": false,
    "jupyter": {
     "outputs_hidden": false
    },
    "pycharm": {
     "name": "#%%\n"
    }
   },
   "outputs": [],
   "source": [
    "traindatasetall = geoproNewFeature(traindataset)\n",
    "traindatasetall"
   ]
  },
  {
   "cell_type": "code",
   "execution_count": null,
   "id": "8b69f4e8",
   "metadata": {
    "collapsed": false,
    "jupyter": {
     "outputs_hidden": false
    },
    "pycharm": {
     "name": "#%%\n"
    }
   },
   "outputs": [],
   "source": [
    "# traindatasetall.to_csv(\"../output/traindatasetall.csv\", index=False)\n",
    "import pickle\n",
    "\n",
    "with open(\"../output/traindataset.pkl\", 'wb') as fo: \n",
    "    pickle.dump(traindatasetall, fo)"
   ]
  },
  {
   "cell_type": "code",
   "execution_count": null,
   "id": "006caef3",
   "metadata": {
    "collapsed": false,
    "jupyter": {
     "outputs_hidden": false
    },
    "pycharm": {
     "name": "#%%\n"
    }
   },
   "outputs": [],
   "source": [
    "traindatasetall.to_csv(\"../output/traindatasetall.csv\", index=False)"
   ]
  },
  {
   "cell_type": "code",
   "execution_count": null,
   "id": "64ae23c3",
   "metadata": {
    "collapsed": false,
    "jupyter": {
     "outputs_hidden": false
    },
    "pycharm": {
     "name": "#%%\n"
    }
   },
   "outputs": [],
   "source": [
    "traindatasetall.info()"
   ]
  },
  {
   "cell_type": "code",
   "execution_count": null,
   "id": "45e11710",
   "metadata": {
    "collapsed": false,
    "jupyter": {
     "outputs_hidden": false
    },
    "pycharm": {
     "name": "#%%\n"
    }
   },
   "outputs": [],
   "source": []
  },
  {
   "cell_type": "code",
   "execution_count": null,
   "id": "4257e1ca",
   "metadata": {
    "collapsed": false,
    "jupyter": {
     "outputs_hidden": false
    },
    "pycharm": {
     "name": "#%%\n"
    }
   },
   "outputs": [],
   "source": [
    "currset = trainalldate.iloc[50:51,:]\n",
    "unit = currset['unit'].values[0]\n",
    "ts = pd.to_datetime(currset['ts'].values[0])"
   ]
  },
  {
   "cell_type": "code",
   "execution_count": null,
   "id": "08dc2d15",
   "metadata": {
    "collapsed": false,
    "jupyter": {
     "outputs_hidden": false
    },
    "pycharm": {
     "name": "#%%\n"
    }
   },
   "outputs": [],
   "source": [
    "trainalldate[(trainalldate.ts >= ts - datetime.timedelta(14)) & (trainalldate.ts < ts)].ts.value_counts()"
   ]
  },
  {
   "cell_type": "code",
   "execution_count": null,
   "id": "9767c2c4",
   "metadata": {
    "collapsed": false,
    "jupyter": {
     "outputs_hidden": false
    },
    "pycharm": {
     "name": "#%%\n"
    }
   },
   "outputs": [],
   "source": [
    "currset"
   ]
  },
  {
   "cell_type": "code",
   "execution_count": null,
   "id": "90a90a5f",
   "metadata": {
    "collapsed": false,
    "jupyter": {
     "outputs_hidden": false
    },
    "pycharm": {
     "name": "#%%\n"
    }
   },
   "outputs": [],
   "source": [
    "rdd = trainalldate[(trainalldate.ts >= ts - datetime.timedelta(14)) & (trainalldate.ts < ts)]\n",
    "rdd.groupby('geography_level_1')['qty'].mean().to_dict()"
   ]
  },
  {
   "cell_type": "code",
   "execution_count": null,
   "id": "eaa6adb2",
   "metadata": {
    "collapsed": false,
    "jupyter": {
     "outputs_hidden": false
    },
    "pycharm": {
     "name": "#%%\n"
    }
   },
   "outputs": [],
   "source": [
    "dict_ = rdd.groupby('geography_level_1')['qty'].mean().to_dict()"
   ]
  },
  {
   "cell_type": "code",
   "execution_count": null,
   "id": "d44dbceb",
   "metadata": {
    "collapsed": false,
    "jupyter": {
     "outputs_hidden": false
    },
    "pycharm": {
     "name": "#%%\n"
    }
   },
   "outputs": [],
   "source": [
    "rdd.groupby('geography_level_2')['qty'].mean().to_dict()"
   ]
  },
  {
   "cell_type": "code",
   "execution_count": null,
   "id": "d0f0ef1f",
   "metadata": {
    "collapsed": false,
    "jupyter": {
     "outputs_hidden": false
    },
    "pycharm": {
     "name": "#%%\n"
    }
   },
   "outputs": [],
   "source": []
  },
  {
   "cell_type": "markdown",
   "id": "3e00a618",
   "metadata": {
    "pycharm": {
     "name": "#%% md\n"
    }
   },
   "source": [
    "# 2. 数据分析\n",
    "- 2.1 日期与库存销量qty之间的关系\n",
    "- 2.2 weight 特征与其他指标之间的分析\n",
    "- 2.3 geography和product与库存销量qty之间的关系"
   ]
  },
  {
   "cell_type": "markdown",
   "id": "294ce321",
   "metadata": {
    "pycharm": {
     "name": "#%% md\n"
    }
   },
   "source": [
    "## 2.1 日期与库存销量qty之间的关系\n",
    "- 1.哪月库存销量最佳, 随着日期变化，库存均销量的变化趋势是怎么样的?\n",
    "- 2.一个月中哪个天的库存销量是最好的？"
   ]
  },
  {
   "cell_type": "code",
   "execution_count": null,
   "id": "64c8ac90",
   "metadata": {
    "collapsed": false,
    "jupyter": {
     "outputs_hidden": false
    },
    "pycharm": {
     "name": "#%%\n"
    }
   },
   "outputs": [],
   "source": [
    "# 统计2020-1-1 至 2021-1-1 日之间销量情况\n",
    "l = pd.to_datetime(\"20200101\")  \n",
    "r = pd.to_datetime(\"20210101\")\n",
    "rdd = trainalldate[(trainalldate.ts >= l) & (trainalldate.ts < r)]"
   ]
  },
  {
   "cell_type": "code",
   "execution_count": null,
   "id": "e89ec0bc",
   "metadata": {
    "collapsed": false,
    "jupyter": {
     "outputs_hidden": false
    },
    "pycharm": {
     "name": "#%%\n"
    }
   },
   "outputs": [],
   "source": [
    "print(len(rdd.ts.unique()),  len(rdd.unit.unique()))  # the day and all the unit"
   ]
  },
  {
   "cell_type": "code",
   "execution_count": null,
   "id": "e8dfe115",
   "metadata": {
    "collapsed": false,
    "jupyter": {
     "outputs_hidden": false
    },
    "pycharm": {
     "name": "#%%\n"
    }
   },
   "outputs": [],
   "source": [
    "rdd.groupby('month')['qty'].mean().plot.line()\n",
    "rdd.groupby('month')['qty'].mean()"
   ]
  },
  {
   "cell_type": "code",
   "execution_count": null,
   "id": "0f367d8f",
   "metadata": {
    "collapsed": false,
    "jupyter": {
     "outputs_hidden": false
    },
    "pycharm": {
     "name": "#%%\n"
    }
   },
   "outputs": [],
   "source": [
    "rdd.groupby('week')['qty'].mean().plot.line()\n",
    "rdd.groupby('week')['qty'].mean()"
   ]
  },
  {
   "cell_type": "code",
   "execution_count": null,
   "id": "bda9321a",
   "metadata": {
    "collapsed": false,
    "jupyter": {
     "outputs_hidden": false
    },
    "pycharm": {
     "name": "#%%\n"
    }
   },
   "outputs": [],
   "source": [
    "rdd.groupby('day')['qty'].mean().plot.line()\n",
    "rdd.groupby('day')['qty'].mean()"
   ]
  },
  {
   "cell_type": "code",
   "execution_count": null,
   "id": "abf5f1c3",
   "metadata": {
    "collapsed": false,
    "jupyter": {
     "outputs_hidden": false
    },
    "pycharm": {
     "name": "#%%\n"
    }
   },
   "outputs": [],
   "source": [
    "# the high day is 8\n",
    "# count the 8 of all year\n",
    "daysYear = pd.Series(pd.date_range(start=l, end=r))\n",
    "weeks = list(map(lambda x:x.day_name(), filter(lambda x:x.day == 8, daysYear)))\n",
    "print(list(filter(lambda x:x.day == 8, daysYear)))\n",
    "print(weeks)"
   ]
  },
  {
   "cell_type": "code",
   "execution_count": null,
   "id": "9c03a38d",
   "metadata": {
    "collapsed": false,
    "jupyter": {
     "outputs_hidden": false
    },
    "pycharm": {
     "name": "#%%\n"
    }
   },
   "outputs": [],
   "source": [
    "import collections\n",
    "a = collections.Counter(weeks)\n",
    "plt.bar(*zip(*a.items()))\n",
    "plt.show()"
   ]
  },
  {
   "cell_type": "code",
   "execution_count": null,
   "id": "e1676d4a",
   "metadata": {
    "collapsed": false,
    "jupyter": {
     "outputs_hidden": false
    },
    "pycharm": {
     "name": "#%%\n"
    }
   },
   "outputs": [],
   "source": []
  },
  {
   "cell_type": "markdown",
   "id": "08b86c09",
   "metadata": {
    "pycharm": {
     "name": "#%% md\n"
    }
   },
   "source": [
    "## 2.2 weight 特征分析"
   ]
  },
  {
   "cell_type": "code",
   "execution_count": null,
   "id": "cc98509e",
   "metadata": {
    "collapsed": false,
    "jupyter": {
     "outputs_hidden": false
    },
    "pycharm": {
     "name": "#%%\n"
    }
   },
   "outputs": [],
   "source": [
    "trainalldate.info()"
   ]
  },
  {
   "cell_type": "code",
   "execution_count": null,
   "id": "34769602",
   "metadata": {
    "collapsed": false,
    "jupyter": {
     "outputs_hidden": false
    },
    "pycharm": {
     "name": "#%%\n"
    }
   },
   "outputs": [],
   "source": [
    "# weight num and unit\n",
    "trainalldate.groupby('weight')['unit'].count()"
   ]
  },
  {
   "cell_type": "markdown",
   "id": "8a0fd61b",
   "metadata": {
    "pycharm": {
     "name": "#%% md\n"
    }
   },
   "source": [
    "总共有131种不同的weight，其中最多weight == 0.001"
   ]
  },
  {
   "cell_type": "code",
   "execution_count": null,
   "id": "ab8fbd29",
   "metadata": {
    "collapsed": false,
    "jupyter": {
     "outputs_hidden": false
    },
    "pycharm": {
     "name": "#%%\n"
    }
   },
   "outputs": [],
   "source": [
    "# the relationshape of weight an unit\n",
    "# pd.crosstab(trainalldate.unit,trainalldate.weight,margins=True).style.background_gradient(cmap='summer_r')"
   ]
  },
  {
   "cell_type": "code",
   "execution_count": null,
   "id": "9f85677b",
   "metadata": {
    "collapsed": false,
    "jupyter": {
     "outputs_hidden": false
    },
    "pycharm": {
     "name": "#%%\n"
    }
   },
   "outputs": [],
   "source": [
    "# 统计出不同weight下，qty库存使用量的均值\n",
    "trainalldate.groupby('weight')['qty'].mean().plot.bar()"
   ]
  },
  {
   "cell_type": "code",
   "execution_count": null,
   "id": "4657ebf0",
   "metadata": {
    "collapsed": false,
    "jupyter": {
     "outputs_hidden": false
    },
    "pycharm": {
     "name": "#%%\n"
    }
   },
   "outputs": [],
   "source": [
    "trainalldate.groupby('weight')['qty'].get_group(0.943)"
   ]
  },
  {
   "cell_type": "code",
   "execution_count": null,
   "id": "177b704e",
   "metadata": {
    "collapsed": false,
    "jupyter": {
     "outputs_hidden": false
    },
    "pycharm": {
     "name": "#%%\n"
    }
   },
   "outputs": [],
   "source": []
  },
  {
   "cell_type": "markdown",
   "id": "ce5bc733",
   "metadata": {
    "pycharm": {
     "name": "#%% md\n"
    }
   },
   "source": [
    "## 2.3 geography和product与库存销量qty之间的关系\n"
   ]
  },
  {
   "cell_type": "code",
   "execution_count": null,
   "id": "8a62a7f6",
   "metadata": {
    "collapsed": false,
    "jupyter": {
     "outputs_hidden": false
    },
    "pycharm": {
     "name": "#%%\n"
    }
   },
   "outputs": [],
   "source": [
    "# weight num and unit\n",
    "trainalldate.info()"
   ]
  },
  {
   "cell_type": "code",
   "execution_count": null,
   "id": "caaa0e03",
   "metadata": {
    "collapsed": false,
    "jupyter": {
     "outputs_hidden": false
    },
    "pycharm": {
     "name": "#%%\n"
    }
   },
   "outputs": [],
   "source": [
    "# 统计出不同weight下，qty库存使用量的均值\n",
    "trainalldate.groupby('geography_level_3')['qty'].mean().plot.bar()"
   ]
  },
  {
   "cell_type": "code",
   "execution_count": null,
   "id": "3b2de9a5",
   "metadata": {
    "collapsed": false,
    "jupyter": {
     "outputs_hidden": false
    },
    "pycharm": {
     "name": "#%%\n"
    }
   },
   "outputs": [],
   "source": [
    "dict(trainalldate.groupby('geography_level_3')['unit'].count())"
   ]
  },
  {
   "cell_type": "code",
   "execution_count": null,
   "id": "9eae2367",
   "metadata": {
    "collapsed": false,
    "jupyter": {
     "outputs_hidden": false
    },
    "pycharm": {
     "name": "#%%\n"
    }
   },
   "outputs": [],
   "source": [
    "# 统计出不同weight下，qty库存使用量的均值\n",
    "trainalldate.groupby('product_level_2')['qty'].mean().plot.bar()"
   ]
  },
  {
   "cell_type": "code",
   "execution_count": null,
   "id": "c3e19ec3",
   "metadata": {
    "collapsed": false,
    "jupyter": {
     "outputs_hidden": false
    },
    "pycharm": {
     "name": "#%%\n"
    }
   },
   "outputs": [],
   "source": []
  },
  {
   "cell_type": "code",
   "execution_count": null,
   "id": "ebc0e98d",
   "metadata": {
    "collapsed": false,
    "jupyter": {
     "outputs_hidden": false
    },
    "pycharm": {
     "name": "#%%\n"
    }
   },
   "outputs": [],
   "source": []
  },
  {
   "cell_type": "markdown",
   "id": "222a55fd",
   "metadata": {
    "pycharm": {
     "name": "#%% md\n"
    }
   },
   "source": [
    "# 3. 模型训练\n",
    "\n",
    "- 1 Xgboost\n",
    "- 2.LightGBM\n",
    "- 3.autox\n",
    "- 4.JDCross\n",
    "- ref  \n",
    "https://github.com/PENGZhaoqing/TimeSeriesPrediction  \n",
    "https://github.com/gabrielpreda/Kaggle/blob/master/SantanderCustomerTransactionPrediction/starter-code-saving-and-loading-lgb-xgb-cb.py"
   ]
  },
  {
   "cell_type": "markdown",
   "id": "ad079acc",
   "metadata": {
    "pycharm": {
     "name": "#%% md\n"
    }
   },
   "source": [
    "## 3.1 Xgboost "
   ]
  },
  {
   "cell_type": "code",
   "execution_count": null,
   "id": "fca91d07",
   "metadata": {
    "collapsed": false,
    "jupyter": {
     "outputs_hidden": false
    },
    "pycharm": {
     "name": "#%%\n"
    }
   },
   "outputs": [],
   "source": []
  },
  {
   "cell_type": "code",
   "execution_count": null,
   "id": "8c71f9c4",
   "metadata": {
    "collapsed": false,
    "jupyter": {
     "outputs_hidden": false
    },
    "pycharm": {
     "name": "#%%\n"
    }
   },
   "outputs": [],
   "source": [
    "# load traindataset\n",
    "with open(\"../output/traindataset.pkl\", 'rb') as fo:     # 读取pkl文件数据\n",
    "    traindataset = pickle.load(fo, encoding='bytes')\n",
    "\n",
    "traindataset[\"ts\"] = traindataset[\"ts\"].apply(lambda x: pd.to_datetime(x))\n",
    "print(traindataset.shape)\n",
    "traindataset.head()"
   ]
  },
  {
   "cell_type": "code",
   "execution_count": null,
   "id": "09f0bc07",
   "metadata": {
    "collapsed": false,
    "jupyter": {
     "outputs_hidden": false
    },
    "pycharm": {
     "name": "#%%\n"
    }
   },
   "outputs": [],
   "source": [
    "traindataset.info()"
   ]
  },
  {
   "cell_type": "code",
   "execution_count": null,
   "id": "5f721b1b",
   "metadata": {
    "collapsed": false,
    "jupyter": {
     "outputs_hidden": false
    },
    "pycharm": {
     "name": "#%%\n"
    }
   },
   "outputs": [],
   "source": [
    "# features\n",
    "sparse_features = ['unit', 'year', 'month', 'day', 'week', 'geography_level_1', 'geography_level_2', 'geography_level_3', \n",
    "                   'product_level_1', 'product_level_2', 'unit_pro', 'geo_pro']\n",
    "dense_features = ['weight',\n",
    "       'last14max', 'last14min', 'last14std', 'last14mean', 'last14median',\n",
    "       'last14sum', 'last7max', 'last7min', 'last7std', 'last7mean',\n",
    "       'last7median', 'last7sum', 'last3max', 'last3min', 'last3std',\n",
    "       'last3mean', 'last3median', 'last3sum', 'last3value', 'last1value', 'last2mean',\n",
    "       'last2sum', 'last2value', 'geo1mean14', 'geo2mean14', 'geo3mean14', 'pro1mean14',\n",
    "       'pro2mean14', 'geo1median14', 'geo2median14', 'geo3median14',\n",
    "       'pro1median14', 'pro2median14']\n",
    "\n",
    "target = ['qty']"
   ]
  },
  {
   "cell_type": "code",
   "execution_count": null,
   "id": "492ae42e",
   "metadata": {
    "collapsed": false,
    "jupyter": {
     "outputs_hidden": false
    },
    "pycharm": {
     "name": "#%%\n"
    }
   },
   "outputs": [],
   "source": [
    "# traindataset[:100].loc[~traindataset[:100]['geo1mean14'].isnull()]\n",
    "# traindataset[np.isnan(traindataset['qty'].values)]\n",
    "# traindataset['qty'][np.isinf(traindataset['qty'])] = 0.0 \n",
    "\n",
    "# 替换空值，和选择大于0的数据\n",
    "traindataset = traindataset.dropna(subset=[\"qty\"])\n",
    "traindataset = traindataset[traindataset[\"qty\"] >= 0]\n",
    "traindataset.shape"
   ]
  },
  {
   "cell_type": "code",
   "execution_count": null,
   "id": "d88b05c7",
   "metadata": {
    "collapsed": false,
    "jupyter": {
     "outputs_hidden": false
    },
    "pycharm": {
     "name": "#%%\n"
    }
   },
   "outputs": [],
   "source": [
    "print(np.isnan(traindataset['qty']).any())\n",
    "print(np.isinf(traindataset['qty']).any())"
   ]
  },
  {
   "cell_type": "code",
   "execution_count": null,
   "id": "cfe2d63e",
   "metadata": {
    "collapsed": false,
    "jupyter": {
     "outputs_hidden": false
    },
    "pycharm": {
     "name": "#%%\n"
    }
   },
   "outputs": [],
   "source": [
    "# qty 进行转化\n",
    "plt.figure(figsize=(18, 10))\n",
    "fig, axes = plt.subplots(nrows=2, ncols=1)\n",
    "traindataset['qty'].hist(bins=100, ax=axes[0])\n",
    "traindataset['qty'] = np.log(traindataset['qty'] + 1)  # \n",
    "traindataset['qty'].hist(bins=100, ax=axes[1])\n",
    "plt.show()"
   ]
  },
  {
   "cell_type": "code",
   "execution_count": null,
   "id": "c0b2983b",
   "metadata": {
    "collapsed": false,
    "jupyter": {
     "outputs_hidden": false
    },
    "pycharm": {
     "name": "#%%\n"
    }
   },
   "outputs": [],
   "source": [
    "## 3.1 xgboost\n",
    "traindataset = traindataset.dropna(axis=0, how='any')\n",
    "train = traindataset[traindataset.ts <= pd.to_datetime(\"20210301\")]\n",
    "test = traindataset[traindataset.ts > pd.to_datetime(\"20210301\")]\n",
    "\n",
    "X_train, X_test, y_train, y_test = train[sparse_features + dense_features], test[sparse_features + dense_features], train[target], test[target]\n",
    "print('The shape of X_train:{}'.format(X_train.shape))\n",
    "print('The shape of X_test:{}'.format(X_test.shape))"
   ]
  },
  {
   "cell_type": "code",
   "execution_count": null,
   "id": "b8c2aa37",
   "metadata": {
    "collapsed": false,
    "jupyter": {
     "outputs_hidden": false
    },
    "pycharm": {
     "name": "#%%\n"
    }
   },
   "outputs": [],
   "source": [
    "# ## 3.1 xgboost\n",
    "# from sklearn.model_selection import train_test_split\n",
    "\n",
    "\n",
    "# traindataset = traindataset.dropna(axis=0, how='any')\n",
    "# X_train, X_test, y_train, y_test = train_test_split(traindataset[sparse_features + dense_features], traindataset[target], test_size=0.20)\n",
    "\n",
    "# print('The shape of X_train:{}'.format(X_train.shape))\n",
    "# print('The shape of X_test:{}'.format(X_test.shape))"
   ]
  },
  {
   "cell_type": "code",
   "execution_count": null,
   "id": "ed1bc3c3",
   "metadata": {
    "collapsed": false,
    "jupyter": {
     "outputs_hidden": false
    },
    "pycharm": {
     "name": "#%%\n"
    }
   },
   "outputs": [],
   "source": [
    "params = {\n",
    "    'learning_rate': 0.25,\n",
    "    'n_estimators': 30,\n",
    "    'subsample': 0.8,\n",
    "    'colsample_bytree': 0.6,\n",
    "    'max_depth': 12,\n",
    "    'min_child_weight': 1,\n",
    "    'reg_alpha': 0,\n",
    "    'gamma': 0\n",
    "}\n",
    "\n",
    "# dtrain = xgb.DMatrix(X, label=y, feature_names=x)\n",
    "\n",
    "bst = xgb.XGBRegressor(learning_rate=params['learning_rate'], n_estimators=params['n_estimators'],\n",
    "                             booster='gbtree', objective='reg:linear', n_jobs=-1, subsample=params['subsample'],\n",
    "                             colsample_bytree=params['colsample_bytree'], random_state=0,\n",
    "                             max_depth=params['max_depth'], gamma=params['gamma'],\n",
    "                             min_child_weight=params['min_child_weight'], reg_alpha=params['reg_alpha'])\n",
    "bst.fit(X_train.values, y_train.values)"
   ]
  },
  {
   "cell_type": "code",
   "execution_count": null,
   "id": "970c7489",
   "metadata": {
    "collapsed": false,
    "jupyter": {
     "outputs_hidden": false
    },
    "pycharm": {
     "name": "#%%\n"
    }
   },
   "outputs": [],
   "source": [
    "pre = bst.predict(X_test.values)\n",
    "\n",
    "# def mape(y_true, y_pred):\n",
    "#     return np.mean(np.abs((y_pred - y_true) / y_true)) * 100\n",
    "\n",
    "# mape = mape(np.expm1(y_test.reshape(-1)), np.expm1(pre))\n",
    "# print(\"MAPE is: {}\".format(mape))\n",
    "\n",
    "from sklearn.metrics import mean_absolute_error, mean_squared_error\n",
    "mae_norm = mean_absolute_error(y_test.values, pre)  # 归一化后的值\n",
    "mae = mean_absolute_error(np.expm1(y_test.values), np.expm1(pre))\n",
    "\n",
    "\n",
    "rmse = np.sqrt(mean_squared_error(np.expm1(y_test.values), np.expm1(pre)))\n",
    "\n",
    "print(\"mae:\",mae_norm)\n",
    "print(\"mae:\",mae)\n",
    "print(\"rmse:\",rmse)"
   ]
  },
  {
   "cell_type": "code",
   "execution_count": 101,
   "id": "66b3c650-95f0-449e-83ee-f29532f552ef",
   "metadata": {
    "tags": []
   },
   "outputs": [
    {
     "data": {
      "text/plain": [
       "<Figure size 1296x720 with 0 Axes>"
      ]
     },
     "metadata": {},
     "output_type": "display_data"
    },
    {
     "data": {
      "image/png": "[encoded data removed]",
      "text/plain": [
       "<Figure size 1800x576 with 2 Axes>"
      ]
     },
     "metadata": {},
     "output_type": "display_data"
    }
   ],
   "source": [
    "# qty 进行转化\n",
    "plt.figure(figsize=(18, 10))\n",
    "fig, axes = plt.subplots(nrows=2, ncols=1)\n",
    "traindataset['qty'].hist(bins=100, ax=axes[0])\n",
    "traindataset['qty'] = np.log(traindataset['qty'] + 1)  # \n",
    "traindataset['qty'].hist(bins=100, ax=axes[1])\n",
    "plt.show()"
   ]
  },
  {
   "cell_type": "code",
   "execution_count": 119,
   "id": "f39487b3-f732-4ea3-8015-33b4162f7e1d",
   "metadata": {
    "tags": []
   },
   "outputs": [
    {
     "name": "stdout",
     "output_type": "stream",
     "text": [
      "The shape of X_train:(281489, 46)\n",
      "The shape of X_test:(61936, 46)\n"
     ]
    }
   ],
   "source": [
    "## 3.1 xgboost\n",
    "traindataset = traindataset.dropna(axis=0, how='any')\n",
    "train = traindataset[traindataset.ts <= pd.to_datetime(\"20210301\")]\n",
    "test = traindataset[traindataset.ts > pd.to_datetime(\"20210301\")]\n",
    "\n",
    "X_train, X_test, y_train, y_test = train[sparse_features + dense_features], test[sparse_features + dense_features], train[target], test[target]\n",
    "print('The shape of X_train:{}'.format(X_train.shape))\n",
    "print('The shape of X_test:{}'.format(X_test.shape))"
   ]
  },
  {
   "cell_type": "code",
   "execution_count": 103,
   "id": "80e48a29-6587-4048-9de3-18f045ca68d4",
   "metadata": {
    "tags": []
   },
   "outputs": [
    {
     "name": "stdout",
     "output_type": "stream",
     "text": [
      "The shape of X_train:(274740, 46)\n",
      "The shape of X_test:(68685, 46)\n"
     ]
    }
   ],
   "source": [
    "# ## 3.1 xgboost\n",
    "# from sklearn.model_selection import train_test_split\n",
    "\n",
    "\n",
    "# traindataset = traindataset.dropna(axis=0, how='any')\n",
    "# X_train, X_test, y_train, y_test = train_test_split(traindataset[sparse_features + dense_features], traindataset[target], test_size=0.20)\n",
    "\n",
    "# print('The shape of X_train:{}'.format(X_train.shape))\n",
    "# print('The shape of X_test:{}'.format(X_test.shape))"
   ]
  },
  {
   "cell_type": "code",
   "execution_count": 134,
   "id": "1d5f6423-695e-4184-b7b6-e949b0a4be32",
   "metadata": {
    "tags": []
   },
   "outputs": [
    {
     "name": "stdout",
     "output_type": "stream",
     "text": [
      "[15:50:29] WARNING: ../src/objective/regression_obj.cu:203: reg:linear is now deprecated in favor of reg:squarederror.\n"
     ]
    },
    {
     "data": {
      "text/html": [
       "<style>#sk-container-id-5 {color: black;background-color: white;}#sk-container-id-5 pre{padding: 0;}#sk-container-id-5 div.sk-toggleable {background-color: white;}#sk-container-id-5 label.sk-toggleable__label {cursor: pointer;display: block;width: 100%;margin-bottom: 0;padding: 0.3em;box-sizing: border-box;text-align: center;}#sk-container-id-5 label.sk-toggleable__label-arrow:before {content: \"▸\";float: left;margin-right: 0.25em;color: #696969;}#sk-container-id-5 label.sk-toggleable__label-arrow:hover:before {color: black;}#sk-container-id-5 div.sk-estimator:hover label.sk-toggleable__label-arrow:before {color: black;}#sk-container-id-5 div.sk-toggleable__content {max-height: 0;max-width: 0;overflow: hidden;text-align: left;background-color: #f0f8ff;}#sk-container-id-5 div.sk-toggleable__content pre {margin: 0.2em;color: black;border-radius: 0.25em;background-color: #f0f8ff;}#sk-container-id-5 input.sk-toggleable__control:checked~div.sk-toggleable__content {max-height: 200px;max-width: 100%;overflow: auto;}#sk-container-id-5 input.sk-toggleable__control:checked~label.sk-toggleable__label-arrow:before {content: \"▾\";}#sk-container-id-5 div.sk-estimator input.sk-toggleable__control:checked~label.sk-toggleable__label {background-color: #d4ebff;}#sk-container-id-5 div.sk-label input.sk-toggleable__control:checked~label.sk-toggleable__label {background-color: #d4ebff;}#sk-container-id-5 input.sk-hidden--visually {border: 0;clip: rect(1px 1px 1px 1px);clip: rect(1px, 1px, 1px, 1px);height: 1px;margin: -1px;overflow: hidden;padding: 0;position: absolute;width: 1px;}#sk-container-id-5 div.sk-estimator {font-family: monospace;background-color: #f0f8ff;border: 1px dotted black;border-radius: 0.25em;box-sizing: border-box;margin-bottom: 0.5em;}#sk-container-id-5 div.sk-estimator:hover {background-color: #d4ebff;}#sk-container-id-5 div.sk-parallel-item::after {content: \"\";width: 100%;border-bottom: 1px solid gray;flex-grow: 1;}#sk-container-id-5 div.sk-label:hover label.sk-toggleable__label {background-color: #d4ebff;}#sk-container-id-5 div.sk-serial::before {content: \"\";position: absolute;border-left: 1px solid gray;box-sizing: border-box;top: 0;bottom: 0;left: 50%;z-index: 0;}#sk-container-id-5 div.sk-serial {display: flex;flex-direction: column;align-items: center;background-color: white;padding-right: 0.2em;padding-left: 0.2em;position: relative;}#sk-container-id-5 div.sk-item {position: relative;z-index: 1;}#sk-container-id-5 div.sk-parallel {display: flex;align-items: stretch;justify-content: center;background-color: white;position: relative;}#sk-container-id-5 div.sk-item::before, #sk-container-id-5 div.sk-parallel-item::before {content: \"\";position: absolute;border-left: 1px solid gray;box-sizing: border-box;top: 0;bottom: 0;left: 50%;z-index: -1;}#sk-container-id-5 div.sk-parallel-item {display: flex;flex-direction: column;z-index: 1;position: relative;background-color: white;}#sk-container-id-5 div.sk-parallel-item:first-child::after {align-self: flex-end;width: 50%;}#sk-container-id-5 div.sk-parallel-item:last-child::after {align-self: flex-start;width: 50%;}#sk-container-id-5 div.sk-parallel-item:only-child::after {width: 0;}#sk-container-id-5 div.sk-dashed-wrapped {border: 1px dashed gray;margin: 0 0.4em 0.5em 0.4em;box-sizing: border-box;padding-bottom: 0.4em;background-color: white;}#sk-container-id-5 div.sk-label label {font-family: monospace;font-weight: bold;display: inline-block;line-height: 1.2em;}#sk-container-id-5 div.sk-label-container {text-align: center;}#sk-container-id-5 div.sk-container {/* jupyter's `normalize.less` sets `[hidden] { display: none; }` but bootstrap.min.css set `[hidden] { display: none !important; }` so we also need the `!important` here to be able to override the default hidden behavior on the sphinx rendered scikit-learn.org. See: https://github.com/scikit-learn/scikit-learn/issues/21755 */display: inline-block !important;position: relative;}#sk-container-id-5 div.sk-text-repr-fallback {display: none;}</style><div id=\"sk-container-id-5\" class=\"sk-top-container\"><div class=\"sk-text-repr-fallback\"><pre>XGBRegressor(base_score=0.5, booster=&#x27;gbtree&#x27;, callbacks=None,\n",
       "             colsample_bylevel=1, colsample_bynode=1, colsample_bytree=0.6,\n",
       "             early_stopping_rounds=None, enable_categorical=False,\n",
       "             eval_metric=None, gamma=0, gpu_id=-1, grow_policy=&#x27;depthwise&#x27;,\n",
       "             importance_type=None, interaction_constraints=&#x27;&#x27;,\n",
       "             learning_rate=0.25, max_bin=256, max_cat_to_onehot=4,\n",
       "             max_delta_step=0, max_depth=12, max_leaves=0, min_child_weight=1,\n",
       "             missing=nan, monotone_constraints=&#x27;()&#x27;, n_estimators=30, n_jobs=-1,\n",
       "             num_parallel_tree=1, objective=&#x27;reg:linear&#x27;, predictor=&#x27;auto&#x27;,\n",
       "             random_state=0, reg_alpha=0, ...)</pre><b>In a Jupyter environment, please rerun this cell to show the HTML representation or trust the notebook. <br />On GitHub, the HTML representation is unable to render, please try loading this page with nbviewer.org.</b></div><div class=\"sk-container\" hidden><div class=\"sk-item\"><div class=\"sk-estimator sk-toggleable\"><input class=\"sk-toggleable__control sk-hidden--visually\" id=\"sk-estimator-id-5\" type=\"checkbox\" checked><label for=\"sk-estimator-id-5\" class=\"sk-toggleable__label sk-toggleable__label-arrow\">XGBRegressor</label><div class=\"sk-toggleable__content\"><pre>XGBRegressor(base_score=0.5, booster=&#x27;gbtree&#x27;, callbacks=None,\n",
       "             colsample_bylevel=1, colsample_bynode=1, colsample_bytree=0.6,\n",
       "             early_stopping_rounds=None, enable_categorical=False,\n",
       "             eval_metric=None, gamma=0, gpu_id=-1, grow_policy=&#x27;depthwise&#x27;,\n",
       "             importance_type=None, interaction_constraints=&#x27;&#x27;,\n",
       "             learning_rate=0.25, max_bin=256, max_cat_to_onehot=4,\n",
       "             max_delta_step=0, max_depth=12, max_leaves=0, min_child_weight=1,\n",
       "             missing=nan, monotone_constraints=&#x27;()&#x27;, n_estimators=30, n_jobs=-1,\n",
       "             num_parallel_tree=1, objective=&#x27;reg:linear&#x27;, predictor=&#x27;auto&#x27;,\n",
       "             random_state=0, reg_alpha=0, ...)</pre></div></div></div></div></div>"
      ],
      "text/plain": [
       "XGBRegressor(base_score=0.5, booster='gbtree', callbacks=None,\n",
       "             colsample_bylevel=1, colsample_bynode=1, colsample_bytree=0.6,\n",
       "             early_stopping_rounds=None, enable_categorical=False,\n",
       "             eval_metric=None, gamma=0, gpu_id=-1, grow_policy='depthwise',\n",
       "             importance_type=None, interaction_constraints='',\n",
       "             learning_rate=0.25, max_bin=256, max_cat_to_onehot=4,\n",
       "             max_delta_step=0, max_depth=12, max_leaves=0, min_child_weight=1,\n",
       "             missing=nan, monotone_constraints='()', n_estimators=30, n_jobs=-1,\n",
       "             num_parallel_tree=1, objective='reg:linear', predictor='auto',\n",
       "             random_state=0, reg_alpha=0, ...)"
      ]
     },
     "execution_count": 134,
     "metadata": {},
     "output_type": "execute_result"
    }
   ],
   "source": [
    "params = {\n",
    "    'learning_rate': 0.25,\n",
    "    'n_estimators': 30,\n",
    "    'subsample': 0.8,\n",
    "    'colsample_bytree': 0.6,\n",
    "    'max_depth': 12,\n",
    "    'min_child_weight': 1,\n",
    "    'reg_alpha': 0,\n",
    "    'gamma': 0\n",
    "}\n",
    "\n",
    "# dtrain = xgb.DMatrix(X, label=y, feature_names=x)\n",
    "\n",
    "bst = xgb.XGBRegressor(learning_rate=params['learning_rate'], n_estimators=params['n_estimators'],\n",
    "                             booster='gbtree', objective='reg:linear', n_jobs=-1, subsample=params['subsample'],\n",
    "                             colsample_bytree=params['colsample_bytree'], random_state=0,\n",
    "                             max_depth=params['max_depth'], gamma=params['gamma'],\n",
    "                             min_child_weight=params['min_child_weight'], reg_alpha=params['reg_alpha'])\n",
    "bst.fit(X_train.values, y_train.values)"
   ]
  },
  {
   "cell_type": "code",
   "execution_count": 135,
   "id": "640c3ed3-1f83-4c7d-b797-9cc781b3b528",
   "metadata": {},
   "outputs": [
    {
     "name": "stdout",
     "output_type": "stream",
     "text": [
      "mae: 0.0169853220505046\n",
      "mae: 56.53049660927482\n",
      "rmse: 232.05474656993192\n"
     ]
    }
   ],
   "source": [
    "pre = bst.predict(X_test.values)\n",
    "\n",
    "# def mape(y_true, y_pred):\n",
    "#     return np.mean(np.abs((y_pred - y_true) / y_true)) * 100\n",
    "\n",
    "# mape = mape(np.expm1(y_test.reshape(-1)), np.expm1(pre))\n",
    "# print(\"MAPE is: {}\".format(mape))\n",
    "\n",
    "from sklearn.metrics import mean_absolute_error, mean_squared_error\n",
    "mae_norm = mean_absolute_error(y_test.values, pre)  # 归一化后的值\n",
    "mae = mean_absolute_error(np.expm1(y_test.values), np.expm1(pre))\n",
    "\n",
    "\n",
    "rmse = np.sqrt(mean_squared_error(np.expm1(y_test.values), np.expm1(pre)))\n",
    "\n",
    "print(\"mae:\",mae_norm)\n",
    "print(\"mae:\",mae)\n",
    "print(\"rmse:\",rmse)"
   ]
  },
  {
   "cell_type": "code",
   "execution_count": 31,
   "id": "129fb82f-236e-4ffb-9700-f178b6771ec0",
   "metadata": {
    "execution": {
     "iopub.execute_input": "2022-06-15T07:51:57.873164Z",
     "iopub.status.busy": "2022-06-15T07:51:57.872165Z",
     "iopub.status.idle": "2022-06-15T07:51:57.928170Z",
     "shell.execute_reply": "2022-06-15T07:51:57.926166Z",
     "shell.execute_reply.started": "2022-06-15T07:51:57.873164Z"
    },
    "tags": []
   },
   "outputs": [
    {
     "name": "stdout",
     "output_type": "stream",
     "text": [
      "mae: 0.017451066539189278\n",
      "mae: 53.12144455181579\n",
      "rmse: 166.15749286109192\n"
     ]
    }
   ],
   "source": [
    "# def mape(y_true, y_pred):\n",
    "#     return np.mean(np.abs((y_pred - y_true) / y_true)) * 100\n",
    "\n",
    "# mape = mape(np.expm1(y_test.reshape(-1)), np.expm1(pre))\n",
    "# print(\"MAPE is: {}\".format(mape))\n",
    "\n",
    "from sklearn.metrics import mean_absolute_error, mean_squared_error\n",
    "mae_norm = mean_absolute_error(y_test.values, pre)  # 归一化后的值\n",
    "mae = mean_absolute_error(np.expm1(y_test.values), np.expm1(pre))\n",
    "\n",
    "\n",
    "rmse = np.sqrt(mean_squared_error(np.expm1(y_test.values), np.expm1(pre)))\n",
    "\n",
    "print(\"mae:\",mae_norm)\n",
    "print(\"mae:\",mae)\n",
    "print(\"rmse:\",rmse)\n"
   ]
  },
  {
   "cell_type": "code",
   "execution_count": 136,
   "id": "0e728c7e-ecb5-4a31-bfe3-3b07eea9b144",
   "metadata": {
    "tags": []
   },
   "outputs": [
    {
     "name": "stdout",
     "output_type": "stream",
     "text": [
      "Predicted probability: [8.244254]\n",
      "Predicted raw value: [8.244254]\n",
      "\n",
      "Contributions (sorted by absolute value):\n",
      "('Bias', 7.0546613)\n",
      "('last2mean', 0.7719071)\n",
      "('last1value', 0.3835022)\n",
      "('last3mean', 0.17534204)\n",
      "('last2sum', 0.06704445)\n",
      "('last3median', -0.064415015)\n",
      "('last14max', -0.03296701)\n",
      "('last2value', -0.03294077)\n",
      "('weight', 0.018288495)\n",
      "('last3min', -0.015065764)\n",
      "('last14std', -0.013607538)\n",
      "('last14min', -0.012635188)\n",
      "('last7min', -0.012374556)\n",
      "('last7mean', -0.01132545)\n",
      "('last7max', 0.010692167)\n",
      "('last7median', -0.010589252)\n",
      "('last14sum', -0.008275344)\n",
      "('last3sum', -0.007773809)\n",
      "('last14mean', -0.007369822)\n",
      "('last3max', 0.005856699)\n",
      "('last3value', -0.0050788736)\n",
      "('day', -0.004551134)\n",
      "('pro2mean14', 0.0030447177)\n",
      "('last7std', -0.002589934)\n",
      "('last14median', -0.002218429)\n",
      "('last3std', -0.0021336535)\n",
      "('geography_level_1', -0.0014696874)\n",
      "('last7sum', -0.0013770126)\n",
      "('week', 0.001257011)\n",
      "('unit', -0.0011221771)\n",
      "('geo3mean14', 0.0010528992)\n",
      "('year', -0.0009949913)\n",
      "('geography_level_3', 0.0009232815)\n",
      "('pro1mean14', 0.0007013759)\n",
      "('pro2median14', 0.00066836434)\n",
      "('geography_level_2', -0.0005149415)\n",
      "('geo1mean14', 0.00027938082)\n",
      "('geo2median14', 0.00024342923)\n",
      "('geo3median14', 0.0002204937)\n",
      "('geo_pro', -0.0002015596)\n",
      "('unit_pro', 0.00016164375)\n",
      "('month', -9.303809e-05)\n",
      "('geo1median14', 9.075912e-05)\n",
      "('product_level_1', 6.530656e-05)\n",
      "('geo2mean14', -6.3041145e-05)\n",
      "('pro1median14', 2.9026267e-05)\n",
      "('product_level_2', -2.6981972e-05)\n",
      "Sum of contributions 8.244256973266602\n"
     ]
    }
   ],
   "source": [
    "i = 1000\n",
    "booster = bst.get_booster()\n",
    "dtrain = xgb.DMatrix(np.array([X_train.iloc[i, :].values]))\n",
    "print('Predicted probability: ' + str(booster.predict(dtrain)))\n",
    "print('Predicted raw value: {}\\n'.format(\n",
    "    booster.predict(dtrain, output_margin=True)))\n",
    "contribs = booster.predict(dtrain, pred_contribs=True)\n",
    "contributions2 = zip(sparse_features + dense_features + ['Bias'], contribs[0])\n",
    "print('Contributions (sorted by absolute value):\\n' + '\\n'.join(str(x)\n",
    "                                                                for x in sorted(contributions2, key=lambda x: abs(x[1]), reverse=True)))\n",
    "print(\"Sum of contributions {}\".format(\n",
    "    booster.predict(dtrain, pred_contribs=True).sum()))"
   ]
  },
  {
   "cell_type": "code",
   "execution_count": 137,
   "id": "6740ed81-e85c-4f43-87a4-81d2d531f7c6",
   "metadata": {
    "tags": []
   },
   "outputs": [
    {
     "data": {
      "image/png": "[encoded data removed]",
      "text/plain": [
       "<Figure size 1440x720 with 1 Axes>"
      ]
     },
     "metadata": {},
     "output_type": "display_data"
    }
   ],
   "source": [
    "def get_xgb_feat_importances(clf, train_features):\n",
    "\n",
    "    if isinstance(clf, xgb.XGBModel):\n",
    "        # clf has been created by calling\n",
    "        # xgb.XGBClassifier.fit() or xgb.XGBRegressor().fit()\n",
    "        fscore = clf.get_booster().get_fscore()\n",
    "    else:\n",
    "        # clf has been created by calling xgb.train.\n",
    "        # Thus, clf is an instance of xgb.Booster.\n",
    "        fscore = clf.get_fscore()\n",
    "    \n",
    "    feat_importances = []\n",
    "    \n",
    "    for feat, value in zip(fscore.keys(), train_features):\n",
    "        feat_importances.append({'Feature': value, 'Importance': fscore[feat]})\n",
    "    \n",
    "    # for ft, score in fscore.items():\n",
    "    #     feat_importances.append({'Feature': ft, 'Importance': score})\n",
    "    feat_importances = pd.DataFrame(feat_importances)\n",
    "    feat_importances = feat_importances.sort_values(\n",
    "        by='Importance', ascending=False).reset_index(drop=True)\n",
    "    # Divide the importances by the sum of all importances\n",
    "    # to get relative importances. By using relative importances\n",
    "    # the sum of all importances will equal to 1, i.e.,\n",
    "    # np.sum(feat_importances['importance']) == 1\n",
    "    feat_importances['Importance'] /= feat_importances['Importance'].sum()\n",
    "    # Print the most important features and their importances\n",
    "    return dict(zip(fscore.keys(), train_features)), feat_importances\n",
    "\n",
    "\n",
    "f, res = get_xgb_feat_importances(bst, sparse_features + dense_features)\n",
    "\n",
    "plt.figure(figsize=(20, 10))\n",
    "plt.barh(range(len(res)), res['Importance'][::-1], tick_label=res['Feature'][::-1])\n",
    "plt.show()"
   ]
  },
  {
   "cell_type": "code",
   "execution_count": 138,
   "id": "d84430e7-6bc7-4749-bcbb-5a0353806961",
   "metadata": {
    "tags": []
   },
   "outputs": [
    {
     "data": {
      "text/plain": [
       "{'f0': 'unit',\n",
       " 'f1': 'year',\n",
       " 'f2': 'month',\n",
       " 'f3': 'day',\n",
       " 'f4': 'week',\n",
       " 'f5': 'geography_level_1',\n",
       " 'f6': 'geography_level_2',\n",
       " 'f7': 'geography_level_3',\n",
       " 'f8': 'product_level_1',\n",
       " 'f9': 'product_level_2',\n",
       " 'f10': 'unit_pro',\n",
       " 'f11': 'geo_pro',\n",
       " 'f12': 'weight',\n",
       " 'f13': 'last14max',\n",
       " 'f14': 'last14min',\n",
       " 'f15': 'last14std',\n",
       " 'f16': 'last14mean',\n",
       " 'f17': 'last14median',\n",
       " 'f18': 'last14sum',\n",
       " 'f19': 'last7max',\n",
       " 'f20': 'last7min',\n",
       " 'f21': 'last7std',\n",
       " 'f22': 'last7mean',\n",
       " 'f23': 'last7median',\n",
       " 'f24': 'last7sum',\n",
       " 'f25': 'last3max',\n",
       " 'f26': 'last3min',\n",
       " 'f27': 'last3std',\n",
       " 'f28': 'last3mean',\n",
       " 'f29': 'last3median',\n",
       " 'f30': 'last3sum',\n",
       " 'f31': 'last3value',\n",
       " 'f32': 'last1value',\n",
       " 'f33': 'last2mean',\n",
       " 'f34': 'last2sum',\n",
       " 'f35': 'last2value',\n",
       " 'f36': 'geo1mean14',\n",
       " 'f37': 'geo2mean14',\n",
       " 'f38': 'geo3mean14',\n",
       " 'f39': 'pro1mean14',\n",
       " 'f40': 'pro2mean14',\n",
       " 'f41': 'geo1median14',\n",
       " 'f42': 'geo2median14',\n",
       " 'f43': 'geo3median14',\n",
       " 'f44': 'pro1median14',\n",
       " 'f45': 'pro2median14'}"
      ]
     },
     "execution_count": 138,
     "metadata": {},
     "output_type": "execute_result"
    }
   ],
   "source": [
    "f"
   ]
  },
  {
   "cell_type": "code",
   "execution_count": 139,
   "id": "b15f61f3-ce7f-462c-8d04-485d476df0bd",
   "metadata": {
    "tags": []
   },
   "outputs": [
    {
     "data": {
      "text/plain": [
       "<Figure size 1440x720 with 0 Axes>"
      ]
     },
     "metadata": {},
     "output_type": "display_data"
    },
    {
     "data": {
      "image/png": "[encoded data removed]",
      "text/plain": [
       "<Figure size 1800x576 with 1 Axes>"
      ]
     },
     "metadata": {},
     "output_type": "display_data"
    }
   ],
   "source": [
    "from xgboost import plot_importance\n",
    "\n",
    "plt.figure(figsize=(20,10))\n",
    "plot_importance(bst, max_num_features=30)\n",
    "plt.show()"
   ]
  },
  {
   "cell_type": "code",
   "execution_count": 140,
   "id": "8c48e4ba-dfc6-4466-b30f-e06869268d69",
   "metadata": {
    "tags": []
   },
   "outputs": [
    {
     "data": {
      "image/png": "[encoded data removed]",
      "text/plain": [
       "<Figure size 1440x720 with 1 Axes>"
      ]
     },
     "metadata": {},
     "output_type": "display_data"
    }
   ],
   "source": [
    "\n",
    "def feature_vis(regressor, train_feature):\n",
    "    importances = regressor.feature_importances_\n",
    "    indices = np.argsort(importances)[::-1]\n",
    "    selected_features = [train_feature[e] for e in indices]\n",
    "    plt.figure(figsize=(20, 10))\n",
    "    plt.title(\"train_feature importances\")\n",
    "    plt.bar(range(len(train_feature)), importances[indices],\n",
    "            color=\"r\", align=\"center\")\n",
    "    plt.xticks(range(len(selected_features)), selected_features, rotation=70)\n",
    "    plt.show()\n",
    "    \n",
    "\n",
    "    \n",
    "feature_vis(bst,  sparse_features + dense_features)\n"
   ]
  },
  {
   "cell_type": "code",
   "execution_count": 141,
   "id": "6e24ce3a-8262-4130-b7d9-e61b8d8d5742",
   "metadata": {
    "tags": []
   },
   "outputs": [],
   "source": [
    "# plot the model result\n",
    "\n",
    "data = X_test.copy()\n",
    "data['qty'] = np.expm1(y_test)\n",
    "data['pre_qty'] = np.expm1(pre)"
   ]
  },
  {
   "cell_type": "code",
   "execution_count": 142,
   "id": "9caf5952-afac-4812-b0f6-fcc3a68b1521",
   "metadata": {
    "tags": []
   },
   "outputs": [
    {
     "data": {
      "text/html": [
       "<div>\n",
       "<style scoped>\n",
       "    .dataframe tbody tr th:only-of-type {\n",
       "        vertical-align: middle;\n",
       "    }\n",
       "\n",
       "    .dataframe tbody tr th {\n",
       "        vertical-align: top;\n",
       "    }\n",
       "\n",
       "    .dataframe thead th {\n",
       "        text-align: right;\n",
       "    }\n",
       "</style>\n",
       "<table border=\"1\" class=\"dataframe\">\n",
       "  <thead>\n",
       "    <tr style=\"text-align: right;\">\n",
       "      <th></th>\n",
       "      <th>unit</th>\n",
       "      <th>year</th>\n",
       "      <th>month</th>\n",
       "      <th>day</th>\n",
       "      <th>week</th>\n",
       "      <th>geography_level_1</th>\n",
       "      <th>geography_level_2</th>\n",
       "      <th>geography_level_3</th>\n",
       "      <th>product_level_1</th>\n",
       "      <th>product_level_2</th>\n",
       "      <th>...</th>\n",
       "      <th>geo3mean14</th>\n",
       "      <th>pro1mean14</th>\n",
       "      <th>pro2mean14</th>\n",
       "      <th>geo1median14</th>\n",
       "      <th>geo2median14</th>\n",
       "      <th>geo3median14</th>\n",
       "      <th>pro1median14</th>\n",
       "      <th>pro2median14</th>\n",
       "      <th>qty</th>\n",
       "      <th>pre_qty</th>\n",
       "    </tr>\n",
       "  </thead>\n",
       "  <tbody>\n",
       "    <tr>\n",
       "      <th>1002</th>\n",
       "      <td>386</td>\n",
       "      <td>2021</td>\n",
       "      <td>3</td>\n",
       "      <td>2</td>\n",
       "      <td>1</td>\n",
       "      <td>5</td>\n",
       "      <td>12</td>\n",
       "      <td>11</td>\n",
       "      <td>1</td>\n",
       "      <td>6</td>\n",
       "      <td>...</td>\n",
       "      <td>7709.537254</td>\n",
       "      <td>20193.916072</td>\n",
       "      <td>19104.613245</td>\n",
       "      <td>705.998806</td>\n",
       "      <td>1539.003635</td>\n",
       "      <td>5733.833333</td>\n",
       "      <td>16845.4902</td>\n",
       "      <td>16623.2496</td>\n",
       "      <td>15624.4286</td>\n",
       "      <td>15485.251953</td>\n",
       "    </tr>\n",
       "    <tr>\n",
       "      <th>2102</th>\n",
       "      <td>463</td>\n",
       "      <td>2021</td>\n",
       "      <td>3</td>\n",
       "      <td>2</td>\n",
       "      <td>1</td>\n",
       "      <td>0</td>\n",
       "      <td>3</td>\n",
       "      <td>75</td>\n",
       "      <td>1</td>\n",
       "      <td>6</td>\n",
       "      <td>...</td>\n",
       "      <td>13567.202840</td>\n",
       "      <td>20193.916072</td>\n",
       "      <td>19104.613245</td>\n",
       "      <td>2784.529622</td>\n",
       "      <td>4174.833333</td>\n",
       "      <td>4980.000000</td>\n",
       "      <td>16845.4902</td>\n",
       "      <td>16623.2496</td>\n",
       "      <td>40947.1266</td>\n",
       "      <td>40688.589844</td>\n",
       "    </tr>\n",
       "    <tr>\n",
       "      <th>3202</th>\n",
       "      <td>273</td>\n",
       "      <td>2021</td>\n",
       "      <td>3</td>\n",
       "      <td>2</td>\n",
       "      <td>1</td>\n",
       "      <td>0</td>\n",
       "      <td>10</td>\n",
       "      <td>7</td>\n",
       "      <td>1</td>\n",
       "      <td>6</td>\n",
       "      <td>...</td>\n",
       "      <td>11241.741821</td>\n",
       "      <td>20193.916072</td>\n",
       "      <td>19104.613245</td>\n",
       "      <td>2784.529622</td>\n",
       "      <td>3385.894911</td>\n",
       "      <td>7220.000000</td>\n",
       "      <td>16845.4902</td>\n",
       "      <td>16623.2496</td>\n",
       "      <td>1820.5290</td>\n",
       "      <td>1813.172241</td>\n",
       "    </tr>\n",
       "    <tr>\n",
       "      <th>4302</th>\n",
       "      <td>520</td>\n",
       "      <td>2021</td>\n",
       "      <td>3</td>\n",
       "      <td>2</td>\n",
       "      <td>1</td>\n",
       "      <td>1</td>\n",
       "      <td>11</td>\n",
       "      <td>23</td>\n",
       "      <td>1</td>\n",
       "      <td>6</td>\n",
       "      <td>...</td>\n",
       "      <td>14139.311932</td>\n",
       "      <td>20193.916072</td>\n",
       "      <td>19104.613245</td>\n",
       "      <td>2154.072808</td>\n",
       "      <td>2187.187500</td>\n",
       "      <td>2961.583333</td>\n",
       "      <td>16845.4902</td>\n",
       "      <td>16623.2496</td>\n",
       "      <td>36673.2452</td>\n",
       "      <td>36644.664062</td>\n",
       "    </tr>\n",
       "    <tr>\n",
       "      <th>5402</th>\n",
       "      <td>480</td>\n",
       "      <td>2021</td>\n",
       "      <td>3</td>\n",
       "      <td>2</td>\n",
       "      <td>1</td>\n",
       "      <td>7</td>\n",
       "      <td>4</td>\n",
       "      <td>76</td>\n",
       "      <td>1</td>\n",
       "      <td>6</td>\n",
       "      <td>...</td>\n",
       "      <td>7275.798457</td>\n",
       "      <td>20193.916072</td>\n",
       "      <td>19104.613245</td>\n",
       "      <td>1246.500000</td>\n",
       "      <td>1246.500000</td>\n",
       "      <td>3289.083333</td>\n",
       "      <td>16845.4902</td>\n",
       "      <td>16623.2496</td>\n",
       "      <td>16863.3902</td>\n",
       "      <td>16996.164062</td>\n",
       "    </tr>\n",
       "  </tbody>\n",
       "</table>\n",
       "<p>5 rows × 48 columns</p>\n",
       "</div>"
      ],
      "text/plain": [
       "      unit  year  month  day  week  geography_level_1  geography_level_2  \\\n",
       "1002   386  2021      3    2     1                  5                 12   \n",
       "2102   463  2021      3    2     1                  0                  3   \n",
       "3202   273  2021      3    2     1                  0                 10   \n",
       "4302   520  2021      3    2     1                  1                 11   \n",
       "5402   480  2021      3    2     1                  7                  4   \n",
       "\n",
       "      geography_level_3  product_level_1  product_level_2  ...    geo3mean14  \\\n",
       "1002                 11                1                6  ...   7709.537254   \n",
       "2102                 75                1                6  ...  13567.202840   \n",
       "3202                  7                1                6  ...  11241.741821   \n",
       "4302                 23                1                6  ...  14139.311932   \n",
       "5402                 76                1                6  ...   7275.798457   \n",
       "\n",
       "        pro1mean14    pro2mean14  geo1median14  geo2median14  geo3median14  \\\n",
       "1002  20193.916072  19104.613245    705.998806   1539.003635   5733.833333   \n",
       "2102  20193.916072  19104.613245   2784.529622   4174.833333   4980.000000   \n",
       "3202  20193.916072  19104.613245   2784.529622   3385.894911   7220.000000   \n",
       "4302  20193.916072  19104.613245   2154.072808   2187.187500   2961.583333   \n",
       "5402  20193.916072  19104.613245   1246.500000   1246.500000   3289.083333   \n",
       "\n",
       "      pro1median14  pro2median14         qty       pre_qty  \n",
       "1002    16845.4902    16623.2496  15624.4286  15485.251953  \n",
       "2102    16845.4902    16623.2496  40947.1266  40688.589844  \n",
       "3202    16845.4902    16623.2496   1820.5290   1813.172241  \n",
       "4302    16845.4902    16623.2496  36673.2452  36644.664062  \n",
       "5402    16845.4902    16623.2496  16863.3902  16996.164062  \n",
       "\n",
       "[5 rows x 48 columns]"
      ]
     },
     "execution_count": 142,
     "metadata": {},
     "output_type": "execute_result"
    }
   ],
   "source": [
    "data.head()"
   ]
  },
  {
   "cell_type": "code",
   "execution_count": 143,
   "id": "bb963f0c-019d-428d-854d-27203d4adf39",
   "metadata": {
    "tags": []
   },
   "outputs": [
    {
     "data": {
      "image/png": "[encoded data removed]",
      "text/plain": [
       "<Figure size 1080x432 with 1 Axes>"
      ]
     },
     "metadata": {},
     "output_type": "display_data"
    },
    {
     "data": {
      "image/png": "[encoded data removed]",
      "text/plain": [
       "<Figure size 1080x432 with 1 Axes>"
      ]
     },
     "metadata": {},
     "output_type": "display_data"
    },
    {
     "data": {
      "image/png": "[encoded data removed]",
      "text/plain": [
       "<Figure size 1080x432 with 1 Axes>"
      ]
     },
     "metadata": {},
     "output_type": "display_data"
    },
    {
     "data": {
      "image/png": "[encoded data removed]",
      "text/plain": [
       "<Figure size 1080x432 with 1 Axes>"
      ]
     },
     "metadata": {},
     "output_type": "display_data"
    },
    {
     "data": {
      "image/png": "[encoded data removed]",
      "text/plain": [
       "<Figure size 1080x432 with 1 Axes>"
      ]
     },
     "metadata": {},
     "output_type": "display_data"
    },
    {
     "data": {
      "image/png": "[encoded data removed]",
      "text/plain": [
       "<Figure size 1080x432 with 1 Axes>"
      ]
     },
     "metadata": {},
     "output_type": "display_data"
    },
    {
     "data": {
      "text/html": [
       "<div>\n",
       "<style scoped>\n",
       "    .dataframe tbody tr th:only-of-type {\n",
       "        vertical-align: middle;\n",
       "    }\n",
       "\n",
       "    .dataframe tbody tr th {\n",
       "        vertical-align: top;\n",
       "    }\n",
       "\n",
       "    .dataframe thead th {\n",
       "        text-align: right;\n",
       "    }\n",
       "</style>\n",
       "<table border=\"1\" class=\"dataframe\">\n",
       "  <thead>\n",
       "    <tr style=\"text-align: right;\">\n",
       "      <th></th>\n",
       "    </tr>\n",
       "  </thead>\n",
       "  <tbody>\n",
       "  </tbody>\n",
       "</table>\n",
       "</div>"
      ],
      "text/plain": [
       "Empty DataFrame\n",
       "Columns: []\n",
       "Index: []"
      ]
     },
     "execution_count": 143,
     "metadata": {},
     "output_type": "execute_result"
    }
   ],
   "source": [
    "def date_trend(data):\n",
    "    val = data.sort_values(\n",
    "        by=['year', 'month', 'day'], ascending=True).reset_index(drop=True)\n",
    "    \n",
    "    val[\"date\"] = val.apply(lambda x: f\"{int(x['year'])}-{int(x['month'])}-{int(x['day'])}\", axis=1)\n",
    "    val[\"date\"] = val[\"date\"].apply(lambda x: pd.to_datetime(x))\n",
    "\n",
    "    if val.unit.values[0] in [497, 81, 9, 285, 554, 315]:\n",
    "        plt.figure(figsize=(15, 6))\n",
    "        l1 = plt.plot(val.date, val['qty'], 'o', label='raw_data')\n",
    "        l2 = plt.plot(val.date, val['pre_qty'], 'ro', label=\"pre_data\")\n",
    "        plt.legend()\n",
    "        # plt.plot(val.date, val['qty'], 'o', val.date, val['pre_qty'], 'ro')\n",
    "        plt.title(str(val.unit.values[0]))\n",
    "        plt.show()\n",
    "    \n",
    "\n",
    "\n",
    "data.groupby('unit').apply(date_trend)"
   ]
  },
  {
   "cell_type": "code",
   "execution_count": 144,
   "id": "27dc397d-e7a9-4943-ab37-f72e00f008e6",
   "metadata": {
    "tags": []
   },
   "outputs": [],
   "source": [
    "val = data.groupby('unit').get_group(497).sort_values(\n",
    "        by=['year', 'month', 'day'], ascending=True).reset_index(drop=True)"
   ]
  },
  {
   "cell_type": "code",
   "execution_count": 145,
   "id": "b1a40d45-734d-4b7f-8afe-68ebaadd969c",
   "metadata": {
    "tags": []
   },
   "outputs": [],
   "source": [
    "val[\"date\"] = val.apply(lambda x: f\"{int(x['year'])}-{int(x['month'])}-{int(x['day'])}\", axis=1)"
   ]
  },
  {
   "cell_type": "code",
   "execution_count": 146,
   "id": "46995a90-d2eb-4b0d-a102-43a0f8327f0f",
   "metadata": {
    "tags": []
   },
   "outputs": [],
   "source": [
    "val[\"date\"] = val[\"date\"].apply(lambda x: pd.to_datetime(x))"
   ]
  },
  {
   "cell_type": "code",
   "execution_count": 147,
   "id": "7a496a00-e6ed-42cf-9f87-4cb48646b158",
   "metadata": {
    "tags": []
   },
   "outputs": [
    {
     "data": {
      "image/png": "[encoded data removed]",
      "text/plain": [
       "<Figure size 1440x720 with 1 Axes>"
      ]
     },
     "metadata": {},
     "output_type": "display_data"
    }
   ],
   "source": [
    "\n",
    "plt.figure(figsize=(20, 10))\n",
    "plt.plot(val.date, val['qty'], 'o', val.date, val['pre_qty'], 'ro')\n",
    "plt.title(\"497\")\n",
    "plt.show()"
   ]
  },
  {
   "cell_type": "code",
   "execution_count": null,
   "id": "8926ab28-b7d5-4ae8-ae88-b04c6fadf95e",
   "metadata": {},
   "outputs": [],
   "source": [
    "\n"
   ]
  },
  {
   "cell_type": "code",
   "execution_count": null,
   "id": "a3186cfc-254a-4a84-bd53-c114743b55ff",
   "metadata": {},
   "outputs": [],
   "source": []
  },
  {
   "cell_type": "code",
   "execution_count": null,
   "id": "4f11de4e-2e50-45a8-b642-b656d8892b0b",
   "metadata": {},
   "outputs": [],
   "source": []
  },
  {
   "cell_type": "markdown",
   "id": "a72d9597-764c-420e-9023-6db8fbebe88c",
   "metadata": {
    "tags": []
   },
   "source": [
    "## 3.2 LightGBM"
   ]
  },
  {
   "cell_type": "code",
   "execution_count": 34,
   "id": "62dcc63e-a707-4a20-95b5-09eb917c7281",
   "metadata": {
    "execution": {
     "iopub.execute_input": "2022-06-15T08:01:37.177606Z",
     "iopub.status.busy": "2022-06-15T08:01:37.176604Z",
     "iopub.status.idle": "2022-06-15T08:01:37.198604Z",
     "shell.execute_reply": "2022-06-15T08:01:37.196607Z",
     "shell.execute_reply.started": "2022-06-15T08:01:37.177606Z"
    },
    "tags": []
   },
   "outputs": [],
   "source": [
    "import lightgbm as lgb\n",
    "from lightgbm import plot_importance"
   ]
  },
  {
   "cell_type": "code",
   "execution_count": 36,
   "id": "cfbe7a69-083d-4758-a4ee-9aa6b557fb3e",
   "metadata": {
    "execution": {
     "iopub.execute_input": "2022-06-15T08:04:01.208539Z",
     "iopub.status.busy": "2022-06-15T08:04:01.207541Z",
     "iopub.status.idle": "2022-06-15T08:04:01.225541Z",
     "shell.execute_reply": "2022-06-15T08:04:01.222544Z",
     "shell.execute_reply.started": "2022-06-15T08:04:01.208539Z"
    }
   },
   "outputs": [
    {
     "name": "stdout",
     "output_type": "stream",
     "text": [
      "<lightgbm.basic.Dataset object at 0x000002522E7D7F10>\n"
     ]
    }
   ],
   "source": [
    "\n",
    "# 构造训练集\n",
    "dtrain = lgb.Dataset(X_train,y_train)\n",
    "dtest = lgb.Dataset(X_test,y_test)\n",
    "\n",
    "print(dtrain)"
   ]
  },
  {
   "cell_type": "code",
   "execution_count": 38,
   "id": "e818173e-71a0-40c3-ab35-d210af2e5093",
   "metadata": {
    "execution": {
     "iopub.execute_input": "2022-06-15T08:04:52.683377Z",
     "iopub.status.busy": "2022-06-15T08:04:52.681374Z",
     "iopub.status.idle": "2022-06-15T08:06:19.796221Z",
     "shell.execute_reply": "2022-06-15T08:06:19.793217Z",
     "shell.execute_reply.started": "2022-06-15T08:04:52.683377Z"
    },
    "tags": []
   },
   "outputs": [
    {
     "name": "stdout",
     "output_type": "stream",
     "text": [
      "[LightGBM] [Warning] Unknown parameter: booster\n",
      "[LightGBM] [Warning] Unknown parameter: 0.01\n",
      "[LightGBM] [Warning] Unknown parameter: 0.8\n",
      "[LightGBM] [Warning] Unknown parameter: slient\n",
      "[LightGBM] [Warning] Unknown parameter: booster\n",
      "[LightGBM] [Warning] Unknown parameter: 0.01\n",
      "[LightGBM] [Warning] Unknown parameter: 0.8\n",
      "[LightGBM] [Warning] Unknown parameter: slient\n",
      "[LightGBM] [Warning] Auto-choosing col-wise multi-threading, the overhead of testing was 0.402619 seconds.\n",
      "You can set `force_col_wise=true` to remove the overhead.\n",
      "[LightGBM] [Info] Total Bins 8981\n",
      "[LightGBM] [Info] Number of data points in the train set: 275311, number of used features: 44\n",
      "[LightGBM] [Warning] Unknown parameter: booster\n",
      "[LightGBM] [Warning] Unknown parameter: 0.01\n",
      "[LightGBM] [Warning] Unknown parameter: 0.8\n",
      "[LightGBM] [Warning] Unknown parameter: slient\n",
      "[LightGBM] [Info] Start training from score 7.062420\n",
      "Training until validation scores don't improve for 100 rounds\n",
      "[100]\ttraining's l2: 0.00480988\tvalid_1's l2: 0.00552652\n",
      "[200]\ttraining's l2: 0.00383067\tvalid_1's l2: 0.00551921\n",
      "Early stopping, best iteration is:\n",
      "[158]\ttraining's l2: 0.00415603\tvalid_1's l2: 0.00548341\n"
     ]
    }
   ],
   "source": [
    "params = {\n",
    "    'booster': 'gbtree',\n",
    "    'objective': 'regression',\n",
    "    'num_leaves': 31,\n",
    "    'subsample': 0.8,\n",
    "    'bagging_freq': 1,\n",
    "    'feature_fraction ': 0.8,\n",
    "    'slient': 1,\n",
    "    'learning_rate ': 0.1,\n",
    "    'seed': 0\n",
    "}\n",
    "\n",
    "num_rounds = 500\n",
    "\n",
    "# xgboost模型训练\n",
    "lgbmodel = lgb.train(params,dtrain, num_rounds, valid_sets=[dtrain, dtest], \n",
    "                  verbose_eval=100, early_stopping_rounds=100)"
   ]
  },
  {
   "cell_type": "code",
   "execution_count": 39,
   "id": "462faef4-ef4e-4fac-8e39-d6e5fa9fcb3a",
   "metadata": {
    "execution": {
     "iopub.execute_input": "2022-06-15T08:06:59.331734Z",
     "iopub.status.busy": "2022-06-15T08:06:59.330735Z",
     "iopub.status.idle": "2022-06-15T08:07:00.002733Z",
     "shell.execute_reply": "2022-06-15T08:06:59.999735Z",
     "shell.execute_reply.started": "2022-06-15T08:06:59.331734Z"
    }
   },
   "outputs": [],
   "source": [
    "# 对测试集进行预测\n",
    "pre_lgb = lgbmodel.predict(X_test)"
   ]
  },
  {
   "cell_type": "code",
   "execution_count": 40,
   "id": "27b405d8-9048-46c7-9603-353e0f1d766b",
   "metadata": {
    "execution": {
     "iopub.execute_input": "2022-06-15T08:07:16.131831Z",
     "iopub.status.busy": "2022-06-15T08:07:16.129830Z",
     "iopub.status.idle": "2022-06-15T08:07:16.182829Z",
     "shell.execute_reply": "2022-06-15T08:07:16.179833Z",
     "shell.execute_reply.started": "2022-06-15T08:07:16.131831Z"
    },
    "tags": []
   },
   "outputs": [
    {
     "name": "stdout",
     "output_type": "stream",
     "text": [
      "mae: 0.018923955297323495\n",
      "mae: 81.15812502488455\n",
      "rmse: 307.6095513832293\n"
     ]
    }
   ],
   "source": [
    "# def mape(y_true, y_pred):\n",
    "#     return np.mean(np.abs((y_pred - y_true) / y_true)) * 100\n",
    "\n",
    "# mape = mape(np.expm1(y_test.reshape(-1)), np.expm1(pre))\n",
    "# print(\"MAPE is: {}\".format(mape))\n",
    "\n",
    "from sklearn.metrics import mean_absolute_error, mean_squared_error\n",
    "mae_norm = mean_absolute_error(y_test.values, pre_lgb)  # 归一化后的值\n",
    "mae = mean_absolute_error(np.expm1(y_test.values), np.expm1(pre_lgb))\n",
    "\n",
    "\n",
    "rmse = np.sqrt(mean_squared_error(np.expm1(y_test.values), np.expm1(pre_lgb)))\n",
    "\n",
    "print(\"mae:\",mae_norm)\n",
    "print(\"mae:\",mae)\n",
    "print(\"rmse:\",rmse)\n"
   ]
  },
  {
   "cell_type": "code",
   "execution_count": 46,
   "id": "e09913c2-f793-4bd3-a7fe-c0432b9d51de",
   "metadata": {
    "execution": {
     "iopub.execute_input": "2022-06-15T08:11:11.524656Z",
     "iopub.status.busy": "2022-06-15T08:11:11.522657Z",
     "iopub.status.idle": "2022-06-15T08:11:14.115654Z",
     "shell.execute_reply": "2022-06-15T08:11:14.113652Z",
     "shell.execute_reply.started": "2022-06-15T08:11:11.524656Z"
    },
    "tags": []
   },
   "outputs": [
    {
     "data": {
      "text/plain": [
       "<Figure size 1440x720 with 0 Axes>"
      ]
     },
     "metadata": {},
     "output_type": "display_data"
    },
    {
     "data": {
      "image/png": "[encoded data removed]",
      "text/plain": [
       "<Figure size 432x288 with 1 Axes>"
      ]
     },
     "metadata": {
      "needs_background": "light"
     },
     "output_type": "display_data"
    }
   ],
   "source": [
    "# 显示重要特征\n",
    "plt.figure(figsize=(20,10))\n",
    "plot_importance(lgbmodel, max_num_features=30)\n",
    "plt.show()"
   ]
  },
  {
   "cell_type": "code",
   "execution_count": 48,
   "id": "9c5f4523-4140-4bf2-92ae-1bd970460224",
   "metadata": {
    "execution": {
     "iopub.execute_input": "2022-06-15T08:14:28.094384Z",
     "iopub.status.busy": "2022-06-15T08:14:28.092385Z",
     "iopub.status.idle": "2022-06-15T08:15:48.431566Z",
     "shell.execute_reply": "2022-06-15T08:15:48.428568Z",
     "shell.execute_reply.started": "2022-06-15T08:14:28.094384Z"
    },
    "tags": []
   },
   "outputs": [
    {
     "data": {
      "image/png": "[encoded data removed]",
      "text/plain": [
       "<Figure size 1080x432 with 1 Axes>"
      ]
     },
     "metadata": {
      "needs_background": "light"
     },
     "output_type": "display_data"
    },
    {
     "data": {
      "image/png": "[encoded data removed]",
      "text/plain": [
       "<Figure size 1080x432 with 1 Axes>"
      ]
     },
     "metadata": {
      "needs_background": "light"
     },
     "output_type": "display_data"
    },
    {
     "data": {
      "image/png": "[encoded data removed]",
      "text/plain": [
       "<Figure size 1080x432 with 1 Axes>"
      ]
     },
     "metadata": {
      "needs_background": "light"
     },
     "output_type": "display_data"
    },
    {
     "data": {
      "image/png": "[encoded data removed]",
      "text/plain": [
       "<Figure size 1080x432 with 1 Axes>"
      ]
     },
     "metadata": {
      "needs_background": "light"
     },
     "output_type": "display_data"
    },
    {
     "data": {
      "image/png": "[encoded data removed]",
      "text/plain": [
       "<Figure size 1080x432 with 1 Axes>"
      ]
     },
     "metadata": {
      "needs_background": "light"
     },
     "output_type": "display_data"
    },
    {
     "data": {
      "image/png": "[encoded data removed]",
      "text/plain": [
       "<Figure size 1080x432 with 1 Axes>"
      ]
     },
     "metadata": {
      "needs_background": "light"
     },
     "output_type": "display_data"
    },
    {
     "data": {
      "text/html": [
       "<div>\n",
       "<style scoped>\n",
       "    .dataframe tbody tr th:only-of-type {\n",
       "        vertical-align: middle;\n",
       "    }\n",
       "\n",
       "    .dataframe tbody tr th {\n",
       "        vertical-align: top;\n",
       "    }\n",
       "\n",
       "    .dataframe thead th {\n",
       "        text-align: right;\n",
       "    }\n",
       "</style>\n",
       "<table border=\"1\" class=\"dataframe\">\n",
       "  <thead>\n",
       "    <tr style=\"text-align: right;\">\n",
       "      <th></th>\n",
       "    </tr>\n",
       "  </thead>\n",
       "  <tbody>\n",
       "  </tbody>\n",
       "</table>\n",
       "</div>"
      ],
      "text/plain": [
       "Empty DataFrame\n",
       "Columns: []\n",
       "Index: []"
      ]
     },
     "execution_count": 48,
     "metadata": {},
     "output_type": "execute_result"
    }
   ],
   "source": [
    "# plot the model result\n",
    "\n",
    "data = X_test.copy()\n",
    "data['qty'] = np.expm1(y_test)\n",
    "data['pre_qty'] = np.expm1(pre_lgb)\n",
    "\n",
    "data.groupby('unit').apply(date_trend)"
   ]
  },
  {
   "cell_type": "code",
   "execution_count": 52,
   "id": "f13eb3a4-4661-4371-9566-bb14873949fe",
   "metadata": {
    "execution": {
     "iopub.execute_input": "2022-06-15T08:20:48.134226Z",
     "iopub.status.busy": "2022-06-15T08:20:48.132228Z",
     "iopub.status.idle": "2022-06-15T08:20:48.194226Z",
     "shell.execute_reply": "2022-06-15T08:20:48.192223Z",
     "shell.execute_reply.started": "2022-06-15T08:20:48.134226Z"
    },
    "tags": []
   },
   "outputs": [
    {
     "data": {
      "text/html": [
       "<div>\n",
       "<style scoped>\n",
       "    .dataframe tbody tr th:only-of-type {\n",
       "        vertical-align: middle;\n",
       "    }\n",
       "\n",
       "    .dataframe tbody tr th {\n",
       "        vertical-align: top;\n",
       "    }\n",
       "\n",
       "    .dataframe thead th {\n",
       "        text-align: right;\n",
       "    }\n",
       "</style>\n",
       "<table border=\"1\" class=\"dataframe\">\n",
       "  <thead>\n",
       "    <tr style=\"text-align: right;\">\n",
       "      <th></th>\n",
       "      <th>qty</th>\n",
       "      <th>pre_qty</th>\n",
       "      <th>xgb_pre_qty</th>\n",
       "    </tr>\n",
       "  </thead>\n",
       "  <tbody>\n",
       "    <tr>\n",
       "      <th>328733</th>\n",
       "      <td>17350.229492</td>\n",
       "      <td>17050.775870</td>\n",
       "      <td>17381.859375</td>\n",
       "    </tr>\n",
       "    <tr>\n",
       "      <th>571375</th>\n",
       "      <td>1318.336046</td>\n",
       "      <td>1315.011795</td>\n",
       "      <td>1337.043335</td>\n",
       "    </tr>\n",
       "    <tr>\n",
       "      <th>504732</th>\n",
       "      <td>53285.144800</td>\n",
       "      <td>54809.753678</td>\n",
       "      <td>53362.332031</td>\n",
       "    </tr>\n",
       "    <tr>\n",
       "      <th>572271</th>\n",
       "      <td>391.000000</td>\n",
       "      <td>395.998578</td>\n",
       "      <td>389.578491</td>\n",
       "    </tr>\n",
       "    <tr>\n",
       "      <th>100498</th>\n",
       "      <td>8023.032800</td>\n",
       "      <td>7925.544866</td>\n",
       "      <td>7982.210938</td>\n",
       "    </tr>\n",
       "    <tr>\n",
       "      <th>...</th>\n",
       "      <td>...</td>\n",
       "      <td>...</td>\n",
       "      <td>...</td>\n",
       "    </tr>\n",
       "    <tr>\n",
       "      <th>595222</th>\n",
       "      <td>362.666667</td>\n",
       "      <td>360.837127</td>\n",
       "      <td>361.036011</td>\n",
       "    </tr>\n",
       "    <tr>\n",
       "      <th>548035</th>\n",
       "      <td>7899.236654</td>\n",
       "      <td>7878.007697</td>\n",
       "      <td>7897.741211</td>\n",
       "    </tr>\n",
       "    <tr>\n",
       "      <th>371998</th>\n",
       "      <td>9151.666667</td>\n",
       "      <td>9143.002585</td>\n",
       "      <td>9188.644531</td>\n",
       "    </tr>\n",
       "    <tr>\n",
       "      <th>517264</th>\n",
       "      <td>385.833333</td>\n",
       "      <td>389.723144</td>\n",
       "      <td>387.882538</td>\n",
       "    </tr>\n",
       "    <tr>\n",
       "      <th>625326</th>\n",
       "      <td>34525.666667</td>\n",
       "      <td>34243.753272</td>\n",
       "      <td>34711.792969</td>\n",
       "    </tr>\n",
       "  </tbody>\n",
       "</table>\n",
       "<p>68828 rows × 3 columns</p>\n",
       "</div>"
      ],
      "text/plain": [
       "                 qty       pre_qty   xgb_pre_qty\n",
       "328733  17350.229492  17050.775870  17381.859375\n",
       "571375   1318.336046   1315.011795   1337.043335\n",
       "504732  53285.144800  54809.753678  53362.332031\n",
       "572271    391.000000    395.998578    389.578491\n",
       "100498   8023.032800   7925.544866   7982.210938\n",
       "...              ...           ...           ...\n",
       "595222    362.666667    360.837127    361.036011\n",
       "548035   7899.236654   7878.007697   7897.741211\n",
       "371998   9151.666667   9143.002585   9188.644531\n",
       "517264    385.833333    389.723144    387.882538\n",
       "625326  34525.666667  34243.753272  34711.792969\n",
       "\n",
       "[68828 rows x 3 columns]"
      ]
     },
     "execution_count": 52,
     "metadata": {},
     "output_type": "execute_result"
    }
   ],
   "source": [
    "prev = data[['qty', 'pre_qty']].copy()\n",
    "prev['xgb_pre_qty'] = np.expm1(pre)\n",
    "prev"
   ]
  },
  {
   "cell_type": "code",
   "execution_count": null,
   "id": "60b6ddb2-64f6-457d-bfff-02f9a2277140",
   "metadata": {},
   "outputs": [],
   "source": []
  },
  {
   "cell_type": "code",
   "execution_count": null,
   "id": "4cab638e-cfba-40dc-b907-80cfe2bcd5d5",
   "metadata": {},
   "outputs": [],
   "source": []
  },
  {
   "cell_type": "markdown",
   "id": "acda3b75-57a1-4324-8293-c1293d3f9c8e",
   "metadata": {
    "tags": []
   },
   "source": [
    "## 3.3 autox\n"
   ]
  },
  {
   "cell_type": "code",
   "execution_count": null,
   "id": "f69fb2da-4a95-49d0-a61b-a511268446c4",
   "metadata": {},
   "outputs": [],
   "source": []
  },
  {
   "cell_type": "code",
   "execution_count": null,
   "id": "5191324b-8658-4c04-9638-ac0176b69b64",
   "metadata": {},
   "outputs": [],
   "source": [
    "# 使用了xgboost 和 lightgbm两者之间进行了融合\n",
    "\n",
    "# 模型预测\n",
    "predict_lgb = model_lgb.predict(test, used_features)\n",
    "predict_xgb = model_xgb.predict(test, used_features)\n",
    "# predict_cat = model_cat.predict(test, used_features)\n",
    "# predict_tabnet = model_tabnet.predict(test[used_features])\n",
    "# predict = (predict_xgb + predict_lgb + predict_cat) / 3\n",
    "predict = (predict_xgb * 0.5 + predict_lgb * 0.5)\n",
    "\n"
   ]
  },
  {
   "cell_type": "code",
   "execution_count": null,
   "id": "11e38302-2b1a-46ae-a847-11c2655d0f4d",
   "metadata": {},
   "outputs": [],
   "source": []
  },
  {
   "cell_type": "code",
   "execution_count": null,
   "id": "91f8d691-fb68-4aa3-ab1c-885d45a62761",
   "metadata": {},
   "outputs": [],
   "source": []
  },
  {
   "cell_type": "markdown",
   "id": "e8c23ec3-bb4c-40c5-b858-93ef715c33e1",
   "metadata": {},
   "source": [
    "## 3.4 ARIMA"
   ]
  },
  {
   "cell_type": "markdown",
   "id": "21e23487-2d40-4e0d-ae3e-7514796a9944",
   "metadata": {},
   "source": [
    "- 1 使用ARIMA 训练样本 train [2018/6/4 - 2021/3/1]， 分成不同的unit, 分别预测 train [2018/6/4 - 2021/3/1] 的结果\n",
    "- 2 由于有的unit会存在 在训练集中该时间段NaN，于是不考虑这些值。\n",
    "- 3 用真是值 - 预测值，然后下游利用 xgboos等模型做回归。"
   ]
  },
  {
   "cell_type": "code",
   "execution_count": null,
   "id": "fc843743-24bc-434d-93bd-599217d0f01a",
   "metadata": {},
   "outputs": [],
   "source": []
  }
 ],
 "metadata": {
  "kernelspec": {
   "display_name": "py38",
   "language": "python",
   "name": "py38"
  },
  "language_info": {
   "codemirror_mode": {
    "name": "ipython",
    "version": 3
   },
   "file_extension": ".py",
   "mimetype": "text/x-python",
   "name": "python",
   "nbconvert_exporter": "python",
   "pygments_lexer": "ipython3",
   "version": "3.8.13"
  },
  "toc-autonumbering": false,
  "toc-showcode": false,
  "toc-showmarkdowntxt": false
 },
 "nbformat": 4,
 "nbformat_minor": 5
}
