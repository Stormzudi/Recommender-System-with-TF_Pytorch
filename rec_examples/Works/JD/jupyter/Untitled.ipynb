{
 "cells": [
  {
   "cell_type": "code",
   "execution_count": 1,
   "id": "08e957cd-ee8e-4546-9d74-a6109ab8bd62",
   "metadata": {
    "execution": {
     "iopub.execute_input": "2022-06-21T12:29:03.165476Z",
     "iopub.status.busy": "2022-06-21T12:29:03.164477Z",
     "iopub.status.idle": "2022-06-21T12:29:03.515477Z",
     "shell.execute_reply": "2022-06-21T12:29:03.513473Z",
     "shell.execute_reply.started": "2022-06-21T12:29:03.165476Z"
    },
    "tags": []
   },
   "outputs": [
    {
     "name": "stdout",
     "output_type": "stream",
     "text": [
      "Python 3.8.8\n"
     ]
    }
   ],
   "source": [
    "!python --version"
   ]
  },
  {
   "cell_type": "code",
   "execution_count": null,
   "id": "2f0f11f4-6efc-45bc-bc18-2988aaa20028",
   "metadata": {},
   "outputs": [],
   "source": []
  }
 ],
 "metadata": {
  "kernelspec": {
   "display_name": "python38",
   "language": "python",
   "name": "python38"
  },
  "language_info": {
   "codemirror_mode": {
    "name": "ipython",
    "version": 3
   },
   "file_extension": ".py",
   "mimetype": "text/x-python",
   "name": "python",
   "nbconvert_exporter": "python",
   "pygments_lexer": "ipython3",
   "version": "3.8.13"
  }
 },
 "nbformat": 4,
 "nbformat_minor": 5
}
