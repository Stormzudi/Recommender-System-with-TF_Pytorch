{
 "cells": [
  {
   "cell_type": "markdown",
   "metadata": {},
   "source": [
    "# 训练xgboost 做回归问题\n",
    "\n",
    "（1）训练样本：  <br>\n",
    "（2）验证样本：\n",
    "\n",
    "\n",
    "参考链接：<br>\n",
    "[1] https://zhuanlan.zhihu.com/p/330578814<br>\n",
    "[2] https://www.kaggle.com/naidubhavya/insurance-claims-severity-prediction <br>\n",
    "\n",
    "调参数：<br>\n",
    "[3] https://github.com/hczheng/Rong360/tree/master/code <br>\n",
    "\n",
    "官网：<br>\n",
    "[4] https://xgboost.readthedocs.io/en/latest/python/index.html "
   ]
  },
  {
   "cell_type": "code",
   "execution_count": 1,
   "metadata": {
    "ExecuteTime": {
     "end_time": "2021-09-07T06:51:42.797238Z",
     "start_time": "2021-09-07T06:51:25.662029Z"
    }
   },
   "outputs": [],
   "source": [
    "import pandas as pd\n",
    "import xgboost as xgb\n",
    "import pickle\n",
    "import numpy as np\n",
    "import os\n"
   ]
  },
  {
   "cell_type": "code",
   "execution_count": 3,
   "metadata": {
    "ExecuteTime": {
     "end_time": "2021-09-06T03:10:20.144398Z",
     "start_time": "2021-09-06T03:09:25.319223Z"
    },
    "scrolled": true
   },
   "outputs": [],
   "source": [
    "# 样本集合\n",
    "datapath=\"/nfs/volume-385-2/jinguopan/data/ad_request_data/ad_regression_data_v0/\"\n",
    "train_dates= os.listdir(datapath)[-40:];\n",
    "train_dates_var = train_dates[::-1] # 倒序\n",
    "\n",
    "train_list=[];\n",
    "for train_date in train_dates_var:\n",
    "    datadir=os.path.join(datapath,train_date);\n",
    "    fileName=os.listdir(datadir)[0]\n",
    "    df=pd.read_csv(os.path.join(datadir,fileName),sep=\"\\t\",header=None)\n",
    "    train_list.append([train_date, len(df)])\n",
    "\n",
    "dataset = pd.DataFrame(train_list)  # 文件名称，和数据量"
   ]
  },
  {
   "cell_type": "markdown",
   "metadata": {
    "ExecuteTime": {
     "end_time": "2021-09-06T04:08:58.596362Z",
     "start_time": "2021-09-06T04:08:58.592464Z"
    }
   },
   "source": [
    "## 使用原始的数据"
   ]
  },
  {
   "cell_type": "markdown",
   "metadata": {},
   "source": [
    "### 读入数据"
   ]
  },
  {
   "cell_type": "code",
   "execution_count": 4,
   "metadata": {
    "ExecuteTime": {
     "end_time": "2021-09-06T03:11:17.471518Z",
     "start_time": "2021-09-06T03:10:52.310377Z"
    }
   },
   "outputs": [],
   "source": [
    "## 读取特征矩阵\n",
    "# data 中的时间范围为 2021-05-18 到 2021-06-26\n",
    "\n",
    "with open('dataset/train_temp.pkl', 'rb') as file:\n",
    "    data = pickle.load(file)"
   ]
  },
  {
   "cell_type": "code",
   "execution_count": 5,
   "metadata": {
    "ExecuteTime": {
     "end_time": "2021-09-06T03:11:19.887471Z",
     "start_time": "2021-09-06T03:11:19.533970Z"
    }
   },
   "outputs": [
    {
     "data": {
      "text/html": [
       "<div>\n",
       "<style scoped>\n",
       "    .dataframe tbody tr th:only-of-type {\n",
       "        vertical-align: middle;\n",
       "    }\n",
       "\n",
       "    .dataframe tbody tr th {\n",
       "        vertical-align: top;\n",
       "    }\n",
       "\n",
       "    .dataframe thead th {\n",
       "        text-align: right;\n",
       "    }\n",
       "</style>\n",
       "<table border=\"1\" class=\"dataframe\">\n",
       "  <thead>\n",
       "    <tr style=\"text-align: right;\">\n",
       "      <th></th>\n",
       "      <th>p_gender</th>\n",
       "      <th>age_level</th>\n",
       "      <th>businessman</th>\n",
       "      <th>passenger_os_type</th>\n",
       "      <th>city_id</th>\n",
       "      <th>res_id</th>\n",
       "      <th>slide_id</th>\n",
       "      <th>business_id</th>\n",
       "      <th>weekday</th>\n",
       "      <th>dayofyear</th>\n",
       "      <th>monthofyear</th>\n",
       "      <th>request_num</th>\n",
       "      <th>request_sum_7</th>\n",
       "      <th>request_sum_6</th>\n",
       "      <th>request_sum_5</th>\n",
       "      <th>request_sum_4</th>\n",
       "      <th>request_sum_3</th>\n",
       "      <th>request_sum_2</th>\n",
       "      <th>request_mean_7d</th>\n",
       "      <th>last_1m_sum</th>\n",
       "    </tr>\n",
       "  </thead>\n",
       "  <tbody>\n",
       "    <tr>\n",
       "      <th>0</th>\n",
       "      <td>-1</td>\n",
       "      <td>3</td>\n",
       "      <td>0</td>\n",
       "      <td>1</td>\n",
       "      <td>55</td>\n",
       "      <td>526</td>\n",
       "      <td>1</td>\n",
       "      <td>260</td>\n",
       "      <td>2.0</td>\n",
       "      <td>25.0</td>\n",
       "      <td>5.0</td>\n",
       "      <td>350.0</td>\n",
       "      <td>3784.0</td>\n",
       "      <td>3229.0</td>\n",
       "      <td>2607.0</td>\n",
       "      <td>2111.0</td>\n",
       "      <td>1522.0</td>\n",
       "      <td>989.0</td>\n",
       "      <td>540.571429</td>\n",
       "      <td>555.0</td>\n",
       "    </tr>\n",
       "    <tr>\n",
       "      <th>1</th>\n",
       "      <td>1</td>\n",
       "      <td>5</td>\n",
       "      <td>1</td>\n",
       "      <td>101</td>\n",
       "      <td>263</td>\n",
       "      <td>50</td>\n",
       "      <td>1</td>\n",
       "      <td>260</td>\n",
       "      <td>2.0</td>\n",
       "      <td>25.0</td>\n",
       "      <td>5.0</td>\n",
       "      <td>174.0</td>\n",
       "      <td>1373.0</td>\n",
       "      <td>1224.0</td>\n",
       "      <td>1050.0</td>\n",
       "      <td>838.0</td>\n",
       "      <td>582.0</td>\n",
       "      <td>371.0</td>\n",
       "      <td>196.142857</td>\n",
       "      <td>149.0</td>\n",
       "    </tr>\n",
       "    <tr>\n",
       "      <th>2</th>\n",
       "      <td>-1</td>\n",
       "      <td>4</td>\n",
       "      <td>1</td>\n",
       "      <td>101</td>\n",
       "      <td>1</td>\n",
       "      <td>526</td>\n",
       "      <td>1</td>\n",
       "      <td>260</td>\n",
       "      <td>2.0</td>\n",
       "      <td>25.0</td>\n",
       "      <td>5.0</td>\n",
       "      <td>67562.0</td>\n",
       "      <td>688719.0</td>\n",
       "      <td>591316.0</td>\n",
       "      <td>484927.0</td>\n",
       "      <td>380687.0</td>\n",
       "      <td>272312.0</td>\n",
       "      <td>171681.0</td>\n",
       "      <td>98388.428571</td>\n",
       "      <td>97403.0</td>\n",
       "    </tr>\n",
       "    <tr>\n",
       "      <th>3</th>\n",
       "      <td>1</td>\n",
       "      <td>5</td>\n",
       "      <td>0</td>\n",
       "      <td>101</td>\n",
       "      <td>9</td>\n",
       "      <td>199</td>\n",
       "      <td>1</td>\n",
       "      <td>260</td>\n",
       "      <td>2.0</td>\n",
       "      <td>25.0</td>\n",
       "      <td>5.0</td>\n",
       "      <td>9090.0</td>\n",
       "      <td>71846.0</td>\n",
       "      <td>62610.0</td>\n",
       "      <td>53180.0</td>\n",
       "      <td>42414.0</td>\n",
       "      <td>31225.0</td>\n",
       "      <td>20053.0</td>\n",
       "      <td>10263.714286</td>\n",
       "      <td>9236.0</td>\n",
       "    </tr>\n",
       "    <tr>\n",
       "      <th>4</th>\n",
       "      <td>1</td>\n",
       "      <td>5</td>\n",
       "      <td>0</td>\n",
       "      <td>1</td>\n",
       "      <td>142</td>\n",
       "      <td>195</td>\n",
       "      <td>1</td>\n",
       "      <td>666</td>\n",
       "      <td>2.0</td>\n",
       "      <td>25.0</td>\n",
       "      <td>5.0</td>\n",
       "      <td>2330.0</td>\n",
       "      <td>19851.0</td>\n",
       "      <td>17465.0</td>\n",
       "      <td>14935.0</td>\n",
       "      <td>11869.0</td>\n",
       "      <td>8866.0</td>\n",
       "      <td>5786.0</td>\n",
       "      <td>2835.857143</td>\n",
       "      <td>2386.0</td>\n",
       "    </tr>\n",
       "  </tbody>\n",
       "</table>\n",
       "</div>"
      ],
      "text/plain": [
       "   p_gender  age_level  businessman  passenger_os_type  city_id  res_id  \\\n",
       "0        -1          3            0                  1       55     526   \n",
       "1         1          5            1                101      263      50   \n",
       "2        -1          4            1                101        1     526   \n",
       "3         1          5            0                101        9     199   \n",
       "4         1          5            0                  1      142     195   \n",
       "\n",
       "   slide_id  business_id  weekday  dayofyear  monthofyear  request_num  \\\n",
       "0         1          260      2.0       25.0          5.0        350.0   \n",
       "1         1          260      2.0       25.0          5.0        174.0   \n",
       "2         1          260      2.0       25.0          5.0      67562.0   \n",
       "3         1          260      2.0       25.0          5.0       9090.0   \n",
       "4         1          666      2.0       25.0          5.0       2330.0   \n",
       "\n",
       "   request_sum_7  request_sum_6  request_sum_5  request_sum_4  request_sum_3  \\\n",
       "0         3784.0         3229.0         2607.0         2111.0         1522.0   \n",
       "1         1373.0         1224.0         1050.0          838.0          582.0   \n",
       "2       688719.0       591316.0       484927.0       380687.0       272312.0   \n",
       "3        71846.0        62610.0        53180.0        42414.0        31225.0   \n",
       "4        19851.0        17465.0        14935.0        11869.0         8866.0   \n",
       "\n",
       "   request_sum_2  request_mean_7d  last_1m_sum  \n",
       "0          989.0       540.571429        555.0  \n",
       "1          371.0       196.142857        149.0  \n",
       "2       171681.0     98388.428571      97403.0  \n",
       "3        20053.0     10263.714286       9236.0  \n",
       "4         5786.0      2835.857143       2386.0  "
      ]
     },
     "execution_count": 5,
     "metadata": {},
     "output_type": "execute_result"
    }
   ],
   "source": [
    "data.head()"
   ]
  },
  {
   "cell_type": "code",
   "execution_count": 6,
   "metadata": {
    "ExecuteTime": {
     "end_time": "2021-09-06T03:11:33.038851Z",
     "start_time": "2021-09-06T03:11:33.035263Z"
    }
   },
   "outputs": [
    {
     "data": {
      "text/plain": [
       "14769015"
      ]
     },
     "execution_count": 6,
     "metadata": {},
     "output_type": "execute_result"
    }
   ],
   "source": [
    "len(data)"
   ]
  },
  {
   "cell_type": "code",
   "execution_count": null,
   "metadata": {},
   "outputs": [],
   "source": []
  },
  {
   "cell_type": "code",
   "execution_count": null,
   "metadata": {},
   "outputs": [],
   "source": []
  },
  {
   "cell_type": "markdown",
   "metadata": {},
   "source": [
    "### 构造数据集"
   ]
  },
  {
   "cell_type": "code",
   "execution_count": 7,
   "metadata": {
    "ExecuteTime": {
     "end_time": "2021-09-06T03:11:40.217165Z",
     "start_time": "2021-09-06T03:11:36.309631Z"
    }
   },
   "outputs": [],
   "source": [
    "all_col=[\n",
    "         \"p_gender\",\"age_level\",\"businessman\",\"passenger_os_type\",\"city_id\",\"res_id\",\"slide_id\",\n",
    "         \"business_id\",\"weekday\",\"dayofyear\",\"monthofyear\",\n",
    "         \"request_sum_7\",\"request_sum_6\",\"request_sum_5\",\"request_sum_4\",\"request_sum_3\",\"request_sum_2\",\"request_mean_7d\",\"last_1m_sum\"\n",
    "        ]\n",
    "cat_col=[\"p_gender\",\"age_level\",\"businessman\",\"passenger_os_type\",\"city_id\",\"res_id\",\n",
    "         \"slide_id\",\"business_id\",\"weekday\",\"dayofyear\",\"monthofyear\"]\n",
    "\n",
    "\n",
    "\n",
    "# 6.26 号数据\n",
    "train_data = data.iloc[:-450057,:]\n",
    "val_data = data.iloc[-450057:,:]   # 6.26号数据\n",
    "\n",
    "target = train_data[\"request_num\"]\n",
    "train_data = train_data[all_col]\n",
    "\n",
    "target_val = val_data[\"request_num\"]\n",
    "val_data = val_data[all_col]"
   ]
  },
  {
   "cell_type": "code",
   "execution_count": 8,
   "metadata": {
    "ExecuteTime": {
     "end_time": "2021-09-06T03:11:47.924452Z",
     "start_time": "2021-09-06T03:11:42.739780Z"
    }
   },
   "outputs": [],
   "source": [
    "dtrain = xgb.DMatrix(train_data, target)  # 训练集\n",
    "dval = xgb.DMatrix(val_data, target_val)  # 验证集"
   ]
  },
  {
   "cell_type": "code",
   "execution_count": null,
   "metadata": {},
   "outputs": [],
   "source": []
  },
  {
   "cell_type": "markdown",
   "metadata": {},
   "source": [
    "### 训练模型"
   ]
  },
  {
   "cell_type": "code",
   "execution_count": 21,
   "metadata": {
    "ExecuteTime": {
     "end_time": "2021-09-06T03:46:21.982013Z",
     "start_time": "2021-09-06T03:46:21.977828Z"
    }
   },
   "outputs": [],
   "source": [
    "# 模型初始化\n",
    "params = {'objective': 'reg:squarederror', \n",
    "          'booster': 'gbtree',  \n",
    "          'eta': 0.03,  \n",
    "          'max_depth': 10, \n",
    "          'subsample': 0.9,  \n",
    "          'colsample_bytree': 0.7, \n",
    "          'eval_metric': 'mape', \n",
    "          'silent': 1,  \n",
    "          'seed': 10} \n",
    "\n",
    "num_boost_round = 200 \n",
    "\n",
    "evals = [(dtrain, 'train'), (dval, 'val')]  # 训练过程中进行验证"
   ]
  },
  {
   "cell_type": "code",
   "execution_count": 22,
   "metadata": {
    "ExecuteTime": {
     "end_time": "2021-09-06T04:08:58.589054Z",
     "start_time": "2021-09-06T03:46:22.439876Z"
    },
    "scrolled": true
   },
   "outputs": [
    {
     "name": "stdout",
     "output_type": "stream",
     "text": [
      "[03:46:22] WARNING: ../src/learner.cc:573: \n",
      "Parameters: { \"silent\" } might not be used.\n",
      "\n",
      "  This may not be accurate due to some parameters are only used in language bindings but\n",
      "  passed down to XGBoost core.  Or some parameters are not used but slip through this\n",
      "  verification. Please open an issue if you find above cases.\n",
      "\n",
      "\n",
      "[0]\ttrain-mape:0.84953\tval-mape:0.85396\n",
      "[1]\ttrain-mape:0.81428\tval-mape:0.81872\n",
      "[2]\ttrain-mape:0.77947\tval-mape:0.78483\n",
      "[3]\ttrain-mape:0.74747\tval-mape:0.75276\n",
      "[4]\ttrain-mape:0.72092\tval-mape:0.72682\n",
      "[5]\ttrain-mape:0.69451\tval-mape:0.70052\n",
      "[6]\ttrain-mape:0.67153\tval-mape:0.67701\n",
      "[7]\ttrain-mape:0.65198\tval-mape:0.65693\n",
      "[8]\ttrain-mape:0.63378\tval-mape:0.63857\n",
      "[9]\ttrain-mape:0.61711\tval-mape:0.62147\n",
      "[10]\ttrain-mape:0.60205\tval-mape:0.60620\n",
      "[11]\ttrain-mape:0.58761\tval-mape:0.59127\n",
      "[12]\ttrain-mape:0.57696\tval-mape:0.57990\n",
      "[13]\ttrain-mape:0.56742\tval-mape:0.57019\n",
      "[14]\ttrain-mape:0.55844\tval-mape:0.56050\n",
      "[15]\ttrain-mape:0.55033\tval-mape:0.55145\n",
      "[16]\ttrain-mape:0.54315\tval-mape:0.54376\n",
      "[17]\ttrain-mape:0.53645\tval-mape:0.53642\n",
      "[18]\ttrain-mape:0.52982\tval-mape:0.52899\n",
      "[19]\ttrain-mape:0.52411\tval-mape:0.52212\n",
      "[20]\ttrain-mape:0.51835\tval-mape:0.51562\n",
      "[21]\ttrain-mape:0.51410\tval-mape:0.51062\n",
      "[22]\ttrain-mape:0.50940\tval-mape:0.50544\n",
      "[23]\ttrain-mape:0.50574\tval-mape:0.50109\n",
      "[24]\ttrain-mape:0.50205\tval-mape:0.49613\n",
      "[25]\ttrain-mape:0.49850\tval-mape:0.49097\n",
      "[26]\ttrain-mape:0.49581\tval-mape:0.48749\n",
      "[27]\ttrain-mape:0.49290\tval-mape:0.48384\n",
      "[28]\ttrain-mape:0.49057\tval-mape:0.48070\n",
      "[29]\ttrain-mape:0.48824\tval-mape:0.47807\n",
      "[30]\ttrain-mape:0.48645\tval-mape:0.47558\n",
      "[31]\ttrain-mape:0.48490\tval-mape:0.47292\n",
      "[32]\ttrain-mape:0.48350\tval-mape:0.47092\n",
      "[33]\ttrain-mape:0.48218\tval-mape:0.46910\n",
      "[34]\ttrain-mape:0.48113\tval-mape:0.46755\n",
      "[35]\ttrain-mape:0.48033\tval-mape:0.46592\n",
      "[36]\ttrain-mape:0.47960\tval-mape:0.46483\n",
      "[37]\ttrain-mape:0.47943\tval-mape:0.46422\n",
      "[38]\ttrain-mape:0.47926\tval-mape:0.46299\n",
      "[39]\ttrain-mape:0.47908\tval-mape:0.46213\n",
      "[40]\ttrain-mape:0.47900\tval-mape:0.46180\n",
      "[41]\ttrain-mape:0.47899\tval-mape:0.46138\n",
      "[42]\ttrain-mape:0.47903\tval-mape:0.46093\n",
      "[43]\ttrain-mape:0.47897\tval-mape:0.45960\n",
      "[44]\ttrain-mape:0.47919\tval-mape:0.45973\n",
      "[45]\ttrain-mape:0.47951\tval-mape:0.45976\n",
      "[46]\ttrain-mape:0.47978\tval-mape:0.45879\n",
      "[47]\ttrain-mape:0.48021\tval-mape:0.45863\n",
      "[48]\ttrain-mape:0.48101\tval-mape:0.45920\n",
      "[49]\ttrain-mape:0.48170\tval-mape:0.45964\n",
      "[50]\ttrain-mape:0.48266\tval-mape:0.46036\n",
      "[51]\ttrain-mape:0.48343\tval-mape:0.46088\n",
      "[52]\ttrain-mape:0.48430\tval-mape:0.46162\n",
      "[53]\ttrain-mape:0.48531\tval-mape:0.46241\n",
      "[54]\ttrain-mape:0.48639\tval-mape:0.46331\n",
      "[55]\ttrain-mape:0.48743\tval-mape:0.46403\n",
      "[56]\ttrain-mape:0.48844\tval-mape:0.46501\n",
      "[57]\ttrain-mape:0.48967\tval-mape:0.46609\n",
      "[58]\ttrain-mape:0.49109\tval-mape:0.46729\n",
      "[59]\ttrain-mape:0.49209\tval-mape:0.46837\n",
      "[60]\ttrain-mape:0.49358\tval-mape:0.46975\n",
      "[61]\ttrain-mape:0.49477\tval-mape:0.47100\n",
      "[62]\ttrain-mape:0.49602\tval-mape:0.47236\n",
      "[63]\ttrain-mape:0.49687\tval-mape:0.47293\n",
      "[64]\ttrain-mape:0.49846\tval-mape:0.47441\n",
      "[65]\ttrain-mape:0.49988\tval-mape:0.47570\n",
      "[66]\ttrain-mape:0.50102\tval-mape:0.47670\n",
      "[67]\ttrain-mape:0.50273\tval-mape:0.47857\n",
      "[68]\ttrain-mape:0.50398\tval-mape:0.47987\n",
      "[69]\ttrain-mape:0.50534\tval-mape:0.48115\n",
      "[70]\ttrain-mape:0.50641\tval-mape:0.48226\n",
      "[71]\ttrain-mape:0.50698\tval-mape:0.48211\n",
      "[72]\ttrain-mape:0.50808\tval-mape:0.48327\n",
      "[73]\ttrain-mape:0.50958\tval-mape:0.48476\n",
      "[74]\ttrain-mape:0.51050\tval-mape:0.48556\n",
      "[75]\ttrain-mape:0.51160\tval-mape:0.48692\n",
      "[76]\ttrain-mape:0.51253\tval-mape:0.48803\n",
      "[77]\ttrain-mape:0.51370\tval-mape:0.48918\n",
      "[78]\ttrain-mape:0.51441\tval-mape:0.48933\n",
      "[79]\ttrain-mape:0.51564\tval-mape:0.49072\n",
      "[80]\ttrain-mape:0.51667\tval-mape:0.49171\n",
      "[81]\ttrain-mape:0.51767\tval-mape:0.49273\n",
      "[82]\ttrain-mape:0.51843\tval-mape:0.49349\n",
      "[83]\ttrain-mape:0.51874\tval-mape:0.49378\n",
      "[84]\ttrain-mape:0.51948\tval-mape:0.49492\n",
      "[85]\ttrain-mape:0.52008\tval-mape:0.49477\n",
      "[86]\ttrain-mape:0.52144\tval-mape:0.49617\n",
      "[87]\ttrain-mape:0.52254\tval-mape:0.49729\n",
      "[88]\ttrain-mape:0.52351\tval-mape:0.49841\n",
      "[89]\ttrain-mape:0.52441\tval-mape:0.49929\n",
      "[90]\ttrain-mape:0.52538\tval-mape:0.50037\n",
      "[91]\ttrain-mape:0.52631\tval-mape:0.50135\n",
      "[92]\ttrain-mape:0.52716\tval-mape:0.50225\n",
      "[93]\ttrain-mape:0.52838\tval-mape:0.50343\n",
      "[94]\ttrain-mape:0.53005\tval-mape:0.50513\n",
      "[95]\ttrain-mape:0.53080\tval-mape:0.50601\n",
      "[96]\ttrain-mape:0.53141\tval-mape:0.50699\n",
      "[97]\ttrain-mape:0.53217\tval-mape:0.50631\n",
      "[98]\ttrain-mape:0.53242\tval-mape:0.50653\n",
      "[99]\ttrain-mape:0.53328\tval-mape:0.50742\n"
     ]
    }
   ],
   "source": [
    "gbm = xgb.train(params, \n",
    "                dtrain, \n",
    "                num_boost_round, \n",
    "                evals=evals,\n",
    "                early_stopping_rounds=50, \n",
    "                verbose_eval=True)\n",
    "\n"
   ]
  },
  {
   "cell_type": "code",
   "execution_count": 26,
   "metadata": {
    "ExecuteTime": {
     "end_time": "2021-09-06T04:10:42.482760Z",
     "start_time": "2021-09-06T04:10:40.724515Z"
    }
   },
   "outputs": [
    {
     "data": {
      "image/png": "[encoded data removed]",
      "text/plain": [
       "<Figure size 640x480 with 1 Axes>"
      ]
     },
     "metadata": {},
     "output_type": "display_data"
    }
   ],
   "source": [
    "# 使用XGBoost内置的特征重要性绘图函数\n",
    "\n",
    "# plot feature importance using built-in function\n",
    "from xgboost import plot_importance\n",
    "import matplotlib.pyplot as plt\n",
    "\n",
    "plot_importance(gbm)\n",
    "plt.show()"
   ]
  },
  {
   "cell_type": "code",
   "execution_count": null,
   "metadata": {},
   "outputs": [],
   "source": []
  },
  {
   "cell_type": "code",
   "execution_count": 13,
   "metadata": {
    "ExecuteTime": {
     "end_time": "2021-09-06T03:43:39.037756Z",
     "start_time": "2021-09-06T03:43:38.995525Z"
    }
   },
   "outputs": [],
   "source": [
    "# 模型保存\n",
    "save_path = \"dataset/model_regression_xgb_v1.model\"\n",
    "gbm.save_model(save_path)\n",
    "\n",
    "\n",
    "# # 模型读取\n",
    "# gbm = xgb.Booster(model_file=save_path)\n"
   ]
  },
  {
   "cell_type": "code",
   "execution_count": 17,
   "metadata": {
    "ExecuteTime": {
     "end_time": "2021-09-06T03:45:34.586536Z",
     "start_time": "2021-09-06T03:45:34.582225Z"
    }
   },
   "outputs": [],
   "source": [
    "# 定义mape检验函数\n",
    "def mape(y_true, y_pred): \n",
    "    y_true, y_pred = np.array(y_true), np.array(y_pred)\n",
    "    return np.mean(np.abs((y_true - y_pred) / y_true)) * 100\n",
    "\n",
    "# 定义wmape检验函数\n",
    "def wmape(y_true, y_pre):\n",
    "    return np.sum(y_true/np.sum(y_true)*(np.abs((y_pre-y_true)/y_true)))*100\n"
   ]
  },
  {
   "cell_type": "code",
   "execution_count": 27,
   "metadata": {
    "ExecuteTime": {
     "end_time": "2021-09-06T04:11:34.823998Z",
     "start_time": "2021-09-06T04:11:34.474761Z"
    }
   },
   "outputs": [
    {
     "data": {
      "text/plain": [
       "array([1.0519531e+03, 9.9125254e+03, 3.5972861e+02, ..., 1.8675143e+00,\n",
       "       2.7185230e+00, 2.7057867e+00], dtype=float32)"
      ]
     },
     "execution_count": 27,
     "metadata": {},
     "output_type": "execute_result"
    }
   ],
   "source": [
    "pred_data = gbm.predict(dval)\n",
    "pred_data"
   ]
  },
  {
   "cell_type": "code",
   "execution_count": 19,
   "metadata": {
    "ExecuteTime": {
     "end_time": "2021-09-06T03:45:35.937494Z",
     "start_time": "2021-09-06T03:45:35.929180Z"
    }
   },
   "outputs": [
    {
     "name": "stdout",
     "output_type": "stream",
     "text": [
      "The mape of prediction is: 46.03531323107364\n"
     ]
    }
   ],
   "source": [
    "print('The mape of prediction is:', mape(target_val, pred_data))"
   ]
  },
  {
   "cell_type": "code",
   "execution_count": 20,
   "metadata": {
    "ExecuteTime": {
     "end_time": "2021-09-06T03:45:51.248159Z",
     "start_time": "2021-09-06T03:45:50.998646Z"
    },
    "scrolled": true
   },
   "outputs": [
    {
     "name": "stdout",
     "output_type": "stream",
     "text": [
      "The wmape of prediction is: 33.4038014363459\n"
     ]
    }
   ],
   "source": [
    "print('The wmape of prediction is:', wmape(target_val, pred_data))"
   ]
  },
  {
   "cell_type": "code",
   "execution_count": null,
   "metadata": {},
   "outputs": [],
   "source": []
  },
  {
   "cell_type": "code",
   "execution_count": null,
   "metadata": {},
   "outputs": [],
   "source": []
  },
  {
   "cell_type": "markdown",
   "metadata": {},
   "source": [
    "## 连续性数据进行平滑处理"
   ]
  },
  {
   "cell_type": "markdown",
   "metadata": {},
   "source": [
    "### 平滑处理"
   ]
  },
  {
   "cell_type": "code",
   "execution_count": 29,
   "metadata": {
    "ExecuteTime": {
     "end_time": "2021-09-06T04:12:22.313940Z",
     "start_time": "2021-09-06T04:12:09.807222Z"
    }
   },
   "outputs": [
    {
     "data": {
      "text/html": [
       "<div>\n",
       "<style scoped>\n",
       "    .dataframe tbody tr th:only-of-type {\n",
       "        vertical-align: middle;\n",
       "    }\n",
       "\n",
       "    .dataframe tbody tr th {\n",
       "        vertical-align: top;\n",
       "    }\n",
       "\n",
       "    .dataframe thead th {\n",
       "        text-align: right;\n",
       "    }\n",
       "</style>\n",
       "<table border=\"1\" class=\"dataframe\">\n",
       "  <thead>\n",
       "    <tr style=\"text-align: right;\">\n",
       "      <th></th>\n",
       "      <th>p_gender</th>\n",
       "      <th>age_level</th>\n",
       "      <th>businessman</th>\n",
       "      <th>passenger_os_type</th>\n",
       "      <th>city_id</th>\n",
       "      <th>res_id</th>\n",
       "      <th>slide_id</th>\n",
       "      <th>business_id</th>\n",
       "      <th>weekday</th>\n",
       "      <th>dayofyear</th>\n",
       "      <th>monthofyear</th>\n",
       "      <th>request_num</th>\n",
       "      <th>request_sum_7</th>\n",
       "      <th>request_sum_6</th>\n",
       "      <th>request_sum_5</th>\n",
       "      <th>request_sum_4</th>\n",
       "      <th>request_sum_3</th>\n",
       "      <th>request_sum_2</th>\n",
       "      <th>request_mean_7d</th>\n",
       "      <th>last_1m_sum</th>\n",
       "    </tr>\n",
       "  </thead>\n",
       "  <tbody>\n",
       "    <tr>\n",
       "      <th>0</th>\n",
       "      <td>-1</td>\n",
       "      <td>3</td>\n",
       "      <td>0</td>\n",
       "      <td>1</td>\n",
       "      <td>55</td>\n",
       "      <td>526</td>\n",
       "      <td>1</td>\n",
       "      <td>260</td>\n",
       "      <td>2.0</td>\n",
       "      <td>25.0</td>\n",
       "      <td>5.0</td>\n",
       "      <td>5.860786</td>\n",
       "      <td>8.238801</td>\n",
       "      <td>8.080237</td>\n",
       "      <td>7.866339</td>\n",
       "      <td>7.655391</td>\n",
       "      <td>7.328437</td>\n",
       "      <td>6.897705</td>\n",
       "      <td>6.294475</td>\n",
       "      <td>6.320768</td>\n",
       "    </tr>\n",
       "    <tr>\n",
       "      <th>1</th>\n",
       "      <td>1</td>\n",
       "      <td>5</td>\n",
       "      <td>1</td>\n",
       "      <td>101</td>\n",
       "      <td>263</td>\n",
       "      <td>50</td>\n",
       "      <td>1</td>\n",
       "      <td>260</td>\n",
       "      <td>2.0</td>\n",
       "      <td>25.0</td>\n",
       "      <td>5.0</td>\n",
       "      <td>5.164786</td>\n",
       "      <td>7.225481</td>\n",
       "      <td>7.110696</td>\n",
       "      <td>6.957497</td>\n",
       "      <td>6.732211</td>\n",
       "      <td>6.368187</td>\n",
       "      <td>5.918894</td>\n",
       "      <td>5.283929</td>\n",
       "      <td>5.010635</td>\n",
       "    </tr>\n",
       "    <tr>\n",
       "      <th>2</th>\n",
       "      <td>-1</td>\n",
       "      <td>4</td>\n",
       "      <td>1</td>\n",
       "      <td>101</td>\n",
       "      <td>1</td>\n",
       "      <td>526</td>\n",
       "      <td>1</td>\n",
       "      <td>260</td>\n",
       "      <td>2.0</td>\n",
       "      <td>25.0</td>\n",
       "      <td>5.0</td>\n",
       "      <td>11.120816</td>\n",
       "      <td>13.442590</td>\n",
       "      <td>13.290108</td>\n",
       "      <td>13.091756</td>\n",
       "      <td>12.849735</td>\n",
       "      <td>12.514707</td>\n",
       "      <td>12.053399</td>\n",
       "      <td>11.496689</td>\n",
       "      <td>11.486623</td>\n",
       "    </tr>\n",
       "    <tr>\n",
       "      <th>3</th>\n",
       "      <td>1</td>\n",
       "      <td>5</td>\n",
       "      <td>0</td>\n",
       "      <td>101</td>\n",
       "      <td>9</td>\n",
       "      <td>199</td>\n",
       "      <td>1</td>\n",
       "      <td>260</td>\n",
       "      <td>2.0</td>\n",
       "      <td>25.0</td>\n",
       "      <td>5.0</td>\n",
       "      <td>9.115040</td>\n",
       "      <td>11.182294</td>\n",
       "      <td>11.044696</td>\n",
       "      <td>10.881456</td>\n",
       "      <td>10.655257</td>\n",
       "      <td>10.349006</td>\n",
       "      <td>9.906184</td>\n",
       "      <td>9.236467</td>\n",
       "      <td>9.130972</td>\n",
       "    </tr>\n",
       "    <tr>\n",
       "      <th>4</th>\n",
       "      <td>1</td>\n",
       "      <td>5</td>\n",
       "      <td>0</td>\n",
       "      <td>1</td>\n",
       "      <td>142</td>\n",
       "      <td>195</td>\n",
       "      <td>1</td>\n",
       "      <td>666</td>\n",
       "      <td>2.0</td>\n",
       "      <td>25.0</td>\n",
       "      <td>5.0</td>\n",
       "      <td>7.754053</td>\n",
       "      <td>9.896060</td>\n",
       "      <td>9.768011</td>\n",
       "      <td>9.611530</td>\n",
       "      <td>9.381769</td>\n",
       "      <td>9.090092</td>\n",
       "      <td>8.663369</td>\n",
       "      <td>7.950452</td>\n",
       "      <td>7.777793</td>\n",
       "    </tr>\n",
       "  </tbody>\n",
       "</table>\n",
       "</div>"
      ],
      "text/plain": [
       "   p_gender  age_level  businessman  passenger_os_type  city_id  res_id  \\\n",
       "0        -1          3            0                  1       55     526   \n",
       "1         1          5            1                101      263      50   \n",
       "2        -1          4            1                101        1     526   \n",
       "3         1          5            0                101        9     199   \n",
       "4         1          5            0                  1      142     195   \n",
       "\n",
       "   slide_id  business_id  weekday  dayofyear  monthofyear  request_num  \\\n",
       "0         1          260      2.0       25.0          5.0     5.860786   \n",
       "1         1          260      2.0       25.0          5.0     5.164786   \n",
       "2         1          260      2.0       25.0          5.0    11.120816   \n",
       "3         1          260      2.0       25.0          5.0     9.115040   \n",
       "4         1          666      2.0       25.0          5.0     7.754053   \n",
       "\n",
       "   request_sum_7  request_sum_6  request_sum_5  request_sum_4  request_sum_3  \\\n",
       "0       8.238801       8.080237       7.866339       7.655391       7.328437   \n",
       "1       7.225481       7.110696       6.957497       6.732211       6.368187   \n",
       "2      13.442590      13.290108      13.091756      12.849735      12.514707   \n",
       "3      11.182294      11.044696      10.881456      10.655257      10.349006   \n",
       "4       9.896060       9.768011       9.611530       9.381769       9.090092   \n",
       "\n",
       "   request_sum_2  request_mean_7d  last_1m_sum  \n",
       "0       6.897705         6.294475     6.320768  \n",
       "1       5.918894         5.283929     5.010635  \n",
       "2      12.053399        11.496689    11.486623  \n",
       "3       9.906184         9.236467     9.130972  \n",
       "4       8.663369         7.950452     7.777793  "
      ]
     },
     "execution_count": 29,
     "metadata": {},
     "output_type": "execute_result"
    }
   ],
   "source": [
    "df = data.copy()\n",
    "\n",
    "week_day = [\"request_sum_7\",\"request_sum_6\",\"request_sum_5\",\"request_sum_4\",\"request_sum_3\",\n",
    "            \"request_sum_2\",\"request_num\",\"request_mean_7d\",\"last_1m_sum\"]\n",
    "df[week_day] =  df[week_day].apply(lambda x:np.log1p(x))\n",
    "df.head()"
   ]
  },
  {
   "cell_type": "code",
   "execution_count": 30,
   "metadata": {
    "ExecuteTime": {
     "end_time": "2021-09-06T04:12:24.113275Z",
     "start_time": "2021-09-06T04:12:22.316621Z"
    }
   },
   "outputs": [],
   "source": [
    "## 构造训练和验证样本集\n",
    "train_data_df = df.iloc[:-450057,:]  # 6.26之前的样本作为训练集\n",
    "val_data_df = df.iloc[-450057:,:]   # 6.26号数据做验证集\n",
    "\n",
    "num_round = 10000\n",
    "target = train_data_df[\"request_num\"]\n",
    "train_data = train_data_df[all_col]\n",
    "\n",
    "target_val = val_data_df[\"request_num\"]\n",
    "test_data = val_data_df[all_col]"
   ]
  },
  {
   "cell_type": "code",
   "execution_count": null,
   "metadata": {},
   "outputs": [],
   "source": []
  },
  {
   "cell_type": "code",
   "execution_count": 31,
   "metadata": {
    "ExecuteTime": {
     "end_time": "2021-09-06T04:13:36.437650Z",
     "start_time": "2021-09-06T04:13:30.703693Z"
    }
   },
   "outputs": [],
   "source": [
    "dtrain = xgb.DMatrix(train_data, target)  # 训练集\n",
    "dval = xgb.DMatrix(val_data, target_val)  # 验证集"
   ]
  },
  {
   "cell_type": "code",
   "execution_count": null,
   "metadata": {},
   "outputs": [],
   "source": []
  },
  {
   "cell_type": "markdown",
   "metadata": {},
   "source": [
    "### 训练模型"
   ]
  },
  {
   "cell_type": "code",
   "execution_count": 32,
   "metadata": {
    "ExecuteTime": {
     "end_time": "2021-09-06T04:14:31.077945Z",
     "start_time": "2021-09-06T04:14:31.072736Z"
    }
   },
   "outputs": [],
   "source": [
    "# 模型初始化\n",
    "params = {'objective': 'reg:squarederror', \n",
    "          'booster': 'gbtree',  \n",
    "          'eta': 0.03,  \n",
    "          'max_depth': 10, \n",
    "          'subsample': 0.9,  \n",
    "          'colsample_bytree': 0.7, \n",
    "          'eval_metric': 'mape', \n",
    "          'silent': 1,  \n",
    "          'seed': 10} \n",
    "\n",
    "num_boost_round = 200 \n",
    "\n",
    "evals = [(dtrain, 'train'), (dval, 'val')]  # 训练过程中进行验证"
   ]
  },
  {
   "cell_type": "code",
   "execution_count": 39,
   "metadata": {
    "ExecuteTime": {
     "end_time": "2021-09-06T05:56:19.671442Z",
     "start_time": "2021-09-06T05:54:13.082042Z"
    },
    "scrolled": true
   },
   "outputs": [
    {
     "name": "stdout",
     "output_type": "stream",
     "text": [
      "[05:54:13] WARNING: ../src/learner.cc:573: \n",
      "Parameters: { \"silent\" } might not be used.\n",
      "\n",
      "  This may not be accurate due to some parameters are only used in language bindings but\n",
      "  passed down to XGBoost core.  Or some parameters are not used but slip through this\n",
      "  verification. Please open an issue if you find above cases.\n",
      "\n",
      "\n",
      "[0]\ttrain-mape:0.71816\tval-mape:0.66828\n",
      "[1]\ttrain-mape:0.69484\tval-mape:0.60748\n",
      "[2]\ttrain-mape:0.67188\tval-mape:0.54935\n",
      "[3]\ttrain-mape:0.64993\tval-mape:0.50259\n",
      "[4]\ttrain-mape:0.62885\tval-mape:0.46135\n",
      "[5]\ttrain-mape:0.60857\tval-mape:0.42828\n",
      "[6]\ttrain-mape:0.58925\tval-mape:0.40389\n",
      "[7]\ttrain-mape:0.57079\tval-mape:0.38756\n",
      "[8]\ttrain-mape:0.55345\tval-mape:0.37777\n"
     ]
    }
   ],
   "source": [
    "gbm = xgb.train(params, \n",
    "                dtrain, \n",
    "                num_boost_round, \n",
    "                evals=evals,\n",
    "                early_stopping_rounds=9, \n",
    "                verbose_eval=True)\n",
    "\n"
   ]
  },
  {
   "cell_type": "code",
   "execution_count": null,
   "metadata": {},
   "outputs": [],
   "source": []
  },
  {
   "cell_type": "code",
   "execution_count": 40,
   "metadata": {
    "ExecuteTime": {
     "end_time": "2021-09-06T05:57:18.340829Z",
     "start_time": "2021-09-06T05:57:17.833041Z"
    }
   },
   "outputs": [
    {
     "data": {
      "image/png": "[encoded data removed]",
      "text/plain": [
       "<Figure size 640x480 with 1 Axes>"
      ]
     },
     "metadata": {},
     "output_type": "display_data"
    }
   ],
   "source": [
    "# 使用XGBoost内置的特征重要性绘图函数\n",
    "\n",
    "# plot feature importance using built-in function\n",
    "from xgboost import plot_importance\n",
    "import matplotlib.pyplot as plt\n",
    "\n",
    "plot_importance(gbm)\n",
    "plt.show()"
   ]
  },
  {
   "cell_type": "code",
   "execution_count": null,
   "metadata": {},
   "outputs": [],
   "source": []
  },
  {
   "cell_type": "code",
   "execution_count": 41,
   "metadata": {
    "ExecuteTime": {
     "end_time": "2021-09-06T05:57:26.549339Z",
     "start_time": "2021-09-06T05:57:26.532043Z"
    }
   },
   "outputs": [],
   "source": [
    "# 模型保存\n",
    "save_path = \"dataset/model_regression_xgb_soft_v1.model\"\n",
    "gbm.save_model(save_path)\n",
    "\n",
    "\n",
    "# # 模型读取\n",
    "# gbm = xgb.Booster(model_file=save_path)"
   ]
  },
  {
   "cell_type": "code",
   "execution_count": 48,
   "metadata": {
    "ExecuteTime": {
     "end_time": "2021-09-06T06:01:17.849700Z",
     "start_time": "2021-09-06T06:01:17.831855Z"
    }
   },
   "outputs": [
    {
     "data": {
      "text/plain": [
       "array([15.790342  , 15.847866  , 15.0799265 , ...,  0.81213015,\n",
       "        1.6460612 ,  1.6846675 ], dtype=float32)"
      ]
     },
     "execution_count": 48,
     "metadata": {},
     "output_type": "execute_result"
    }
   ],
   "source": [
    "pred_data = gbm.predict(dval)\n",
    "pred_data_true = np.expm1(pred_data)\n",
    "pred_data_true"
   ]
  },
  {
   "cell_type": "code",
   "execution_count": 49,
   "metadata": {
    "ExecuteTime": {
     "end_time": "2021-09-06T06:01:21.241032Z",
     "start_time": "2021-09-06T06:01:21.223664Z"
    }
   },
   "outputs": [
    {
     "data": {
      "text/plain": [
       "0          1051.0\n",
       "1         10973.0\n",
       "2           373.0\n",
       "3          5375.0\n",
       "4          4490.0\n",
       "           ...   \n",
       "450052        1.0\n",
       "450053        1.0\n",
       "450054        1.0\n",
       "450055        1.0\n",
       "450056        1.0\n",
       "Name: request_num, Length: 450057, dtype: float64"
      ]
     },
     "execution_count": 49,
     "metadata": {},
     "output_type": "execute_result"
    }
   ],
   "source": [
    "np.expm1(target_val)"
   ]
  },
  {
   "cell_type": "code",
   "execution_count": 50,
   "metadata": {
    "ExecuteTime": {
     "end_time": "2021-09-06T06:01:56.916955Z",
     "start_time": "2021-09-06T06:01:56.894093Z"
    }
   },
   "outputs": [
    {
     "name": "stdout",
     "output_type": "stream",
     "text": [
      "The mape of prediction is: 88.02355315491046\n"
     ]
    }
   ],
   "source": [
    "print('The mape of prediction is:', mape(np.expm1(target_val), pred_data_true))"
   ]
  },
  {
   "cell_type": "code",
   "execution_count": null,
   "metadata": {},
   "outputs": [],
   "source": []
  },
  {
   "cell_type": "code",
   "execution_count": null,
   "metadata": {},
   "outputs": [],
   "source": []
  },
  {
   "cell_type": "code",
   "execution_count": null,
   "metadata": {},
   "outputs": [],
   "source": []
  },
  {
   "cell_type": "code",
   "execution_count": null,
   "metadata": {},
   "outputs": [],
   "source": []
  },
  {
   "cell_type": "markdown",
   "metadata": {},
   "source": [
    "## libsvm 格式"
   ]
  },
  {
   "cell_type": "code",
   "execution_count": 17,
   "metadata": {
    "ExecuteTime": {
     "end_time": "2021-09-06T10:41:23.258907Z",
     "start_time": "2021-09-06T10:41:23.255921Z"
    }
   },
   "outputs": [],
   "source": [
    "from sklearn.datasets import dump_svmlight_file\n",
    "from sklearn.datasets import load_svmlight_file"
   ]
  },
  {
   "cell_type": "code",
   "execution_count": 16,
   "metadata": {
    "ExecuteTime": {
     "end_time": "2021-09-06T09:47:59.008179Z",
     "start_time": "2021-09-06T09:23:16.187453Z"
    }
   },
   "outputs": [],
   "source": [
    "\n",
    "# 数据生成\n",
    "df = data.copy()\n",
    "# 修改列顺序\n",
    "order = [\n",
    "         \"p_gender\",\"age_level\",\"businessman\",\"passenger_os_type\",\"city_id\",\"res_id\",\"slide_id\",\n",
    "         \"business_id\",\"weekday\",\"dayofyear\",\"monthofyear\",\n",
    "         \"request_sum_7\",\"request_sum_6\",\"request_sum_5\",\"request_sum_4\",\"request_sum_3\",\"request_sum_2\",\"request_mean_7d\",\"last_1m_sum\",\"request_num\"\n",
    "        ]\n",
    "\n",
    "# 转化成int32格式存储\n",
    "dat = df[order].fillna('0').astype('int32', errors='ignore')\n",
    "\n",
    "\n",
    "y = dat[\"request_num\"]  # y为数据的label值\n",
    "dummy = pd.get_dummies(dat.iloc[:, :-1])\n",
    "mat = dummy.values\n",
    "dump_svmlight_file(mat, y, 'dataset/vm_output.libsvm', zero_based=False)"
   ]
  },
  {
   "cell_type": "code",
   "execution_count": 18,
   "metadata": {
    "ExecuteTime": {
     "end_time": "2021-09-06T10:44:34.666187Z",
     "start_time": "2021-09-06T10:41:48.945118Z"
    }
   },
   "outputs": [],
   "source": [
    "x_train, y_train=load_svmlight_file(\"dataset/vm_output.libsvm\")"
   ]
  },
  {
   "cell_type": "code",
   "execution_count": 20,
   "metadata": {
    "ExecuteTime": {
     "end_time": "2021-09-06T10:45:55.702713Z",
     "start_time": "2021-09-06T10:45:48.177091Z"
    }
   },
   "outputs": [],
   "source": [
    "dtrain = xgb.DMatrix('dataset/vm_output.libsvm')\n"
   ]
  },
  {
   "cell_type": "code",
   "execution_count": 22,
   "metadata": {
    "ExecuteTime": {
     "end_time": "2021-09-06T10:47:25.822432Z",
     "start_time": "2021-09-06T10:47:25.818684Z"
    }
   },
   "outputs": [
    {
     "data": {
      "text/plain": [
       "<xgboost.core.DMatrix at 0x7f92994698d0>"
      ]
     },
     "execution_count": 22,
     "metadata": {},
     "output_type": "execute_result"
    }
   ],
   "source": [
    "dtrain"
   ]
  },
  {
   "cell_type": "code",
   "execution_count": null,
   "metadata": {},
   "outputs": [],
   "source": []
  },
  {
   "cell_type": "markdown",
   "metadata": {},
   "source": [
    "## 类别标签one-hot\n",
    "\n",
    "https://github.com/hczheng/Rong360/blob/master/code/xgboost2.ipynb"
   ]
  },
  {
   "cell_type": "code",
   "execution_count": 3,
   "metadata": {
    "ExecuteTime": {
     "end_time": "2021-09-06T08:59:24.585333Z",
     "start_time": "2021-09-06T08:59:18.268526Z"
    }
   },
   "outputs": [],
   "source": [
    "## 读取特征矩阵\n",
    "# data 中的时间范围为 2021-05-18 到 2021-06-26\n",
    "\n",
    "with open('dataset/train_temp.pkl', 'rb') as file:\n",
    "    data = pickle.load(file)\n",
    "    \n",
    "df = data.copy()"
   ]
  },
  {
   "cell_type": "code",
   "execution_count": 4,
   "metadata": {
    "ExecuteTime": {
     "end_time": "2021-09-06T08:59:24.591843Z",
     "start_time": "2021-09-06T08:59:24.587638Z"
    }
   },
   "outputs": [],
   "source": [
    "all_col=[\n",
    "         \"p_gender\",\"age_level\",\"businessman\",\"passenger_os_type\",\"city_id\",\"res_id\",\"slide_id\",\n",
    "         \"business_id\",\"weekday\",\"dayofyear\",\"monthofyear\",\n",
    "         \"request_sum_7\",\"request_sum_6\",\"request_sum_5\",\"request_sum_4\",\"request_sum_3\",\"request_sum_2\",\"request_mean_7d\",\"last_1m_sum\"\n",
    "        ]\n",
    "cat_col=[\"p_gender\",\"age_level\",\"businessman\",\"passenger_os_type\",\"city_id\",\"res_id\",\n",
    "         \"slide_id\",\"business_id\",\"weekday\",\"dayofyear\",\"monthofyear\"]\n",
    "\n",
    "seq_col=[\"request_sum_7\",\"request_sum_6\",\"request_sum_5\",\"request_sum_4\",\"request_sum_3\",\n",
    "            \"request_sum_2\",\"request_num\",\"request_mean_7d\",\"last_1m_sum\"]"
   ]
  },
  {
   "cell_type": "code",
   "execution_count": 5,
   "metadata": {
    "ExecuteTime": {
     "end_time": "2021-09-06T08:59:24.655769Z",
     "start_time": "2021-09-06T08:59:24.593616Z"
    }
   },
   "outputs": [
    {
     "data": {
      "text/html": [
       "<div>\n",
       "<style scoped>\n",
       "    .dataframe tbody tr th:only-of-type {\n",
       "        vertical-align: middle;\n",
       "    }\n",
       "\n",
       "    .dataframe tbody tr th {\n",
       "        vertical-align: top;\n",
       "    }\n",
       "\n",
       "    .dataframe thead th {\n",
       "        text-align: right;\n",
       "    }\n",
       "</style>\n",
       "<table border=\"1\" class=\"dataframe\">\n",
       "  <thead>\n",
       "    <tr style=\"text-align: right;\">\n",
       "      <th></th>\n",
       "      <th>p_gender</th>\n",
       "      <th>age_level</th>\n",
       "      <th>businessman</th>\n",
       "      <th>passenger_os_type</th>\n",
       "      <th>city_id</th>\n",
       "      <th>res_id</th>\n",
       "      <th>slide_id</th>\n",
       "      <th>business_id</th>\n",
       "      <th>weekday</th>\n",
       "      <th>dayofyear</th>\n",
       "      <th>monthofyear</th>\n",
       "      <th>request_num</th>\n",
       "      <th>request_sum_7</th>\n",
       "      <th>request_sum_6</th>\n",
       "      <th>request_sum_5</th>\n",
       "      <th>request_sum_4</th>\n",
       "      <th>request_sum_3</th>\n",
       "      <th>request_sum_2</th>\n",
       "      <th>request_mean_7d</th>\n",
       "      <th>last_1m_sum</th>\n",
       "    </tr>\n",
       "  </thead>\n",
       "  <tbody>\n",
       "    <tr>\n",
       "      <th>0</th>\n",
       "      <td>-1</td>\n",
       "      <td>3</td>\n",
       "      <td>0</td>\n",
       "      <td>1</td>\n",
       "      <td>55</td>\n",
       "      <td>526</td>\n",
       "      <td>1</td>\n",
       "      <td>260</td>\n",
       "      <td>2.0</td>\n",
       "      <td>25.0</td>\n",
       "      <td>5.0</td>\n",
       "      <td>350.0</td>\n",
       "      <td>3784.0</td>\n",
       "      <td>3229.0</td>\n",
       "      <td>2607.0</td>\n",
       "      <td>2111.0</td>\n",
       "      <td>1522.0</td>\n",
       "      <td>989.0</td>\n",
       "      <td>540.571429</td>\n",
       "      <td>555.0</td>\n",
       "    </tr>\n",
       "    <tr>\n",
       "      <th>1</th>\n",
       "      <td>1</td>\n",
       "      <td>5</td>\n",
       "      <td>1</td>\n",
       "      <td>101</td>\n",
       "      <td>263</td>\n",
       "      <td>50</td>\n",
       "      <td>1</td>\n",
       "      <td>260</td>\n",
       "      <td>2.0</td>\n",
       "      <td>25.0</td>\n",
       "      <td>5.0</td>\n",
       "      <td>174.0</td>\n",
       "      <td>1373.0</td>\n",
       "      <td>1224.0</td>\n",
       "      <td>1050.0</td>\n",
       "      <td>838.0</td>\n",
       "      <td>582.0</td>\n",
       "      <td>371.0</td>\n",
       "      <td>196.142857</td>\n",
       "      <td>149.0</td>\n",
       "    </tr>\n",
       "    <tr>\n",
       "      <th>2</th>\n",
       "      <td>-1</td>\n",
       "      <td>4</td>\n",
       "      <td>1</td>\n",
       "      <td>101</td>\n",
       "      <td>1</td>\n",
       "      <td>526</td>\n",
       "      <td>1</td>\n",
       "      <td>260</td>\n",
       "      <td>2.0</td>\n",
       "      <td>25.0</td>\n",
       "      <td>5.0</td>\n",
       "      <td>67562.0</td>\n",
       "      <td>688719.0</td>\n",
       "      <td>591316.0</td>\n",
       "      <td>484927.0</td>\n",
       "      <td>380687.0</td>\n",
       "      <td>272312.0</td>\n",
       "      <td>171681.0</td>\n",
       "      <td>98388.428571</td>\n",
       "      <td>97403.0</td>\n",
       "    </tr>\n",
       "    <tr>\n",
       "      <th>3</th>\n",
       "      <td>1</td>\n",
       "      <td>5</td>\n",
       "      <td>0</td>\n",
       "      <td>101</td>\n",
       "      <td>9</td>\n",
       "      <td>199</td>\n",
       "      <td>1</td>\n",
       "      <td>260</td>\n",
       "      <td>2.0</td>\n",
       "      <td>25.0</td>\n",
       "      <td>5.0</td>\n",
       "      <td>9090.0</td>\n",
       "      <td>71846.0</td>\n",
       "      <td>62610.0</td>\n",
       "      <td>53180.0</td>\n",
       "      <td>42414.0</td>\n",
       "      <td>31225.0</td>\n",
       "      <td>20053.0</td>\n",
       "      <td>10263.714286</td>\n",
       "      <td>9236.0</td>\n",
       "    </tr>\n",
       "    <tr>\n",
       "      <th>4</th>\n",
       "      <td>1</td>\n",
       "      <td>5</td>\n",
       "      <td>0</td>\n",
       "      <td>1</td>\n",
       "      <td>142</td>\n",
       "      <td>195</td>\n",
       "      <td>1</td>\n",
       "      <td>666</td>\n",
       "      <td>2.0</td>\n",
       "      <td>25.0</td>\n",
       "      <td>5.0</td>\n",
       "      <td>2330.0</td>\n",
       "      <td>19851.0</td>\n",
       "      <td>17465.0</td>\n",
       "      <td>14935.0</td>\n",
       "      <td>11869.0</td>\n",
       "      <td>8866.0</td>\n",
       "      <td>5786.0</td>\n",
       "      <td>2835.857143</td>\n",
       "      <td>2386.0</td>\n",
       "    </tr>\n",
       "  </tbody>\n",
       "</table>\n",
       "</div>"
      ],
      "text/plain": [
       "   p_gender  age_level  businessman  passenger_os_type  city_id  res_id  \\\n",
       "0        -1          3            0                  1       55     526   \n",
       "1         1          5            1                101      263      50   \n",
       "2        -1          4            1                101        1     526   \n",
       "3         1          5            0                101        9     199   \n",
       "4         1          5            0                  1      142     195   \n",
       "\n",
       "   slide_id  business_id  weekday  dayofyear  monthofyear  request_num  \\\n",
       "0         1          260      2.0       25.0          5.0        350.0   \n",
       "1         1          260      2.0       25.0          5.0        174.0   \n",
       "2         1          260      2.0       25.0          5.0      67562.0   \n",
       "3         1          260      2.0       25.0          5.0       9090.0   \n",
       "4         1          666      2.0       25.0          5.0       2330.0   \n",
       "\n",
       "   request_sum_7  request_sum_6  request_sum_5  request_sum_4  request_sum_3  \\\n",
       "0         3784.0         3229.0         2607.0         2111.0         1522.0   \n",
       "1         1373.0         1224.0         1050.0          838.0          582.0   \n",
       "2       688719.0       591316.0       484927.0       380687.0       272312.0   \n",
       "3        71846.0        62610.0        53180.0        42414.0        31225.0   \n",
       "4        19851.0        17465.0        14935.0        11869.0         8866.0   \n",
       "\n",
       "   request_sum_2  request_mean_7d  last_1m_sum  \n",
       "0          989.0       540.571429        555.0  \n",
       "1          371.0       196.142857        149.0  \n",
       "2       171681.0     98388.428571      97403.0  \n",
       "3        20053.0     10263.714286       9236.0  \n",
       "4         5786.0      2835.857143       2386.0  "
      ]
     },
     "execution_count": 5,
     "metadata": {},
     "output_type": "execute_result"
    }
   ],
   "source": [
    "df.head()"
   ]
  },
  {
   "cell_type": "code",
   "execution_count": null,
   "metadata": {},
   "outputs": [],
   "source": []
  },
  {
   "cell_type": "markdown",
   "metadata": {},
   "source": [
    "### libsvm 格式"
   ]
  },
  {
   "cell_type": "code",
   "execution_count": 6,
   "metadata": {
    "ExecuteTime": {
     "end_time": "2021-09-06T08:59:33.681075Z",
     "start_time": "2021-09-06T08:59:30.413484Z"
    }
   },
   "outputs": [],
   "source": [
    "## 类别标签数据\n",
    "dat = df[cat_col]"
   ]
  },
  {
   "cell_type": "code",
   "execution_count": 7,
   "metadata": {
    "ExecuteTime": {
     "end_time": "2021-09-06T08:59:33.730952Z",
     "start_time": "2021-09-06T08:59:33.683029Z"
    },
    "scrolled": true
   },
   "outputs": [
    {
     "data": {
      "text/html": [
       "<div>\n",
       "<style scoped>\n",
       "    .dataframe tbody tr th:only-of-type {\n",
       "        vertical-align: middle;\n",
       "    }\n",
       "\n",
       "    .dataframe tbody tr th {\n",
       "        vertical-align: top;\n",
       "    }\n",
       "\n",
       "    .dataframe thead th {\n",
       "        text-align: right;\n",
       "    }\n",
       "</style>\n",
       "<table border=\"1\" class=\"dataframe\">\n",
       "  <thead>\n",
       "    <tr style=\"text-align: right;\">\n",
       "      <th></th>\n",
       "      <th>p_gender</th>\n",
       "      <th>age_level</th>\n",
       "      <th>businessman</th>\n",
       "      <th>passenger_os_type</th>\n",
       "      <th>city_id</th>\n",
       "      <th>res_id</th>\n",
       "      <th>slide_id</th>\n",
       "      <th>business_id</th>\n",
       "      <th>weekday</th>\n",
       "      <th>dayofyear</th>\n",
       "      <th>monthofyear</th>\n",
       "      <th>request_sum_7</th>\n",
       "      <th>request_sum_6</th>\n",
       "      <th>request_sum_5</th>\n",
       "      <th>request_sum_4</th>\n",
       "      <th>request_sum_3</th>\n",
       "      <th>request_sum_2</th>\n",
       "      <th>request_mean_7d</th>\n",
       "      <th>last_1m_sum</th>\n",
       "      <th>request_num</th>\n",
       "    </tr>\n",
       "  </thead>\n",
       "  <tbody>\n",
       "    <tr>\n",
       "      <th>1</th>\n",
       "      <td>1</td>\n",
       "      <td>5</td>\n",
       "      <td>1</td>\n",
       "      <td>101</td>\n",
       "      <td>263</td>\n",
       "      <td>50</td>\n",
       "      <td>1</td>\n",
       "      <td>260</td>\n",
       "      <td>2.0</td>\n",
       "      <td>25.0</td>\n",
       "      <td>5.0</td>\n",
       "      <td>1373.0</td>\n",
       "      <td>1224.0</td>\n",
       "      <td>1050.0</td>\n",
       "      <td>838.0</td>\n",
       "      <td>582.0</td>\n",
       "      <td>371.0</td>\n",
       "      <td>196.142857</td>\n",
       "      <td>149.0</td>\n",
       "      <td>174.0</td>\n",
       "    </tr>\n",
       "    <tr>\n",
       "      <th>2</th>\n",
       "      <td>-1</td>\n",
       "      <td>4</td>\n",
       "      <td>1</td>\n",
       "      <td>101</td>\n",
       "      <td>1</td>\n",
       "      <td>526</td>\n",
       "      <td>1</td>\n",
       "      <td>260</td>\n",
       "      <td>2.0</td>\n",
       "      <td>25.0</td>\n",
       "      <td>5.0</td>\n",
       "      <td>688719.0</td>\n",
       "      <td>591316.0</td>\n",
       "      <td>484927.0</td>\n",
       "      <td>380687.0</td>\n",
       "      <td>272312.0</td>\n",
       "      <td>171681.0</td>\n",
       "      <td>98388.428571</td>\n",
       "      <td>97403.0</td>\n",
       "      <td>67562.0</td>\n",
       "    </tr>\n",
       "    <tr>\n",
       "      <th>3</th>\n",
       "      <td>1</td>\n",
       "      <td>5</td>\n",
       "      <td>0</td>\n",
       "      <td>101</td>\n",
       "      <td>9</td>\n",
       "      <td>199</td>\n",
       "      <td>1</td>\n",
       "      <td>260</td>\n",
       "      <td>2.0</td>\n",
       "      <td>25.0</td>\n",
       "      <td>5.0</td>\n",
       "      <td>71846.0</td>\n",
       "      <td>62610.0</td>\n",
       "      <td>53180.0</td>\n",
       "      <td>42414.0</td>\n",
       "      <td>31225.0</td>\n",
       "      <td>20053.0</td>\n",
       "      <td>10263.714286</td>\n",
       "      <td>9236.0</td>\n",
       "      <td>9090.0</td>\n",
       "    </tr>\n",
       "    <tr>\n",
       "      <th>4</th>\n",
       "      <td>1</td>\n",
       "      <td>5</td>\n",
       "      <td>0</td>\n",
       "      <td>1</td>\n",
       "      <td>142</td>\n",
       "      <td>195</td>\n",
       "      <td>1</td>\n",
       "      <td>666</td>\n",
       "      <td>2.0</td>\n",
       "      <td>25.0</td>\n",
       "      <td>5.0</td>\n",
       "      <td>19851.0</td>\n",
       "      <td>17465.0</td>\n",
       "      <td>14935.0</td>\n",
       "      <td>11869.0</td>\n",
       "      <td>8866.0</td>\n",
       "      <td>5786.0</td>\n",
       "      <td>2835.857143</td>\n",
       "      <td>2386.0</td>\n",
       "      <td>2330.0</td>\n",
       "    </tr>\n",
       "    <tr>\n",
       "      <th>5</th>\n",
       "      <td>-1</td>\n",
       "      <td>5</td>\n",
       "      <td>0</td>\n",
       "      <td>101</td>\n",
       "      <td>279</td>\n",
       "      <td>405</td>\n",
       "      <td>1</td>\n",
       "      <td>260</td>\n",
       "      <td>2.0</td>\n",
       "      <td>25.0</td>\n",
       "      <td>5.0</td>\n",
       "      <td>433.0</td>\n",
       "      <td>361.0</td>\n",
       "      <td>302.0</td>\n",
       "      <td>244.0</td>\n",
       "      <td>182.0</td>\n",
       "      <td>109.0</td>\n",
       "      <td>61.857143</td>\n",
       "      <td>72.0</td>\n",
       "      <td>56.0</td>\n",
       "    </tr>\n",
       "    <tr>\n",
       "      <th>6</th>\n",
       "      <td>1</td>\n",
       "      <td>5</td>\n",
       "      <td>0</td>\n",
       "      <td>101</td>\n",
       "      <td>40</td>\n",
       "      <td>526</td>\n",
       "      <td>1</td>\n",
       "      <td>260</td>\n",
       "      <td>2.0</td>\n",
       "      <td>25.0</td>\n",
       "      <td>5.0</td>\n",
       "      <td>13458.0</td>\n",
       "      <td>11825.0</td>\n",
       "      <td>10230.0</td>\n",
       "      <td>8206.0</td>\n",
       "      <td>5983.0</td>\n",
       "      <td>3731.0</td>\n",
       "      <td>1922.571429</td>\n",
       "      <td>1633.0</td>\n",
       "      <td>943.0</td>\n",
       "    </tr>\n",
       "    <tr>\n",
       "      <th>7</th>\n",
       "      <td>1</td>\n",
       "      <td>4</td>\n",
       "      <td>1</td>\n",
       "      <td>1</td>\n",
       "      <td>4</td>\n",
       "      <td>38</td>\n",
       "      <td>1</td>\n",
       "      <td>307</td>\n",
       "      <td>2.0</td>\n",
       "      <td>25.0</td>\n",
       "      <td>5.0</td>\n",
       "      <td>11727.0</td>\n",
       "      <td>9945.0</td>\n",
       "      <td>8303.0</td>\n",
       "      <td>6567.0</td>\n",
       "      <td>4885.0</td>\n",
       "      <td>3185.0</td>\n",
       "      <td>1675.285714</td>\n",
       "      <td>1782.0</td>\n",
       "      <td>1656.0</td>\n",
       "    </tr>\n",
       "    <tr>\n",
       "      <th>8</th>\n",
       "      <td>1</td>\n",
       "      <td>5</td>\n",
       "      <td>0</td>\n",
       "      <td>101</td>\n",
       "      <td>83</td>\n",
       "      <td>50</td>\n",
       "      <td>1</td>\n",
       "      <td>260</td>\n",
       "      <td>2.0</td>\n",
       "      <td>25.0</td>\n",
       "      <td>5.0</td>\n",
       "      <td>4505.0</td>\n",
       "      <td>3988.0</td>\n",
       "      <td>3479.0</td>\n",
       "      <td>2878.0</td>\n",
       "      <td>2098.0</td>\n",
       "      <td>1262.0</td>\n",
       "      <td>643.571429</td>\n",
       "      <td>517.0</td>\n",
       "      <td>541.0</td>\n",
       "    </tr>\n",
       "    <tr>\n",
       "      <th>9</th>\n",
       "      <td>1</td>\n",
       "      <td>5</td>\n",
       "      <td>0</td>\n",
       "      <td>1</td>\n",
       "      <td>27</td>\n",
       "      <td>199</td>\n",
       "      <td>1</td>\n",
       "      <td>307</td>\n",
       "      <td>2.0</td>\n",
       "      <td>25.0</td>\n",
       "      <td>5.0</td>\n",
       "      <td>671.0</td>\n",
       "      <td>575.0</td>\n",
       "      <td>467.0</td>\n",
       "      <td>315.0</td>\n",
       "      <td>174.0</td>\n",
       "      <td>89.0</td>\n",
       "      <td>95.857143</td>\n",
       "      <td>96.0</td>\n",
       "      <td>36.0</td>\n",
       "    </tr>\n",
       "    <tr>\n",
       "      <th>10</th>\n",
       "      <td>1</td>\n",
       "      <td>5</td>\n",
       "      <td>1</td>\n",
       "      <td>101</td>\n",
       "      <td>4</td>\n",
       "      <td>245</td>\n",
       "      <td>1</td>\n",
       "      <td>260</td>\n",
       "      <td>2.0</td>\n",
       "      <td>25.0</td>\n",
       "      <td>5.0</td>\n",
       "      <td>10001.0</td>\n",
       "      <td>8616.0</td>\n",
       "      <td>7094.0</td>\n",
       "      <td>5582.0</td>\n",
       "      <td>4062.0</td>\n",
       "      <td>2655.0</td>\n",
       "      <td>1428.714286</td>\n",
       "      <td>1385.0</td>\n",
       "      <td>1250.0</td>\n",
       "    </tr>\n",
       "    <tr>\n",
       "      <th>11</th>\n",
       "      <td>-1</td>\n",
       "      <td>4</td>\n",
       "      <td>0</td>\n",
       "      <td>101</td>\n",
       "      <td>21</td>\n",
       "      <td>197</td>\n",
       "      <td>1</td>\n",
       "      <td>666</td>\n",
       "      <td>2.0</td>\n",
       "      <td>25.0</td>\n",
       "      <td>5.0</td>\n",
       "      <td>43429.0</td>\n",
       "      <td>37711.0</td>\n",
       "      <td>31990.0</td>\n",
       "      <td>25784.0</td>\n",
       "      <td>18985.0</td>\n",
       "      <td>11618.0</td>\n",
       "      <td>6204.142857</td>\n",
       "      <td>5718.0</td>\n",
       "      <td>5503.0</td>\n",
       "    </tr>\n",
       "    <tr>\n",
       "      <th>12</th>\n",
       "      <td>1</td>\n",
       "      <td>6</td>\n",
       "      <td>1</td>\n",
       "      <td>101</td>\n",
       "      <td>154</td>\n",
       "      <td>213</td>\n",
       "      <td>1</td>\n",
       "      <td>260</td>\n",
       "      <td>2.0</td>\n",
       "      <td>25.0</td>\n",
       "      <td>5.0</td>\n",
       "      <td>13.0</td>\n",
       "      <td>13.0</td>\n",
       "      <td>11.0</td>\n",
       "      <td>5.0</td>\n",
       "      <td>4.0</td>\n",
       "      <td>3.0</td>\n",
       "      <td>2.600000</td>\n",
       "      <td>NaN</td>\n",
       "      <td>4.0</td>\n",
       "    </tr>\n",
       "    <tr>\n",
       "      <th>13</th>\n",
       "      <td>-1</td>\n",
       "      <td>6</td>\n",
       "      <td>0</td>\n",
       "      <td>101</td>\n",
       "      <td>162</td>\n",
       "      <td>18</td>\n",
       "      <td>1</td>\n",
       "      <td>256</td>\n",
       "      <td>2.0</td>\n",
       "      <td>25.0</td>\n",
       "      <td>5.0</td>\n",
       "      <td>2718.0</td>\n",
       "      <td>2406.0</td>\n",
       "      <td>2094.0</td>\n",
       "      <td>1720.0</td>\n",
       "      <td>1288.0</td>\n",
       "      <td>772.0</td>\n",
       "      <td>388.285714</td>\n",
       "      <td>312.0</td>\n",
       "      <td>316.0</td>\n",
       "    </tr>\n",
       "    <tr>\n",
       "      <th>14</th>\n",
       "      <td>1</td>\n",
       "      <td>3</td>\n",
       "      <td>0</td>\n",
       "      <td>101</td>\n",
       "      <td>48</td>\n",
       "      <td>195</td>\n",
       "      <td>1</td>\n",
       "      <td>260</td>\n",
       "      <td>2.0</td>\n",
       "      <td>25.0</td>\n",
       "      <td>5.0</td>\n",
       "      <td>284.0</td>\n",
       "      <td>248.0</td>\n",
       "      <td>221.0</td>\n",
       "      <td>187.0</td>\n",
       "      <td>146.0</td>\n",
       "      <td>105.0</td>\n",
       "      <td>40.571429</td>\n",
       "      <td>36.0</td>\n",
       "      <td>29.0</td>\n",
       "    </tr>\n",
       "    <tr>\n",
       "      <th>15</th>\n",
       "      <td>1</td>\n",
       "      <td>6</td>\n",
       "      <td>0</td>\n",
       "      <td>1</td>\n",
       "      <td>100</td>\n",
       "      <td>259</td>\n",
       "      <td>2</td>\n",
       "      <td>307</td>\n",
       "      <td>2.0</td>\n",
       "      <td>25.0</td>\n",
       "      <td>5.0</td>\n",
       "      <td>74.0</td>\n",
       "      <td>67.0</td>\n",
       "      <td>53.0</td>\n",
       "      <td>49.0</td>\n",
       "      <td>38.0</td>\n",
       "      <td>25.0</td>\n",
       "      <td>10.571429</td>\n",
       "      <td>7.0</td>\n",
       "      <td>7.0</td>\n",
       "    </tr>\n",
       "    <tr>\n",
       "      <th>16</th>\n",
       "      <td>1</td>\n",
       "      <td>3</td>\n",
       "      <td>1</td>\n",
       "      <td>1</td>\n",
       "      <td>87</td>\n",
       "      <td>195</td>\n",
       "      <td>1</td>\n",
       "      <td>666</td>\n",
       "      <td>2.0</td>\n",
       "      <td>25.0</td>\n",
       "      <td>5.0</td>\n",
       "      <td>15686.0</td>\n",
       "      <td>13227.0</td>\n",
       "      <td>10800.0</td>\n",
       "      <td>8452.0</td>\n",
       "      <td>5886.0</td>\n",
       "      <td>3741.0</td>\n",
       "      <td>2240.857143</td>\n",
       "      <td>2459.0</td>\n",
       "      <td>1906.0</td>\n",
       "    </tr>\n",
       "    <tr>\n",
       "      <th>17</th>\n",
       "      <td>1</td>\n",
       "      <td>3</td>\n",
       "      <td>0</td>\n",
       "      <td>101</td>\n",
       "      <td>3</td>\n",
       "      <td>67</td>\n",
       "      <td>1</td>\n",
       "      <td>260</td>\n",
       "      <td>2.0</td>\n",
       "      <td>25.0</td>\n",
       "      <td>5.0</td>\n",
       "      <td>1459.0</td>\n",
       "      <td>1224.0</td>\n",
       "      <td>1017.0</td>\n",
       "      <td>840.0</td>\n",
       "      <td>675.0</td>\n",
       "      <td>438.0</td>\n",
       "      <td>208.428571</td>\n",
       "      <td>235.0</td>\n",
       "      <td>177.0</td>\n",
       "    </tr>\n",
       "    <tr>\n",
       "      <th>18</th>\n",
       "      <td>-1</td>\n",
       "      <td>4</td>\n",
       "      <td>1</td>\n",
       "      <td>101</td>\n",
       "      <td>2</td>\n",
       "      <td>448</td>\n",
       "      <td>1</td>\n",
       "      <td>260</td>\n",
       "      <td>2.0</td>\n",
       "      <td>25.0</td>\n",
       "      <td>5.0</td>\n",
       "      <td>17418.0</td>\n",
       "      <td>14848.0</td>\n",
       "      <td>12265.0</td>\n",
       "      <td>9474.0</td>\n",
       "      <td>6550.0</td>\n",
       "      <td>4186.0</td>\n",
       "      <td>2488.285714</td>\n",
       "      <td>2570.0</td>\n",
       "      <td>2359.0</td>\n",
       "    </tr>\n",
       "    <tr>\n",
       "      <th>19</th>\n",
       "      <td>1</td>\n",
       "      <td>6</td>\n",
       "      <td>0</td>\n",
       "      <td>1</td>\n",
       "      <td>1</td>\n",
       "      <td>199</td>\n",
       "      <td>1</td>\n",
       "      <td>307</td>\n",
       "      <td>2.0</td>\n",
       "      <td>25.0</td>\n",
       "      <td>5.0</td>\n",
       "      <td>2900.0</td>\n",
       "      <td>2374.0</td>\n",
       "      <td>1863.0</td>\n",
       "      <td>1212.0</td>\n",
       "      <td>585.0</td>\n",
       "      <td>304.0</td>\n",
       "      <td>414.285714</td>\n",
       "      <td>526.0</td>\n",
       "      <td>143.0</td>\n",
       "    </tr>\n",
       "  </tbody>\n",
       "</table>\n",
       "</div>"
      ],
      "text/plain": [
       "    p_gender  age_level  businessman  passenger_os_type  city_id  res_id  \\\n",
       "1          1          5            1                101      263      50   \n",
       "2         -1          4            1                101        1     526   \n",
       "3          1          5            0                101        9     199   \n",
       "4          1          5            0                  1      142     195   \n",
       "5         -1          5            0                101      279     405   \n",
       "6          1          5            0                101       40     526   \n",
       "7          1          4            1                  1        4      38   \n",
       "8          1          5            0                101       83      50   \n",
       "9          1          5            0                  1       27     199   \n",
       "10         1          5            1                101        4     245   \n",
       "11        -1          4            0                101       21     197   \n",
       "12         1          6            1                101      154     213   \n",
       "13        -1          6            0                101      162      18   \n",
       "14         1          3            0                101       48     195   \n",
       "15         1          6            0                  1      100     259   \n",
       "16         1          3            1                  1       87     195   \n",
       "17         1          3            0                101        3      67   \n",
       "18        -1          4            1                101        2     448   \n",
       "19         1          6            0                  1        1     199   \n",
       "\n",
       "    slide_id  business_id  weekday  dayofyear  monthofyear  request_sum_7  \\\n",
       "1          1          260      2.0       25.0          5.0         1373.0   \n",
       "2          1          260      2.0       25.0          5.0       688719.0   \n",
       "3          1          260      2.0       25.0          5.0        71846.0   \n",
       "4          1          666      2.0       25.0          5.0        19851.0   \n",
       "5          1          260      2.0       25.0          5.0          433.0   \n",
       "6          1          260      2.0       25.0          5.0        13458.0   \n",
       "7          1          307      2.0       25.0          5.0        11727.0   \n",
       "8          1          260      2.0       25.0          5.0         4505.0   \n",
       "9          1          307      2.0       25.0          5.0          671.0   \n",
       "10         1          260      2.0       25.0          5.0        10001.0   \n",
       "11         1          666      2.0       25.0          5.0        43429.0   \n",
       "12         1          260      2.0       25.0          5.0           13.0   \n",
       "13         1          256      2.0       25.0          5.0         2718.0   \n",
       "14         1          260      2.0       25.0          5.0          284.0   \n",
       "15         2          307      2.0       25.0          5.0           74.0   \n",
       "16         1          666      2.0       25.0          5.0        15686.0   \n",
       "17         1          260      2.0       25.0          5.0         1459.0   \n",
       "18         1          260      2.0       25.0          5.0        17418.0   \n",
       "19         1          307      2.0       25.0          5.0         2900.0   \n",
       "\n",
       "    request_sum_6  request_sum_5  request_sum_4  request_sum_3  request_sum_2  \\\n",
       "1          1224.0         1050.0          838.0          582.0          371.0   \n",
       "2        591316.0       484927.0       380687.0       272312.0       171681.0   \n",
       "3         62610.0        53180.0        42414.0        31225.0        20053.0   \n",
       "4         17465.0        14935.0        11869.0         8866.0         5786.0   \n",
       "5           361.0          302.0          244.0          182.0          109.0   \n",
       "6         11825.0        10230.0         8206.0         5983.0         3731.0   \n",
       "7          9945.0         8303.0         6567.0         4885.0         3185.0   \n",
       "8          3988.0         3479.0         2878.0         2098.0         1262.0   \n",
       "9           575.0          467.0          315.0          174.0           89.0   \n",
       "10         8616.0         7094.0         5582.0         4062.0         2655.0   \n",
       "11        37711.0        31990.0        25784.0        18985.0        11618.0   \n",
       "12           13.0           11.0            5.0            4.0            3.0   \n",
       "13         2406.0         2094.0         1720.0         1288.0          772.0   \n",
       "14          248.0          221.0          187.0          146.0          105.0   \n",
       "15           67.0           53.0           49.0           38.0           25.0   \n",
       "16        13227.0        10800.0         8452.0         5886.0         3741.0   \n",
       "17         1224.0         1017.0          840.0          675.0          438.0   \n",
       "18        14848.0        12265.0         9474.0         6550.0         4186.0   \n",
       "19         2374.0         1863.0         1212.0          585.0          304.0   \n",
       "\n",
       "    request_mean_7d  last_1m_sum  request_num  \n",
       "1        196.142857        149.0        174.0  \n",
       "2      98388.428571      97403.0      67562.0  \n",
       "3      10263.714286       9236.0       9090.0  \n",
       "4       2835.857143       2386.0       2330.0  \n",
       "5         61.857143         72.0         56.0  \n",
       "6       1922.571429       1633.0        943.0  \n",
       "7       1675.285714       1782.0       1656.0  \n",
       "8        643.571429        517.0        541.0  \n",
       "9         95.857143         96.0         36.0  \n",
       "10      1428.714286       1385.0       1250.0  \n",
       "11      6204.142857       5718.0       5503.0  \n",
       "12         2.600000          NaN          4.0  \n",
       "13       388.285714        312.0        316.0  \n",
       "14        40.571429         36.0         29.0  \n",
       "15        10.571429          7.0          7.0  \n",
       "16      2240.857143       2459.0       1906.0  \n",
       "17       208.428571        235.0        177.0  \n",
       "18      2488.285714       2570.0       2359.0  \n",
       "19       414.285714        526.0        143.0  "
      ]
     },
     "execution_count": 7,
     "metadata": {},
     "output_type": "execute_result"
    }
   ],
   "source": [
    "\n",
    "# 修改列顺序\n",
    "order = [\n",
    "         \"p_gender\",\"age_level\",\"businessman\",\"passenger_os_type\",\"city_id\",\"res_id\",\"slide_id\",\n",
    "         \"business_id\",\"weekday\",\"dayofyear\",\"monthofyear\",\n",
    "         \"request_sum_7\",\"request_sum_6\",\"request_sum_5\",\"request_sum_4\",\"request_sum_3\",\"request_sum_2\",\"request_mean_7d\",\"last_1m_sum\",\"request_num\"\n",
    "        ]\n",
    "dat_val = df[1:20]\n",
    "\n",
    "dat_val = dat_val[order]\n",
    "dat_val"
   ]
  },
  {
   "cell_type": "code",
   "execution_count": 13,
   "metadata": {
    "ExecuteTime": {
     "end_time": "2021-09-06T09:03:10.240608Z",
     "start_time": "2021-09-06T09:03:10.231862Z"
    }
   },
   "outputs": [],
   "source": [
    "res = dat_val.fillna('0').astype('int32' , errors='ignore' )"
   ]
  },
  {
   "cell_type": "code",
   "execution_count": 14,
   "metadata": {
    "ExecuteTime": {
     "end_time": "2021-09-06T09:03:27.316613Z",
     "start_time": "2021-09-06T09:03:27.275851Z"
    }
   },
   "outputs": [],
   "source": [
    "from sklearn.datasets import dump_svmlight_file\n",
    "\n",
    "y = res[\"request_num\"]      # y为数据的label值\n",
    "dummy = pd.get_dummies(res.iloc[:, :-1])\n",
    "mat = dummy.values\n",
    "dump_svmlight_file(mat, y, 'svm_output.libsvm', zero_based=False)"
   ]
  },
  {
   "cell_type": "code",
   "execution_count": null,
   "metadata": {},
   "outputs": [],
   "source": []
  },
  {
   "cell_type": "code",
   "execution_count": null,
   "metadata": {},
   "outputs": [],
   "source": []
  },
  {
   "cell_type": "code",
   "execution_count": 9,
   "metadata": {
    "ExecuteTime": {
     "end_time": "2021-09-06T09:00:20.169563Z",
     "start_time": "2021-09-06T09:00:20.130173Z"
    },
    "scrolled": true
   },
   "outputs": [
    {
     "ename": "ValueError",
     "evalue": "Input contains NaN, infinity or a value too large for dtype('float64').",
     "output_type": "error",
     "traceback": [
      "\u001b[0;31m---------------------------------------------------------------------------\u001b[0m",
      "\u001b[0;31mValueError\u001b[0m                                Traceback (most recent call last)",
      "\u001b[0;32m<ipython-input-9-6efc5101b148>\u001b[0m in \u001b[0;36m<module>\u001b[0;34m\u001b[0m\n\u001b[1;32m      5\u001b[0m \u001b[0mdummy\u001b[0m \u001b[0;34m=\u001b[0m \u001b[0mpd\u001b[0m\u001b[0;34m.\u001b[0m\u001b[0mget_dummies\u001b[0m\u001b[0;34m(\u001b[0m\u001b[0mdat_val\u001b[0m\u001b[0;34m.\u001b[0m\u001b[0miloc\u001b[0m\u001b[0;34m[\u001b[0m\u001b[0;34m:\u001b[0m\u001b[0;34m,\u001b[0m \u001b[0;34m:\u001b[0m\u001b[0;34m-\u001b[0m\u001b[0;36m1\u001b[0m\u001b[0;34m]\u001b[0m\u001b[0;34m)\u001b[0m\u001b[0;34m\u001b[0m\u001b[0;34m\u001b[0m\u001b[0m\n\u001b[1;32m      6\u001b[0m \u001b[0mmat\u001b[0m \u001b[0;34m=\u001b[0m \u001b[0mdummy\u001b[0m\u001b[0;34m.\u001b[0m\u001b[0mvalues\u001b[0m\u001b[0;34m\u001b[0m\u001b[0;34m\u001b[0m\u001b[0m\n\u001b[0;32m----> 7\u001b[0;31m \u001b[0mdump_svmlight_file\u001b[0m\u001b[0;34m(\u001b[0m\u001b[0mmat\u001b[0m\u001b[0;34m,\u001b[0m \u001b[0my\u001b[0m\u001b[0;34m,\u001b[0m \u001b[0;34m'svm_output.libsvm'\u001b[0m\u001b[0;34m,\u001b[0m \u001b[0mzero_based\u001b[0m\u001b[0;34m=\u001b[0m\u001b[0;32mFalse\u001b[0m\u001b[0;34m)\u001b[0m\u001b[0;34m\u001b[0m\u001b[0;34m\u001b[0m\u001b[0m\n\u001b[0m",
      "\u001b[0;32m~/miniconda3/envs/tf20/lib/python3.7/site-packages/sklearn/utils/validation.py\u001b[0m in \u001b[0;36minner_f\u001b[0;34m(*args, **kwargs)\u001b[0m\n\u001b[1;32m     61\u001b[0m             \u001b[0mextra_args\u001b[0m \u001b[0;34m=\u001b[0m \u001b[0mlen\u001b[0m\u001b[0;34m(\u001b[0m\u001b[0margs\u001b[0m\u001b[0;34m)\u001b[0m \u001b[0;34m-\u001b[0m \u001b[0mlen\u001b[0m\u001b[0;34m(\u001b[0m\u001b[0mall_args\u001b[0m\u001b[0;34m)\u001b[0m\u001b[0;34m\u001b[0m\u001b[0;34m\u001b[0m\u001b[0m\n\u001b[1;32m     62\u001b[0m             \u001b[0;32mif\u001b[0m \u001b[0mextra_args\u001b[0m \u001b[0;34m<=\u001b[0m \u001b[0;36m0\u001b[0m\u001b[0;34m:\u001b[0m\u001b[0;34m\u001b[0m\u001b[0;34m\u001b[0m\u001b[0m\n\u001b[0;32m---> 63\u001b[0;31m                 \u001b[0;32mreturn\u001b[0m \u001b[0mf\u001b[0m\u001b[0;34m(\u001b[0m\u001b[0;34m*\u001b[0m\u001b[0margs\u001b[0m\u001b[0;34m,\u001b[0m \u001b[0;34m**\u001b[0m\u001b[0mkwargs\u001b[0m\u001b[0;34m)\u001b[0m\u001b[0;34m\u001b[0m\u001b[0;34m\u001b[0m\u001b[0m\n\u001b[0m\u001b[1;32m     64\u001b[0m \u001b[0;34m\u001b[0m\u001b[0m\n\u001b[1;32m     65\u001b[0m             \u001b[0;31m# extra_args > 0\u001b[0m\u001b[0;34m\u001b[0m\u001b[0;34m\u001b[0m\u001b[0;34m\u001b[0m\u001b[0m\n",
      "\u001b[0;32m~/miniconda3/envs/tf20/lib/python3.7/site-packages/sklearn/datasets/_svmlight_format_io.py\u001b[0m in \u001b[0;36mdump_svmlight_file\u001b[0;34m(X, y, f, zero_based, comment, query_id, multilabel)\u001b[0m\n\u001b[1;32m    461\u001b[0m                              % (yval.shape,))\n\u001b[1;32m    462\u001b[0m \u001b[0;34m\u001b[0m\u001b[0m\n\u001b[0;32m--> 463\u001b[0;31m     \u001b[0mXval\u001b[0m \u001b[0;34m=\u001b[0m \u001b[0mcheck_array\u001b[0m\u001b[0;34m(\u001b[0m\u001b[0mX\u001b[0m\u001b[0;34m,\u001b[0m \u001b[0maccept_sparse\u001b[0m\u001b[0;34m=\u001b[0m\u001b[0;34m'csr'\u001b[0m\u001b[0;34m)\u001b[0m\u001b[0;34m\u001b[0m\u001b[0;34m\u001b[0m\u001b[0m\n\u001b[0m\u001b[1;32m    464\u001b[0m     \u001b[0;32mif\u001b[0m \u001b[0mXval\u001b[0m\u001b[0;34m.\u001b[0m\u001b[0mshape\u001b[0m\u001b[0;34m[\u001b[0m\u001b[0;36m0\u001b[0m\u001b[0;34m]\u001b[0m \u001b[0;34m!=\u001b[0m \u001b[0myval\u001b[0m\u001b[0;34m.\u001b[0m\u001b[0mshape\u001b[0m\u001b[0;34m[\u001b[0m\u001b[0;36m0\u001b[0m\u001b[0;34m]\u001b[0m\u001b[0;34m:\u001b[0m\u001b[0;34m\u001b[0m\u001b[0;34m\u001b[0m\u001b[0m\n\u001b[1;32m    465\u001b[0m         raise ValueError(\n",
      "\u001b[0;32m~/miniconda3/envs/tf20/lib/python3.7/site-packages/sklearn/utils/validation.py\u001b[0m in \u001b[0;36minner_f\u001b[0;34m(*args, **kwargs)\u001b[0m\n\u001b[1;32m     61\u001b[0m             \u001b[0mextra_args\u001b[0m \u001b[0;34m=\u001b[0m \u001b[0mlen\u001b[0m\u001b[0;34m(\u001b[0m\u001b[0margs\u001b[0m\u001b[0;34m)\u001b[0m \u001b[0;34m-\u001b[0m \u001b[0mlen\u001b[0m\u001b[0;34m(\u001b[0m\u001b[0mall_args\u001b[0m\u001b[0;34m)\u001b[0m\u001b[0;34m\u001b[0m\u001b[0;34m\u001b[0m\u001b[0m\n\u001b[1;32m     62\u001b[0m             \u001b[0;32mif\u001b[0m \u001b[0mextra_args\u001b[0m \u001b[0;34m<=\u001b[0m \u001b[0;36m0\u001b[0m\u001b[0;34m:\u001b[0m\u001b[0;34m\u001b[0m\u001b[0;34m\u001b[0m\u001b[0m\n\u001b[0;32m---> 63\u001b[0;31m                 \u001b[0;32mreturn\u001b[0m \u001b[0mf\u001b[0m\u001b[0;34m(\u001b[0m\u001b[0;34m*\u001b[0m\u001b[0margs\u001b[0m\u001b[0;34m,\u001b[0m \u001b[0;34m**\u001b[0m\u001b[0mkwargs\u001b[0m\u001b[0;34m)\u001b[0m\u001b[0;34m\u001b[0m\u001b[0;34m\u001b[0m\u001b[0m\n\u001b[0m\u001b[1;32m     64\u001b[0m \u001b[0;34m\u001b[0m\u001b[0m\n\u001b[1;32m     65\u001b[0m             \u001b[0;31m# extra_args > 0\u001b[0m\u001b[0;34m\u001b[0m\u001b[0;34m\u001b[0m\u001b[0;34m\u001b[0m\u001b[0m\n",
      "\u001b[0;32m~/miniconda3/envs/tf20/lib/python3.7/site-packages/sklearn/utils/validation.py\u001b[0m in \u001b[0;36mcheck_array\u001b[0;34m(array, accept_sparse, accept_large_sparse, dtype, order, copy, force_all_finite, ensure_2d, allow_nd, ensure_min_samples, ensure_min_features, estimator)\u001b[0m\n\u001b[1;32m    719\u001b[0m         \u001b[0;32mif\u001b[0m \u001b[0mforce_all_finite\u001b[0m\u001b[0;34m:\u001b[0m\u001b[0;34m\u001b[0m\u001b[0;34m\u001b[0m\u001b[0m\n\u001b[1;32m    720\u001b[0m             _assert_all_finite(array,\n\u001b[0;32m--> 721\u001b[0;31m                                allow_nan=force_all_finite == 'allow-nan')\n\u001b[0m\u001b[1;32m    722\u001b[0m \u001b[0;34m\u001b[0m\u001b[0m\n\u001b[1;32m    723\u001b[0m     \u001b[0;32mif\u001b[0m \u001b[0mensure_min_samples\u001b[0m \u001b[0;34m>\u001b[0m \u001b[0;36m0\u001b[0m\u001b[0;34m:\u001b[0m\u001b[0;34m\u001b[0m\u001b[0;34m\u001b[0m\u001b[0m\n",
      "\u001b[0;32m~/miniconda3/envs/tf20/lib/python3.7/site-packages/sklearn/utils/validation.py\u001b[0m in \u001b[0;36m_assert_all_finite\u001b[0;34m(X, allow_nan, msg_dtype)\u001b[0m\n\u001b[1;32m    104\u001b[0m                     \u001b[0mmsg_err\u001b[0m\u001b[0;34m.\u001b[0m\u001b[0mformat\u001b[0m\u001b[0;34m\u001b[0m\u001b[0;34m\u001b[0m\u001b[0m\n\u001b[1;32m    105\u001b[0m                     (type_err,\n\u001b[0;32m--> 106\u001b[0;31m                      msg_dtype if msg_dtype is not None else X.dtype)\n\u001b[0m\u001b[1;32m    107\u001b[0m             )\n\u001b[1;32m    108\u001b[0m     \u001b[0;31m# for object dtype data, we only check for NaNs (GH-13254)\u001b[0m\u001b[0;34m\u001b[0m\u001b[0;34m\u001b[0m\u001b[0;34m\u001b[0m\u001b[0m\n",
      "\u001b[0;31mValueError\u001b[0m: Input contains NaN, infinity or a value too large for dtype('float64')."
     ]
    }
   ],
   "source": [
    "# libsvm的格式\n",
    "from sklearn.datasets import dump_svmlight_file\n",
    "\n",
    "y = dat_val[\"request_num\"]      # y为数据的label值\n",
    "dummy = pd.get_dummies(dat_val.iloc[:, :-1])\n",
    "mat = dummy.values\n",
    "dump_svmlight_file(mat, y, 'svm_output.libsvm', zero_based=False) "
   ]
  },
  {
   "cell_type": "code",
   "execution_count": 11,
   "metadata": {
    "ExecuteTime": {
     "end_time": "2021-09-06T09:01:27.607905Z",
     "start_time": "2021-09-06T09:01:27.602541Z"
    }
   },
   "outputs": [
    {
     "data": {
      "text/plain": [
       "1       174.0\n",
       "2     67562.0\n",
       "3      9090.0\n",
       "4      2330.0\n",
       "5        56.0\n",
       "6       943.0\n",
       "7      1656.0\n",
       "8       541.0\n",
       "9        36.0\n",
       "10     1250.0\n",
       "11     5503.0\n",
       "12        4.0\n",
       "13      316.0\n",
       "14       29.0\n",
       "15        7.0\n",
       "16     1906.0\n",
       "17      177.0\n",
       "18     2359.0\n",
       "19      143.0\n",
       "Name: request_num, dtype: float64"
      ]
     },
     "execution_count": 11,
     "metadata": {},
     "output_type": "execute_result"
    }
   ],
   "source": [
    "y"
   ]
  },
  {
   "cell_type": "code",
   "execution_count": null,
   "metadata": {},
   "outputs": [],
   "source": []
  },
  {
   "cell_type": "code",
   "execution_count": null,
   "metadata": {},
   "outputs": [],
   "source": []
  },
  {
   "cell_type": "code",
   "execution_count": null,
   "metadata": {},
   "outputs": [],
   "source": []
  },
  {
   "cell_type": "markdown",
   "metadata": {},
   "source": [
    "### one-hot 格式"
   ]
  },
  {
   "cell_type": "code",
   "execution_count": null,
   "metadata": {},
   "outputs": [],
   "source": []
  },
  {
   "cell_type": "code",
   "execution_count": null,
   "metadata": {},
   "outputs": [],
   "source": []
  },
  {
   "cell_type": "code",
   "execution_count": null,
   "metadata": {},
   "outputs": [],
   "source": []
  },
  {
   "cell_type": "code",
   "execution_count": 25,
   "metadata": {
    "ExecuteTime": {
     "end_time": "2021-09-06T08:48:10.672366Z",
     "start_time": "2021-09-06T08:46:32.519172Z"
    }
   },
   "outputs": [
    {
     "name": "stdout",
     "output_type": "stream",
     "text": [
      "(14769015, 492)\n"
     ]
    }
   ],
   "source": [
    "# 将类别标签转化成了 one-hot 类型数据\n",
    "dataset=pd.get_dummies(df,columns=cat_col)\n",
    "print(dataset.shape)"
   ]
  },
  {
   "cell_type": "code",
   "execution_count": 26,
   "metadata": {
    "ExecuteTime": {
     "end_time": "2021-09-06T08:48:15.026315Z",
     "start_time": "2021-09-06T08:48:14.996566Z"
    }
   },
   "outputs": [
    {
     "data": {
      "text/html": [
       "<div>\n",
       "<style scoped>\n",
       "    .dataframe tbody tr th:only-of-type {\n",
       "        vertical-align: middle;\n",
       "    }\n",
       "\n",
       "    .dataframe tbody tr th {\n",
       "        vertical-align: top;\n",
       "    }\n",
       "\n",
       "    .dataframe thead th {\n",
       "        text-align: right;\n",
       "    }\n",
       "</style>\n",
       "<table border=\"1\" class=\"dataframe\">\n",
       "  <thead>\n",
       "    <tr style=\"text-align: right;\">\n",
       "      <th></th>\n",
       "      <th>request_num</th>\n",
       "      <th>request_sum_7</th>\n",
       "      <th>request_sum_6</th>\n",
       "      <th>request_sum_5</th>\n",
       "      <th>request_sum_4</th>\n",
       "      <th>request_sum_3</th>\n",
       "      <th>request_sum_2</th>\n",
       "      <th>request_mean_7d</th>\n",
       "      <th>last_1m_sum</th>\n",
       "      <th>p_gender_-1</th>\n",
       "      <th>...</th>\n",
       "      <th>dayofyear_24.0</th>\n",
       "      <th>dayofyear_25.0</th>\n",
       "      <th>dayofyear_26.0</th>\n",
       "      <th>dayofyear_27.0</th>\n",
       "      <th>dayofyear_28.0</th>\n",
       "      <th>dayofyear_29.0</th>\n",
       "      <th>dayofyear_30.0</th>\n",
       "      <th>dayofyear_31.0</th>\n",
       "      <th>monthofyear_5.0</th>\n",
       "      <th>monthofyear_6.0</th>\n",
       "    </tr>\n",
       "  </thead>\n",
       "  <tbody>\n",
       "    <tr>\n",
       "      <th>0</th>\n",
       "      <td>350.0</td>\n",
       "      <td>3784.0</td>\n",
       "      <td>3229.0</td>\n",
       "      <td>2607.0</td>\n",
       "      <td>2111.0</td>\n",
       "      <td>1522.0</td>\n",
       "      <td>989.0</td>\n",
       "      <td>540.571429</td>\n",
       "      <td>555.0</td>\n",
       "      <td>1</td>\n",
       "      <td>...</td>\n",
       "      <td>0</td>\n",
       "      <td>1</td>\n",
       "      <td>0</td>\n",
       "      <td>0</td>\n",
       "      <td>0</td>\n",
       "      <td>0</td>\n",
       "      <td>0</td>\n",
       "      <td>0</td>\n",
       "      <td>1</td>\n",
       "      <td>0</td>\n",
       "    </tr>\n",
       "    <tr>\n",
       "      <th>1</th>\n",
       "      <td>174.0</td>\n",
       "      <td>1373.0</td>\n",
       "      <td>1224.0</td>\n",
       "      <td>1050.0</td>\n",
       "      <td>838.0</td>\n",
       "      <td>582.0</td>\n",
       "      <td>371.0</td>\n",
       "      <td>196.142857</td>\n",
       "      <td>149.0</td>\n",
       "      <td>0</td>\n",
       "      <td>...</td>\n",
       "      <td>0</td>\n",
       "      <td>1</td>\n",
       "      <td>0</td>\n",
       "      <td>0</td>\n",
       "      <td>0</td>\n",
       "      <td>0</td>\n",
       "      <td>0</td>\n",
       "      <td>0</td>\n",
       "      <td>1</td>\n",
       "      <td>0</td>\n",
       "    </tr>\n",
       "    <tr>\n",
       "      <th>2</th>\n",
       "      <td>67562.0</td>\n",
       "      <td>688719.0</td>\n",
       "      <td>591316.0</td>\n",
       "      <td>484927.0</td>\n",
       "      <td>380687.0</td>\n",
       "      <td>272312.0</td>\n",
       "      <td>171681.0</td>\n",
       "      <td>98388.428571</td>\n",
       "      <td>97403.0</td>\n",
       "      <td>1</td>\n",
       "      <td>...</td>\n",
       "      <td>0</td>\n",
       "      <td>1</td>\n",
       "      <td>0</td>\n",
       "      <td>0</td>\n",
       "      <td>0</td>\n",
       "      <td>0</td>\n",
       "      <td>0</td>\n",
       "      <td>0</td>\n",
       "      <td>1</td>\n",
       "      <td>0</td>\n",
       "    </tr>\n",
       "    <tr>\n",
       "      <th>3</th>\n",
       "      <td>9090.0</td>\n",
       "      <td>71846.0</td>\n",
       "      <td>62610.0</td>\n",
       "      <td>53180.0</td>\n",
       "      <td>42414.0</td>\n",
       "      <td>31225.0</td>\n",
       "      <td>20053.0</td>\n",
       "      <td>10263.714286</td>\n",
       "      <td>9236.0</td>\n",
       "      <td>0</td>\n",
       "      <td>...</td>\n",
       "      <td>0</td>\n",
       "      <td>1</td>\n",
       "      <td>0</td>\n",
       "      <td>0</td>\n",
       "      <td>0</td>\n",
       "      <td>0</td>\n",
       "      <td>0</td>\n",
       "      <td>0</td>\n",
       "      <td>1</td>\n",
       "      <td>0</td>\n",
       "    </tr>\n",
       "    <tr>\n",
       "      <th>4</th>\n",
       "      <td>2330.0</td>\n",
       "      <td>19851.0</td>\n",
       "      <td>17465.0</td>\n",
       "      <td>14935.0</td>\n",
       "      <td>11869.0</td>\n",
       "      <td>8866.0</td>\n",
       "      <td>5786.0</td>\n",
       "      <td>2835.857143</td>\n",
       "      <td>2386.0</td>\n",
       "      <td>0</td>\n",
       "      <td>...</td>\n",
       "      <td>0</td>\n",
       "      <td>1</td>\n",
       "      <td>0</td>\n",
       "      <td>0</td>\n",
       "      <td>0</td>\n",
       "      <td>0</td>\n",
       "      <td>0</td>\n",
       "      <td>0</td>\n",
       "      <td>1</td>\n",
       "      <td>0</td>\n",
       "    </tr>\n",
       "  </tbody>\n",
       "</table>\n",
       "<p>5 rows × 492 columns</p>\n",
       "</div>"
      ],
      "text/plain": [
       "   request_num  request_sum_7  request_sum_6  request_sum_5  request_sum_4  \\\n",
       "0        350.0         3784.0         3229.0         2607.0         2111.0   \n",
       "1        174.0         1373.0         1224.0         1050.0          838.0   \n",
       "2      67562.0       688719.0       591316.0       484927.0       380687.0   \n",
       "3       9090.0        71846.0        62610.0        53180.0        42414.0   \n",
       "4       2330.0        19851.0        17465.0        14935.0        11869.0   \n",
       "\n",
       "   request_sum_3  request_sum_2  request_mean_7d  last_1m_sum  p_gender_-1  \\\n",
       "0         1522.0          989.0       540.571429        555.0            1   \n",
       "1          582.0          371.0       196.142857        149.0            0   \n",
       "2       272312.0       171681.0     98388.428571      97403.0            1   \n",
       "3        31225.0        20053.0     10263.714286       9236.0            0   \n",
       "4         8866.0         5786.0      2835.857143       2386.0            0   \n",
       "\n",
       "   ...  dayofyear_24.0  dayofyear_25.0  dayofyear_26.0  dayofyear_27.0  \\\n",
       "0  ...               0               1               0               0   \n",
       "1  ...               0               1               0               0   \n",
       "2  ...               0               1               0               0   \n",
       "3  ...               0               1               0               0   \n",
       "4  ...               0               1               0               0   \n",
       "\n",
       "   dayofyear_28.0  dayofyear_29.0  dayofyear_30.0  dayofyear_31.0  \\\n",
       "0               0               0               0               0   \n",
       "1               0               0               0               0   \n",
       "2               0               0               0               0   \n",
       "3               0               0               0               0   \n",
       "4               0               0               0               0   \n",
       "\n",
       "   monthofyear_5.0  monthofyear_6.0  \n",
       "0                1                0  \n",
       "1                1                0  \n",
       "2                1                0  \n",
       "3                1                0  \n",
       "4                1                0  \n",
       "\n",
       "[5 rows x 492 columns]"
      ]
     },
     "execution_count": 26,
     "metadata": {},
     "output_type": "execute_result"
    }
   ],
   "source": [
    "dataset.head()"
   ]
  },
  {
   "cell_type": "code",
   "execution_count": 27,
   "metadata": {
    "ExecuteTime": {
     "end_time": "2021-09-06T08:49:00.960184Z",
     "start_time": "2021-09-06T08:48:16.345241Z"
    },
    "scrolled": true
   },
   "outputs": [],
   "source": [
    "## 构造训练和验证样本集\n",
    "train_data = dataset.iloc[:-450057,:]  # 6.26之前的样本作为训练集\n",
    "val_data = dataset.iloc[-450057:,:]   # 6.26号数据做验证集\n",
    "\n",
    "num_round = 10000\n",
    "target = train_data[\"request_num\"]\n",
    "train_data = train_data.drop(\"request_num\", axis=1)\n",
    "\n",
    "target_val = val_data[\"request_num\"]\n",
    "val_data = val_data.drop(\"request_num\", axis=1)"
   ]
  },
  {
   "cell_type": "code",
   "execution_count": null,
   "metadata": {
    "ExecuteTime": {
     "start_time": "2021-09-06T08:48:18.865Z"
    }
   },
   "outputs": [],
   "source": [
    "dtrain = xgb.DMatrix(train_data, target)  # 训练集\n",
    "dval = xgb.DMatrix(val_data, target_val)  # 验证集"
   ]
  },
  {
   "cell_type": "code",
   "execution_count": null,
   "metadata": {},
   "outputs": [],
   "source": []
  },
  {
   "cell_type": "code",
   "execution_count": null,
   "metadata": {},
   "outputs": [],
   "source": []
  },
  {
   "cell_type": "markdown",
   "metadata": {},
   "source": [
    "### 训练模型"
   ]
  },
  {
   "cell_type": "code",
   "execution_count": 23,
   "metadata": {
    "ExecuteTime": {
     "end_time": "2021-09-06T10:50:22.510980Z",
     "start_time": "2021-09-06T10:50:22.506668Z"
    }
   },
   "outputs": [],
   "source": [
    "# 模型初始化\n",
    "# https://www.knowledgedict.com/tutorial/ml-xgboost-objective-param-detail.html\n",
    "\n",
    "params={\n",
    "    'booster':'gbtree',\n",
    "    'objective': 'reg:squarederror',\n",
    "    'eval_metric':'mape',\n",
    "    'gamma':0.1,\n",
    "    'min_child_weight':1.1,\n",
    "    'max_depth':7,\n",
    "    'lambda':10,\n",
    "    'subsample':0.7,\n",
    "    'colsample_bytree':0.7,\n",
    "    'colsample_bylevel':0.7,\n",
    "    'eta': 0.01,\n",
    "    'tree_method':'exact',\n",
    "    'seed':10,\n",
    "    'nthread':12\n",
    "    }\n",
    "\n",
    "\n",
    "\n",
    "num_boost_round = 200 \n",
    "\n",
    "evals = [(dtrain, 'train')]  # 训练过程中进行验证"
   ]
  },
  {
   "cell_type": "code",
   "execution_count": 24,
   "metadata": {
    "ExecuteTime": {
     "end_time": "2021-09-06T10:50:25.508552Z",
     "start_time": "2021-09-06T10:50:25.503846Z"
    }
   },
   "outputs": [
    {
     "data": {
      "text/plain": [
       "[('booster', 'gbtree'),\n",
       " ('objective', 'reg:squarederror'),\n",
       " ('eval_metric', 'mape'),\n",
       " ('gamma', 0.1),\n",
       " ('min_child_weight', 1.1),\n",
       " ('max_depth', 7),\n",
       " ('lambda', 10),\n",
       " ('subsample', 0.7),\n",
       " ('colsample_bytree', 0.7),\n",
       " ('colsample_bylevel', 0.7),\n",
       " ('eta', 0.01),\n",
       " ('tree_method', 'exact'),\n",
       " ('seed', 10),\n",
       " ('nthread', 12)]"
      ]
     },
     "execution_count": 24,
     "metadata": {},
     "output_type": "execute_result"
    }
   ],
   "source": [
    "list(params.items())"
   ]
  },
  {
   "cell_type": "code",
   "execution_count": 25,
   "metadata": {
    "ExecuteTime": {
     "end_time": "2021-09-06T10:53:39.268024Z",
     "start_time": "2021-09-06T10:50:26.639874Z"
    },
    "scrolled": true
   },
   "outputs": [
    {
     "name": "stdout",
     "output_type": "stream",
     "text": [
      "[0]\ttrain-mape:0.87164\n",
      "[1]\ttrain-mape:0.85383\n",
      "[2]\ttrain-mape:0.83091\n",
      "[3]\ttrain-mape:0.81295\n",
      "[4]\ttrain-mape:0.79442\n",
      "[5]\ttrain-mape:0.77718\n",
      "[6]\ttrain-mape:0.75956\n",
      "[7]\ttrain-mape:0.74764\n",
      "[8]\ttrain-mape:0.74330\n",
      "[9]\ttrain-mape:0.74053\n",
      "[10]\ttrain-mape:0.73584\n",
      "[11]\ttrain-mape:0.73357\n",
      "[12]\ttrain-mape:0.73069\n",
      "[13]\ttrain-mape:0.72631\n",
      "[14]\ttrain-mape:0.72137\n",
      "[15]\ttrain-mape:0.71998\n",
      "[16]\ttrain-mape:0.71620\n",
      "[17]\ttrain-mape:0.71367\n",
      "[18]\ttrain-mape:0.71274\n",
      "[19]\ttrain-mape:0.70770\n",
      "[20]\ttrain-mape:0.70539\n"
     ]
    },
    {
     "ename": "KeyboardInterrupt",
     "evalue": "",
     "output_type": "error",
     "traceback": [
      "\u001b[0;31m---------------------------------------------------------------------------\u001b[0m",
      "\u001b[0;31mKeyboardInterrupt\u001b[0m                         Traceback (most recent call last)",
      "\u001b[0;32m<ipython-input-25-dd6466e616a0>\u001b[0m in \u001b[0;36m<module>\u001b[0;34m\u001b[0m\n\u001b[1;32m      5\u001b[0m                 \u001b[0mevals\u001b[0m\u001b[0;34m=\u001b[0m\u001b[0mevals\u001b[0m\u001b[0;34m,\u001b[0m\u001b[0;34m\u001b[0m\u001b[0;34m\u001b[0m\u001b[0m\n\u001b[1;32m      6\u001b[0m                 \u001b[0mearly_stopping_rounds\u001b[0m\u001b[0;34m=\u001b[0m\u001b[0;36m100\u001b[0m\u001b[0;34m,\u001b[0m\u001b[0;34m\u001b[0m\u001b[0;34m\u001b[0m\u001b[0m\n\u001b[0;32m----> 7\u001b[0;31m                 verbose_eval=True)\n\u001b[0m",
      "\u001b[0;32m~/miniconda3/envs/tf20/lib/python3.7/site-packages/xgboost/training.py\u001b[0m in \u001b[0;36mtrain\u001b[0;34m(params, dtrain, num_boost_round, evals, obj, feval, maximize, early_stopping_rounds, evals_result, verbose_eval, xgb_model, callbacks)\u001b[0m\n\u001b[1;32m    195\u001b[0m                           \u001b[0mevals_result\u001b[0m\u001b[0;34m=\u001b[0m\u001b[0mevals_result\u001b[0m\u001b[0;34m,\u001b[0m\u001b[0;34m\u001b[0m\u001b[0;34m\u001b[0m\u001b[0m\n\u001b[1;32m    196\u001b[0m                           \u001b[0mmaximize\u001b[0m\u001b[0;34m=\u001b[0m\u001b[0mmaximize\u001b[0m\u001b[0;34m,\u001b[0m\u001b[0;34m\u001b[0m\u001b[0;34m\u001b[0m\u001b[0m\n\u001b[0;32m--> 197\u001b[0;31m                           early_stopping_rounds=early_stopping_rounds)\n\u001b[0m\u001b[1;32m    198\u001b[0m     \u001b[0;32mreturn\u001b[0m \u001b[0mbst\u001b[0m\u001b[0;34m\u001b[0m\u001b[0;34m\u001b[0m\u001b[0m\n\u001b[1;32m    199\u001b[0m \u001b[0;34m\u001b[0m\u001b[0m\n",
      "\u001b[0;32m~/miniconda3/envs/tf20/lib/python3.7/site-packages/xgboost/training.py\u001b[0m in \u001b[0;36m_train_internal\u001b[0;34m(params, dtrain, num_boost_round, evals, obj, feval, xgb_model, callbacks, evals_result, maximize, verbose_eval, early_stopping_rounds)\u001b[0m\n\u001b[1;32m     79\u001b[0m         \u001b[0;32mif\u001b[0m \u001b[0mcallbacks\u001b[0m\u001b[0;34m.\u001b[0m\u001b[0mbefore_iteration\u001b[0m\u001b[0;34m(\u001b[0m\u001b[0mbst\u001b[0m\u001b[0;34m,\u001b[0m \u001b[0mi\u001b[0m\u001b[0;34m,\u001b[0m \u001b[0mdtrain\u001b[0m\u001b[0;34m,\u001b[0m \u001b[0mevals\u001b[0m\u001b[0;34m)\u001b[0m\u001b[0;34m:\u001b[0m\u001b[0;34m\u001b[0m\u001b[0;34m\u001b[0m\u001b[0m\n\u001b[1;32m     80\u001b[0m             \u001b[0;32mbreak\u001b[0m\u001b[0;34m\u001b[0m\u001b[0;34m\u001b[0m\u001b[0m\n\u001b[0;32m---> 81\u001b[0;31m         \u001b[0mbst\u001b[0m\u001b[0;34m.\u001b[0m\u001b[0mupdate\u001b[0m\u001b[0;34m(\u001b[0m\u001b[0mdtrain\u001b[0m\u001b[0;34m,\u001b[0m \u001b[0mi\u001b[0m\u001b[0;34m,\u001b[0m \u001b[0mobj\u001b[0m\u001b[0;34m)\u001b[0m\u001b[0;34m\u001b[0m\u001b[0;34m\u001b[0m\u001b[0m\n\u001b[0m\u001b[1;32m     82\u001b[0m         \u001b[0;32mif\u001b[0m \u001b[0mcallbacks\u001b[0m\u001b[0;34m.\u001b[0m\u001b[0mafter_iteration\u001b[0m\u001b[0;34m(\u001b[0m\u001b[0mbst\u001b[0m\u001b[0;34m,\u001b[0m \u001b[0mi\u001b[0m\u001b[0;34m,\u001b[0m \u001b[0mdtrain\u001b[0m\u001b[0;34m,\u001b[0m \u001b[0mevals\u001b[0m\u001b[0;34m)\u001b[0m\u001b[0;34m:\u001b[0m\u001b[0;34m\u001b[0m\u001b[0;34m\u001b[0m\u001b[0m\n\u001b[1;32m     83\u001b[0m             \u001b[0;32mbreak\u001b[0m\u001b[0;34m\u001b[0m\u001b[0;34m\u001b[0m\u001b[0m\n",
      "\u001b[0;32m~/miniconda3/envs/tf20/lib/python3.7/site-packages/xgboost/core.py\u001b[0m in \u001b[0;36mupdate\u001b[0;34m(self, dtrain, iteration, fobj)\u001b[0m\n\u001b[1;32m   1499\u001b[0m             _check_call(_LIB.XGBoosterUpdateOneIter(self.handle,\n\u001b[1;32m   1500\u001b[0m                                                     \u001b[0mctypes\u001b[0m\u001b[0;34m.\u001b[0m\u001b[0mc_int\u001b[0m\u001b[0;34m(\u001b[0m\u001b[0miteration\u001b[0m\u001b[0;34m)\u001b[0m\u001b[0;34m,\u001b[0m\u001b[0;34m\u001b[0m\u001b[0;34m\u001b[0m\u001b[0m\n\u001b[0;32m-> 1501\u001b[0;31m                                                     dtrain.handle))\n\u001b[0m\u001b[1;32m   1502\u001b[0m         \u001b[0;32melse\u001b[0m\u001b[0;34m:\u001b[0m\u001b[0;34m\u001b[0m\u001b[0;34m\u001b[0m\u001b[0m\n\u001b[1;32m   1503\u001b[0m             \u001b[0mpred\u001b[0m \u001b[0;34m=\u001b[0m \u001b[0mself\u001b[0m\u001b[0;34m.\u001b[0m\u001b[0mpredict\u001b[0m\u001b[0;34m(\u001b[0m\u001b[0mdtrain\u001b[0m\u001b[0;34m,\u001b[0m \u001b[0moutput_margin\u001b[0m\u001b[0;34m=\u001b[0m\u001b[0;32mTrue\u001b[0m\u001b[0;34m,\u001b[0m \u001b[0mtraining\u001b[0m\u001b[0;34m=\u001b[0m\u001b[0;32mTrue\u001b[0m\u001b[0;34m)\u001b[0m\u001b[0;34m\u001b[0m\u001b[0;34m\u001b[0m\u001b[0m\n",
      "\u001b[0;31mKeyboardInterrupt\u001b[0m: "
     ]
    }
   ],
   "source": [
    "# early_stopping_rounds 当设置的迭代次数较大时，early_stopping_rounds 可在一定的迭代次数内准确率没有提升就停止训练\n",
    "gbm = xgb.train(params, \n",
    "                dtrain, \n",
    "                num_boost_round, \n",
    "                evals=evals,\n",
    "                early_stopping_rounds=100, \n",
    "                verbose_eval=True)"
   ]
  },
  {
   "cell_type": "code",
   "execution_count": null,
   "metadata": {},
   "outputs": [],
   "source": []
  },
  {
   "cell_type": "code",
   "execution_count": 40,
   "metadata": {
    "ExecuteTime": {
     "end_time": "2021-09-06T05:57:18.340829Z",
     "start_time": "2021-09-06T05:57:17.833041Z"
    }
   },
   "outputs": [
    {
     "data": {
      "image/png": "[encoded data removed]",
      "text/plain": [
       "<Figure size 640x480 with 1 Axes>"
      ]
     },
     "metadata": {},
     "output_type": "display_data"
    }
   ],
   "source": [
    "# 使用XGBoost内置的特征重要性绘图函数\n",
    "\n",
    "# plot feature importance using built-in function\n",
    "from xgboost import plot_importance\n",
    "import matplotlib.pyplot as plt\n",
    "\n",
    "plot_importance(gbm)\n",
    "plt.show()"
   ]
  },
  {
   "cell_type": "code",
   "execution_count": null,
   "metadata": {},
   "outputs": [],
   "source": []
  },
  {
   "cell_type": "code",
   "execution_count": 41,
   "metadata": {
    "ExecuteTime": {
     "end_time": "2021-09-06T05:57:26.549339Z",
     "start_time": "2021-09-06T05:57:26.532043Z"
    }
   },
   "outputs": [],
   "source": [
    "# 模型保存\n",
    "save_path = \"dataset/model_regression_xgb_soft_v1.model\"\n",
    "gbm.save_model(save_path)\n",
    "\n",
    "\n",
    "# # 模型读取\n",
    "# gbm = xgb.Booster(model_file=save_path)"
   ]
  },
  {
   "cell_type": "code",
   "execution_count": 48,
   "metadata": {
    "ExecuteTime": {
     "end_time": "2021-09-06T06:01:17.849700Z",
     "start_time": "2021-09-06T06:01:17.831855Z"
    }
   },
   "outputs": [
    {
     "data": {
      "text/plain": [
       "array([15.790342  , 15.847866  , 15.0799265 , ...,  0.81213015,\n",
       "        1.6460612 ,  1.6846675 ], dtype=float32)"
      ]
     },
     "execution_count": 48,
     "metadata": {},
     "output_type": "execute_result"
    }
   ],
   "source": [
    "pred_data = gbm.predict(dval)\n",
    "pred_data_true = np.expm1(pred_data)\n",
    "pred_data_true"
   ]
  },
  {
   "cell_type": "code",
   "execution_count": 49,
   "metadata": {
    "ExecuteTime": {
     "end_time": "2021-09-06T06:01:21.241032Z",
     "start_time": "2021-09-06T06:01:21.223664Z"
    }
   },
   "outputs": [
    {
     "data": {
      "text/plain": [
       "0          1051.0\n",
       "1         10973.0\n",
       "2           373.0\n",
       "3          5375.0\n",
       "4          4490.0\n",
       "           ...   \n",
       "450052        1.0\n",
       "450053        1.0\n",
       "450054        1.0\n",
       "450055        1.0\n",
       "450056        1.0\n",
       "Name: request_num, Length: 450057, dtype: float64"
      ]
     },
     "execution_count": 49,
     "metadata": {},
     "output_type": "execute_result"
    }
   ],
   "source": [
    "np.expm1(target_val)"
   ]
  },
  {
   "cell_type": "code",
   "execution_count": 50,
   "metadata": {
    "ExecuteTime": {
     "end_time": "2021-09-06T06:01:56.916955Z",
     "start_time": "2021-09-06T06:01:56.894093Z"
    }
   },
   "outputs": [
    {
     "name": "stdout",
     "output_type": "stream",
     "text": [
      "The mape of prediction is: 88.02355315491046\n"
     ]
    }
   ],
   "source": [
    "print('The mape of prediction is:', mape(np.expm1(target_val), pred_data_true))"
   ]
  },
  {
   "cell_type": "code",
   "execution_count": null,
   "metadata": {},
   "outputs": [],
   "source": []
  },
  {
   "cell_type": "code",
   "execution_count": null,
   "metadata": {},
   "outputs": [],
   "source": []
  },
  {
   "cell_type": "code",
   "execution_count": null,
   "metadata": {},
   "outputs": [],
   "source": []
  },
  {
   "cell_type": "markdown",
   "metadata": {},
   "source": [
    "## 使用SQL 数据\n",
    "\n",
    "使用的是 path = \"/nfs/volume-385-2/jinguopan/data/ad_request_data/ad_regression_data_v1/\" 的sql的数据进行分析，判断使用sql 的数据和 python 脚本的结果是不是相同的。"
   ]
  },
  {
   "cell_type": "code",
   "execution_count": 17,
   "metadata": {
    "ExecuteTime": {
     "end_time": "2021-09-07T06:20:37.536903Z",
     "start_time": "2021-09-07T06:20:37.534109Z"
    }
   },
   "outputs": [],
   "source": [
    "import pandas as pd\n",
    "import xgboost as xgb\n",
    "import pickle\n",
    "import numpy as np\n",
    "import os\n",
    "\n"
   ]
  },
  {
   "cell_type": "code",
   "execution_count": 2,
   "metadata": {
    "ExecuteTime": {
     "end_time": "2021-09-07T06:52:15.243117Z",
     "start_time": "2021-09-07T06:52:15.216761Z"
    },
    "scrolled": true
   },
   "outputs": [
    {
     "name": "stdout",
     "output_type": "stream",
     "text": [
      "['dt=20210518', 'dt=20210519', 'dt=20210520', 'dt=20210521', 'dt=20210522', 'dt=20210523', 'dt=20210524', 'dt=20210525', 'dt=20210526', 'dt=20210527', 'dt=20210528', 'dt=20210529', 'dt=20210530', 'dt=20210531', 'dt=20210601', 'dt=20210602', 'dt=20210603', 'dt=20210604', 'dt=20210605', 'dt=20210606', 'dt=20210607', 'dt=20210608', 'dt=20210609', 'dt=20210610', 'dt=20210611', 'dt=20210612', 'dt=20210613', 'dt=20210614', 'dt=20210615', 'dt=20210616', 'dt=20210617', 'dt=20210618', 'dt=20210619', 'dt=20210620', 'dt=20210621', 'dt=20210622', 'dt=20210623', 'dt=20210624', 'dt=20210625', 'dt=20210626', 'dt=20210627']\n"
     ]
    }
   ],
   "source": [
    "datapath = \"/nfs/volume-385-2/jinguopan/data/ad_request_data/ad_regression_data_v1/\"\n",
    "\n",
    "train_dates= os.listdir(datapath)[-41:]; # data: 20210518-20210627\n",
    "train_dates_var = train_dates[::-1] # 倒序\n",
    "print(train_dates_var)"
   ]
  },
  {
   "cell_type": "code",
   "execution_count": 3,
   "metadata": {
    "ExecuteTime": {
     "end_time": "2021-09-07T06:53:36.337797Z",
     "start_time": "2021-09-07T06:52:15.244802Z"
    }
   },
   "outputs": [
    {
     "name": "stdout",
     "output_type": "stream",
     "text": [
      "<class 'pandas.core.frame.DataFrame'>\n",
      "Int64Index: 18349113 entries, 0 to 446089\n",
      "Data columns (total 20 columns):\n",
      " #   Column                    Dtype  \n",
      "---  ------                    -----  \n",
      " 0   p_gender                  int64  \n",
      " 1   age_level                 int64  \n",
      " 2   businessman               int64  \n",
      " 3   passenger_os_type         int64  \n",
      " 4   city_id                   int64  \n",
      " 5   res_id                    int64  \n",
      " 6   slide_id                  int64  \n",
      " 7   business_id               int64  \n",
      " 8   weekDay                   float64\n",
      " 9   dayOfyear                 float64\n",
      " 10  monthOfyear               float64\n",
      " 11  request_num               float64\n",
      " 12  request_num_2d            object \n",
      " 13  request_num_3d            object \n",
      " 14  request_num_4d            object \n",
      " 15  request_num_5d            object \n",
      " 16  request_num_6d            object \n",
      " 17  request_num_7d            object \n",
      " 18  request_num_7d_avg        object \n",
      " 19  last_week_reqeust_number  object \n",
      "dtypes: float64(4), int64(8), object(8)\n",
      "memory usage: 2.9+ GB\n"
     ]
    }
   ],
   "source": [
    "# 生成dataframe数据格式文件\n",
    "train_list=[];\n",
    "for train_date in train_dates_var:\n",
    "    datadir=os.path.join(datapath,train_date);\n",
    "    fileName=os.listdir(datadir)[0]\n",
    "    df=pd.read_csv(os.path.join(datadir,fileName),sep=\"\\t\",header=None)\n",
    "    train_list.append(df)\n",
    "data = pd.concat(train_list)\n",
    "data.columns=[\n",
    "    \"p_gender\" \n",
    "    ,\"age_level\" \n",
    "    ,\"businessman\" \n",
    "    ,\"passenger_os_type\" \n",
    "    ,\"city_id\" \n",
    "    ,\"res_id\" \n",
    "    ,\"slide_id\" \n",
    "    ,\"business_id\" \n",
    "    ,\"weekDay\" \n",
    "    ,\"dayOfyear\" \n",
    "    ,\"monthOfyear\" \n",
    "    ,\"request_num\" \n",
    "    ,\"request_num_2d\" \n",
    "    ,\"request_num_3d\" \n",
    "    ,\"request_num_4d\" \n",
    "    ,\"request_num_5d\" \n",
    "    ,\"request_num_6d\" \n",
    "    ,\"request_num_7d\" \n",
    "    ,\"request_num_7d_avg\" \n",
    "    ,\"last_week_reqeust_number\" \n",
    "]\n",
    "\n",
    "data.info()"
   ]
  },
  {
   "cell_type": "code",
   "execution_count": 4,
   "metadata": {
    "ExecuteTime": {
     "end_time": "2021-09-07T06:53:38.910692Z",
     "start_time": "2021-09-07T06:53:36.340269Z"
    }
   },
   "outputs": [],
   "source": [
    "# 预测数据集\n",
    "path =\"/nfs/volume-385-2/jinguopan/data/ad_request_data/ad_regression_data_v1/dt=20210628\"\n",
    "pre_data=pd.read_csv(os.path.join(path,os.listdir(path)[0]),sep=\"\\t\",header=None)\n",
    "pre_data.columns=[    \n",
    "    \"p_gender\" \n",
    "    ,\"age_level\" \n",
    "    ,\"businessman\" \n",
    "    ,\"passenger_os_type\" \n",
    "    ,\"city_id\" \n",
    "    ,\"res_id\" \n",
    "    ,\"slide_id\" \n",
    "    ,\"business_id\" \n",
    "    ,\"weekDay\" \n",
    "    ,\"dayOfyear\" \n",
    "    ,\"monthOfyear\" \n",
    "    ,\"request_num\" \n",
    "    ,\"request_num_2d\" \n",
    "    ,\"request_num_3d\" \n",
    "    ,\"request_num_4d\" \n",
    "    ,\"request_num_5d\" \n",
    "    ,\"request_num_6d\" \n",
    "    ,\"request_num_7d\" \n",
    "    ,\"request_num_7d_avg\" \n",
    "    ,\"last_week_reqeust_number\" \n",
    "]"
   ]
  },
  {
   "cell_type": "code",
   "execution_count": 5,
   "metadata": {
    "ExecuteTime": {
     "end_time": "2021-09-07T06:54:09.141443Z",
     "start_time": "2021-09-07T06:53:38.912346Z"
    }
   },
   "outputs": [],
   "source": [
    "## 替换空值 并且 都转化成 float64 格式数据\n",
    "\n",
    "data = pd.DataFrame(data.replace(\"\\\\N\", 0), dtype='float64')\n",
    "pre = pd.DataFrame(pre_data.replace(\"\\\\N\", 0), dtype='float64')"
   ]
  },
  {
   "cell_type": "markdown",
   "metadata": {},
   "source": [
    "### 构造数据集"
   ]
  },
  {
   "cell_type": "code",
   "execution_count": 22,
   "metadata": {
    "ExecuteTime": {
     "end_time": "2021-09-07T06:22:15.546401Z",
     "start_time": "2021-09-07T06:22:00.014778Z"
    }
   },
   "outputs": [],
   "source": [
    "all_col=[\n",
    "    \"p_gender\" \n",
    "    ,\"age_level\" \n",
    "    ,\"businessman\" \n",
    "    ,\"passenger_os_type\" \n",
    "    ,\"city_id\" \n",
    "    ,\"res_id\" \n",
    "    ,\"slide_id\" \n",
    "    ,\"business_id\" \n",
    "    ,\"weekDay\" \n",
    "    ,\"dayOfyear\" \n",
    "    ,\"monthOfyear\" \n",
    "    ,\"request_num_2d\" \n",
    "    ,\"request_num_3d\" \n",
    "    ,\"request_num_4d\" \n",
    "    ,\"request_num_5d\" \n",
    "    ,\"request_num_6d\" \n",
    "    ,\"request_num_7d\" \n",
    "    ,\"request_num_7d_avg\" \n",
    "    ,\"last_week_reqeust_number\" \n",
    "]\n",
    "\n",
    "train_target = data[\"request_num\"]\n",
    "train_data = data[all_col]\n",
    "\n",
    "pre_target = pre[\"request_num\"]\n",
    "pre_data = pre[all_col]\n",
    "\n",
    "dtrain = xgb.DMatrix(train_data, train_target)  # 训练集\n",
    "dval = xgb.DMatrix(pre_data, pre_target)  # 验证集"
   ]
  },
  {
   "cell_type": "markdown",
   "metadata": {},
   "source": [
    "### 训练模型"
   ]
  },
  {
   "cell_type": "code",
   "execution_count": 23,
   "metadata": {
    "ExecuteTime": {
     "end_time": "2021-09-07T06:22:15.585684Z",
     "start_time": "2021-09-07T06:22:15.548197Z"
    }
   },
   "outputs": [],
   "source": [
    "# 模型初始化\n",
    "params = {'objective': 'reg:squarederror', \n",
    "          'booster': 'gbtree',  \n",
    "          'eta': 0.03,  \n",
    "          'max_depth': 10, \n",
    "          'subsample': 0.9,  \n",
    "          'colsample_bytree': 0.7, \n",
    "          'eval_metric': 'mape', \n",
    "          'silent': 1,  \n",
    "          'seed': 10} \n",
    "\n",
    "num_boost_round = 200 \n",
    "\n",
    "evals = [(dtrain, 'train'), (dval, 'val')]  # 训练过程中进行验证"
   ]
  },
  {
   "cell_type": "code",
   "execution_count": 24,
   "metadata": {
    "ExecuteTime": {
     "end_time": "2021-09-07T06:37:27.295458Z",
     "start_time": "2021-09-07T06:22:37.576141Z"
    },
    "scrolled": true
   },
   "outputs": [
    {
     "name": "stdout",
     "output_type": "stream",
     "text": [
      "[06:22:37] WARNING: ../src/learner.cc:573: \n",
      "Parameters: { \"silent\" } might not be used.\n",
      "\n",
      "  This may not be accurate due to some parameters are only used in language bindings but\n",
      "  passed down to XGBoost core.  Or some parameters are not used but slip through this\n",
      "  verification. Please open an issue if you find above cases.\n",
      "\n",
      "\n",
      "[0]\ttrain-mape:0.84097\tval-mape:0.85136\n",
      "[1]\ttrain-mape:0.80392\tval-mape:0.81538\n",
      "[2]\ttrain-mape:0.76762\tval-mape:0.78135\n",
      "[3]\ttrain-mape:0.74344\tval-mape:0.74933\n",
      "[4]\ttrain-mape:0.71952\tval-mape:0.72015\n",
      "[5]\ttrain-mape:0.70071\tval-mape:0.69324\n",
      "[6]\ttrain-mape:0.68150\tval-mape:0.66840\n",
      "[7]\ttrain-mape:0.66743\tval-mape:0.64357\n",
      "[8]\ttrain-mape:0.65610\tval-mape:0.62293\n",
      "[9]\ttrain-mape:0.64844\tval-mape:0.61019\n",
      "[10]\ttrain-mape:0.64211\tval-mape:0.59819\n",
      "[11]\ttrain-mape:0.63706\tval-mape:0.58678\n",
      "[12]\ttrain-mape:0.63164\tval-mape:0.57561\n",
      "[13]\ttrain-mape:0.62522\tval-mape:0.56575\n",
      "[14]\ttrain-mape:0.62028\tval-mape:0.55651\n",
      "[15]\ttrain-mape:0.61942\tval-mape:0.54833\n",
      "[16]\ttrain-mape:0.61726\tval-mape:0.54455\n",
      "[17]\ttrain-mape:0.61306\tval-mape:0.53684\n",
      "[18]\ttrain-mape:0.61271\tval-mape:0.53284\n",
      "[19]\ttrain-mape:0.61220\tval-mape:0.53404\n",
      "[20]\ttrain-mape:0.61246\tval-mape:0.53337\n",
      "[21]\ttrain-mape:0.61684\tval-mape:0.53136\n",
      "[22]\ttrain-mape:0.61980\tval-mape:0.52963\n",
      "[23]\ttrain-mape:0.62026\tval-mape:0.52634\n",
      "[24]\ttrain-mape:0.61865\tval-mape:0.51960\n",
      "[25]\ttrain-mape:0.61769\tval-mape:0.51547\n",
      "[26]\ttrain-mape:0.61641\tval-mape:0.51160\n",
      "[27]\ttrain-mape:0.61547\tval-mape:0.50767\n",
      "[28]\ttrain-mape:0.61526\tval-mape:0.50461\n",
      "[29]\ttrain-mape:0.61957\tval-mape:0.50153\n",
      "[30]\ttrain-mape:0.61951\tval-mape:0.49840\n",
      "[31]\ttrain-mape:0.62003\tval-mape:0.49879\n",
      "[32]\ttrain-mape:0.62503\tval-mape:0.49669\n",
      "[33]\ttrain-mape:0.62862\tval-mape:0.49472\n",
      "[34]\ttrain-mape:0.62907\tval-mape:0.49173\n",
      "[35]\ttrain-mape:0.63500\tval-mape:0.49301\n",
      "[36]\ttrain-mape:0.63483\tval-mape:0.50808\n",
      "[37]\ttrain-mape:0.63709\tval-mape:0.50648\n",
      "[38]\ttrain-mape:0.63737\tval-mape:0.50192\n",
      "[39]\ttrain-mape:0.64234\tval-mape:0.50118\n",
      "[40]\ttrain-mape:0.64327\tval-mape:0.50118\n",
      "[41]\ttrain-mape:0.64479\tval-mape:0.49741\n",
      "[42]\ttrain-mape:0.64592\tval-mape:0.49598\n",
      "[43]\ttrain-mape:0.65037\tval-mape:0.49860\n",
      "[44]\ttrain-mape:0.65076\tval-mape:0.49669\n",
      "[45]\ttrain-mape:0.65145\tval-mape:0.49593\n",
      "[46]\ttrain-mape:0.65240\tval-mape:0.49510\n",
      "[47]\ttrain-mape:0.65635\tval-mape:0.49505\n",
      "[48]\ttrain-mape:0.65756\tval-mape:0.49419\n",
      "[49]\ttrain-mape:0.65840\tval-mape:0.49164\n",
      "[50]\ttrain-mape:0.65968\tval-mape:0.49042\n"
     ]
    }
   ],
   "source": [
    "gbm = xgb.train(params, \n",
    "                dtrain, \n",
    "                num_boost_round, \n",
    "                evals=evals,\n",
    "                early_stopping_rounds=50, \n",
    "                verbose_eval=True)"
   ]
  },
  {
   "cell_type": "code",
   "execution_count": 25,
   "metadata": {
    "ExecuteTime": {
     "end_time": "2021-09-07T06:39:14.398704Z",
     "start_time": "2021-09-07T06:38:35.114870Z"
    }
   },
   "outputs": [
    {
     "data": {
      "image/png": "[encoded data removed]",
      "text/plain": [
       "<Figure size 640x480 with 1 Axes>"
      ]
     },
     "metadata": {},
     "output_type": "display_data"
    }
   ],
   "source": [
    "# 使用XGBoost内置的特征重要性绘图函数\n",
    "# plot feature importance using built-in function\n",
    "from xgboost import plot_importance\n",
    "import matplotlib.pyplot as plt\n",
    "\n",
    "plot_importance(gbm)\n",
    "plt.show()"
   ]
  },
  {
   "cell_type": "code",
   "execution_count": 13,
   "metadata": {
    "ExecuteTime": {
     "end_time": "2021-09-06T03:43:39.037756Z",
     "start_time": "2021-09-06T03:43:38.995525Z"
    },
    "code_folding": [
     0
    ]
   },
   "outputs": [],
   "source": [
    "# # 模型保存\n",
    "# save_path = \"dataset/model_regression_xgb_v1.model\"\n",
    "# gbm.save_model(save_path)\n",
    "\n",
    "\n",
    "# # 模型读取\n",
    "# gbm = xgb.Booster(model_file=save_path)\n"
   ]
  },
  {
   "cell_type": "code",
   "execution_count": 26,
   "metadata": {
    "ExecuteTime": {
     "end_time": "2021-09-07T06:39:22.738559Z",
     "start_time": "2021-09-07T06:39:22.732705Z"
    }
   },
   "outputs": [],
   "source": [
    "# 定义mape检验函数\n",
    "def mape(y_true, y_pred): \n",
    "    y_true, y_pred = np.array(y_true), np.array(y_pred)\n",
    "    return np.mean(np.abs((y_true - y_pred) / y_true)) * 100\n",
    "\n",
    "# 定义wmape检验函数\n",
    "def wmape(y_true, y_pre):\n",
    "    return np.sum(y_true/np.sum(y_true)*(np.abs((y_pre-y_true)/y_true)))*100"
   ]
  },
  {
   "cell_type": "code",
   "execution_count": 27,
   "metadata": {
    "ExecuteTime": {
     "end_time": "2021-09-07T06:39:23.968122Z",
     "start_time": "2021-09-07T06:39:23.711777Z"
    }
   },
   "outputs": [
    {
     "data": {
      "text/plain": [
       "array([  5.97979  ,  33.929768 ,  11.042002 , ...,   7.6642246,\n",
       "       140.07184  ,   4.029132 ], dtype=float32)"
      ]
     },
     "execution_count": 27,
     "metadata": {},
     "output_type": "execute_result"
    }
   ],
   "source": [
    "pred_data = gbm.predict(dval)\n",
    "pred_data"
   ]
  },
  {
   "cell_type": "code",
   "execution_count": 29,
   "metadata": {
    "ExecuteTime": {
     "end_time": "2021-09-07T06:40:08.954287Z",
     "start_time": "2021-09-07T06:40:08.938167Z"
    }
   },
   "outputs": [
    {
     "name": "stdout",
     "output_type": "stream",
     "text": [
      "The mape of prediction is: 49.0422051951715\n"
     ]
    }
   ],
   "source": [
    "print('The mape of prediction is:', mape(pre_target, pred_data))"
   ]
  },
  {
   "cell_type": "code",
   "execution_count": 30,
   "metadata": {
    "ExecuteTime": {
     "end_time": "2021-09-07T06:40:11.685354Z",
     "start_time": "2021-09-07T06:40:11.187516Z"
    },
    "scrolled": true
   },
   "outputs": [
    {
     "name": "stdout",
     "output_type": "stream",
     "text": [
      "The wmape of prediction is: 37.081379072009575\n"
     ]
    }
   ],
   "source": [
    "print('The wmape of prediction is:', wmape(pre_target, pred_data))"
   ]
  },
  {
   "cell_type": "code",
   "execution_count": null,
   "metadata": {},
   "outputs": [],
   "source": []
  },
  {
   "cell_type": "code",
   "execution_count": null,
   "metadata": {},
   "outputs": [],
   "source": []
  },
  {
   "cell_type": "markdown",
   "metadata": {},
   "source": [
    "### label特征转one-hot格式"
   ]
  },
  {
   "cell_type": "code",
   "execution_count": 6,
   "metadata": {
    "ExecuteTime": {
     "end_time": "2021-09-07T06:59:08.731208Z",
     "start_time": "2021-09-07T06:56:47.787940Z"
    }
   },
   "outputs": [
    {
     "name": "stdout",
     "output_type": "stream",
     "text": [
      "(18349113, 493)\n",
      "(447975, 493)\n"
     ]
    }
   ],
   "source": [
    "cat_col=[\n",
    "    \"p_gender\" \n",
    "    ,\"age_level\" \n",
    "    ,\"businessman\" \n",
    "    ,\"passenger_os_type\" \n",
    "    ,\"city_id\" \n",
    "    ,\"res_id\" \n",
    "    ,\"slide_id\" \n",
    "    ,\"business_id\" \n",
    "    ,\"weekDay\" \n",
    "    ,\"dayOfyear\" \n",
    "    ,\"monthOfyear\" \n",
    "]\n",
    "\n",
    "# # 将类别标签转化成了 one-hot 类型数据\n",
    "# dataset=pd.get_dummies(data,columns=cat_col)\n",
    "# preset = pd.get_dummies(pre,columns=cat_col)\n",
    "\n",
    "# 由于one-hot后的值存在不同的列， 需要进行concat 后再进行 ont-hot\n",
    "res = pd.concat([data, pre])\n",
    "res = pd.get_dummies(res, columns=cat_col)\n",
    "dataset = res.iloc[:-447975,:]\n",
    "preset = res.iloc[-447975:,:]\n",
    "\n",
    "print(dataset.shape)\n",
    "print(preset.shape)"
   ]
  },
  {
   "cell_type": "code",
   "execution_count": null,
   "metadata": {},
   "outputs": [],
   "source": []
  },
  {
   "cell_type": "markdown",
   "metadata": {},
   "source": [
    "### 训练模型"
   ]
  },
  {
   "cell_type": "code",
   "execution_count": null,
   "metadata": {
    "ExecuteTime": {
     "start_time": "2021-09-07T07:04:15.781Z"
    }
   },
   "outputs": [],
   "source": [
    "# train_target = dataset[\"request_num\"]\n",
    "# train_data = dataset.drop(\"request_num\", axis=1)\n",
    "\n",
    "# pre_target = pre[\"request_num\"]\n",
    "# pre_data = pre.drop(\"request_num\", axis=1)\n",
    "\n",
    "dtrain = xgb.DMatrix(dataset.drop(\"request_num\", axis=1), dataset[\"request_num\"])  # 训练集\n",
    "dval = xgb.DMatrix(pre.drop(\"request_num\", axis=1), pre[\"request_num\"])  # 验证集"
   ]
  },
  {
   "cell_type": "code",
   "execution_count": null,
   "metadata": {},
   "outputs": [],
   "source": []
  },
  {
   "cell_type": "code",
   "execution_count": null,
   "metadata": {},
   "outputs": [],
   "source": []
  }
 ],
 "metadata": {
  "kernelspec": {
   "display_name": "Python 3",
   "language": "python",
   "name": "python3"
  },
  "language_info": {
   "codemirror_mode": {
    "name": "ipython",
    "version": 3
   },
   "file_extension": ".py",
   "mimetype": "text/x-python",
   "name": "python",
   "nbconvert_exporter": "python",
   "pygments_lexer": "ipython3",
   "version": "3.6.6"
  },
  "latex_envs": {
   "LaTeX_envs_menu_present": true,
   "autoclose": false,
   "autocomplete": true,
   "bibliofile": "biblio.bib",
   "cite_by": "apalike",
   "current_citInitial": 1,
   "eqLabelWithNumbers": true,
   "eqNumInitial": 1,
   "hotkeys": {
    "equation": "Ctrl-E",
    "itemize": "Ctrl-I"
   },
   "labels_anchors": false,
   "latex_user_defs": false,
   "report_style_numbering": false,
   "user_envs_cfg": false
  },
  "toc": {
   "base_numbering": 1,
   "nav_menu": {},
   "number_sections": true,
   "sideBar": true,
   "skip_h1_title": false,
   "title_cell": "Table of Contents",
   "title_sidebar": "Contents",
   "toc_cell": false,
   "toc_position": {},
   "toc_section_display": true,
   "toc_window_display": true
  }
 },
 "nbformat": 4,
 "nbformat_minor": 5
}
