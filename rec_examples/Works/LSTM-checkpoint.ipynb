{
 "cells": [
  {
   "cell_type": "markdown",
   "metadata": {},
   "source": [
    "# LSTM 时序预测\n",
    "时间：2021-8-12 ， 数据：请求表数据.csv<br>\n",
    "\n",
    "链接：<br>\n",
    "[1]https://nbviewer.jupyter.org/github/Schlam/LSTM-time-series-forecasting/blob/master/lstm_300_epochs.ipynb 多目标的预测<br>\n",
    "[2] https://github.com/search?q=Time+Series+transformer&type=Repositories <br>\n",
    "[3]https://github.com/Azure/DeepLearningForTimeSeriesForecasting/blob/master/3_RNN_encoder_decoder.ipynb <br>\n",
    "[4] https://github.com/philipperemy/keras-attention-mechanism tf2.0 lstm中添加了 attention<br>\n",
    "  \n",
    "  \n",
    "## tricks：\n",
    "(1) 使用 3 个时间段预测未来一天 <br>"
   ]
  },
  {
   "cell_type": "markdown",
   "metadata": {},
   "source": [
    "## 数据导入"
   ]
  },
  {
   "cell_type": "code",
   "execution_count": 1,
   "metadata": {
    "ExecuteTime": {
     "end_time": "2021-08-27T04:19:34.674702Z",
     "start_time": "2021-08-27T04:18:09.013686Z"
    }
   },
   "outputs": [],
   "source": [
    "import pandas as pd\n",
    "import numpy as np\n",
    "import matplotlib.pyplot as plt\n",
    "\n",
    "import tensorflow as tf\n",
    "from tensorflow import keras\n",
    "from tensorflow.keras import layers\n",
    "from sklearn.metrics import r2_score"
   ]
  },
  {
   "cell_type": "code",
   "execution_count": 2,
   "metadata": {
    "ExecuteTime": {
     "end_time": "2021-08-27T04:19:55.550919Z",
     "start_time": "2021-08-27T04:19:55.492904Z"
    },
    "scrolled": true
   },
   "outputs": [
    {
     "name": "stdout",
     "output_type": "stream",
     "text": [
      "数据长度: 48\n"
     ]
    },
    {
     "name": "stderr",
     "output_type": "stream",
     "text": [
      "/home/luban/miniconda3/envs/tf20/lib/python3.7/site-packages/ipykernel_launcher.py:2: FutureWarning: The pandas.datetime class is deprecated and will be removed from pandas in a future version. Import from datetime module instead.\n",
      "  \n"
     ]
    },
    {
     "data": {
      "text/html": [
       "<div>\n",
       "<style scoped>\n",
       "    .dataframe tbody tr th:only-of-type {\n",
       "        vertical-align: middle;\n",
       "    }\n",
       "\n",
       "    .dataframe tbody tr th {\n",
       "        vertical-align: top;\n",
       "    }\n",
       "\n",
       "    .dataframe thead th {\n",
       "        text-align: right;\n",
       "    }\n",
       "</style>\n",
       "<table border=\"1\" class=\"dataframe\">\n",
       "  <thead>\n",
       "    <tr style=\"text-align: right;\">\n",
       "      <th></th>\n",
       "      <th>impression</th>\n",
       "    </tr>\n",
       "    <tr>\n",
       "      <th>dt</th>\n",
       "      <th></th>\n",
       "    </tr>\n",
       "  </thead>\n",
       "  <tbody>\n",
       "    <tr>\n",
       "      <th>2021-05-18</th>\n",
       "      <td>228695188</td>\n",
       "    </tr>\n",
       "    <tr>\n",
       "      <th>2021-05-19</th>\n",
       "      <td>232430656</td>\n",
       "    </tr>\n",
       "    <tr>\n",
       "      <th>2021-05-20</th>\n",
       "      <td>244480422</td>\n",
       "    </tr>\n",
       "    <tr>\n",
       "      <th>2021-05-21</th>\n",
       "      <td>268542497</td>\n",
       "    </tr>\n",
       "    <tr>\n",
       "      <th>2021-05-22</th>\n",
       "      <td>254063058</td>\n",
       "    </tr>\n",
       "  </tbody>\n",
       "</table>\n",
       "</div>"
      ],
      "text/plain": [
       "            impression\n",
       "dt                    \n",
       "2021-05-18   228695188\n",
       "2021-05-19   232430656\n",
       "2021-05-20   244480422\n",
       "2021-05-21   268542497\n",
       "2021-05-22   254063058"
      ]
     },
     "execution_count": 2,
     "metadata": {},
     "output_type": "execute_result"
    }
   ],
   "source": [
    "#将时间序列做为索引\n",
    "dateparse = lambda dates: pd.datetime.strptime(dates, '%Y%m%d')\n",
    "\n",
    "data = pd.read_csv('../data/请求表预估08_09_2021.csv',\n",
    "                   parse_dates=True,\n",
    "                   date_parser=dateparse,\n",
    "                   index_col='dt',\n",
    "                   encoding='utf-8',\n",
    "                   engine='python'\n",
    "                  )\n",
    "\n",
    "data = data[1:49]\n",
    "print('数据长度:', len(data))\n",
    "data.head()"
   ]
  },
  {
   "cell_type": "code",
   "execution_count": 32,
   "metadata": {
    "ExecuteTime": {
     "end_time": "2021-08-19T03:41:37.693998Z",
     "start_time": "2021-08-19T03:41:37.687807Z"
    }
   },
   "outputs": [],
   "source": [
    "# 将时间序列的数据转化成有监督学习的训练集\n",
    "def series_to_supervised(data, n_in=3, n_out=1, dropnan=True):\n",
    "    \"\"\"\n",
    "    :param data:  原始时间序列数据\n",
    "    :param n_in:  训练样本的特征维度\n",
    "    :param n_out: 训练样本的标签\n",
    "    :param dropnan: 是否删除na的样本\n",
    "    :return: 监督学习的训练样本\n",
    "    \"\"\"\n",
    "    n_vars = 1 if type(data) is list else data.shape[1]\n",
    "    df = pd.DataFrame(data)\n",
    "    cols = list()\n",
    "    # input sequence (t-n, ... t-1)\n",
    "    for i in range(n_in, 0, -1):\n",
    "        cols.append(df.shift(i))\n",
    "    # forecast sequence (t, t+1, ... t+n)\n",
    "    for i in range(0, n_out):\n",
    "        cols.append(df.shift(-i))\n",
    "    # put it all together\n",
    "    agg = pd.concat(cols, axis=1)\n",
    "    # drop rows with NaN values\n",
    "    if dropnan:\n",
    "        agg.dropna(inplace=True)\n",
    "\n",
    "    return pd.DataFrame(agg.values, index=data.index[:len(data)-n_in-n_out +1])\n",
    "\n"
   ]
  },
  {
   "cell_type": "code",
   "execution_count": 52,
   "metadata": {
    "ExecuteTime": {
     "end_time": "2021-08-19T03:51:38.931220Z",
     "start_time": "2021-08-19T03:51:38.908418Z"
    },
    "scrolled": true
   },
   "outputs": [
    {
     "name": "stdout",
     "output_type": "stream",
     "text": [
      "41\n"
     ]
    },
    {
     "data": {
      "text/html": [
       "<div>\n",
       "<style scoped>\n",
       "    .dataframe tbody tr th:only-of-type {\n",
       "        vertical-align: middle;\n",
       "    }\n",
       "\n",
       "    .dataframe tbody tr th {\n",
       "        vertical-align: top;\n",
       "    }\n",
       "\n",
       "    .dataframe thead th {\n",
       "        text-align: right;\n",
       "    }\n",
       "</style>\n",
       "<table border=\"1\" class=\"dataframe\">\n",
       "  <thead>\n",
       "    <tr style=\"text-align: right;\">\n",
       "      <th></th>\n",
       "      <th>0</th>\n",
       "      <th>1</th>\n",
       "      <th>2</th>\n",
       "      <th>3</th>\n",
       "      <th>4</th>\n",
       "      <th>5</th>\n",
       "      <th>6</th>\n",
       "      <th>7</th>\n",
       "    </tr>\n",
       "    <tr>\n",
       "      <th>dt</th>\n",
       "      <th></th>\n",
       "      <th></th>\n",
       "      <th></th>\n",
       "      <th></th>\n",
       "      <th></th>\n",
       "      <th></th>\n",
       "      <th></th>\n",
       "      <th></th>\n",
       "    </tr>\n",
       "  </thead>\n",
       "  <tbody>\n",
       "    <tr>\n",
       "      <th>2021-05-18</th>\n",
       "      <td>228695188.0</td>\n",
       "      <td>232430656.0</td>\n",
       "      <td>244480422.0</td>\n",
       "      <td>268542497.0</td>\n",
       "      <td>254063058.0</td>\n",
       "      <td>226762069.0</td>\n",
       "      <td>216801204.0</td>\n",
       "      <td>226055523.0</td>\n",
       "    </tr>\n",
       "    <tr>\n",
       "      <th>2021-05-19</th>\n",
       "      <td>232430656.0</td>\n",
       "      <td>244480422.0</td>\n",
       "      <td>268542497.0</td>\n",
       "      <td>254063058.0</td>\n",
       "      <td>226762069.0</td>\n",
       "      <td>216801204.0</td>\n",
       "      <td>226055523.0</td>\n",
       "      <td>233257635.0</td>\n",
       "    </tr>\n",
       "    <tr>\n",
       "      <th>2021-05-20</th>\n",
       "      <td>244480422.0</td>\n",
       "      <td>268542497.0</td>\n",
       "      <td>254063058.0</td>\n",
       "      <td>226762069.0</td>\n",
       "      <td>216801204.0</td>\n",
       "      <td>226055523.0</td>\n",
       "      <td>233257635.0</td>\n",
       "      <td>235315498.0</td>\n",
       "    </tr>\n",
       "    <tr>\n",
       "      <th>2021-05-21</th>\n",
       "      <td>268542497.0</td>\n",
       "      <td>254063058.0</td>\n",
       "      <td>226762069.0</td>\n",
       "      <td>216801204.0</td>\n",
       "      <td>226055523.0</td>\n",
       "      <td>233257635.0</td>\n",
       "      <td>235315498.0</td>\n",
       "      <td>264631022.0</td>\n",
       "    </tr>\n",
       "    <tr>\n",
       "      <th>2021-05-22</th>\n",
       "      <td>254063058.0</td>\n",
       "      <td>226762069.0</td>\n",
       "      <td>216801204.0</td>\n",
       "      <td>226055523.0</td>\n",
       "      <td>233257635.0</td>\n",
       "      <td>235315498.0</td>\n",
       "      <td>264631022.0</td>\n",
       "      <td>251421708.0</td>\n",
       "    </tr>\n",
       "  </tbody>\n",
       "</table>\n",
       "</div>"
      ],
      "text/plain": [
       "                      0            1            2            3            4  \\\n",
       "dt                                                                            \n",
       "2021-05-18  228695188.0  232430656.0  244480422.0  268542497.0  254063058.0   \n",
       "2021-05-19  232430656.0  244480422.0  268542497.0  254063058.0  226762069.0   \n",
       "2021-05-20  244480422.0  268542497.0  254063058.0  226762069.0  216801204.0   \n",
       "2021-05-21  268542497.0  254063058.0  226762069.0  216801204.0  226055523.0   \n",
       "2021-05-22  254063058.0  226762069.0  216801204.0  226055523.0  233257635.0   \n",
       "\n",
       "                      5            6            7  \n",
       "dt                                                 \n",
       "2021-05-18  226762069.0  216801204.0  226055523.0  \n",
       "2021-05-19  216801204.0  226055523.0  233257635.0  \n",
       "2021-05-20  226055523.0  233257635.0  235315498.0  \n",
       "2021-05-21  233257635.0  235315498.0  264631022.0  \n",
       "2021-05-22  235315498.0  264631022.0  251421708.0  "
      ]
     },
     "execution_count": 52,
     "metadata": {},
     "output_type": "execute_result"
    }
   ],
   "source": [
    "n_in=7 # 设置使用前多少天\n",
    "n_out=1 # 设置往后预测几天\n",
    "dat = series_to_supervised(data, n_in, n_out)\n",
    "print(len(dat))\n",
    "dat.head()"
   ]
  },
  {
   "cell_type": "markdown",
   "metadata": {},
   "source": [
    "## 切片，归一化处理"
   ]
  },
  {
   "cell_type": "code",
   "execution_count": 53,
   "metadata": {
    "ExecuteTime": {
     "end_time": "2021-08-19T03:51:49.120055Z",
     "start_time": "2021-08-19T03:51:49.085017Z"
    },
    "scrolled": true
   },
   "outputs": [
    {
     "name": "stdout",
     "output_type": "stream",
     "text": [
      "                   0         1         2         3         4         5  \\\n",
      "dt                                                                       \n",
      "2021-05-18  0.851616  0.865527  0.910398  1.000000  0.960065  0.856899   \n",
      "2021-05-19  0.865527  0.910398  1.000000  0.946081  0.856899  0.819258   \n",
      "2021-05-20  0.910398  1.000000  0.946081  0.844418  0.819258  0.854229   \n",
      "2021-05-21  1.000000  0.946081  0.844418  0.807325  0.854229  0.881445   \n",
      "2021-05-22  0.946081  0.844418  0.807325  0.841787  0.881445  0.889221   \n",
      "\n",
      "                   6         7  \n",
      "dt                              \n",
      "2021-05-18  0.819258  0.854229  \n",
      "2021-05-19  0.854229  0.881445  \n",
      "2021-05-20  0.881445  0.889221  \n",
      "2021-05-21  0.889221  1.000000  \n",
      "2021-05-22  1.000000  0.950084  \n"
     ]
    }
   ],
   "source": [
    "# 归一化处理\n",
    "\"\"\"\n",
    "### Clean data by scaling each feature down to (0, 1)\n",
    "\"\"\"\n",
    "def normalize_cols(df, cols):\n",
    "    \"\"\"Scale the values of each feature\n",
    "    according to the columns max value\"\"\"\n",
    "    data = df.loc[:,cols]\n",
    "    for col in cols:\n",
    "        scaler = lambda x: x / data[col].max()\n",
    "        data[col] = data[col].apply(scaler)\n",
    "    print(data[cols].head())\n",
    "    return data[cols].values\n",
    "\n",
    "\n",
    "features = dat.columns.values[:] # columns to train model on\n",
    "X = normalize_cols(dat, features)"
   ]
  },
  {
   "cell_type": "code",
   "execution_count": 55,
   "metadata": {
    "ExecuteTime": {
     "end_time": "2021-08-19T03:52:03.498253Z",
     "start_time": "2021-08-19T03:52:03.491555Z"
    }
   },
   "outputs": [
    {
     "name": "stdout",
     "output_type": "stream",
     "text": [
      "Training data shape: (34, 7, 1)\n",
      "Validation data shape: (7, 7, 1)\n"
     ]
    }
   ],
   "source": [
    "\n",
    "\"\"\"\n",
    "### Turn each signal into a labeled dataset\n",
    "\"\"\"\n",
    "split_time = len(dat) - 7  # 将时间序列后 split_time 作为预测值\n",
    "\n",
    "# X = np.array(data)\n",
    "x_train = X[:split_time,:]\n",
    "x_test = X[split_time:,:]\n",
    "\n",
    "def transform(values):\n",
    "    return values.reshape(values.shape[0], values.shape[1], 1)\n",
    "\n",
    "train_x, train_y = transform(x_train[:, : -n_out]), x_train[:, -n_out:]\n",
    "test_x, test_y  = transform(x_test[:, : -n_out]), x_test[:, -n_out:]\n",
    "\n",
    "\n",
    "print(f\"Training data shape: {train_x.shape}\")\n",
    "print(f\"Validation data shape: {test_x.shape}\")\n"
   ]
  },
  {
   "cell_type": "markdown",
   "metadata": {},
   "source": [
    "## 模型的评价"
   ]
  },
  {
   "cell_type": "code",
   "execution_count": 56,
   "metadata": {
    "ExecuteTime": {
     "end_time": "2021-08-19T03:52:06.214525Z",
     "start_time": "2021-08-19T03:52:06.211142Z"
    }
   },
   "outputs": [],
   "source": [
    "# 定义mape检验函数\n",
    "def mape(y_true, y_pred): \n",
    "    y_true, y_pred = np.array(y_true), np.array(y_pred)\n",
    "    return np.mean(np.abs((y_true - y_pred) / y_true)) * 100"
   ]
  },
  {
   "cell_type": "markdown",
   "metadata": {},
   "source": [
    "# 选择模型"
   ]
  },
  {
   "cell_type": "markdown",
   "metadata": {
    "ExecuteTime": {
     "end_time": "2021-08-17T07:39:02.499734Z",
     "start_time": "2021-08-17T07:39:02.497214Z"
    }
   },
   "source": [
    "## 一层LSTM"
   ]
  },
  {
   "cell_type": "code",
   "execution_count": 57,
   "metadata": {
    "ExecuteTime": {
     "end_time": "2021-08-19T03:52:12.494921Z",
     "start_time": "2021-08-19T03:52:12.211649Z"
    }
   },
   "outputs": [
    {
     "name": "stdout",
     "output_type": "stream",
     "text": [
      "Model: \"sequential_2\"\n",
      "_________________________________________________________________\n",
      "Layer (type)                 Output Shape              Param #   \n",
      "=================================================================\n",
      "lstm_2 (LSTM)                (None, 64)                16896     \n",
      "_________________________________________________________________\n",
      "dense_2 (Dense)              (None, 1)                 65        \n",
      "_________________________________________________________________\n",
      "activation_2 (Activation)    (None, 1)                 0         \n",
      "=================================================================\n",
      "Total params: 16,961\n",
      "Trainable params: 16,961\n",
      "Non-trainable params: 0\n",
      "_________________________________________________________________\n"
     ]
    }
   ],
   "source": [
    "# 并定义网络结构\n",
    "model_1 = keras.Sequential()\n",
    "model_1.add(keras.layers.LSTM(64, input_shape=(train_x.shape[1], train_x.shape[2])))\n",
    "model_1.add(keras.layers.Dense(n_out))\n",
    "model_1.add(keras.layers.Activation(\"linear\"))\n",
    "model_1.summary()"
   ]
  },
  {
   "cell_type": "code",
   "execution_count": 58,
   "metadata": {
    "ExecuteTime": {
     "end_time": "2021-08-19T03:52:15.533953Z",
     "start_time": "2021-08-19T03:52:15.531331Z"
    }
   },
   "outputs": [],
   "source": [
    "## LSTM 模型\n",
    "model = model_1"
   ]
  },
  {
   "cell_type": "code",
   "execution_count": 59,
   "metadata": {
    "ExecuteTime": {
     "end_time": "2021-08-19T03:52:16.079976Z",
     "start_time": "2021-08-19T03:52:16.068074Z"
    }
   },
   "outputs": [],
   "source": [
    "model.compile(loss=\"mae\", optimizer=\"adam\")"
   ]
  },
  {
   "cell_type": "code",
   "execution_count": 60,
   "metadata": {
    "ExecuteTime": {
     "end_time": "2021-08-19T03:52:25.693194Z",
     "start_time": "2021-08-19T03:52:20.831052Z"
    },
    "scrolled": true
   },
   "outputs": [
    {
     "name": "stdout",
     "output_type": "stream",
     "text": [
      "Epoch 1/100\n",
      "1/1 [==============================] - 0s 461ms/step - loss: 0.7866 - val_loss: 0.6992\n",
      "Epoch 2/100\n",
      "1/1 [==============================] - 0s 30ms/step - loss: 0.7479 - val_loss: 0.6627\n",
      "Epoch 3/100\n",
      "1/1 [==============================] - 0s 23ms/step - loss: 0.7091 - val_loss: 0.6260\n",
      "Epoch 4/100\n",
      "1/1 [==============================] - 0s 25ms/step - loss: 0.6699 - val_loss: 0.5887\n",
      "Epoch 5/100\n",
      "1/1 [==============================] - 0s 24ms/step - loss: 0.6302 - val_loss: 0.5507\n",
      "Epoch 6/100\n",
      "1/1 [==============================] - 0s 23ms/step - loss: 0.5898 - val_loss: 0.5118\n",
      "Epoch 7/100\n",
      "1/1 [==============================] - 0s 23ms/step - loss: 0.5484 - val_loss: 0.4717\n",
      "Epoch 8/100\n",
      "1/1 [==============================] - 0s 23ms/step - loss: 0.5057 - val_loss: 0.4302\n",
      "Epoch 9/100\n",
      "1/1 [==============================] - 0s 23ms/step - loss: 0.4615 - val_loss: 0.3869\n",
      "Epoch 10/100\n",
      "1/1 [==============================] - 0s 23ms/step - loss: 0.4154 - val_loss: 0.3415\n",
      "Epoch 11/100\n",
      "1/1 [==============================] - 0s 22ms/step - loss: 0.3671 - val_loss: 0.2936\n",
      "Epoch 12/100\n",
      "1/1 [==============================] - 0s 22ms/step - loss: 0.3161 - val_loss: 0.2428\n",
      "Epoch 13/100\n",
      "1/1 [==============================] - 0s 26ms/step - loss: 0.2620 - val_loss: 0.1887\n",
      "Epoch 14/100\n",
      "1/1 [==============================] - 0s 23ms/step - loss: 0.2043 - val_loss: 0.1305\n",
      "Epoch 15/100\n",
      "1/1 [==============================] - 0s 30ms/step - loss: 0.1424 - val_loss: 0.0678\n",
      "Epoch 16/100\n",
      "1/1 [==============================] - 0s 23ms/step - loss: 0.0790 - val_loss: 0.0400\n",
      "Epoch 17/100\n",
      "1/1 [==============================] - 0s 22ms/step - loss: 0.0458 - val_loss: 0.0660\n",
      "Epoch 18/100\n",
      "1/1 [==============================] - 0s 22ms/step - loss: 0.0743 - val_loss: 0.1130\n",
      "Epoch 19/100\n",
      "1/1 [==============================] - 0s 22ms/step - loss: 0.1175 - val_loss: 0.1381\n",
      "Epoch 20/100\n",
      "1/1 [==============================] - 0s 27ms/step - loss: 0.1435 - val_loss: 0.1439\n",
      "Epoch 21/100\n",
      "1/1 [==============================] - 0s 23ms/step - loss: 0.1497 - val_loss: 0.1350\n",
      "Epoch 22/100\n",
      "1/1 [==============================] - 0s 22ms/step - loss: 0.1400 - val_loss: 0.1150\n",
      "Epoch 23/100\n",
      "1/1 [==============================] - 0s 22ms/step - loss: 0.1191 - val_loss: 0.0876\n",
      "Epoch 24/100\n",
      "1/1 [==============================] - 0s 23ms/step - loss: 0.0923 - val_loss: 0.0584\n",
      "Epoch 25/100\n",
      "1/1 [==============================] - 0s 22ms/step - loss: 0.0654 - val_loss: 0.0439\n",
      "Epoch 26/100\n",
      "1/1 [==============================] - 0s 22ms/step - loss: 0.0471 - val_loss: 0.0407\n",
      "Epoch 27/100\n",
      "1/1 [==============================] - 0s 23ms/step - loss: 0.0466 - val_loss: 0.0489\n",
      "Epoch 28/100\n",
      "1/1 [==============================] - 0s 23ms/step - loss: 0.0561 - val_loss: 0.0588\n",
      "Epoch 29/100\n",
      "1/1 [==============================] - 0s 23ms/step - loss: 0.0695 - val_loss: 0.0677\n",
      "Epoch 30/100\n",
      "1/1 [==============================] - 0s 22ms/step - loss: 0.0796 - val_loss: 0.0721\n",
      "Epoch 31/100\n",
      "1/1 [==============================] - 0s 22ms/step - loss: 0.0838 - val_loss: 0.0701\n",
      "Epoch 32/100\n",
      "1/1 [==============================] - 0s 22ms/step - loss: 0.0820 - val_loss: 0.0632\n",
      "Epoch 33/100\n",
      "1/1 [==============================] - 0s 28ms/step - loss: 0.0752 - val_loss: 0.0544\n",
      "Epoch 34/100\n",
      "1/1 [==============================] - 0s 23ms/step - loss: 0.0650 - val_loss: 0.0474\n",
      "Epoch 35/100\n",
      "1/1 [==============================] - 0s 23ms/step - loss: 0.0547 - val_loss: 0.0412\n",
      "Epoch 36/100\n",
      "1/1 [==============================] - 0s 22ms/step - loss: 0.0476 - val_loss: 0.0406\n",
      "Epoch 37/100\n",
      "1/1 [==============================] - 0s 26ms/step - loss: 0.0451 - val_loss: 0.0436\n",
      "Epoch 38/100\n",
      "1/1 [==============================] - 0s 28ms/step - loss: 0.0463 - val_loss: 0.0497\n",
      "Epoch 39/100\n",
      "1/1 [==============================] - 0s 22ms/step - loss: 0.0521 - val_loss: 0.0533\n",
      "Epoch 40/100\n",
      "1/1 [==============================] - 0s 22ms/step - loss: 0.0569 - val_loss: 0.0546\n",
      "Epoch 41/100\n",
      "1/1 [==============================] - 0s 22ms/step - loss: 0.0586 - val_loss: 0.0538\n",
      "Epoch 42/100\n",
      "1/1 [==============================] - 0s 23ms/step - loss: 0.0574 - val_loss: 0.0509\n",
      "Epoch 43/100\n",
      "1/1 [==============================] - 0s 22ms/step - loss: 0.0536 - val_loss: 0.0464\n",
      "Epoch 44/100\n",
      "1/1 [==============================] - 0s 22ms/step - loss: 0.0485 - val_loss: 0.0422\n",
      "Epoch 45/100\n",
      "1/1 [==============================] - 0s 22ms/step - loss: 0.0449 - val_loss: 0.0403\n",
      "Epoch 46/100\n",
      "1/1 [==============================] - 0s 22ms/step - loss: 0.0451 - val_loss: 0.0403\n",
      "Epoch 47/100\n",
      "1/1 [==============================] - 0s 22ms/step - loss: 0.0465 - val_loss: 0.0414\n",
      "Epoch 48/100\n",
      "1/1 [==============================] - 0s 23ms/step - loss: 0.0485 - val_loss: 0.0427\n",
      "Epoch 49/100\n",
      "1/1 [==============================] - 0s 22ms/step - loss: 0.0503 - val_loss: 0.0433\n",
      "Epoch 50/100\n",
      "1/1 [==============================] - 0s 24ms/step - loss: 0.0509 - val_loss: 0.0428\n",
      "Epoch 51/100\n",
      "1/1 [==============================] - 0s 23ms/step - loss: 0.0504 - val_loss: 0.0415\n",
      "Epoch 52/100\n",
      "1/1 [==============================] - 0s 22ms/step - loss: 0.0489 - val_loss: 0.0406\n",
      "Epoch 53/100\n",
      "1/1 [==============================] - 0s 25ms/step - loss: 0.0471 - val_loss: 0.0396\n",
      "Epoch 54/100\n",
      "1/1 [==============================] - 0s 22ms/step - loss: 0.0457 - val_loss: 0.0405\n",
      "Epoch 55/100\n",
      "1/1 [==============================] - 0s 23ms/step - loss: 0.0450 - val_loss: 0.0417\n",
      "Epoch 56/100\n",
      "1/1 [==============================] - 0s 22ms/step - loss: 0.0446 - val_loss: 0.0428\n",
      "Epoch 57/100\n",
      "1/1 [==============================] - 0s 30ms/step - loss: 0.0454 - val_loss: 0.0447\n",
      "Epoch 58/100\n",
      "1/1 [==============================] - 0s 22ms/step - loss: 0.0467 - val_loss: 0.0454\n",
      "Epoch 59/100\n",
      "1/1 [==============================] - 0s 24ms/step - loss: 0.0472 - val_loss: 0.0446\n",
      "Epoch 60/100\n",
      "1/1 [==============================] - 0s 22ms/step - loss: 0.0465 - val_loss: 0.0428\n",
      "Epoch 61/100\n",
      "1/1 [==============================] - 0s 25ms/step - loss: 0.0453 - val_loss: 0.0419\n",
      "Epoch 62/100\n",
      "1/1 [==============================] - 0s 23ms/step - loss: 0.0446 - val_loss: 0.0410\n",
      "Epoch 63/100\n",
      "1/1 [==============================] - 0s 22ms/step - loss: 0.0447 - val_loss: 0.0403\n",
      "Epoch 64/100\n",
      "1/1 [==============================] - 0s 22ms/step - loss: 0.0450 - val_loss: 0.0398\n",
      "Epoch 65/100\n",
      "1/1 [==============================] - 0s 25ms/step - loss: 0.0453 - val_loss: 0.0395\n",
      "Epoch 66/100\n",
      "1/1 [==============================] - 0s 23ms/step - loss: 0.0457 - val_loss: 0.0396\n",
      "Epoch 67/100\n",
      "1/1 [==============================] - 0s 23ms/step - loss: 0.0458 - val_loss: 0.0394\n",
      "Epoch 68/100\n",
      "1/1 [==============================] - 0s 22ms/step - loss: 0.0456 - val_loss: 0.0398\n",
      "Epoch 69/100\n",
      "1/1 [==============================] - 0s 22ms/step - loss: 0.0453 - val_loss: 0.0403\n",
      "Epoch 70/100\n",
      "1/1 [==============================] - 0s 23ms/step - loss: 0.0450 - val_loss: 0.0408\n",
      "Epoch 71/100\n",
      "1/1 [==============================] - 0s 33ms/step - loss: 0.0448 - val_loss: 0.0414\n",
      "Epoch 72/100\n",
      "1/1 [==============================] - 0s 23ms/step - loss: 0.0446 - val_loss: 0.0419\n",
      "Epoch 73/100\n",
      "1/1 [==============================] - 0s 23ms/step - loss: 0.0446 - val_loss: 0.0424\n",
      "Epoch 74/100\n",
      "1/1 [==============================] - 0s 23ms/step - loss: 0.0449 - val_loss: 0.0426\n",
      "Epoch 75/100\n",
      "1/1 [==============================] - 0s 25ms/step - loss: 0.0450 - val_loss: 0.0426\n",
      "Epoch 76/100\n",
      "1/1 [==============================] - 0s 22ms/step - loss: 0.0450 - val_loss: 0.0423\n",
      "Epoch 77/100\n",
      "1/1 [==============================] - 0s 22ms/step - loss: 0.0448 - val_loss: 0.0420\n",
      "Epoch 78/100\n",
      "1/1 [==============================] - 0s 23ms/step - loss: 0.0446 - val_loss: 0.0415\n",
      "Epoch 79/100\n",
      "1/1 [==============================] - 0s 22ms/step - loss: 0.0445 - val_loss: 0.0412\n",
      "Epoch 80/100\n",
      "1/1 [==============================] - 0s 22ms/step - loss: 0.0446 - val_loss: 0.0410\n",
      "Epoch 81/100\n",
      "1/1 [==============================] - 0s 22ms/step - loss: 0.0447 - val_loss: 0.0409\n",
      "Epoch 82/100\n",
      "1/1 [==============================] - 0s 22ms/step - loss: 0.0447 - val_loss: 0.0409\n",
      "Epoch 83/100\n",
      "1/1 [==============================] - 0s 23ms/step - loss: 0.0447 - val_loss: 0.0409\n",
      "Epoch 84/100\n",
      "1/1 [==============================] - 0s 24ms/step - loss: 0.0447 - val_loss: 0.0410\n",
      "Epoch 85/100\n",
      "1/1 [==============================] - 0s 22ms/step - loss: 0.0446 - val_loss: 0.0412\n",
      "Epoch 86/100\n",
      "1/1 [==============================] - 0s 23ms/step - loss: 0.0446 - val_loss: 0.0415\n",
      "Epoch 87/100\n",
      "1/1 [==============================] - 0s 23ms/step - loss: 0.0445 - val_loss: 0.0418\n",
      "Epoch 88/100\n",
      "1/1 [==============================] - 0s 25ms/step - loss: 0.0444 - val_loss: 0.0421\n",
      "Epoch 89/100\n",
      "1/1 [==============================] - 0s 23ms/step - loss: 0.0446 - val_loss: 0.0422\n",
      "Epoch 90/100\n",
      "1/1 [==============================] - 0s 22ms/step - loss: 0.0446 - val_loss: 0.0421\n",
      "Epoch 91/100\n",
      "1/1 [==============================] - 0s 22ms/step - loss: 0.0446 - val_loss: 0.0420\n",
      "Epoch 92/100\n",
      "1/1 [==============================] - 0s 22ms/step - loss: 0.0445 - val_loss: 0.0417\n",
      "Epoch 93/100\n",
      "1/1 [==============================] - 0s 25ms/step - loss: 0.0444 - val_loss: 0.0414\n",
      "Epoch 94/100\n",
      "1/1 [==============================] - 0s 24ms/step - loss: 0.0444 - val_loss: 0.0413\n",
      "Epoch 95/100\n",
      "1/1 [==============================] - 0s 24ms/step - loss: 0.0445 - val_loss: 0.0412\n",
      "Epoch 96/100\n",
      "1/1 [==============================] - 0s 23ms/step - loss: 0.0445 - val_loss: 0.0413\n",
      "Epoch 97/100\n",
      "1/1 [==============================] - 0s 22ms/step - loss: 0.0445 - val_loss: 0.0414\n",
      "Epoch 98/100\n",
      "1/1 [==============================] - 0s 22ms/step - loss: 0.0444 - val_loss: 0.0416\n",
      "Epoch 99/100\n",
      "1/1 [==============================] - 0s 23ms/step - loss: 0.0444 - val_loss: 0.0418\n",
      "Epoch 100/100\n",
      "1/1 [==============================] - 0s 23ms/step - loss: 0.0444 - val_loss: 0.0419\n"
     ]
    }
   ],
   "source": [
    "history = model.fit(train_x,\n",
    "                    train_y,\n",
    "                    validation_data=(test_x, test_y),\n",
    "                    epochs=100,\n",
    "                    batch_size=100,\n",
    "                    verbose=1,\n",
    "                    shuffle=False)"
   ]
  },
  {
   "cell_type": "code",
   "execution_count": 61,
   "metadata": {
    "ExecuteTime": {
     "end_time": "2021-08-19T03:52:29.163816Z",
     "start_time": "2021-08-19T03:52:28.474025Z"
    }
   },
   "outputs": [
    {
     "data": {
      "image/png": "[encoded data removed]",
      "text/plain": [
       "<Figure size 432x288 with 1 Axes>"
      ]
     },
     "metadata": {
      "needs_background": "light"
     },
     "output_type": "display_data"
    }
   ],
   "source": [
    "# 训练集和验证集的损失图\n",
    "plt.plot(history.history[\"loss\"], label=\"train loss\")\n",
    "plt.plot(history.history[\"val_loss\"], label=\"valid loss\")\n",
    "plt.legend()\n",
    "plt.show()"
   ]
  },
  {
   "cell_type": "code",
   "execution_count": 62,
   "metadata": {
    "ExecuteTime": {
     "end_time": "2021-08-19T03:52:33.296722Z",
     "start_time": "2021-08-19T03:52:33.240297Z"
    }
   },
   "outputs": [
    {
     "data": {
      "text/plain": [
       "0.04188075289130211"
      ]
     },
     "execution_count": 62,
     "metadata": {},
     "output_type": "execute_result"
    }
   ],
   "source": [
    "# test 集上的 loss\n",
    "model.evaluate(test_x, test_y , verbose=0)"
   ]
  },
  {
   "cell_type": "markdown",
   "metadata": {},
   "source": [
    "### 预测值还原"
   ]
  },
  {
   "cell_type": "code",
   "execution_count": 63,
   "metadata": {
    "ExecuteTime": {
     "end_time": "2021-08-19T03:52:39.152072Z",
     "start_time": "2021-08-19T03:52:38.731466Z"
    },
    "scrolled": true
   },
   "outputs": [
    {
     "name": "stdout",
     "output_type": "stream",
     "text": [
      "[2.50202377e+08 2.49302473e+08 2.48252781e+08 2.48276155e+08\n",
      " 2.48550471e+08 2.47925494e+08 2.47910346e+08]\n",
      "[1.89400067e+08 1.91099608e+08 2.17866198e+08 2.16771541e+08\n",
      " 1.96494562e+08 2.04728949e+08 1.98829328e+08]\n"
     ]
    }
   ],
   "source": [
    "prediction = model.predict(test_x)\n",
    "\n",
    "max_value = np.max(data.iloc[:,-1])\n",
    "min_value = np.min(data.iloc[:,-1])\n",
    "prediction = prediction[:, 0] * (max_value - min_value) + min_value\n",
    "print(prediction)\n",
    "\n",
    "# 因为 look_back 处理时会去掉值为 nan 的 input，所以这里要加上 look_back\n",
    "expectation = dat.iloc[:,-1][split_time:].values\n",
    "print(expectation)"
   ]
  },
  {
   "cell_type": "markdown",
   "metadata": {},
   "source": [
    "### 预测结果 绘图"
   ]
  },
  {
   "cell_type": "code",
   "execution_count": 65,
   "metadata": {
    "ExecuteTime": {
     "end_time": "2021-08-19T03:55:03.710053Z",
     "start_time": "2021-08-19T03:55:03.320114Z"
    },
    "scrolled": true
   },
   "outputs": [
    {
     "data": {
      "text/plain": [
       "<AxesSubplot:xlabel='dt'>"
      ]
     },
     "execution_count": 65,
     "metadata": {},
     "output_type": "execute_result"
    },
    {
     "data": {
      "image/png": "[encoded data removed]",
      "text/plain": [
       "<Figure size 864x360 with 1 Axes>"
      ]
     },
     "metadata": {
      "needs_background": "light"
     },
     "output_type": "display_data"
    }
   ],
   "source": [
    "\n",
    "train_data = data.iloc[:split_time+n_in]    #train_data \n",
    "test_data = data.iloc[split_time+n_in:]    #test_data\n",
    "\n",
    "\n",
    "#将预测结果写入到impression\n",
    "pre = test_data.copy()\n",
    "pre['impression'] = prediction\n",
    "\n",
    "\n",
    "#绘图观察时间序列数据\n",
    "train_data.plot(figsize = (12, 5), legend = True)\n",
    "pre['impression'].plot(legend = True)"
   ]
  },
  {
   "cell_type": "code",
   "execution_count": 67,
   "metadata": {
    "ExecuteTime": {
     "end_time": "2021-08-19T03:55:49.875161Z",
     "start_time": "2021-08-19T03:55:49.871419Z"
    }
   },
   "outputs": [
    {
     "name": "stdout",
     "output_type": "stream",
     "text": [
      "MAPE_model ： 23.33 %\n"
     ]
    }
   ],
   "source": [
    "print('MAPE_model ：','%.2f' % mape(expectation, prediction),'%')"
   ]
  },
  {
   "cell_type": "markdown",
   "metadata": {},
   "source": [
    "## 两层LSTM"
   ]
  },
  {
   "cell_type": "code",
   "execution_count": 68,
   "metadata": {
    "ExecuteTime": {
     "end_time": "2021-08-19T03:55:51.854434Z",
     "start_time": "2021-08-19T03:55:51.226296Z"
    },
    "scrolled": true
   },
   "outputs": [
    {
     "name": "stdout",
     "output_type": "stream",
     "text": [
      "Model: \"sequential_3\"\n",
      "_________________________________________________________________\n",
      "Layer (type)                 Output Shape              Param #   \n",
      "=================================================================\n",
      "lstm_3 (LSTM)                (None, 7, 64)             16896     \n",
      "_________________________________________________________________\n",
      "dropout (Dropout)            (None, 7, 64)             0         \n",
      "_________________________________________________________________\n",
      "lstm_4 (LSTM)                (None, 32)                12416     \n",
      "_________________________________________________________________\n",
      "dropout_1 (Dropout)          (None, 32)                0         \n",
      "_________________________________________________________________\n",
      "dense_3 (Dense)              (None, 1)                 33        \n",
      "_________________________________________________________________\n",
      "activation_3 (Activation)    (None, 1)                 0         \n",
      "=================================================================\n",
      "Total params: 29,345\n",
      "Trainable params: 29,345\n",
      "Non-trainable params: 0\n",
      "_________________________________________________________________\n"
     ]
    }
   ],
   "source": [
    "# 双层的lstm\n",
    "model_2 = keras.Sequential()\n",
    "model_2.add(keras.layers.LSTM(64, input_shape=(train_x.shape[1], train_x.shape[2]), return_sequences=True))\n",
    "model_2.add(keras.layers.Dropout(0.2))\n",
    "\n",
    "model_2.add(keras.layers.LSTM(32, return_sequences=False))\n",
    "model_2.add(keras.layers.Dropout(0.2))\n",
    "\n",
    "model_2.add(keras.layers.Dense(1))\n",
    "model_2.add(keras.layers.Activation(\"linear\"))\n",
    "model_2.summary()"
   ]
  },
  {
   "cell_type": "code",
   "execution_count": 69,
   "metadata": {
    "ExecuteTime": {
     "end_time": "2021-08-19T03:55:53.521040Z",
     "start_time": "2021-08-19T03:55:53.518430Z"
    }
   },
   "outputs": [],
   "source": [
    "## LSTM 模型\n",
    "model = model_2"
   ]
  },
  {
   "cell_type": "code",
   "execution_count": 70,
   "metadata": {
    "ExecuteTime": {
     "end_time": "2021-08-19T03:55:54.034203Z",
     "start_time": "2021-08-19T03:55:54.022213Z"
    }
   },
   "outputs": [],
   "source": [
    "model.compile(loss=\"mae\", optimizer=\"adam\")"
   ]
  },
  {
   "cell_type": "code",
   "execution_count": 71,
   "metadata": {
    "ExecuteTime": {
     "end_time": "2021-08-19T03:56:01.891214Z",
     "start_time": "2021-08-19T03:55:55.026676Z"
    }
   },
   "outputs": [
    {
     "name": "stdout",
     "output_type": "stream",
     "text": [
      "Epoch 1/100\n",
      "1/1 [==============================] - 1s 787ms/step - loss: 0.8203 - val_loss: 0.7268\n",
      "Epoch 2/100\n",
      "1/1 [==============================] - 0s 24ms/step - loss: 0.7772 - val_loss: 0.6795\n",
      "Epoch 3/100\n",
      "1/1 [==============================] - 0s 23ms/step - loss: 0.7201 - val_loss: 0.6320\n",
      "Epoch 4/100\n",
      "1/1 [==============================] - 0s 23ms/step - loss: 0.6732 - val_loss: 0.5839\n",
      "Epoch 5/100\n",
      "1/1 [==============================] - 0s 23ms/step - loss: 0.6323 - val_loss: 0.5348\n",
      "Epoch 6/100\n",
      "1/1 [==============================] - 0s 23ms/step - loss: 0.5833 - val_loss: 0.4839\n",
      "Epoch 7/100\n",
      "1/1 [==============================] - 0s 25ms/step - loss: 0.5151 - val_loss: 0.4307\n",
      "Epoch 8/100\n",
      "1/1 [==============================] - 0s 23ms/step - loss: 0.4692 - val_loss: 0.3743\n",
      "Epoch 9/100\n",
      "1/1 [==============================] - 0s 29ms/step - loss: 0.4097 - val_loss: 0.3140\n",
      "Epoch 10/100\n",
      "1/1 [==============================] - 0s 24ms/step - loss: 0.3431 - val_loss: 0.2489\n",
      "Epoch 11/100\n",
      "1/1 [==============================] - 0s 23ms/step - loss: 0.2786 - val_loss: 0.1780\n",
      "Epoch 12/100\n",
      "1/1 [==============================] - 0s 24ms/step - loss: 0.1825 - val_loss: 0.1004\n",
      "Epoch 13/100\n",
      "1/1 [==============================] - 0s 23ms/step - loss: 0.1251 - val_loss: 0.0426\n",
      "Epoch 14/100\n",
      "1/1 [==============================] - 0s 23ms/step - loss: 0.0791 - val_loss: 0.0751\n",
      "Epoch 15/100\n",
      "1/1 [==============================] - 0s 23ms/step - loss: 0.1083 - val_loss: 0.1474\n",
      "Epoch 16/100\n",
      "1/1 [==============================] - 0s 24ms/step - loss: 0.1685 - val_loss: 0.1894\n",
      "Epoch 17/100\n",
      "1/1 [==============================] - 0s 23ms/step - loss: 0.1744 - val_loss: 0.1996\n",
      "Epoch 18/100\n",
      "1/1 [==============================] - 0s 23ms/step - loss: 0.2469 - val_loss: 0.1873\n",
      "Epoch 19/100\n",
      "1/1 [==============================] - 0s 24ms/step - loss: 0.2200 - val_loss: 0.1616\n",
      "Epoch 20/100\n",
      "1/1 [==============================] - 0s 24ms/step - loss: 0.1845 - val_loss: 0.1249\n",
      "Epoch 21/100\n",
      "1/1 [==============================] - 0s 24ms/step - loss: 0.1646 - val_loss: 0.0822\n",
      "Epoch 22/100\n",
      "1/1 [==============================] - 0s 24ms/step - loss: 0.1211 - val_loss: 0.0483\n",
      "Epoch 23/100\n",
      "1/1 [==============================] - 0s 26ms/step - loss: 0.1034 - val_loss: 0.0408\n",
      "Epoch 24/100\n",
      "1/1 [==============================] - 0s 24ms/step - loss: 0.1101 - val_loss: 0.0510\n",
      "Epoch 25/100\n",
      "1/1 [==============================] - 0s 25ms/step - loss: 0.0883 - val_loss: 0.0648\n",
      "Epoch 26/100\n",
      "1/1 [==============================] - 0s 24ms/step - loss: 0.1020 - val_loss: 0.0828\n",
      "Epoch 27/100\n",
      "1/1 [==============================] - 0s 24ms/step - loss: 0.1083 - val_loss: 0.0910\n",
      "Epoch 28/100\n",
      "1/1 [==============================] - 0s 24ms/step - loss: 0.1462 - val_loss: 0.0917\n",
      "Epoch 29/100\n",
      "1/1 [==============================] - 0s 24ms/step - loss: 0.1394 - val_loss: 0.0875\n",
      "Epoch 30/100\n",
      "1/1 [==============================] - 0s 26ms/step - loss: 0.1382 - val_loss: 0.0765\n",
      "Epoch 31/100\n",
      "1/1 [==============================] - 0s 24ms/step - loss: 0.1169 - val_loss: 0.0635\n",
      "Epoch 32/100\n",
      "1/1 [==============================] - 0s 24ms/step - loss: 0.0997 - val_loss: 0.0530\n",
      "Epoch 33/100\n",
      "1/1 [==============================] - 0s 24ms/step - loss: 0.1112 - val_loss: 0.0434\n",
      "Epoch 34/100\n",
      "1/1 [==============================] - 0s 24ms/step - loss: 0.1075 - val_loss: 0.0395\n",
      "Epoch 35/100\n",
      "1/1 [==============================] - 0s 26ms/step - loss: 0.0784 - val_loss: 0.0425\n",
      "Epoch 36/100\n",
      "1/1 [==============================] - 0s 24ms/step - loss: 0.0886 - val_loss: 0.0486\n",
      "Epoch 37/100\n",
      "1/1 [==============================] - 0s 25ms/step - loss: 0.0955 - val_loss: 0.0519\n",
      "Epoch 38/100\n",
      "1/1 [==============================] - 0s 27ms/step - loss: 0.1101 - val_loss: 0.0535\n",
      "Epoch 39/100\n",
      "1/1 [==============================] - 0s 25ms/step - loss: 0.0980 - val_loss: 0.0552\n",
      "Epoch 40/100\n",
      "1/1 [==============================] - 0s 40ms/step - loss: 0.1046 - val_loss: 0.0534\n",
      "Epoch 41/100\n",
      "1/1 [==============================] - 0s 39ms/step - loss: 0.0953 - val_loss: 0.0500\n",
      "Epoch 42/100\n",
      "1/1 [==============================] - 0s 25ms/step - loss: 0.1086 - val_loss: 0.0449\n",
      "Epoch 43/100\n",
      "1/1 [==============================] - 0s 24ms/step - loss: 0.1009 - val_loss: 0.0412\n",
      "Epoch 44/100\n",
      "1/1 [==============================] - 0s 23ms/step - loss: 0.0816 - val_loss: 0.0395\n",
      "Epoch 45/100\n",
      "1/1 [==============================] - 0s 26ms/step - loss: 0.0828 - val_loss: 0.0410\n",
      "Epoch 46/100\n",
      "1/1 [==============================] - 0s 24ms/step - loss: 0.0849 - val_loss: 0.0421\n",
      "Epoch 47/100\n",
      "1/1 [==============================] - 0s 24ms/step - loss: 0.0843 - val_loss: 0.0441\n",
      "Epoch 48/100\n",
      "1/1 [==============================] - 0s 25ms/step - loss: 0.0987 - val_loss: 0.0454\n",
      "Epoch 49/100\n",
      "1/1 [==============================] - 0s 24ms/step - loss: 0.0864 - val_loss: 0.0446\n",
      "Epoch 50/100\n",
      "1/1 [==============================] - 0s 26ms/step - loss: 0.0877 - val_loss: 0.0430\n",
      "Epoch 51/100\n",
      "1/1 [==============================] - 0s 25ms/step - loss: 0.0865 - val_loss: 0.0417\n",
      "Epoch 52/100\n",
      "1/1 [==============================] - 0s 24ms/step - loss: 0.0669 - val_loss: 0.0411\n",
      "Epoch 53/100\n",
      "1/1 [==============================] - 0s 24ms/step - loss: 0.0932 - val_loss: 0.0403\n",
      "Epoch 54/100\n",
      "1/1 [==============================] - 0s 24ms/step - loss: 0.0745 - val_loss: 0.0393\n",
      "Epoch 55/100\n",
      "1/1 [==============================] - 0s 26ms/step - loss: 0.0977 - val_loss: 0.0399\n",
      "Epoch 56/100\n",
      "1/1 [==============================] - 0s 26ms/step - loss: 0.0854 - val_loss: 0.0406\n",
      "Epoch 57/100\n",
      "1/1 [==============================] - 0s 24ms/step - loss: 0.0893 - val_loss: 0.0411\n",
      "Epoch 58/100\n",
      "1/1 [==============================] - 0s 27ms/step - loss: 0.0830 - val_loss: 0.0411\n",
      "Epoch 59/100\n",
      "1/1 [==============================] - 0s 23ms/step - loss: 0.0835 - val_loss: 0.0414\n",
      "Epoch 60/100\n",
      "1/1 [==============================] - 0s 23ms/step - loss: 0.0890 - val_loss: 0.0408\n",
      "Epoch 61/100\n",
      "1/1 [==============================] - 0s 24ms/step - loss: 0.0647 - val_loss: 0.0404\n",
      "Epoch 62/100\n",
      "1/1 [==============================] - 0s 26ms/step - loss: 0.0877 - val_loss: 0.0397\n",
      "Epoch 63/100\n",
      "1/1 [==============================] - 0s 29ms/step - loss: 0.0921 - val_loss: 0.0398\n",
      "Epoch 64/100\n",
      "1/1 [==============================] - 0s 24ms/step - loss: 0.0993 - val_loss: 0.0397\n",
      "Epoch 65/100\n",
      "1/1 [==============================] - 0s 24ms/step - loss: 0.0731 - val_loss: 0.0398\n",
      "Epoch 66/100\n",
      "1/1 [==============================] - 0s 30ms/step - loss: 0.0808 - val_loss: 0.0404\n",
      "Epoch 67/100\n",
      "1/1 [==============================] - 0s 28ms/step - loss: 0.0707 - val_loss: 0.0412\n",
      "Epoch 68/100\n",
      "1/1 [==============================] - 0s 24ms/step - loss: 0.1044 - val_loss: 0.0421\n",
      "Epoch 69/100\n",
      "1/1 [==============================] - 0s 23ms/step - loss: 0.0823 - val_loss: 0.0422\n",
      "Epoch 70/100\n",
      "1/1 [==============================] - 0s 23ms/step - loss: 0.0961 - val_loss: 0.0421\n",
      "Epoch 71/100\n",
      "1/1 [==============================] - 0s 23ms/step - loss: 0.0901 - val_loss: 0.0418\n",
      "Epoch 72/100\n",
      "1/1 [==============================] - 0s 28ms/step - loss: 0.0725 - val_loss: 0.0410\n",
      "Epoch 73/100\n",
      "1/1 [==============================] - 0s 25ms/step - loss: 0.0983 - val_loss: 0.0406\n",
      "Epoch 74/100\n",
      "1/1 [==============================] - 0s 25ms/step - loss: 0.0728 - val_loss: 0.0405\n",
      "Epoch 75/100\n",
      "1/1 [==============================] - 0s 24ms/step - loss: 0.0633 - val_loss: 0.0406\n",
      "Epoch 76/100\n",
      "1/1 [==============================] - 0s 24ms/step - loss: 0.0846 - val_loss: 0.0403\n",
      "Epoch 77/100\n",
      "1/1 [==============================] - 0s 24ms/step - loss: 0.0885 - val_loss: 0.0397\n",
      "Epoch 78/100\n",
      "1/1 [==============================] - 0s 24ms/step - loss: 0.0680 - val_loss: 0.0395\n",
      "Epoch 79/100\n",
      "1/1 [==============================] - 0s 23ms/step - loss: 0.0792 - val_loss: 0.0395\n",
      "Epoch 80/100\n",
      "1/1 [==============================] - 0s 23ms/step - loss: 0.0586 - val_loss: 0.0403\n",
      "Epoch 81/100\n",
      "1/1 [==============================] - 0s 23ms/step - loss: 0.0756 - val_loss: 0.0407\n",
      "Epoch 82/100\n",
      "1/1 [==============================] - 0s 23ms/step - loss: 0.0848 - val_loss: 0.0417\n",
      "Epoch 83/100\n",
      "1/1 [==============================] - 0s 23ms/step - loss: 0.0936 - val_loss: 0.0435\n",
      "Epoch 84/100\n",
      "1/1 [==============================] - 0s 23ms/step - loss: 0.0911 - val_loss: 0.0440\n",
      "Epoch 85/100\n",
      "1/1 [==============================] - 0s 23ms/step - loss: 0.0821 - val_loss: 0.0441\n",
      "Epoch 86/100\n",
      "1/1 [==============================] - 0s 24ms/step - loss: 0.0992 - val_loss: 0.0419\n",
      "Epoch 87/100\n",
      "1/1 [==============================] - 0s 23ms/step - loss: 0.1058 - val_loss: 0.0408\n",
      "Epoch 88/100\n",
      "1/1 [==============================] - 0s 23ms/step - loss: 0.0914 - val_loss: 0.0400\n",
      "Epoch 89/100\n",
      "1/1 [==============================] - 0s 23ms/step - loss: 0.0872 - val_loss: 0.0398\n",
      "Epoch 90/100\n",
      "1/1 [==============================] - 0s 23ms/step - loss: 0.0646 - val_loss: 0.0401\n",
      "Epoch 91/100\n",
      "1/1 [==============================] - 0s 26ms/step - loss: 0.0853 - val_loss: 0.0401\n",
      "Epoch 92/100\n",
      "1/1 [==============================] - 0s 23ms/step - loss: 0.0701 - val_loss: 0.0407\n",
      "Epoch 93/100\n",
      "1/1 [==============================] - 0s 24ms/step - loss: 0.0776 - val_loss: 0.0414\n",
      "Epoch 94/100\n",
      "1/1 [==============================] - 0s 24ms/step - loss: 0.0633 - val_loss: 0.0432\n",
      "Epoch 95/100\n",
      "1/1 [==============================] - 0s 24ms/step - loss: 0.0790 - val_loss: 0.0465\n",
      "Epoch 96/100\n",
      "1/1 [==============================] - 0s 29ms/step - loss: 0.0890 - val_loss: 0.0481\n",
      "Epoch 97/100\n",
      "1/1 [==============================] - 0s 24ms/step - loss: 0.0880 - val_loss: 0.0475\n",
      "Epoch 98/100\n",
      "1/1 [==============================] - 0s 24ms/step - loss: 0.0952 - val_loss: 0.0453\n",
      "Epoch 99/100\n",
      "1/1 [==============================] - 0s 24ms/step - loss: 0.0784 - val_loss: 0.0427\n",
      "Epoch 100/100\n",
      "1/1 [==============================] - 0s 25ms/step - loss: 0.0743 - val_loss: 0.0408\n"
     ]
    }
   ],
   "source": [
    "history = model.fit(train_x,\n",
    "                    train_y,\n",
    "                    validation_data=(test_x, test_y),\n",
    "                    epochs=100,\n",
    "                    batch_size=100,\n",
    "                    verbose=1,\n",
    "                    shuffle=False)"
   ]
  },
  {
   "cell_type": "code",
   "execution_count": 72,
   "metadata": {
    "ExecuteTime": {
     "end_time": "2021-08-19T03:56:06.410242Z",
     "start_time": "2021-08-19T03:56:06.213246Z"
    }
   },
   "outputs": [
    {
     "data": {
      "image/png": "[encoded data removed]",
      "text/plain": [
       "<Figure size 432x288 with 1 Axes>"
      ]
     },
     "metadata": {
      "needs_background": "light"
     },
     "output_type": "display_data"
    }
   ],
   "source": [
    "# 训练集和验证集的损失图\n",
    "plt.plot(history.history[\"loss\"], label=\"train loss\")\n",
    "plt.plot(history.history[\"val_loss\"], label=\"valid loss\")\n",
    "plt.legend()\n",
    "plt.show()"
   ]
  },
  {
   "cell_type": "code",
   "execution_count": 73,
   "metadata": {
    "ExecuteTime": {
     "end_time": "2021-08-19T03:56:07.412337Z",
     "start_time": "2021-08-19T03:56:07.354443Z"
    }
   },
   "outputs": [
    {
     "data": {
      "text/plain": [
       "0.04078945145010948"
      ]
     },
     "execution_count": 73,
     "metadata": {},
     "output_type": "execute_result"
    }
   ],
   "source": [
    "# test 集上的 loss\n",
    "model.evaluate(test_x, test_y , verbose=0)"
   ]
  },
  {
   "cell_type": "markdown",
   "metadata": {},
   "source": [
    "### 预测值还原"
   ]
  },
  {
   "cell_type": "code",
   "execution_count": 74,
   "metadata": {
    "ExecuteTime": {
     "end_time": "2021-08-19T03:56:10.186208Z",
     "start_time": "2021-08-19T03:56:09.402005Z"
    }
   },
   "outputs": [
    {
     "name": "stdout",
     "output_type": "stream",
     "text": [
      "[2.50097898e+08 2.49528954e+08 2.48603924e+08 2.48272475e+08\n",
      " 2.48182310e+08 2.47435847e+08 2.47333809e+08]\n",
      "[1.89400067e+08 1.91099608e+08 2.17866198e+08 2.16771541e+08\n",
      " 1.96494562e+08 2.04728949e+08 1.98829328e+08]\n"
     ]
    }
   ],
   "source": [
    "prediction = model.predict(test_x)\n",
    "\n",
    "max_value = np.max(data.iloc[:,-1])\n",
    "min_value = np.min(data.iloc[:,-1])\n",
    "prediction = prediction[:, 0] * (max_value - min_value) + min_value\n",
    "print(prediction)\n",
    "\n",
    "# 因为 look_back 处理时会去掉值为 nan 的 input，所以这里要加上 look_back\n",
    "expectation = dat.iloc[:,-1][split_time:].values\n",
    "print(expectation)"
   ]
  },
  {
   "cell_type": "markdown",
   "metadata": {},
   "source": [
    "### 预测结果 绘图"
   ]
  },
  {
   "cell_type": "code",
   "execution_count": 75,
   "metadata": {
    "ExecuteTime": {
     "end_time": "2021-08-19T03:56:13.279759Z",
     "start_time": "2021-08-19T03:56:12.876908Z"
    }
   },
   "outputs": [
    {
     "data": {
      "text/plain": [
       "<AxesSubplot:xlabel='dt'>"
      ]
     },
     "execution_count": 75,
     "metadata": {},
     "output_type": "execute_result"
    },
    {
     "data": {
      "image/png": "[encoded data removed]",
      "text/plain": [
       "<Figure size 864x360 with 1 Axes>"
      ]
     },
     "metadata": {
      "needs_background": "light"
     },
     "output_type": "display_data"
    }
   ],
   "source": [
    "\n",
    "train_data = data.iloc[:split_time+n_in]    #train_data \n",
    "test_data = data.iloc[split_time+n_in:]    #test_data\n",
    "\n",
    "\n",
    "#将预测结果写入到impression\n",
    "pre = test_data.copy()\n",
    "pre['impression'] = prediction\n",
    "\n",
    "\n",
    "#绘图观察时间序列数据\n",
    "train_data.plot(figsize = (12, 5), legend = True)\n",
    "pre['impression'].plot(legend = True)"
   ]
  },
  {
   "cell_type": "code",
   "execution_count": 76,
   "metadata": {
    "ExecuteTime": {
     "end_time": "2021-08-19T03:56:14.167022Z",
     "start_time": "2021-08-19T03:56:14.163084Z"
    },
    "scrolled": true
   },
   "outputs": [
    {
     "name": "stdout",
     "output_type": "stream",
     "text": [
      "MAPE_model ： 23.26 %\n"
     ]
    }
   ],
   "source": [
    "print('MAPE_model ：','%.2f' % mape(expectation, prediction),'%')"
   ]
  },
  {
   "cell_type": "code",
   "execution_count": null,
   "metadata": {},
   "outputs": [],
   "source": []
  },
  {
   "cell_type": "code",
   "execution_count": null,
   "metadata": {},
   "outputs": [],
   "source": []
  },
  {
   "cell_type": "markdown",
   "metadata": {},
   "source": [
    "## 双向LSTM"
   ]
  },
  {
   "cell_type": "code",
   "execution_count": 77,
   "metadata": {
    "ExecuteTime": {
     "end_time": "2021-08-19T03:56:19.720763Z",
     "start_time": "2021-08-19T03:56:18.257061Z"
    },
    "scrolled": true
   },
   "outputs": [
    {
     "name": "stdout",
     "output_type": "stream",
     "text": [
      "Model: \"functional_1\"\n",
      "_________________________________________________________________\n",
      "Layer (type)                 Output Shape              Param #   \n",
      "=================================================================\n",
      "input_1 (InputLayer)         [(None, 7, 1)]            0         \n",
      "_________________________________________________________________\n",
      "bidirectional (Bidirectional (None, 7, 128)            33792     \n",
      "_________________________________________________________________\n",
      "bidirectional_1 (Bidirection (None, 128)               98816     \n",
      "_________________________________________________________________\n",
      "dense_4 (Dense)              (None, 1)                 129       \n",
      "=================================================================\n",
      "Total params: 132,737\n",
      "Trainable params: 132,737\n",
      "Non-trainable params: 0\n",
      "_________________________________________________________________\n"
     ]
    }
   ],
   "source": [
    "# Input for variable-length sequences of integers\n",
    "inputs = keras.Input(shape=(train_x.shape[1], train_x.shape[2]))\n",
    "\n",
    "# Add 2 bidirectional LSTMs\n",
    "x = layers.Bidirectional(layers.LSTM(64, return_sequences=True))(inputs)\n",
    "x = layers.Bidirectional(layers.LSTM(64))(x)\n",
    "\n",
    "# Add a classifier\n",
    "outputs = layers.Dense(1, activation=\"linear\")(x)\n",
    "model_3 = keras.Model(inputs, outputs)\n",
    "model_3.summary()"
   ]
  },
  {
   "cell_type": "code",
   "execution_count": 78,
   "metadata": {
    "ExecuteTime": {
     "end_time": "2021-08-19T03:56:20.624379Z",
     "start_time": "2021-08-19T03:56:20.621650Z"
    }
   },
   "outputs": [],
   "source": [
    "## LSTM 模型\n",
    "model = model_3"
   ]
  },
  {
   "cell_type": "code",
   "execution_count": 79,
   "metadata": {
    "ExecuteTime": {
     "end_time": "2021-08-19T03:56:21.626164Z",
     "start_time": "2021-08-19T03:56:21.612689Z"
    }
   },
   "outputs": [],
   "source": [
    "model.compile(loss=\"mae\", optimizer=\"adam\")"
   ]
  },
  {
   "cell_type": "code",
   "execution_count": 80,
   "metadata": {
    "ExecuteTime": {
     "end_time": "2021-08-19T03:56:33.384758Z",
     "start_time": "2021-08-19T03:56:22.715938Z"
    }
   },
   "outputs": [
    {
     "name": "stdout",
     "output_type": "stream",
     "text": [
      "Epoch 1/100\n",
      "1/1 [==============================] - 1s 1s/step - loss: 0.8048 - val_loss: 0.6621\n",
      "Epoch 2/100\n",
      "1/1 [==============================] - 0s 28ms/step - loss: 0.7086 - val_loss: 0.5705\n",
      "Epoch 3/100\n",
      "1/1 [==============================] - 0s 24ms/step - loss: 0.6109 - val_loss: 0.4747\n",
      "Epoch 4/100\n",
      "1/1 [==============================] - 0s 24ms/step - loss: 0.5089 - val_loss: 0.3721\n",
      "Epoch 5/100\n",
      "1/1 [==============================] - 0s 24ms/step - loss: 0.3993 - val_loss: 0.2593\n",
      "Epoch 6/100\n",
      "1/1 [==============================] - 0s 25ms/step - loss: 0.2790 - val_loss: 0.1326\n",
      "Epoch 7/100\n",
      "1/1 [==============================] - 0s 24ms/step - loss: 0.1438 - val_loss: 0.0416\n",
      "Epoch 8/100\n",
      "1/1 [==============================] - 0s 24ms/step - loss: 0.0450 - val_loss: 0.1470\n",
      "Epoch 9/100\n",
      "1/1 [==============================] - 0s 24ms/step - loss: 0.1545 - val_loss: 0.1990\n",
      "Epoch 10/100\n",
      "1/1 [==============================] - 0s 25ms/step - loss: 0.2097 - val_loss: 0.1947\n",
      "Epoch 11/100\n",
      "1/1 [==============================] - 0s 24ms/step - loss: 0.2047 - val_loss: 0.1545\n",
      "Epoch 12/100\n",
      "1/1 [==============================] - 0s 24ms/step - loss: 0.1616 - val_loss: 0.0932\n",
      "Epoch 13/100\n",
      "1/1 [==============================] - 0s 25ms/step - loss: 0.0981 - val_loss: 0.0442\n",
      "Epoch 14/100\n",
      "1/1 [==============================] - 0s 24ms/step - loss: 0.0474 - val_loss: 0.0503\n",
      "Epoch 15/100\n",
      "1/1 [==============================] - 0s 24ms/step - loss: 0.0587 - val_loss: 0.0855\n",
      "Epoch 16/100\n",
      "1/1 [==============================] - 0s 24ms/step - loss: 0.0959 - val_loss: 0.1071\n",
      "Epoch 17/100\n",
      "1/1 [==============================] - 0s 24ms/step - loss: 0.1177 - val_loss: 0.1106\n",
      "Epoch 18/100\n",
      "1/1 [==============================] - 0s 32ms/step - loss: 0.1215 - val_loss: 0.0993\n",
      "Epoch 19/100\n",
      "1/1 [==============================] - 0s 26ms/step - loss: 0.1100 - val_loss: 0.0758\n",
      "Epoch 20/100\n",
      "1/1 [==============================] - 0s 24ms/step - loss: 0.0873 - val_loss: 0.0498\n",
      "Epoch 21/100\n",
      "1/1 [==============================] - 0s 24ms/step - loss: 0.0587 - val_loss: 0.0395\n",
      "Epoch 22/100\n",
      "1/1 [==============================] - 0s 24ms/step - loss: 0.0448 - val_loss: 0.0509\n",
      "Epoch 23/100\n",
      "1/1 [==============================] - 0s 26ms/step - loss: 0.0539 - val_loss: 0.0652\n",
      "Epoch 24/100\n",
      "1/1 [==============================] - 0s 27ms/step - loss: 0.0719 - val_loss: 0.0746\n",
      "Epoch 25/100\n",
      "1/1 [==============================] - 0s 24ms/step - loss: 0.0794 - val_loss: 0.0688\n",
      "Epoch 26/100\n",
      "1/1 [==============================] - 0s 24ms/step - loss: 0.0746 - val_loss: 0.0557\n",
      "Epoch 27/100\n",
      "1/1 [==============================] - 0s 24ms/step - loss: 0.0599 - val_loss: 0.0442\n",
      "Epoch 28/100\n",
      "1/1 [==============================] - 0s 24ms/step - loss: 0.0464 - val_loss: 0.0394\n",
      "Epoch 29/100\n",
      "1/1 [==============================] - 0s 24ms/step - loss: 0.0456 - val_loss: 0.0444\n",
      "Epoch 30/100\n",
      "1/1 [==============================] - 0s 25ms/step - loss: 0.0527 - val_loss: 0.0503\n",
      "Epoch 31/100\n",
      "1/1 [==============================] - 0s 33ms/step - loss: 0.0603 - val_loss: 0.0521\n",
      "Epoch 32/100\n",
      "1/1 [==============================] - 0s 27ms/step - loss: 0.0634 - val_loss: 0.0495\n",
      "Epoch 33/100\n",
      "1/1 [==============================] - 0s 26ms/step - loss: 0.0592 - val_loss: 0.0436\n",
      "Epoch 34/100\n",
      "1/1 [==============================] - 0s 25ms/step - loss: 0.0521 - val_loss: 0.0397\n",
      "Epoch 35/100\n",
      "1/1 [==============================] - 0s 24ms/step - loss: 0.0461 - val_loss: 0.0413\n",
      "Epoch 36/100\n",
      "1/1 [==============================] - 0s 24ms/step - loss: 0.0442 - val_loss: 0.0471\n",
      "Epoch 37/100\n",
      "1/1 [==============================] - 0s 27ms/step - loss: 0.0488 - val_loss: 0.0510\n",
      "Epoch 38/100\n",
      "1/1 [==============================] - 0s 24ms/step - loss: 0.0531 - val_loss: 0.0505\n",
      "Epoch 39/100\n",
      "1/1 [==============================] - 0s 25ms/step - loss: 0.0525 - val_loss: 0.0466\n",
      "Epoch 40/100\n",
      "1/1 [==============================] - 0s 24ms/step - loss: 0.0482 - val_loss: 0.0415\n",
      "Epoch 41/100\n",
      "1/1 [==============================] - 0s 24ms/step - loss: 0.0443 - val_loss: 0.0393\n",
      "Epoch 42/100\n",
      "1/1 [==============================] - 0s 24ms/step - loss: 0.0450 - val_loss: 0.0402\n",
      "Epoch 43/100\n",
      "1/1 [==============================] - 0s 26ms/step - loss: 0.0471 - val_loss: 0.0410\n",
      "Epoch 44/100\n",
      "1/1 [==============================] - 0s 24ms/step - loss: 0.0490 - val_loss: 0.0410\n",
      "Epoch 45/100\n",
      "1/1 [==============================] - 0s 24ms/step - loss: 0.0491 - val_loss: 0.0403\n",
      "Epoch 46/100\n",
      "1/1 [==============================] - 0s 26ms/step - loss: 0.0473 - val_loss: 0.0391\n",
      "Epoch 47/100\n",
      "1/1 [==============================] - 0s 25ms/step - loss: 0.0455 - val_loss: 0.0404\n",
      "Epoch 48/100\n",
      "1/1 [==============================] - 0s 24ms/step - loss: 0.0444 - val_loss: 0.0421\n",
      "Epoch 49/100\n",
      "1/1 [==============================] - 0s 25ms/step - loss: 0.0446 - val_loss: 0.0453\n",
      "Epoch 50/100\n",
      "1/1 [==============================] - 0s 25ms/step - loss: 0.0467 - val_loss: 0.0456\n",
      "Epoch 51/100\n",
      "1/1 [==============================] - 0s 25ms/step - loss: 0.0469 - val_loss: 0.0430\n",
      "Epoch 52/100\n",
      "1/1 [==============================] - 0s 24ms/step - loss: 0.0450 - val_loss: 0.0412\n",
      "Epoch 53/100\n",
      "1/1 [==============================] - 0s 26ms/step - loss: 0.0441 - val_loss: 0.0399\n",
      "Epoch 54/100\n",
      "1/1 [==============================] - 0s 31ms/step - loss: 0.0446 - val_loss: 0.0390\n",
      "Epoch 55/100\n",
      "1/1 [==============================] - 0s 24ms/step - loss: 0.0455 - val_loss: 0.0394\n",
      "Epoch 56/100\n",
      "1/1 [==============================] - 0s 26ms/step - loss: 0.0461 - val_loss: 0.0394\n",
      "Epoch 57/100\n",
      "1/1 [==============================] - 0s 24ms/step - loss: 0.0460 - val_loss: 0.0390\n",
      "Epoch 58/100\n",
      "1/1 [==============================] - 0s 24ms/step - loss: 0.0454 - val_loss: 0.0397\n",
      "Epoch 59/100\n",
      "1/1 [==============================] - 0s 24ms/step - loss: 0.0446 - val_loss: 0.0407\n",
      "Epoch 60/100\n",
      "1/1 [==============================] - 0s 24ms/step - loss: 0.0442 - val_loss: 0.0417\n",
      "Epoch 61/100\n",
      "1/1 [==============================] - 0s 28ms/step - loss: 0.0443 - val_loss: 0.0433\n",
      "Epoch 62/100\n",
      "1/1 [==============================] - 0s 24ms/step - loss: 0.0450 - val_loss: 0.0438\n",
      "Epoch 63/100\n",
      "1/1 [==============================] - 0s 24ms/step - loss: 0.0454 - val_loss: 0.0420\n",
      "Epoch 64/100\n",
      "1/1 [==============================] - 0s 24ms/step - loss: 0.0444 - val_loss: 0.0410\n",
      "Epoch 65/100\n",
      "1/1 [==============================] - 0s 24ms/step - loss: 0.0441 - val_loss: 0.0402\n",
      "Epoch 66/100\n",
      "1/1 [==============================] - 0s 24ms/step - loss: 0.0444 - val_loss: 0.0397\n",
      "Epoch 67/100\n",
      "1/1 [==============================] - 0s 25ms/step - loss: 0.0446 - val_loss: 0.0396\n",
      "Epoch 68/100\n",
      "1/1 [==============================] - 0s 24ms/step - loss: 0.0447 - val_loss: 0.0398\n",
      "Epoch 69/100\n",
      "1/1 [==============================] - 0s 27ms/step - loss: 0.0445 - val_loss: 0.0403\n",
      "Epoch 70/100\n",
      "1/1 [==============================] - 0s 26ms/step - loss: 0.0443 - val_loss: 0.0409\n",
      "Epoch 71/100\n",
      "1/1 [==============================] - 0s 26ms/step - loss: 0.0441 - val_loss: 0.0417\n",
      "Epoch 72/100\n",
      "1/1 [==============================] - 0s 24ms/step - loss: 0.0442 - val_loss: 0.0423\n",
      "Epoch 73/100\n",
      "1/1 [==============================] - 0s 24ms/step - loss: 0.0445 - val_loss: 0.0420\n",
      "Epoch 74/100\n",
      "1/1 [==============================] - 0s 24ms/step - loss: 0.0444 - val_loss: 0.0415\n",
      "Epoch 75/100\n",
      "1/1 [==============================] - 0s 24ms/step - loss: 0.0441 - val_loss: 0.0409\n",
      "Epoch 76/100\n",
      "1/1 [==============================] - 0s 24ms/step - loss: 0.0440 - val_loss: 0.0405\n",
      "Epoch 77/100\n",
      "1/1 [==============================] - 0s 24ms/step - loss: 0.0442 - val_loss: 0.0403\n",
      "Epoch 78/100\n",
      "1/1 [==============================] - 0s 25ms/step - loss: 0.0443 - val_loss: 0.0402\n",
      "Epoch 79/100\n",
      "1/1 [==============================] - 0s 24ms/step - loss: 0.0443 - val_loss: 0.0404\n",
      "Epoch 80/100\n",
      "1/1 [==============================] - 0s 26ms/step - loss: 0.0442 - val_loss: 0.0407\n",
      "Epoch 81/100\n",
      "1/1 [==============================] - 0s 24ms/step - loss: 0.0441 - val_loss: 0.0411\n",
      "Epoch 82/100\n",
      "1/1 [==============================] - 0s 24ms/step - loss: 0.0439 - val_loss: 0.0415\n",
      "Epoch 83/100\n",
      "1/1 [==============================] - 0s 24ms/step - loss: 0.0441 - val_loss: 0.0417\n",
      "Epoch 84/100\n",
      "1/1 [==============================] - 0s 24ms/step - loss: 0.0441 - val_loss: 0.0416\n",
      "Epoch 85/100\n",
      "1/1 [==============================] - 0s 24ms/step - loss: 0.0441 - val_loss: 0.0414\n",
      "Epoch 86/100\n",
      "1/1 [==============================] - 0s 24ms/step - loss: 0.0440 - val_loss: 0.0409\n",
      "Epoch 87/100\n",
      "1/1 [==============================] - 0s 26ms/step - loss: 0.0440 - val_loss: 0.0407\n",
      "Epoch 88/100\n",
      "1/1 [==============================] - 0s 24ms/step - loss: 0.0441 - val_loss: 0.0406\n",
      "Epoch 89/100\n",
      "1/1 [==============================] - 0s 24ms/step - loss: 0.0441 - val_loss: 0.0408\n",
      "Epoch 90/100\n",
      "1/1 [==============================] - 0s 25ms/step - loss: 0.0440 - val_loss: 0.0411\n",
      "Epoch 91/100\n",
      "1/1 [==============================] - 0s 24ms/step - loss: 0.0439 - val_loss: 0.0414\n",
      "Epoch 92/100\n",
      "1/1 [==============================] - 0s 28ms/step - loss: 0.0440 - val_loss: 0.0414\n",
      "Epoch 93/100\n",
      "1/1 [==============================] - 0s 25ms/step - loss: 0.0440 - val_loss: 0.0413\n",
      "Epoch 94/100\n",
      "1/1 [==============================] - 0s 24ms/step - loss: 0.0439 - val_loss: 0.0409\n",
      "Epoch 95/100\n",
      "1/1 [==============================] - 0s 24ms/step - loss: 0.0439 - val_loss: 0.0407\n",
      "Epoch 96/100\n",
      "1/1 [==============================] - 0s 24ms/step - loss: 0.0440 - val_loss: 0.0408\n",
      "Epoch 97/100\n",
      "1/1 [==============================] - 0s 24ms/step - loss: 0.0440 - val_loss: 0.0410\n",
      "Epoch 98/100\n",
      "1/1 [==============================] - 0s 25ms/step - loss: 0.0439 - val_loss: 0.0414\n",
      "Epoch 99/100\n",
      "1/1 [==============================] - 0s 25ms/step - loss: 0.0439 - val_loss: 0.0415\n",
      "Epoch 100/100\n",
      "1/1 [==============================] - 0s 26ms/step - loss: 0.0440 - val_loss: 0.0414\n"
     ]
    }
   ],
   "source": [
    "history = model.fit(train_x,\n",
    "                    train_y,\n",
    "                    validation_data=(test_x, test_y),\n",
    "                    epochs=100,\n",
    "                    batch_size=100,\n",
    "                    verbose=1,\n",
    "                    shuffle=False)"
   ]
  },
  {
   "cell_type": "code",
   "execution_count": 81,
   "metadata": {
    "ExecuteTime": {
     "end_time": "2021-08-19T03:56:39.243755Z",
     "start_time": "2021-08-19T03:56:39.051953Z"
    }
   },
   "outputs": [
    {
     "data": {
      "image/png": "[encoded data removed]",
      "text/plain": [
       "<Figure size 432x288 with 1 Axes>"
      ]
     },
     "metadata": {
      "needs_background": "light"
     },
     "output_type": "display_data"
    }
   ],
   "source": [
    "# 训练集和验证集的损失图\n",
    "plt.plot(history.history[\"loss\"], label=\"train loss\")\n",
    "plt.plot(history.history[\"val_loss\"], label=\"valid loss\")\n",
    "plt.legend()\n",
    "plt.show()"
   ]
  },
  {
   "cell_type": "code",
   "execution_count": 82,
   "metadata": {
    "ExecuteTime": {
     "end_time": "2021-08-19T03:56:40.788594Z",
     "start_time": "2021-08-19T03:56:40.728681Z"
    }
   },
   "outputs": [
    {
     "data": {
      "text/plain": [
       "0.04141896963119507"
      ]
     },
     "execution_count": 82,
     "metadata": {},
     "output_type": "execute_result"
    }
   ],
   "source": [
    "# test 集上的 loss\n",
    "model.evaluate(test_x, test_y , verbose=0)"
   ]
  },
  {
   "cell_type": "markdown",
   "metadata": {},
   "source": [
    "### 预测值还原"
   ]
  },
  {
   "cell_type": "code",
   "execution_count": 83,
   "metadata": {
    "ExecuteTime": {
     "end_time": "2021-08-19T03:56:43.722655Z",
     "start_time": "2021-08-19T03:56:42.244800Z"
    }
   },
   "outputs": [
    {
     "name": "stdout",
     "output_type": "stream",
     "text": [
      "WARNING:tensorflow:5 out of the last 6 calls to <function Model.make_predict_function.<locals>.predict_function at 0x7fc7459efdd0> triggered tf.function retracing. Tracing is expensive and the excessive number of tracings could be due to (1) creating @tf.function repeatedly in a loop, (2) passing tensors with different shapes, (3) passing Python objects instead of tensors. For (1), please define your @tf.function outside of the loop. For (2), @tf.function has experimental_relax_shapes=True option that relaxes argument shapes that can avoid unnecessary retracing. For (3), please refer to https://www.tensorflow.org/tutorials/customization/performance#python_or_tensor_args and https://www.tensorflow.org/api_docs/python/tf/function for  more details.\n",
      "[2.50088351e+08 2.49298252e+08 2.48380783e+08 2.48627208e+08\n",
      " 2.48890077e+08 2.48057181e+08 2.48011772e+08]\n",
      "[1.89400067e+08 1.91099608e+08 2.17866198e+08 2.16771541e+08\n",
      " 1.96494562e+08 2.04728949e+08 1.98829328e+08]\n"
     ]
    }
   ],
   "source": [
    "prediction = model.predict(test_x)\n",
    "\n",
    "max_value = np.max(data.iloc[:,-1])\n",
    "min_value = np.min(data.iloc[:,-1])\n",
    "prediction = prediction[:, 0] * (max_value - min_value) + min_value\n",
    "print(prediction)\n",
    "\n",
    "# 因为 look_back 处理时会去掉值为 nan 的 input，所以这里要加上 look_back\n",
    "expectation = dat.iloc[:,-1][split_time:].values\n",
    "print(expectation)"
   ]
  },
  {
   "cell_type": "markdown",
   "metadata": {},
   "source": [
    "### 预测结果 绘图"
   ]
  },
  {
   "cell_type": "code",
   "execution_count": 84,
   "metadata": {
    "ExecuteTime": {
     "end_time": "2021-08-19T03:56:53.103638Z",
     "start_time": "2021-08-19T03:56:52.366187Z"
    }
   },
   "outputs": [
    {
     "data": {
      "text/plain": [
       "<AxesSubplot:xlabel='dt'>"
      ]
     },
     "execution_count": 84,
     "metadata": {},
     "output_type": "execute_result"
    },
    {
     "data": {
      "image/png": "[encoded data removed]",
      "text/plain": [
       "<Figure size 864x360 with 1 Axes>"
      ]
     },
     "metadata": {
      "needs_background": "light"
     },
     "output_type": "display_data"
    }
   ],
   "source": [
    "\n",
    "train_data = data.iloc[:split_time+n_in]    #train_data \n",
    "test_data = data.iloc[split_time+n_in:]    #test_data\n",
    "\n",
    "\n",
    "#将预测结果写入到impression\n",
    "pre = test_data.copy()\n",
    "pre['impression'] = prediction\n",
    "\n",
    "\n",
    "#绘图观察时间序列数据\n",
    "train_data.plot(figsize = (12, 5), legend = True)\n",
    "pre['impression'].plot(legend = True)"
   ]
  },
  {
   "cell_type": "code",
   "execution_count": 85,
   "metadata": {
    "ExecuteTime": {
     "end_time": "2021-08-19T03:56:56.597526Z",
     "start_time": "2021-08-19T03:56:56.593878Z"
    },
    "scrolled": true
   },
   "outputs": [
    {
     "name": "stdout",
     "output_type": "stream",
     "text": [
      "MAPE_model ： 23.39 %\n"
     ]
    }
   ],
   "source": [
    "print('MAPE_model ：','%.2f' % mape(expectation, prediction),'%')"
   ]
  },
  {
   "cell_type": "code",
   "execution_count": null,
   "metadata": {},
   "outputs": [],
   "source": []
  },
  {
   "cell_type": "code",
   "execution_count": null,
   "metadata": {},
   "outputs": [],
   "source": []
  },
  {
   "cell_type": "code",
   "execution_count": null,
   "metadata": {},
   "outputs": [],
   "source": []
  },
  {
   "cell_type": "code",
   "execution_count": null,
   "metadata": {},
   "outputs": [],
   "source": []
  },
  {
   "cell_type": "markdown",
   "metadata": {},
   "source": [
    "# LSTM + series input\n",
    "\n",
    "下面是使用了 单个series模型， 输入并没有定义batch和sequence的长度，只是定义了输入最后的维度为一维，同时，定义了最后输出的维度，即sequence == 7 ，表示着输出的样本数，也就是预测的样本的个数为7。\n",
    "\n",
    "训练模型的是任意长度的输入，同时训练数据集中的label必须保证了预测7天的值。\n",
    "预测样本的输入是任意长度，最后也是预测7天的值。"
   ]
  },
  {
   "cell_type": "markdown",
   "metadata": {},
   "source": [
    "## 数据导入"
   ]
  },
  {
   "cell_type": "code",
   "execution_count": 68,
   "metadata": {
    "ExecuteTime": {
     "end_time": "2021-08-27T06:40:52.383243Z",
     "start_time": "2021-08-27T06:40:52.366943Z"
    }
   },
   "outputs": [
    {
     "name": "stdout",
     "output_type": "stream",
     "text": [
      "<class 'pandas.core.frame.DataFrame'>\n",
      "DatetimeIndex: 48 entries, 2021-05-18 to 2021-07-04\n",
      "Data columns (total 1 columns):\n",
      " #   Column      Non-Null Count  Dtype\n",
      "---  ------      --------------  -----\n",
      " 0   impression  48 non-null     int64\n",
      "dtypes: int64(1)\n",
      "memory usage: 1.8 KB\n",
      "Data ranges from 2021-05-18 00:00:00 to 2021-07-04 00:00:00\n"
     ]
    }
   ],
   "source": [
    "data.info()\n",
    "\n",
    "data_start_date = data.index[0]\n",
    "data_end_date = data.index[-1]\n",
    "print('Data ranges from %s to %s' % (data_start_date, data_end_date))"
   ]
  },
  {
   "cell_type": "code",
   "execution_count": 99,
   "metadata": {
    "ExecuteTime": {
     "end_time": "2021-08-27T06:45:48.120661Z",
     "start_time": "2021-08-27T06:45:48.112951Z"
    }
   },
   "outputs": [],
   "source": [
    "from datetime import timedelta\n",
    "\n",
    "# 定义预测样本的数据集生成样本\n",
    "pred_steps = 7\n",
    "pred_length = timedelta(pred_steps)\n",
    "\n",
    "first_day = pd.to_datetime(data_start_date)  # 数据集的第一天\n",
    "last_day = pd.to_datetime(data_end_date)  # 数据集的最后一天\n",
    "\n",
    "# 训练集\n",
    "train_enc_start = first_day   # 5-18\n",
    "train_enc_end = last_day - pred_length - timedelta(1)  # 6-26\n",
    "\n",
    "train_pred_start = last_day - pred_length  # 6-27\n",
    "train_pred_end = last_day - timedelta(1)  # 7-3\n",
    "\n",
    "# 预测\n",
    "val_enc_start = first_day + timedelta(5) \n",
    "val_enc_end = last_day - pred_length\n",
    "\n",
    "val_pre_start = last_day - pred_length + timedelta(1)\n",
    "val_pre_end = last_day\n",
    "\n",
    "       "
   ]
  },
  {
   "cell_type": "code",
   "execution_count": 100,
   "metadata": {
    "ExecuteTime": {
     "end_time": "2021-08-27T06:45:48.654198Z",
     "start_time": "2021-08-27T06:45:48.630330Z"
    }
   },
   "outputs": [
    {
     "data": {
      "text/html": [
       "<div>\n",
       "<style scoped>\n",
       "    .dataframe tbody tr th:only-of-type {\n",
       "        vertical-align: middle;\n",
       "    }\n",
       "\n",
       "    .dataframe tbody tr th {\n",
       "        vertical-align: top;\n",
       "    }\n",
       "\n",
       "    .dataframe thead th {\n",
       "        text-align: right;\n",
       "    }\n",
       "</style>\n",
       "<table border=\"1\" class=\"dataframe\">\n",
       "  <thead>\n",
       "    <tr style=\"text-align: right;\">\n",
       "      <th>dt</th>\n",
       "      <th>2021-05-18</th>\n",
       "      <th>2021-05-19</th>\n",
       "      <th>2021-05-20</th>\n",
       "      <th>2021-05-21</th>\n",
       "      <th>2021-05-22</th>\n",
       "      <th>2021-05-23</th>\n",
       "      <th>2021-05-24</th>\n",
       "      <th>2021-05-25</th>\n",
       "      <th>2021-05-26</th>\n",
       "      <th>2021-05-27</th>\n",
       "      <th>...</th>\n",
       "      <th>2021-06-25</th>\n",
       "      <th>2021-06-26</th>\n",
       "      <th>2021-06-27</th>\n",
       "      <th>2021-06-28</th>\n",
       "      <th>2021-06-29</th>\n",
       "      <th>2021-06-30</th>\n",
       "      <th>2021-07-01</th>\n",
       "      <th>2021-07-02</th>\n",
       "      <th>2021-07-03</th>\n",
       "      <th>2021-07-04</th>\n",
       "    </tr>\n",
       "  </thead>\n",
       "  <tbody>\n",
       "    <tr>\n",
       "      <th>impression</th>\n",
       "      <td>228695188</td>\n",
       "      <td>232430656</td>\n",
       "      <td>244480422</td>\n",
       "      <td>268542497</td>\n",
       "      <td>254063058</td>\n",
       "      <td>226762069</td>\n",
       "      <td>216801204</td>\n",
       "      <td>226055523</td>\n",
       "      <td>233257635</td>\n",
       "      <td>235315498</td>\n",
       "      <td>...</td>\n",
       "      <td>226661202</td>\n",
       "      <td>210599352</td>\n",
       "      <td>179459938</td>\n",
       "      <td>189400067</td>\n",
       "      <td>191099608</td>\n",
       "      <td>217866198</td>\n",
       "      <td>216771541</td>\n",
       "      <td>196494562</td>\n",
       "      <td>204728949</td>\n",
       "      <td>198829328</td>\n",
       "    </tr>\n",
       "  </tbody>\n",
       "</table>\n",
       "<p>1 rows × 48 columns</p>\n",
       "</div>"
      ],
      "text/plain": [
       "dt          2021-05-18  2021-05-19  2021-05-20  2021-05-21  2021-05-22  \\\n",
       "impression   228695188   232430656   244480422   268542497   254063058   \n",
       "\n",
       "dt          2021-05-23  2021-05-24  2021-05-25  2021-05-26  2021-05-27  ...  \\\n",
       "impression   226762069   216801204   226055523   233257635   235315498  ...   \n",
       "\n",
       "dt          2021-06-25  2021-06-26  2021-06-27  2021-06-28  2021-06-29  \\\n",
       "impression   226661202   210599352   179459938   189400067   191099608   \n",
       "\n",
       "dt          2021-06-30  2021-07-01  2021-07-02  2021-07-03  2021-07-04  \n",
       "impression   217866198   216771541   196494562   204728949   198829328  \n",
       "\n",
       "[1 rows x 48 columns]"
      ]
     },
     "execution_count": 100,
     "metadata": {},
     "output_type": "execute_result"
    }
   ],
   "source": [
    "df = data.T\n",
    "df"
   ]
  },
  {
   "cell_type": "code",
   "execution_count": 101,
   "metadata": {
    "ExecuteTime": {
     "end_time": "2021-08-27T06:45:48.856289Z",
     "start_time": "2021-08-27T06:45:48.850652Z"
    }
   },
   "outputs": [],
   "source": [
    "# 1. 定义时间序列的索引、索引下的值\n",
    "date_to_index = pd.Series(index=pd.Index([pd.to_datetime(c) for c in df.columns[0:]]),\n",
    "                          data=[i for i in range(len(df.columns[0:]))])\n",
    "series_array = df[df.columns[0:]].values"
   ]
  },
  {
   "cell_type": "code",
   "execution_count": 102,
   "metadata": {
    "ExecuteTime": {
     "end_time": "2021-08-27T06:45:49.103066Z",
     "start_time": "2021-08-27T06:45:49.096023Z"
    }
   },
   "outputs": [],
   "source": [
    "# 2.\n",
    "def get_time_block_series(series_array, date_to_index, start_date, end_date):\n",
    "    inds = date_to_index[start_date : end_date]\n",
    "    return series_array[:, inds]\n",
    "\n",
    "#3.\n",
    "def transform_series_encode(series_array):\n",
    "    series_array = np.log1p(np.nan_to_num(series_array)) # filling NaN with 0\n",
    "    series_mean = series_array.mean(axis=1).reshape(-1,1) \n",
    "    series_array = series_array - series_mean\n",
    "    series_array = series_array.reshape((series_array.shape[0], series_array.shape[1], 1))\n",
    "    return series_array, series_mean\n",
    "\n",
    "def transform_series_decode(series_array, encode_series_mean):\n",
    "    series_array = np.log1p(np.nan_to_num(series_array)) # filling NaN with 0\n",
    "    series_array = series_array - encode_series_mean\n",
    "    series_array = series_array.reshape((series_array.shape[0],series_array.shape[1], 1))\n",
    "    return series_array\n",
    "\n",
    "# 将归一化的数据转化成真实数据\n",
    "def tsf(series_array, encode_series_mean):\n",
    "    series_array = series_array + encode_series_mean\n",
    "    series_array = np.expm1(np.nan_to_num(series_array)) # filling NaN with 0\n",
    "    series_array = series_array.reshape((series_array.shape[0],series_array.shape[1], 1))\n",
    "    return series_array"
   ]
  },
  {
   "cell_type": "code",
   "execution_count": 103,
   "metadata": {
    "ExecuteTime": {
     "end_time": "2021-08-27T06:45:49.316377Z",
     "start_time": "2021-08-27T06:45:49.313997Z"
    },
    "code_folding": [
     0
    ]
   },
   "outputs": [],
   "source": [
    "# latent_dim = 50 # LSTM hidden units\n",
    "# dropout = .20 \n",
    "\n",
    "# # Define an input series and encode it with an LSTM. \n",
    "# encoder_inputs = Input(shape=(None, 1)) \n",
    "# encoder = LSTM(latent_dim, dropout=dropout, return_state=True)\n",
    "# encoder_outputs, state_h, state_c = encoder(encoder_inputs)\n",
    "\n",
    "# # We discard `encoder_outputs` and only keep the final states. These represent the \"context\"\n",
    "# # vector that we use as the basis for decoding.\n",
    "# encoder_states = [state_h, state_c]\n",
    "\n",
    "# # Set up the decoder, using `encoder_states` as initial state.\n",
    "# # This is where teacher forcing inputs are fed in.\n",
    "# decoder_inputs = Input(shape=(None, 1)) \n",
    "\n",
    "# # We set up our decoder using `encoder_states` as initial state.  \n",
    "# # We return full output sequences and return internal states as well. \n",
    "# # We don't use the return states in the training model, but we will use them in inference.\n",
    "# decoder_lstm = LSTM(latent_dim, dropout=dropout, return_sequences=True, return_state=True)\n",
    "# decoder_outputs, _, _ = decoder_lstm(decoder_inputs,\n",
    "#                                      initial_state=encoder_states)\n",
    "\n",
    "# decoder_dense = Dense(1) # 1 continuous output at each timestep\n",
    "# decoder_outputs = decoder_dense(decoder_outputs)\n",
    "\n",
    "# # Define the model that will turn\n",
    "# # `encoder_input_data` & `decoder_input_data` into `decoder_target_data`\n",
    "# model = Model(inputs=[encoder_inputs, decoder_inputs], \n",
    "#               outputs=decoder_outputs)\n",
    "# model.summary()\n"
   ]
  },
  {
   "cell_type": "code",
   "execution_count": 104,
   "metadata": {
    "ExecuteTime": {
     "end_time": "2021-08-27T06:45:49.806202Z",
     "start_time": "2021-08-27T06:45:49.516981Z"
    },
    "code_folding": []
   },
   "outputs": [
    {
     "name": "stdout",
     "output_type": "stream",
     "text": [
      "Model: \"functional_7\"\n",
      "_________________________________________________________________\n",
      "Layer (type)                 Output Shape              Param #   \n",
      "=================================================================\n",
      "input_4 (InputLayer)         [(None, None, 1)]         0         \n",
      "_________________________________________________________________\n",
      "lstm_3 (LSTM)                (None, 64)                16896     \n",
      "_________________________________________________________________\n",
      "dense_3 (Dense)              (None, 7)                 455       \n",
      "=================================================================\n",
      "Total params: 17,351\n",
      "Trainable params: 17,351\n",
      "Non-trainable params: 0\n",
      "_________________________________________________________________\n"
     ]
    }
   ],
   "source": [
    "# 并定义网络结构\n",
    "inputs = keras.Input(shape=(None, 1)) \n",
    "# Add LSTM\n",
    "x = layers.LSTM(64)(inputs)\n",
    "\n",
    "outputs = layers.Dense(7, activation=\"linear\")(x)\n",
    "model_1 = keras.Model(inputs, outputs)\n",
    "model_1.summary()"
   ]
  },
  {
   "cell_type": "code",
   "execution_count": 105,
   "metadata": {
    "ExecuteTime": {
     "end_time": "2021-08-27T06:45:50.434094Z",
     "start_time": "2021-08-27T06:45:49.808190Z"
    },
    "code_folding": [
     0
    ]
   },
   "outputs": [
    {
     "name": "stdout",
     "output_type": "stream",
     "text": [
      "Model: \"functional_9\"\n",
      "_________________________________________________________________\n",
      "Layer (type)                 Output Shape              Param #   \n",
      "=================================================================\n",
      "input_5 (InputLayer)         [(None, None, 1)]         0         \n",
      "_________________________________________________________________\n",
      "lstm_4 (LSTM)                (None, None, 64)          16896     \n",
      "_________________________________________________________________\n",
      "dropout (Dropout)            (None, None, 64)          0         \n",
      "_________________________________________________________________\n",
      "lstm_5 (LSTM)                (None, 32)                12416     \n",
      "_________________________________________________________________\n",
      "dropout_1 (Dropout)          (None, 32)                0         \n",
      "_________________________________________________________________\n",
      "dense_4 (Dense)              (None, 7)                 231       \n",
      "=================================================================\n",
      "Total params: 29,543\n",
      "Trainable params: 29,543\n",
      "Non-trainable params: 0\n",
      "_________________________________________________________________\n"
     ]
    }
   ],
   "source": [
    "# 并定义网络结构 (两层)\n",
    "inputs = keras.Input(shape=(None, 1)) \n",
    "\n",
    "# Add LSTM\n",
    "x = layers.LSTM(64, return_sequences=True)(inputs)\n",
    "x = layers.Dropout(0.2)(x)\n",
    "x = layers.LSTM(32, return_sequences=False)(x)\n",
    "x = layers.Dropout(0.2)(x)\n",
    "outputs = layers.Dense(7, activation='linear')(x)\n",
    "\n",
    "model_2 = keras.Model(inputs, outputs)\n",
    "model_2.summary()"
   ]
  },
  {
   "cell_type": "code",
   "execution_count": 106,
   "metadata": {
    "ExecuteTime": {
     "end_time": "2021-08-27T06:45:50.441979Z",
     "start_time": "2021-08-27T06:45:50.435951Z"
    }
   },
   "outputs": [
    {
     "data": {
      "text/plain": [
       "(1, 40, 1)"
      ]
     },
     "execution_count": 106,
     "metadata": {},
     "output_type": "execute_result"
    }
   ],
   "source": [
    "first_n_samples = 20000\n",
    "batch_size = 2**11\n",
    "epochs = 100\n",
    "\n",
    "# sample of series from train_enc_start to train_enc_end  \n",
    "train_data = get_time_block_series(series_array, date_to_index, \n",
    "                                           train_enc_start, train_enc_end)[:10000]\n",
    "train_data, train_data_mean = transform_series_encode(train_data)\n",
    "train_data.shape  # shape: [none, len_train_seqs , 1]"
   ]
  },
  {
   "cell_type": "code",
   "execution_count": 107,
   "metadata": {
    "ExecuteTime": {
     "end_time": "2021-08-27T06:45:51.622902Z",
     "start_time": "2021-08-27T06:45:51.617382Z"
    }
   },
   "outputs": [
    {
     "data": {
      "text/plain": [
       "(1, 7, 1)"
      ]
     },
     "execution_count": 107,
     "metadata": {},
     "output_type": "execute_result"
    }
   ],
   "source": [
    "# sample of series from train_enc_start to train_enc_end  \n",
    "train_pre_data = get_time_block_series(series_array, date_to_index, \n",
    "                                           train_pred_start, train_pred_end)[:10000]\n",
    "train_pre_data, train_pre_mean = transform_series_encode(train_pre_data)\n",
    "train_pre_data.shape  # shape: [none, len_train_seqs , 1]"
   ]
  },
  {
   "cell_type": "code",
   "execution_count": 108,
   "metadata": {
    "ExecuteTime": {
     "end_time": "2021-08-27T06:45:53.038385Z",
     "start_time": "2021-08-27T06:45:53.032791Z"
    }
   },
   "outputs": [
    {
     "data": {
      "text/plain": [
       "(1, 36, 1)"
      ]
     },
     "execution_count": 108,
     "metadata": {},
     "output_type": "execute_result"
    }
   ],
   "source": [
    "# sample of series from train_enc_start to train_enc_end  \n",
    "val_data = get_time_block_series(series_array, date_to_index, \n",
    "                                           val_enc_start, val_enc_end)[:10000]\n",
    "val_data, val_data_mean = transform_series_encode(val_data)\n",
    "val_data.shape"
   ]
  },
  {
   "cell_type": "code",
   "execution_count": 109,
   "metadata": {
    "ExecuteTime": {
     "end_time": "2021-08-27T06:45:53.815013Z",
     "start_time": "2021-08-27T06:45:53.809628Z"
    }
   },
   "outputs": [
    {
     "data": {
      "text/plain": [
       "(1, 7, 1)"
      ]
     },
     "execution_count": 109,
     "metadata": {},
     "output_type": "execute_result"
    }
   ],
   "source": [
    "# sample of series from train_enc_start to train_enc_end  \n",
    "val_pre_data = get_time_block_series(series_array, date_to_index, \n",
    "                                           val_pred_start, val_pred_end)[:10000]\n",
    "val_pre_data, val_pre_mean = transform_series_encode(val_pre_data)\n",
    "val_pre_data.shape"
   ]
  },
  {
   "cell_type": "code",
   "execution_count": 110,
   "metadata": {
    "ExecuteTime": {
     "end_time": "2021-08-27T06:45:54.510751Z",
     "start_time": "2021-08-27T06:45:54.497866Z"
    }
   },
   "outputs": [],
   "source": [
    "model = model_1\n",
    "model.compile(loss=\"mae\", optimizer=\"adam\")"
   ]
  },
  {
   "cell_type": "code",
   "execution_count": 111,
   "metadata": {
    "ExecuteTime": {
     "end_time": "2021-08-27T06:45:57.263853Z",
     "start_time": "2021-08-27T06:45:55.056640Z"
    },
    "scrolled": true
   },
   "outputs": [
    {
     "name": "stdout",
     "output_type": "stream",
     "text": [
      "Epoch 1/100\n",
      "1/1 [==============================] - 0s 2ms/step - loss: 0.0594\n",
      "Epoch 2/100\n",
      "1/1 [==============================] - 0s 833us/step - loss: 0.0540\n",
      "Epoch 3/100\n",
      "1/1 [==============================] - 0s 788us/step - loss: 0.0485\n",
      "Epoch 4/100\n",
      "1/1 [==============================] - 0s 880us/step - loss: 0.0427\n",
      "Epoch 5/100\n",
      "1/1 [==============================] - 0s 810us/step - loss: 0.0374\n",
      "Epoch 6/100\n",
      "1/1 [==============================] - 0s 890us/step - loss: 0.0319\n",
      "Epoch 7/100\n",
      "1/1 [==============================] - 0s 818us/step - loss: 0.0292\n",
      "Epoch 8/100\n",
      "1/1 [==============================] - 0s 795us/step - loss: 0.0262\n",
      "Epoch 9/100\n",
      "1/1 [==============================] - 0s 940us/step - loss: 0.0226\n",
      "Epoch 10/100\n",
      "1/1 [==============================] - 0s 789us/step - loss: 0.0178\n",
      "Epoch 11/100\n",
      "1/1 [==============================] - 0s 799us/step - loss: 0.0166\n",
      "Epoch 12/100\n",
      "1/1 [==============================] - 0s 767us/step - loss: 0.0159\n",
      "Epoch 13/100\n",
      "1/1 [==============================] - 0s 917us/step - loss: 0.0141\n",
      "Epoch 14/100\n",
      "1/1 [==============================] - 0s 783us/step - loss: 0.0107\n",
      "Epoch 15/100\n",
      "1/1 [==============================] - 0s 761us/step - loss: 0.0081\n",
      "Epoch 16/100\n",
      "1/1 [==============================] - 0s 789us/step - loss: 0.0075\n",
      "Epoch 17/100\n",
      "1/1 [==============================] - 0s 922us/step - loss: 0.0081\n",
      "Epoch 18/100\n",
      "1/1 [==============================] - 0s 780us/step - loss: 0.0075\n",
      "Epoch 19/100\n",
      "1/1 [==============================] - 0s 774us/step - loss: 0.0083\n",
      "Epoch 20/100\n",
      "1/1 [==============================] - 0s 765us/step - loss: 0.0092\n",
      "Epoch 21/100\n",
      "1/1 [==============================] - 0s 770us/step - loss: 0.0091\n",
      "Epoch 22/100\n",
      "1/1 [==============================] - 0s 757us/step - loss: 0.0080\n",
      "Epoch 23/100\n",
      "1/1 [==============================] - 0s 766us/step - loss: 0.0064\n",
      "Epoch 24/100\n",
      "1/1 [==============================] - 0s 775us/step - loss: 0.0043\n",
      "Epoch 25/100\n",
      "1/1 [==============================] - 0s 777us/step - loss: 0.0033\n",
      "Epoch 26/100\n",
      "1/1 [==============================] - 0s 772us/step - loss: 0.0031\n",
      "Epoch 27/100\n",
      "1/1 [==============================] - 0s 768us/step - loss: 0.0028\n",
      "Epoch 28/100\n",
      "1/1 [==============================] - 0s 795us/step - loss: 0.0036\n",
      "Epoch 29/100\n",
      "1/1 [==============================] - 0s 761us/step - loss: 0.0041\n",
      "Epoch 30/100\n",
      "1/1 [==============================] - 0s 767us/step - loss: 0.0039\n",
      "Epoch 31/100\n",
      "1/1 [==============================] - 0s 769us/step - loss: 0.0036\n",
      "Epoch 32/100\n",
      "1/1 [==============================] - 0s 771us/step - loss: 0.0033\n",
      "Epoch 33/100\n",
      "1/1 [==============================] - 0s 758us/step - loss: 0.0035\n",
      "Epoch 34/100\n",
      "1/1 [==============================] - 0s 768us/step - loss: 0.0033\n",
      "Epoch 35/100\n",
      "1/1 [==============================] - 0s 761us/step - loss: 0.0030\n",
      "Epoch 36/100\n",
      "1/1 [==============================] - 0s 785us/step - loss: 0.0029\n",
      "Epoch 37/100\n",
      "1/1 [==============================] - 0s 798us/step - loss: 0.0023\n",
      "Epoch 38/100\n",
      "1/1 [==============================] - 0s 802us/step - loss: 0.0018\n",
      "Epoch 39/100\n",
      "1/1 [==============================] - 0s 806us/step - loss: 0.0020\n",
      "Epoch 40/100\n",
      "1/1 [==============================] - 0s 799us/step - loss: 0.0023\n",
      "Epoch 41/100\n",
      "1/1 [==============================] - 0s 914us/step - loss: 0.0021\n",
      "Epoch 42/100\n",
      "1/1 [==============================] - 0s 810us/step - loss: 0.0021\n",
      "Epoch 43/100\n",
      "1/1 [==============================] - 0s 804us/step - loss: 0.0019\n",
      "Epoch 44/100\n",
      "1/1 [==============================] - 0s 814us/step - loss: 0.0025\n",
      "Epoch 45/100\n",
      "1/1 [==============================] - 0s 848us/step - loss: 0.0030\n",
      "Epoch 46/100\n",
      "1/1 [==============================] - 0s 801us/step - loss: 0.0032\n",
      "Epoch 47/100\n",
      "1/1 [==============================] - 0s 802us/step - loss: 0.0024\n",
      "Epoch 48/100\n",
      "1/1 [==============================] - 0s 806us/step - loss: 0.0015\n",
      "Epoch 49/100\n",
      "1/1 [==============================] - 0s 800us/step - loss: 0.0013\n",
      "Epoch 50/100\n",
      "1/1 [==============================] - 0s 800us/step - loss: 0.0019\n",
      "Epoch 51/100\n",
      "1/1 [==============================] - 0s 816us/step - loss: 0.0023\n",
      "Epoch 52/100\n",
      "1/1 [==============================] - 0s 816us/step - loss: 0.0023\n",
      "Epoch 53/100\n",
      "1/1 [==============================] - 0s 3ms/step - loss: 0.0018\n",
      "Epoch 54/100\n",
      "1/1 [==============================] - 0s 795us/step - loss: 0.0014\n",
      "Epoch 55/100\n",
      "1/1 [==============================] - 0s 815us/step - loss: 0.0013\n",
      "Epoch 56/100\n",
      "1/1 [==============================] - 0s 803us/step - loss: 0.0016\n",
      "Epoch 57/100\n",
      "1/1 [==============================] - 0s 785us/step - loss: 0.0019\n",
      "Epoch 58/100\n",
      "1/1 [==============================] - 0s 805us/step - loss: 0.0018\n",
      "Epoch 59/100\n",
      "1/1 [==============================] - 0s 808us/step - loss: 0.0010\n",
      "Epoch 60/100\n",
      "1/1 [==============================] - 0s 812us/step - loss: 8.3049e-04\n",
      "Epoch 61/100\n",
      "1/1 [==============================] - 0s 822us/step - loss: 0.0013\n",
      "Epoch 62/100\n",
      "1/1 [==============================] - 0s 803us/step - loss: 0.0013\n",
      "Epoch 63/100\n",
      "1/1 [==============================] - 0s 799us/step - loss: 8.0117e-04\n",
      "Epoch 64/100\n",
      "1/1 [==============================] - 0s 843us/step - loss: 0.0011\n",
      "Epoch 65/100\n",
      "1/1 [==============================] - 0s 820us/step - loss: 0.0015\n",
      "Epoch 66/100\n",
      "1/1 [==============================] - 0s 864us/step - loss: 0.0014\n",
      "Epoch 67/100\n",
      "1/1 [==============================] - 0s 815us/step - loss: 0.0017\n",
      "Epoch 68/100\n",
      "1/1 [==============================] - 0s 802us/step - loss: 0.0014\n",
      "Epoch 69/100\n",
      "1/1 [==============================] - 0s 815us/step - loss: 8.4723e-04\n",
      "Epoch 70/100\n",
      "1/1 [==============================] - 0s 805us/step - loss: 0.0015\n",
      "Epoch 71/100\n",
      "1/1 [==============================] - 0s 846us/step - loss: 0.0017\n",
      "Epoch 72/100\n",
      "1/1 [==============================] - 0s 832us/step - loss: 0.0010\n",
      "Epoch 73/100\n",
      "1/1 [==============================] - 0s 792us/step - loss: 0.0012\n",
      "Epoch 74/100\n",
      "1/1 [==============================] - 0s 799us/step - loss: 9.8364e-04\n",
      "Epoch 75/100\n",
      "1/1 [==============================] - 0s 819us/step - loss: 0.0013\n",
      "Epoch 76/100\n",
      "1/1 [==============================] - 0s 807us/step - loss: 0.0014\n",
      "Epoch 77/100\n",
      "1/1 [==============================] - 0s 850us/step - loss: 0.0012\n",
      "Epoch 78/100\n",
      "1/1 [==============================] - 0s 810us/step - loss: 0.0014\n",
      "Epoch 79/100\n",
      "1/1 [==============================] - 0s 805us/step - loss: 0.0017\n",
      "Epoch 80/100\n",
      "1/1 [==============================] - 0s 801us/step - loss: 0.0018\n",
      "Epoch 81/100\n",
      "1/1 [==============================] - 0s 852us/step - loss: 0.0016\n",
      "Epoch 82/100\n",
      "1/1 [==============================] - 0s 793us/step - loss: 0.0011\n",
      "Epoch 83/100\n",
      "1/1 [==============================] - 0s 807us/step - loss: 0.0011\n",
      "Epoch 84/100\n",
      "1/1 [==============================] - 0s 923us/step - loss: 0.0018\n",
      "Epoch 85/100\n",
      "1/1 [==============================] - 0s 844us/step - loss: 0.0019\n",
      "Epoch 86/100\n",
      "1/1 [==============================] - 0s 796us/step - loss: 0.0019\n",
      "Epoch 87/100\n",
      "1/1 [==============================] - 0s 819us/step - loss: 0.0017\n",
      "Epoch 88/100\n",
      "1/1 [==============================] - 0s 783us/step - loss: 0.0013\n",
      "Epoch 89/100\n",
      "1/1 [==============================] - 0s 945us/step - loss: 0.0012\n",
      "Epoch 90/100\n",
      "1/1 [==============================] - 0s 793us/step - loss: 0.0019\n",
      "Epoch 91/100\n",
      "1/1 [==============================] - 0s 864us/step - loss: 0.0020\n",
      "Epoch 92/100\n",
      "1/1 [==============================] - 0s 795us/step - loss: 0.0018\n",
      "Epoch 93/100\n",
      "1/1 [==============================] - 0s 826us/step - loss: 9.7216e-04\n",
      "Epoch 94/100\n",
      "1/1 [==============================] - 0s 817us/step - loss: 7.4804e-04\n",
      "Epoch 95/100\n",
      "1/1 [==============================] - 0s 793us/step - loss: 0.0016\n",
      "Epoch 96/100\n",
      "1/1 [==============================] - 0s 785us/step - loss: 0.0014\n",
      "Epoch 97/100\n",
      "1/1 [==============================] - 0s 780us/step - loss: 0.0013\n",
      "Epoch 98/100\n",
      "1/1 [==============================] - 0s 798us/step - loss: 0.0010\n",
      "Epoch 99/100\n",
      "1/1 [==============================] - 0s 789us/step - loss: 7.8388e-04\n",
      "Epoch 100/100\n",
      "1/1 [==============================] - 0s 812us/step - loss: 0.0011\n"
     ]
    }
   ],
   "source": [
    "history = model.fit(train_data,\n",
    "                    train_pre_data,\n",
    "#                     validation_data=(val_data, val_pre_data),\n",
    "                    epochs=100,\n",
    "                    batch_size=100,\n",
    "                    verbose=1,\n",
    "                    shuffle=False)"
   ]
  },
  {
   "cell_type": "code",
   "execution_count": 112,
   "metadata": {
    "ExecuteTime": {
     "end_time": "2021-08-27T06:45:57.459174Z",
     "start_time": "2021-08-27T06:45:57.266168Z"
    }
   },
   "outputs": [
    {
     "data": {
      "image/png": "[encoded data removed]",
      "text/plain": [
       "<Figure size 640x480 with 1 Axes>"
      ]
     },
     "metadata": {},
     "output_type": "display_data"
    }
   ],
   "source": [
    "# 训练集和验证集的损失图\n",
    "plt.plot(history.history[\"loss\"], label=\"train loss\")\n",
    "# plt.plot(history.history[\"val_loss\"], label=\"valid loss\")\n",
    "plt.legend()\n",
    "plt.show()"
   ]
  },
  {
   "cell_type": "markdown",
   "metadata": {},
   "source": [
    "## 数据预测"
   ]
  },
  {
   "cell_type": "code",
   "execution_count": 119,
   "metadata": {
    "ExecuteTime": {
     "end_time": "2021-08-27T06:46:35.841538Z",
     "start_time": "2021-08-27T06:46:35.836269Z"
    },
    "scrolled": true
   },
   "outputs": [
    {
     "data": {
      "text/plain": [
       "36"
      ]
     },
     "execution_count": 119,
     "metadata": {},
     "output_type": "execute_result"
    }
   ],
   "source": [
    "encoder_input_data = get_time_block_series(series_array, date_to_index, val_enc_start, val_enc_end)\n",
    "encoder_input_data, encode_series_mean = transform_series_encode(encoder_input_data)\n",
    "len(encoder_input_data[0])"
   ]
  },
  {
   "cell_type": "code",
   "execution_count": 117,
   "metadata": {
    "ExecuteTime": {
     "end_time": "2021-08-27T06:46:16.817340Z",
     "start_time": "2021-08-27T06:46:16.764362Z"
    }
   },
   "outputs": [
    {
     "data": {
      "text/plain": [
       "array([[-0.09787102, -0.04835907, -0.03827339,  0.08998228,  0.08234392,\n",
       "        -0.00896369,  0.03040298]], dtype=float32)"
      ]
     },
     "execution_count": 117,
     "metadata": {},
     "output_type": "execute_result"
    }
   ],
   "source": [
    "states_value = model.predict(encoder_input_data)\n",
    "states_value"
   ]
  },
  {
   "cell_type": "code",
   "execution_count": 115,
   "metadata": {
    "ExecuteTime": {
     "end_time": "2021-08-27T06:46:00.818273Z",
     "start_time": "2021-08-27T06:46:00.814243Z"
    }
   },
   "outputs": [
    {
     "data": {
      "text/plain": [
       "array([[[1.99754554e+08],\n",
       "        [2.09893724e+08],\n",
       "        [2.12021358e+08],\n",
       "        [2.41035128e+08],\n",
       "        [2.39201029e+08],\n",
       "        [2.18327605e+08],\n",
       "        [2.27093853e+08]]])"
      ]
     },
     "execution_count": 115,
     "metadata": {},
     "output_type": "execute_result"
    }
   ],
   "source": [
    "tsf(states_value, train_data_mean)"
   ]
  },
  {
   "cell_type": "code",
   "execution_count": 116,
   "metadata": {
    "ExecuteTime": {
     "end_time": "2021-08-27T06:46:04.857610Z",
     "start_time": "2021-08-27T06:46:04.418713Z"
    }
   },
   "outputs": [
    {
     "data": {
      "image/png": "[encoded data removed]",
      "text/plain": [
       "<Figure size 1200x500 with 1 Axes>"
      ]
     },
     "metadata": {},
     "output_type": "display_data"
    }
   ],
   "source": [
    "train_data = data.iloc[:42]    #train_data \n",
    "test_data = data.iloc[41:]    #test_data\n",
    "\n",
    "\n",
    "#将预测结果写入到impression\n",
    "pre = test_data.copy()\n",
    "prediction = tsf(states_value, train_data_mean)[:,:,-1][0]\n",
    "pre['impression'] = prediction\n",
    "\n",
    "\n",
    "#绘图观察时间序列数据\n",
    "train_data.plot(figsize = (12, 5), legend = True)\n",
    "pre['impression'].plot(legend = True, color='teal',linestyle='--')\n",
    "test_data['impression'].plot(legend = True, color='orange')\n",
    "plt.show()"
   ]
  },
  {
   "cell_type": "code",
   "execution_count": 121,
   "metadata": {
    "ExecuteTime": {
     "end_time": "2021-08-27T06:47:49.443296Z",
     "start_time": "2021-08-27T06:47:49.438356Z"
    }
   },
   "outputs": [
    {
     "name": "stdout",
     "output_type": "stream",
     "text": [
      "MAPE_model ： 10.87 %\n"
     ]
    }
   ],
   "source": [
    "## 模型的评价\n",
    "# 定义mape检验函数\n",
    "def mean_absolute_percentage_error(y_true, y_pred): \n",
    "    y_true, y_pred = np.array(y_true), np.array(y_pred)\n",
    "    return np.mean(np.abs((y_true - y_pred) / y_true)) * 100\n",
    "\n",
    "\n",
    "print('MAPE_model ：','%.2f' % mean_absolute_percentage_error(expectation, prediction),'%')"
   ]
  },
  {
   "cell_type": "code",
   "execution_count": null,
   "metadata": {},
   "outputs": [],
   "source": []
  },
  {
   "cell_type": "code",
   "execution_count": null,
   "metadata": {},
   "outputs": [],
   "source": []
  },
  {
   "cell_type": "code",
   "execution_count": 49,
   "metadata": {
    "ExecuteTime": {
     "end_time": "2021-08-27T04:29:21.024432Z",
     "start_time": "2021-08-27T04:29:21.019673Z"
    },
    "scrolled": true
   },
   "outputs": [
    {
     "data": {
      "text/plain": [
       "array([[[ 0.04245261],\n",
       "        [ 0.07381554],\n",
       "        [ 0.08259913],\n",
       "        [ 0.20000845],\n",
       "        [ 0.14880361],\n",
       "        [ 0.06037675],\n",
       "        [ 0.07615566],\n",
       "        [ 0.10654935],\n",
       "        [ 0.01413798],\n",
       "        [-0.01537514],\n",
       "        [ 0.04533076],\n",
       "        [ 0.02229089],\n",
       "        [-0.05718353],\n",
       "        [-0.04169155],\n",
       "        [-0.03238016],\n",
       "        [ 0.0072553 ],\n",
       "        [ 0.04408063],\n",
       "        [ 0.09628425],\n",
       "        [-0.05070642],\n",
       "        [-0.139799  ],\n",
       "        [-0.11820858],\n",
       "        [-0.08894099],\n",
       "        [-0.10440347],\n",
       "        [-0.11856381],\n",
       "        [-0.0161703 ],\n",
       "        [-0.02773107],\n",
       "        [-0.10862965],\n",
       "        [-0.03786035],\n",
       "        [-0.00719608],\n",
       "        [-0.03796672],\n",
       "        [-0.03409197],\n",
       "        [ 0.04512837],\n",
       "        [-0.02837051]]])"
      ]
     },
     "execution_count": 49,
     "metadata": {},
     "output_type": "execute_result"
    }
   ],
   "source": [
    "encode_series = encoder_input_data[0:0+1,:,:] \n",
    "encode_series"
   ]
  },
  {
   "cell_type": "code",
   "execution_count": 50,
   "metadata": {
    "ExecuteTime": {
     "end_time": "2021-08-27T04:29:25.113736Z",
     "start_time": "2021-08-27T04:29:24.687833Z"
    }
   },
   "outputs": [],
   "source": [
    "states_value = model.predict(encode_series)"
   ]
  },
  {
   "cell_type": "code",
   "execution_count": 51,
   "metadata": {
    "ExecuteTime": {
     "end_time": "2021-08-27T04:29:25.884383Z",
     "start_time": "2021-08-27T04:29:25.880444Z"
    }
   },
   "outputs": [
    {
     "data": {
      "text/plain": [
       "array([[-0.09992661, -0.04937298, -0.04195541,  0.08284862,  0.07957211,\n",
       "        -0.01138155,  0.02642369]], dtype=float32)"
      ]
     },
     "execution_count": 51,
     "metadata": {},
     "output_type": "execute_result"
    }
   ],
   "source": [
    "states_value"
   ]
  },
  {
   "cell_type": "code",
   "execution_count": 52,
   "metadata": {
    "ExecuteTime": {
     "end_time": "2021-08-27T04:29:26.932827Z",
     "start_time": "2021-08-27T04:29:26.928510Z"
    }
   },
   "outputs": [
    {
     "data": {
      "text/plain": [
       "array([[[1.99344361e+08],\n",
       "        [2.09681020e+08],\n",
       "        [2.11242126e+08],\n",
       "        [2.39321785e+08],\n",
       "        [2.38538927e+08],\n",
       "        [2.17800358e+08],\n",
       "        [2.26191976e+08]]])"
      ]
     },
     "execution_count": 52,
     "metadata": {},
     "output_type": "execute_result"
    }
   ],
   "source": [
    "tsf(states_value, train_data_mean)"
   ]
  },
  {
   "cell_type": "code",
   "execution_count": 53,
   "metadata": {
    "ExecuteTime": {
     "end_time": "2021-08-27T04:29:28.289065Z",
     "start_time": "2021-08-27T04:29:27.862862Z"
    },
    "scrolled": true
   },
   "outputs": [
    {
     "data": {
      "image/png": "[encoded data removed]",
      "text/plain": [
       "<Figure size 1200x500 with 1 Axes>"
      ]
     },
     "metadata": {},
     "output_type": "display_data"
    }
   ],
   "source": [
    "train_data = data.iloc[:42]    #train_data \n",
    "test_data = data.iloc[41:]    #test_data\n",
    "\n",
    "\n",
    "#将预测结果写入到impression\n",
    "pre = test_data.copy()\n",
    "prediction = tsf(states_value, train_data_mean)[:,:,-1][0]\n",
    "pre['impression'] = prediction\n",
    "\n",
    "\n",
    "#绘图观察时间序列数据\n",
    "train_data.plot(figsize = (12, 5), legend = True)\n",
    "pre['impression'].plot(legend = True, color='teal',linestyle='--')\n",
    "test_data['impression'].plot(legend = True, color='orange')\n",
    "plt.show()"
   ]
  },
  {
   "cell_type": "code",
   "execution_count": 54,
   "metadata": {
    "ExecuteTime": {
     "end_time": "2021-08-27T04:29:35.546565Z",
     "start_time": "2021-08-27T04:29:35.541767Z"
    }
   },
   "outputs": [
    {
     "data": {
      "text/plain": [
       "array([[189400067],\n",
       "       [191099608],\n",
       "       [217866198],\n",
       "       [216771541],\n",
       "       [196494562],\n",
       "       [204728949],\n",
       "       [198829328]])"
      ]
     },
     "execution_count": 54,
     "metadata": {},
     "output_type": "execute_result"
    }
   ],
   "source": [
    "expectation = data.iloc[41:].values    #train_data \n",
    "expectation"
   ]
  },
  {
   "cell_type": "code",
   "execution_count": 120,
   "metadata": {
    "ExecuteTime": {
     "end_time": "2021-08-27T06:47:37.652472Z",
     "start_time": "2021-08-27T06:47:37.647082Z"
    }
   },
   "outputs": [
    {
     "name": "stdout",
     "output_type": "stream",
     "text": [
      "MAPE_model ： 10.87 %\n"
     ]
    }
   ],
   "source": [
    "## 模型的评价\n",
    "# 定义mape检验函数\n",
    "def mean_absolute_percentage_error(y_true, y_pred): \n",
    "    y_true, y_pred = np.array(y_true), np.array(y_pred)\n",
    "    return np.mean(np.abs((y_true - y_pred) / y_true)) * 100\n",
    "\n",
    "\n",
    "print('MAPE_model ：','%.2f' % mean_absolute_percentage_error(expectation, prediction),'%')"
   ]
  },
  {
   "cell_type": "code",
   "execution_count": null,
   "metadata": {},
   "outputs": [],
   "source": []
  },
  {
   "cell_type": "code",
   "execution_count": null,
   "metadata": {},
   "outputs": [],
   "source": []
  },
  {
   "cell_type": "markdown",
   "metadata": {},
   "source": [
    "## 滑动预测\n"
   ]
  },
  {
   "cell_type": "code",
   "execution_count": null,
   "metadata": {},
   "outputs": [],
   "source": [
    "predicted = []\n",
    "for i in range(predict_length):\n",
    "    predict2 = model.predict(x_pp) #x_pp是预测输入序列\n",
    "    predict = predict2.tolist()\n",
    "    x_pp = x_pp[0][1:]\n",
    "    x_pp.append(predict[0][0])\n",
    "    predicted.append(predict[0][0])\n",
    "    x_pp = [x_pp]"
   ]
  },
  {
   "cell_type": "code",
   "execution_count": null,
   "metadata": {},
   "outputs": [],
   "source": []
  },
  {
   "cell_type": "code",
   "execution_count": null,
   "metadata": {},
   "outputs": [],
   "source": []
  },
  {
   "cell_type": "code",
   "execution_count": null,
   "metadata": {},
   "outputs": [],
   "source": []
  },
  {
   "cell_type": "markdown",
   "metadata": {},
   "source": [
    "# SFM\n"
   ]
  },
  {
   "cell_type": "code",
   "execution_count": 1,
   "metadata": {
    "ExecuteTime": {
     "end_time": "2021-09-07T11:20:38.203149Z",
     "start_time": "2021-09-07T11:20:38.199762Z"
    }
   },
   "outputs": [],
   "source": [
    "import argparse"
   ]
  },
  {
   "cell_type": "code",
   "execution_count": null,
   "metadata": {},
   "outputs": [],
   "source": [
    "\n",
    "parser = argparse.ArgumentParser()\n",
    "# n-step prediction\n",
    "parser.add_argument('-s', '--step', type=int, default=3)\n",
    "# data path\n",
    "parser.add_argument('-d', '--data_file', type=str, default='../dataset/data.npy')\n",
    "# dimension\n",
    "parser.add_argument('-hd', '--hidden_dim', type=int, default=50)\n",
    "parser.add_argument('-f', '--freq_dim', type=int, default=10)\n",
    "# training parameter\n",
    "parser.add_argument('-n', '--niter', type=int, default=4000)\n",
    "parser.add_argument('-ns', '--nsnapshot', type=int, default=20)\n",
    "parser.add_argument('-lr', '--learning_rate', type=float, default=0.01)\n",
    "\n",
    "args = parser.parse_args()\n",
    "step = args.step"
   ]
  },
  {
   "cell_type": "code",
   "execution_count": null,
   "metadata": {},
   "outputs": [],
   "source": []
  },
  {
   "cell_type": "code",
   "execution_count": null,
   "metadata": {},
   "outputs": [],
   "source": []
  }
 ],
 "metadata": {
  "kernelspec": {
   "display_name": "Python 3",
   "language": "python",
   "name": "python3"
  },
  "language_info": {
   "codemirror_mode": {
    "name": "ipython",
    "version": 3
   },
   "file_extension": ".py",
   "mimetype": "text/x-python",
   "name": "python",
   "nbconvert_exporter": "python",
   "pygments_lexer": "ipython3",
   "version": "3.6.6"
  },
  "latex_envs": {
   "LaTeX_envs_menu_present": true,
   "autoclose": false,
   "autocomplete": true,
   "bibliofile": "biblio.bib",
   "cite_by": "apalike",
   "current_citInitial": 1,
   "eqLabelWithNumbers": true,
   "eqNumInitial": 1,
   "hotkeys": {
    "equation": "Ctrl-E",
    "itemize": "Ctrl-I"
   },
   "labels_anchors": false,
   "latex_user_defs": false,
   "report_style_numbering": false,
   "user_envs_cfg": false
  },
  "toc": {
   "base_numbering": 1,
   "nav_menu": {},
   "number_sections": true,
   "sideBar": true,
   "skip_h1_title": false,
   "title_cell": "Table of Contents",
   "title_sidebar": "Contents",
   "toc_cell": false,
   "toc_position": {
    "height": "calc(100% - 180px)",
    "left": "10px",
    "top": "150px",
    "width": "384px"
   },
   "toc_section_display": true,
   "toc_window_display": true
  }
 },
 "nbformat": 4,
 "nbformat_minor": 4
}
