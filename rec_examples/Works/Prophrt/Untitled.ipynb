{
 "cells": [
  {
   "cell_type": "markdown",
   "metadata": {},
   "source": [
    "参考博客："
   ]
  },
  {
   "cell_type": "code",
   "execution_count": null,
   "metadata": {},
   "outputs": [],
   "source": []
  },
  {
   "cell_type": "code",
   "execution_count": null,
   "metadata": {},
   "outputs": [],
   "source": []
  },
  {
   "cell_type": "code",
   "execution_count": null,
   "metadata": {},
   "outputs": [],
   "source": [
    "import pandas as pd\n",
    "import numpy as np\n",
    "import matplotlib.pyplot as plt\n",
    "from datetime import datetime\n",
    "%matplotlib inline\n",
    "from matplotlib.pyplot import rcParams\n",
    "rcParams['figure.figsize']=15,6\n",
    "from statsmodels.tsa.stattools import adfuller\n",
    "from fbprophet import Prophet\n",
    "import logging\n",
    "logging.getLogger('fbprophet').setLevel(logging.ERROR)\n",
    "import warnings\n",
    "warnings.filterwarnings(\"ignore\")\n",
    "\n",
    "然后进行数据预处理\n",
    "#import the data\n",
    "data = pd.read_csv('example_wp_log_peyton_manning.csv',usecols=[1])\n",
    "print(data.head(5))"
   ]
  },
  {
   "cell_type": "code",
   "execution_count": 1,
   "metadata": {},
   "outputs": [
    {
     "name": "stdout",
     "output_type": "stream",
     "text": [
      "Looking in indexes: https://pypi.douban.com/simple\n",
      "Collecting fbprophet\n",
      "  Downloading https://pypi.doubanio.com/packages/1a/b5/9c3fefa8a7b839729df57deedf0a69815841dfb88f0df911f34d998230b7/fbprophet-0.7.1.tar.gz (64 kB)\n",
      "Requirement already satisfied: Cython>=0.22 in f:\\python\\1\\lib\\site-packages (from fbprophet) (0.29.14)\n"
     ]
    },
    {
     "name": "stderr",
     "output_type": "stream",
     "text": [
      "  ERROR: Command errored out with exit status 1:\n",
      "   command: 'f:\\python\\1\\python.exe' -u -c 'import sys, setuptools, tokenize; sys.argv[0] = '\"'\"'C:\\\\Users\\\\44239\\\\AppData\\\\Local\\\\Temp\\\\pip-install-ibzqi55j\\\\fbprophet_9dbf78a5f2ac4fe0ac069a3a8e8e12cc\\\\setup.py'\"'\"'; __file__='\"'\"'C:\\\\Users\\\\44239\\\\AppData\\\\Local\\\\Temp\\\\pip-install-ibzqi55j\\\\fbprophet_9dbf78a5f2ac4fe0ac069a3a8e8e12cc\\\\setup.py'\"'\"';f=getattr(tokenize, '\"'\"'open'\"'\"', open)(__file__);code=f.read().replace('\"'\"'\\r\\n'\"'\"', '\"'\"'\\n'\"'\"');f.close();exec(compile(code, __file__, '\"'\"'exec'\"'\"'))' bdist_wheel -d 'C:\\Users\\44239\\AppData\\Local\\Temp\\pip-wheel-kcf7m2kp'\n",
      "       cwd: C:\\Users\\44239\\AppData\\Local\\Temp\\pip-install-ibzqi55j\\fbprophet_9dbf78a5f2ac4fe0ac069a3a8e8e12cc\\\n",
      "  Complete output (43 lines):\n",
      "  running bdist_wheel\n",
      "  running build\n",
      "  running build_py\n",
      "  creating build\n",
      "  creating build\\lib\n",
      "  creating build\\lib\\fbprophet\n",
      "  creating build\\lib\\fbprophet\\stan_model\n",
      "  Importing plotly failed. Interactive plots will not work.\n",
      "  Traceback (most recent call last):\n",
      "    File \"<string>\", line 1, in <module>\n",
      "    File \"C:\\Users\\44239\\AppData\\Local\\Temp\\pip-install-ibzqi55j\\fbprophet_9dbf78a5f2ac4fe0ac069a3a8e8e12cc\\setup.py\", line 149, in <module>\n",
      "      long_description_content_type='text/markdown',\n",
      "    File \"f:\\python\\1\\lib\\site-packages\\setuptools\\__init__.py\", line 161, in setup\n",
      "      return distutils.core.setup(**attrs)\n",
      "    File \"f:\\python\\1\\lib\\distutils\\core.py\", line 148, in setup\n",
      "      dist.run_commands()\n",
      "    File \"f:\\python\\1\\lib\\distutils\\dist.py\", line 955, in run_commands\n",
      "      self.run_command(cmd)\n",
      "    File \"f:\\python\\1\\lib\\distutils\\dist.py\", line 974, in run_command\n",
      "      cmd_obj.run()\n",
      "    File \"f:\\python\\1\\lib\\site-packages\\wheel\\bdist_wheel.py\", line 223, in run\n",
      "      self.run_command('build')\n",
      "    File \"f:\\python\\1\\lib\\distutils\\cmd.py\", line 313, in run_command\n",
      "      self.distribution.run_command(command)\n",
      "    File \"f:\\python\\1\\lib\\distutils\\dist.py\", line 974, in run_command\n",
      "      cmd_obj.run()\n",
      "    File \"f:\\python\\1\\lib\\distutils\\command\\build.py\", line 135, in run\n",
      "      self.run_command(cmd_name)\n",
      "    File \"f:\\python\\1\\lib\\distutils\\cmd.py\", line 313, in run_command\n",
      "      self.distribution.run_command(command)\n",
      "    File \"f:\\python\\1\\lib\\distutils\\dist.py\", line 974, in run_command\n",
      "      cmd_obj.run()\n",
      "    File \"C:\\Users\\44239\\AppData\\Local\\Temp\\pip-install-ibzqi55j\\fbprophet_9dbf78a5f2ac4fe0ac069a3a8e8e12cc\\setup.py\", line 48, in run\n",
      "      build_models(target_dir)\n",
      "    File \"C:\\Users\\44239\\AppData\\Local\\Temp\\pip-install-ibzqi55j\\fbprophet_9dbf78a5f2ac4fe0ac069a3a8e8e12cc\\setup.py\", line 38, in build_models\n",
      "      StanBackendEnum.get_backend_class(backend).build_model(target_dir, MODEL_DIR)\n",
      "    File \"C:\\Users\\44239\\AppData\\Local\\Temp\\pip-install-ibzqi55j\\fbprophet_9dbf78a5f2ac4fe0ac069a3a8e8e12cc\\fbprophet\\models.py\", line 209, in build_model\n",
      "      import pystan\n",
      "    File \"f:\\python\\1\\lib\\site-packages\\pystan\\__init__.py\", line 9, in <module>\n",
      "      from pystan.api import stanc, stan\n",
      "    File \"f:\\python\\1\\lib\\site-packages\\pystan\\api.py\", line 13, in <module>\n",
      "      import pystan._api  # stanc wrapper\n",
      "  ImportError: DLL load failed: 找不到指定的模块。\n",
      "  ----------------------------------------\n",
      "  ERROR: Failed building wheel for fbprophet\n",
      "    ERROR: Command errored out with exit status 1:\n",
      "     command: 'f:\\python\\1\\python.exe' -u -c 'import sys, setuptools, tokenize; sys.argv[0] = '\"'\"'C:\\\\Users\\\\44239\\\\AppData\\\\Local\\\\Temp\\\\pip-install-ibzqi55j\\\\fbprophet_9dbf78a5f2ac4fe0ac069a3a8e8e12cc\\\\setup.py'\"'\"'; __file__='\"'\"'C:\\\\Users\\\\44239\\\\AppData\\\\Local\\\\Temp\\\\pip-install-ibzqi55j\\\\fbprophet_9dbf78a5f2ac4fe0ac069a3a8e8e12cc\\\\setup.py'\"'\"';f=getattr(tokenize, '\"'\"'open'\"'\"', open)(__file__);code=f.read().replace('\"'\"'\\r\\n'\"'\"', '\"'\"'\\n'\"'\"');f.close();exec(compile(code, __file__, '\"'\"'exec'\"'\"'))' install --record 'C:\\Users\\44239\\AppData\\Local\\Temp\\pip-record-wxigx_k2\\install-record.txt' --single-version-externally-managed --compile --install-headers 'f:\\python\\1\\Include\\fbprophet'\n",
      "         cwd: C:\\Users\\44239\\AppData\\Local\\Temp\\pip-install-ibzqi55j\\fbprophet_9dbf78a5f2ac4fe0ac069a3a8e8e12cc\\\n",
      "    Complete output (45 lines):\n",
      "    running install\n",
      "    running build\n",
      "    running build_py\n",
      "    creating build\n",
      "    creating build\\lib\n",
      "    creating build\\lib\\fbprophet\n",
      "    creating build\\lib\\fbprophet\\stan_model\n",
      "    Importing plotly failed. Interactive plots will not work.\n",
      "    Traceback (most recent call last):\n",
      "      File \"<string>\", line 1, in <module>\n",
      "      File \"C:\\Users\\44239\\AppData\\Local\\Temp\\pip-install-ibzqi55j\\fbprophet_9dbf78a5f2ac4fe0ac069a3a8e8e12cc\\setup.py\", line 149, in <module>\n",
      "        long_description_content_type='text/markdown',\n",
      "      File \"f:\\python\\1\\lib\\site-packages\\setuptools\\__init__.py\", line 161, in setup\n",
      "        return distutils.core.setup(**attrs)\n",
      "      File \"f:\\python\\1\\lib\\distutils\\core.py\", line 148, in setup\n",
      "        dist.run_commands()\n",
      "      File \"f:\\python\\1\\lib\\distutils\\dist.py\", line 955, in run_commands\n",
      "        self.run_command(cmd)\n",
      "      File \"f:\\python\\1\\lib\\distutils\\dist.py\", line 974, in run_command\n",
      "        cmd_obj.run()\n",
      "      File \"f:\\python\\1\\lib\\site-packages\\setuptools\\command\\install.py\", line 61, in run\n",
      "        return orig.install.run(self)\n",
      "      File \"f:\\python\\1\\lib\\distutils\\command\\install.py\", line 545, in run\n",
      "        self.run_command('build')\n",
      "      File \"f:\\python\\1\\lib\\distutils\\cmd.py\", line 313, in run_command\n",
      "        self.distribution.run_command(command)\n",
      "      File \"f:\\python\\1\\lib\\distutils\\dist.py\", line 974, in run_command\n",
      "        cmd_obj.run()\n",
      "      File \"f:\\python\\1\\lib\\distutils\\command\\build.py\", line 135, in run\n",
      "        self.run_command(cmd_name)\n",
      "      File \"f:\\python\\1\\lib\\distutils\\cmd.py\", line 313, in run_command\n",
      "        self.distribution.run_command(command)\n",
      "      File \"f:\\python\\1\\lib\\distutils\\dist.py\", line 974, in run_command\n",
      "        cmd_obj.run()\n",
      "      File \"C:\\Users\\44239\\AppData\\Local\\Temp\\pip-install-ibzqi55j\\fbprophet_9dbf78a5f2ac4fe0ac069a3a8e8e12cc\\setup.py\", line 48, in run\n",
      "        build_models(target_dir)\n",
      "      File \"C:\\Users\\44239\\AppData\\Local\\Temp\\pip-install-ibzqi55j\\fbprophet_9dbf78a5f2ac4fe0ac069a3a8e8e12cc\\setup.py\", line 38, in build_models\n",
      "        StanBackendEnum.get_backend_class(backend).build_model(target_dir, MODEL_DIR)\n",
      "      File \"C:\\Users\\44239\\AppData\\Local\\Temp\\pip-install-ibzqi55j\\fbprophet_9dbf78a5f2ac4fe0ac069a3a8e8e12cc\\fbprophet\\models.py\", line 209, in build_model\n",
      "        import pystan\n",
      "      File \"f:\\python\\1\\lib\\site-packages\\pystan\\__init__.py\", line 9, in <module>\n",
      "        from pystan.api import stanc, stan\n",
      "      File \"f:\\python\\1\\lib\\site-packages\\pystan\\api.py\", line 13, in <module>\n",
      "        import pystan._api  # stanc wrapper\n",
      "    ImportError: DLL load failed: 找不到指定的模块。\n",
      "    ----------------------------------------\n",
      "ERROR: Command errored out with exit status 1: 'f:\\python\\1\\python.exe' -u -c 'import sys, setuptools, tokenize; sys.argv[0] = '\"'\"'C:\\\\Users\\\\44239\\\\AppData\\\\Local\\\\Temp\\\\pip-install-ibzqi55j\\\\fbprophet_9dbf78a5f2ac4fe0ac069a3a8e8e12cc\\\\setup.py'\"'\"'; __file__='\"'\"'C:\\\\Users\\\\44239\\\\AppData\\\\Local\\\\Temp\\\\pip-install-ibzqi55j\\\\fbprophet_9dbf78a5f2ac4fe0ac069a3a8e8e12cc\\\\setup.py'\"'\"';f=getattr(tokenize, '\"'\"'open'\"'\"', open)(__file__);code=f.read().replace('\"'\"'\\r\\n'\"'\"', '\"'\"'\\n'\"'\"');f.close();exec(compile(code, __file__, '\"'\"'exec'\"'\"'))' install --record 'C:\\Users\\44239\\AppData\\Local\\Temp\\pip-record-wxigx_k2\\install-record.txt' --single-version-externally-managed --compile --install-headers 'f:\\python\\1\\Include\\fbprophet' Check the logs for full command output.\n",
      "WARNING: You are using pip version 21.0.1; however, version 21.2.4 is available.\n",
      "You should consider upgrading via the 'f:\\python\\1\\python.exe -m pip install --upgrade pip' command.\n"
     ]
    },
    {
     "name": "stdout",
     "output_type": "stream",
     "text": [
      "Requirement already satisfied: cmdstanpy==0.9.5 in f:\\python\\1\\lib\\site-packages (from fbprophet) (0.9.5)\n",
      "Requirement already satisfied: pystan>=2.14 in f:\\python\\1\\lib\\site-packages (from fbprophet) (2.19.1.1)\n",
      "Requirement already satisfied: numpy>=1.15.4 in f:\\python\\1\\lib\\site-packages (from fbprophet) (1.18.5)\n",
      "Requirement already satisfied: pandas>=1.0.4 in f:\\python\\1\\lib\\site-packages (from fbprophet) (1.0.4)\n",
      "Requirement already satisfied: matplotlib>=2.0.0 in f:\\python\\1\\lib\\site-packages (from fbprophet) (3.2.1)\n",
      "Requirement already satisfied: LunarCalendar>=0.0.9 in f:\\python\\1\\lib\\site-packages (from fbprophet) (0.0.9)\n",
      "Requirement already satisfied: convertdate>=2.1.2 in f:\\python\\1\\lib\\site-packages (from fbprophet) (2.3.2)\n",
      "Requirement already satisfied: holidays>=0.10.2 in f:\\python\\1\\lib\\site-packages (from fbprophet) (0.11.2)\n",
      "Requirement already satisfied: setuptools-git>=1.2 in f:\\python\\1\\lib\\site-packages (from fbprophet) (1.2)\n",
      "Requirement already satisfied: python-dateutil>=2.8.0 in f:\\python\\1\\lib\\site-packages (from fbprophet) (2.8.1)\n",
      "Requirement already satisfied: tqdm>=4.36.1 in f:\\python\\1\\lib\\site-packages (from fbprophet) (4.55.1)\n",
      "Requirement already satisfied: pytz>=2014.10 in f:\\python\\1\\lib\\site-packages (from convertdate>=2.1.2->fbprophet) (2020.1)\n",
      "Requirement already satisfied: pymeeus<=1,>=0.3.13 in f:\\python\\1\\lib\\site-packages (from convertdate>=2.1.2->fbprophet) (0.5.11)\n",
      "Requirement already satisfied: six in f:\\python\\1\\lib\\site-packages (from holidays>=0.10.2->fbprophet) (1.15.0)\n",
      "Requirement already satisfied: korean-lunar-calendar in f:\\python\\1\\lib\\site-packages (from holidays>=0.10.2->fbprophet) (0.2.1)\n",
      "Requirement already satisfied: hijri-converter in f:\\python\\1\\lib\\site-packages (from holidays>=0.10.2->fbprophet) (2.1.3)\n",
      "Requirement already satisfied: ephem>=3.7.5.3 in f:\\python\\1\\lib\\site-packages (from LunarCalendar>=0.0.9->fbprophet) (4.0.0.2)\n",
      "Requirement already satisfied: cycler>=0.10 in f:\\python\\1\\lib\\site-packages (from matplotlib>=2.0.0->fbprophet) (0.10.0)\n",
      "Requirement already satisfied: kiwisolver>=1.0.1 in f:\\python\\1\\lib\\site-packages (from matplotlib>=2.0.0->fbprophet) (1.2.0)\n",
      "Requirement already satisfied: pyparsing!=2.0.4,!=2.1.2,!=2.1.6,>=2.0.1 in f:\\python\\1\\lib\\site-packages (from matplotlib>=2.0.0->fbprophet) (2.4.7)\n",
      "Building wheels for collected packages: fbprophet\n",
      "  Building wheel for fbprophet (setup.py): started\n",
      "  Building wheel for fbprophet (setup.py): finished with status 'error'\n",
      "  Running setup.py clean for fbprophet\n",
      "Failed to build fbprophet\n",
      "Installing collected packages: fbprophet\n",
      "    Running setup.py install for fbprophet: started\n",
      "    Running setup.py install for fbprophet: finished with status 'error'\n"
     ]
    }
   ],
   "source": [
    "!pip install fbprophet -i https://pypi.douban.com/simple"
   ]
  },
  {
   "cell_type": "code",
   "execution_count": null,
   "metadata": {},
   "outputs": [],
   "source": []
  },
  {
   "cell_type": "code",
   "execution_count": null,
   "metadata": {},
   "outputs": [],
   "source": []
  },
  {
   "cell_type": "code",
   "execution_count": null,
   "metadata": {},
   "outputs": [],
   "source": []
  },
  {
   "cell_type": "code",
   "execution_count": null,
   "metadata": {},
   "outputs": [],
   "source": []
  },
  {
   "cell_type": "code",
   "execution_count": null,
   "metadata": {},
   "outputs": [],
   "source": []
  }
 ],
 "metadata": {
  "kernelspec": {
   "display_name": "Python 3",
   "language": "python",
   "name": "python3"
  },
  "language_info": {
   "codemirror_mode": {
    "name": "ipython",
    "version": 3
   },
   "file_extension": ".py",
   "mimetype": "text/x-python",
   "name": "python",
   "nbconvert_exporter": "python",
   "pygments_lexer": "ipython3",
   "version": "3.6.6"
  }
 },
 "nbformat": 4,
 "nbformat_minor": 4
}
